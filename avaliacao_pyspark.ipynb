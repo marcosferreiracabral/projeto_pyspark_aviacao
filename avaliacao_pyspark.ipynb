{
  "cells": [
    {
      "cell_type": "markdown",
      "metadata": {
        "id": "view-in-github",
        "colab_type": "text"
      },
      "source": [
        "<a href=\"https://colab.research.google.com/github/marcosferreiracabral/projeto_pyspark_aviacao/blob/main/avaliacao_pyspark.ipynb\" target=\"_parent\"><img src=\"https://colab.research.google.com/assets/colab-badge.svg\" alt=\"Open In Colab\"/></a>"
      ]
    },
    {
      "cell_type": "code",
      "source": [
        "from google.colab import drive\n",
        "\n",
        "drive.mount('/content/drive')\n"
      ],
      "metadata": {
        "colab": {
          "base_uri": "https://localhost:8080/"
        },
        "id": "6kX5VysCLe-H",
        "outputId": "50d2c8b7-4843-4e24-fb9c-655f06b75e3b"
      },
      "execution_count": 1,
      "outputs": [
        {
          "output_type": "stream",
          "name": "stdout",
          "text": [
            "Drive already mounted at /content/drive; to attempt to forcibly remount, call drive.mount(\"/content/drive\", force_remount=True).\n"
          ]
        }
      ]
    },
    {
      "cell_type": "code",
      "source": [
        "# Instalação das dependências:\n",
        "\n",
        "!sudo apt update\n",
        "!apt-get install openjdk-8-jdk-headless -qq > /dev/null\n",
        "\n",
        "# Fazendo download\n",
        "!wget -q https://dlcdn.apache.org/spark/spark-3.3.0/spark-3.3.0-bin-hadoop3.tgz\n",
        "\n",
        "# Descompactando os arquivos\n",
        "!tar xf spark-3.3.0-bin-hadoop3.tgz\n",
        "\n",
        "# instalando a findspark\n",
        "!pip install -q findspark\n"
      ],
      "metadata": {
        "id": "MTHP8zjROMv0",
        "colab": {
          "base_uri": "https://localhost:8080/"
        },
        "outputId": "06266ce6-9e1e-489e-9346-2e9a5cf557a3"
      },
      "execution_count": 2,
      "outputs": [
        {
          "output_type": "stream",
          "name": "stdout",
          "text": [
            "Hit:1 https://cloud.r-project.org/bin/linux/ubuntu bionic-cran40/ InRelease\n",
            "Ign:2 https://developer.download.nvidia.com/compute/machine-learning/repos/ubuntu1804/x86_64  InRelease\n",
            "Hit:3 https://developer.download.nvidia.com/compute/cuda/repos/ubuntu1804/x86_64  InRelease\n",
            "Hit:4 https://developer.download.nvidia.com/compute/machine-learning/repos/ubuntu1804/x86_64  Release\n",
            "Hit:5 http://ppa.launchpad.net/c2d4u.team/c2d4u4.0+/ubuntu bionic InRelease\n",
            "Get:6 http://security.ubuntu.com/ubuntu bionic-security InRelease [88.7 kB]\n",
            "Hit:7 http://archive.ubuntu.com/ubuntu bionic InRelease\n",
            "Hit:8 http://ppa.launchpad.net/cran/libgit2/ubuntu bionic InRelease\n",
            "Get:9 http://archive.ubuntu.com/ubuntu bionic-updates InRelease [88.7 kB]\n",
            "Hit:11 http://ppa.launchpad.net/deadsnakes/ppa/ubuntu bionic InRelease\n",
            "Get:12 http://archive.ubuntu.com/ubuntu bionic-backports InRelease [74.6 kB]\n",
            "Hit:13 http://ppa.launchpad.net/graphics-drivers/ppa/ubuntu bionic InRelease\n",
            "Fetched 252 kB in 3s (77.6 kB/s)\n",
            "Reading package lists... Done\n",
            "Building dependency tree       \n",
            "Reading state information... Done\n",
            "26 packages can be upgraded. Run 'apt list --upgradable' to see them.\n"
          ]
        }
      ]
    },
    {
      "cell_type": "code",
      "source": [
        "# Configuração das variáveis de ambiente:\n",
        "\n",
        "import os\n",
        "\n",
        "os.environ[\"JAVA_HOME\"] = \"/usr/lib/jvm/java-8-openjdk-amd64\"\n",
        "\n",
        "os.environ[\"SPARK_HOME\"] = \"/content/spark-3.3.0-bin-hadoop3\"\n",
        "\n",
        "# Tornar o pyspark \"importável\":\n",
        "\n",
        "import findspark\n",
        "\n",
        "findspark.init('spark-3.3.0-bin-hadoop3')\n"
      ],
      "metadata": {
        "id": "yqxFXbIwNjSv"
      },
      "execution_count": 3,
      "outputs": []
    },
    {
      "cell_type": "code",
      "source": [
        "# Iniciar uma sessão local:\n",
        "\n",
        "import findspark\n",
        "\n",
        "findspark.init()\n",
        "\n",
        "from pyspark.sql import SparkSession\n",
        "\n",
        "spark = SparkSession.builder.master('local[*]').getOrCreate()\n"
      ],
      "metadata": {
        "id": "avxIxHA_Nz7n"
      },
      "execution_count": 4,
      "outputs": []
    },
    {
      "cell_type": "code",
      "source": [
        "# Importação das bibliotecas para o notebook:\n",
        "\n",
        "from pyspark.sql.functions import col, StringType, lit, expr, substring\n",
        "from pyspark.sql import Window\n",
        "from pyspark.sql import functions as func\n"
      ],
      "metadata": {
        "id": "H2pm4dH8LRLQ"
      },
      "execution_count": 5,
      "outputs": []
    },
    {
      "cell_type": "markdown",
      "source": [
        "# Airports Dataset:"
      ],
      "metadata": {
        "application/vnd.databricks.v1+cell": {
          "title": "",
          "showTitle": false,
          "inputWidgets": {},
          "nuid": "9d056a1f-cc41-4fe3-9a35-08c8946f995f"
        },
        "id": "8tpIn9QuLZWw"
      }
    },
    {
      "cell_type": "code",
      "source": [
        "# Importação dos dados para o PySpark:\n",
        "# Download do http para arquivo local:\n",
        "\n",
        "!wget --quiet --show-progress https://drive.google.com/file/d/1cpygs-tfjUqAYqbBAkt3zcVP1h4J_3W_/view?usp=sharing\n",
        "\n",
        "# Carregar dados do Airports:\n",
        "\n",
        "df_airports = spark.read.csv(\"./airports.csv\", inferSchema=True, header=True)\n",
        "\n",
        "# Ver algumas informações sobre os tipos de dados de cada coluna:\n",
        "\n",
        "df_airports.printSchema()\n"
      ],
      "metadata": {
        "id": "tKk66mzuPem_",
        "colab": {
          "base_uri": "https://localhost:8080/"
        },
        "outputId": "418d4993-cec8-42d1-cbab-9b2f3bfcfb10"
      },
      "execution_count": 6,
      "outputs": [
        {
          "output_type": "stream",
          "name": "stdout",
          "text": [
            "\rview?usp=sharing.16     [<=>                 ]       0  --.-KB/s               \rview?usp=sharing.16     [ <=>                ]  67.49K  --.-KB/s    in 0.03s   \n",
            "root\n",
            " |-- faa: string (nullable = true)\n",
            " |-- name: string (nullable = true)\n",
            " |-- lat: double (nullable = true)\n",
            " |-- lon: double (nullable = true)\n",
            " |-- alt: integer (nullable = true)\n",
            " |-- tz: integer (nullable = true)\n",
            " |-- dst: string (nullable = true)\n",
            "\n"
          ]
        }
      ]
    },
    {
      "cell_type": "code",
      "source": [
        "# Lendo o dataframe e impimindo as colunas e linhas:\n",
        "\n",
        "df_airports.show()\n"
      ],
      "metadata": {
        "application/vnd.databricks.v1+cell": {
          "title": "",
          "showTitle": false,
          "inputWidgets": {},
          "nuid": "eb31806e-0f44-4ca6-bf90-d6e933bcc926"
        },
        "id": "vmJ4h8lwLZW5",
        "colab": {
          "base_uri": "https://localhost:8080/"
        },
        "outputId": "592f7ecc-4313-49f1-fef1-4c4675865abe"
      },
      "outputs": [
        {
          "output_type": "stream",
          "name": "stdout",
          "text": [
            "+---+--------------------+----------------+-----------------+----+---+---+\n",
            "|faa|                name|             lat|              lon| alt| tz|dst|\n",
            "+---+--------------------+----------------+-----------------+----+---+---+\n",
            "|04G|   Lansdowne Airport|      41.1304722|      -80.6195833|1044| -5|  A|\n",
            "|06A|Moton Field Munic...|      32.4605722|      -85.6800278| 264| -5|  A|\n",
            "|06C| Schaumburg Regional|      41.9893408|      -88.1012428| 801| -6|  A|\n",
            "|06N|     Randall Airport|       41.431912|      -74.3915611| 523| -5|  A|\n",
            "|09J|Jekyll Island Air...|      31.0744722|      -81.4277778|  11| -4|  A|\n",
            "|0A9|Elizabethton Muni...|      36.3712222|      -82.1734167|1593| -4|  A|\n",
            "|0G6|Williams County A...|      41.4673056|      -84.5067778| 730| -5|  A|\n",
            "|0G7|Finger Lakes Regi...|      42.8835647|      -76.7812318| 492| -5|  A|\n",
            "|0P2|Shoestring Aviati...|      39.7948244|      -76.6471914|1000| -5|  U|\n",
            "|0S9|Jefferson County ...|      48.0538086|     -122.8106436| 108| -8|  A|\n",
            "|0W3|Harford County Ai...|      39.5668378|      -76.2024028| 409| -5|  A|\n",
            "|10C|  Galt Field Airport|      42.4028889|      -88.3751111| 875| -6|  U|\n",
            "|17G|Port Bucyrus-Craw...|      40.7815556|      -82.9748056|1003| -5|  A|\n",
            "|19A|Jackson County Ai...|      34.1758638|      -83.5615972| 951| -4|  U|\n",
            "|1A3|Martin Campbell F...|      35.0158056|      -84.3468333|1789| -4|  A|\n",
            "|1B9| Mansfield Municipal|      42.0001331|      -71.1967714| 122| -5|  A|\n",
            "|1C9|Frazier Lake Airpark|54.0133333333333|-124.768333333333| 152| -8|  A|\n",
            "|1CS|Clow Internationa...|      41.6959744|      -88.1292306| 670| -6|  U|\n",
            "|1G3|  Kent State Airport|      41.1513889|      -81.4151111|1134| -4|  A|\n",
            "|1OH|     Fortman Airport|      40.5553253|      -84.3866186| 885| -5|  U|\n",
            "+---+--------------------+----------------+-----------------+----+---+---+\n",
            "only showing top 20 rows\n",
            "\n"
          ]
        }
      ],
      "execution_count": 7
    },
    {
      "cell_type": "markdown",
      "source": [
        "Perguntas<br>\n",
        "Considere o dataset airports.csv para realizar as seguintes tarefas:"
      ],
      "metadata": {
        "application/vnd.databricks.v1+cell": {
          "title": "",
          "showTitle": false,
          "inputWidgets": {},
          "nuid": "e097a9c0-4869-4530-b3a0-c6d1e6a5c6ee"
        },
        "id": "Kx_JVSwZLZW6"
      }
    },
    {
      "cell_type": "code",
      "source": [
        "df_airports.head(10)\n"
      ],
      "metadata": {
        "application/vnd.databricks.v1+cell": {
          "title": "",
          "showTitle": false,
          "inputWidgets": {},
          "nuid": "5bdd2088-fd83-4ce7-b34d-e6fe0f361b09"
        },
        "id": "8f0t1bYGLZW8",
        "colab": {
          "base_uri": "https://localhost:8080/"
        },
        "outputId": "8030a1b5-8580-44b1-9ec3-e3ec33887f8c"
      },
      "outputs": [
        {
          "output_type": "execute_result",
          "data": {
            "text/plain": [
              "[Row(faa='04G', name='Lansdowne Airport', lat=41.1304722, lon=-80.6195833, alt=1044, tz=-5, dst='A'),\n",
              " Row(faa='06A', name='Moton Field Municipal Airport', lat=32.4605722, lon=-85.6800278, alt=264, tz=-5, dst='A'),\n",
              " Row(faa='06C', name='Schaumburg Regional', lat=41.9893408, lon=-88.1012428, alt=801, tz=-6, dst='A'),\n",
              " Row(faa='06N', name='Randall Airport', lat=41.431912, lon=-74.3915611, alt=523, tz=-5, dst='A'),\n",
              " Row(faa='09J', name='Jekyll Island Airport', lat=31.0744722, lon=-81.4277778, alt=11, tz=-4, dst='A'),\n",
              " Row(faa='0A9', name='Elizabethton Municipal Airport', lat=36.3712222, lon=-82.1734167, alt=1593, tz=-4, dst='A'),\n",
              " Row(faa='0G6', name='Williams County Airport', lat=41.4673056, lon=-84.5067778, alt=730, tz=-5, dst='A'),\n",
              " Row(faa='0G7', name='Finger Lakes Regional Airport', lat=42.8835647, lon=-76.7812318, alt=492, tz=-5, dst='A'),\n",
              " Row(faa='0P2', name='Shoestring Aviation Airfield', lat=39.7948244, lon=-76.6471914, alt=1000, tz=-5, dst='U'),\n",
              " Row(faa='0S9', name='Jefferson County Intl', lat=48.0538086, lon=-122.8106436, alt=108, tz=-8, dst='A')]"
            ]
          },
          "metadata": {},
          "execution_count": 8
        }
      ],
      "execution_count": 8
    },
    {
      "cell_type": "code",
      "source": [
        "df_airports.select(col('faa')).count()\n"
      ],
      "metadata": {
        "application/vnd.databricks.v1+cell": {
          "title": "",
          "showTitle": false,
          "inputWidgets": {},
          "nuid": "bfa1c448-7fe2-4ed3-b06c-59d332e4736f"
        },
        "id": "du4CuxyTLZW9",
        "colab": {
          "base_uri": "https://localhost:8080/"
        },
        "outputId": "9f0a64e2-69b6-43e6-a97c-a900a9838204"
      },
      "outputs": [
        {
          "output_type": "execute_result",
          "data": {
            "text/plain": [
              "1397"
            ]
          },
          "metadata": {},
          "execution_count": 9
        }
      ],
      "execution_count": 9
    },
    {
      "cell_type": "code",
      "source": [
        "df_airports.select(col('faa')).dtypes\n"
      ],
      "metadata": {
        "application/vnd.databricks.v1+cell": {
          "title": "",
          "showTitle": false,
          "inputWidgets": {},
          "nuid": "2db21a89-e11a-4400-9da2-572f9a5f27ab"
        },
        "id": "j0e_DNQhLZW9",
        "colab": {
          "base_uri": "https://localhost:8080/"
        },
        "outputId": "c88d3b85-e500-4328-de33-2a61341899ef"
      },
      "outputs": [
        {
          "output_type": "execute_result",
          "data": {
            "text/plain": [
              "[('faa', 'string')]"
            ]
          },
          "metadata": {},
          "execution_count": 10
        }
      ],
      "execution_count": 10
    },
    {
      "cell_type": "code",
      "source": [
        "df_airports.select(col('faa')).collect()\n"
      ],
      "metadata": {
        "id": "OMn8K2qILwQU",
        "colab": {
          "base_uri": "https://localhost:8080/"
        },
        "outputId": "a10e8b28-cea6-451a-9ca7-14c40629d69a"
      },
      "execution_count": 11,
      "outputs": [
        {
          "output_type": "execute_result",
          "data": {
            "text/plain": [
              "[Row(faa='04G'),\n",
              " Row(faa='06A'),\n",
              " Row(faa='06C'),\n",
              " Row(faa='06N'),\n",
              " Row(faa='09J'),\n",
              " Row(faa='0A9'),\n",
              " Row(faa='0G6'),\n",
              " Row(faa='0G7'),\n",
              " Row(faa='0P2'),\n",
              " Row(faa='0S9'),\n",
              " Row(faa='0W3'),\n",
              " Row(faa='10C'),\n",
              " Row(faa='17G'),\n",
              " Row(faa='19A'),\n",
              " Row(faa='1A3'),\n",
              " Row(faa='1B9'),\n",
              " Row(faa='1C9'),\n",
              " Row(faa='1CS'),\n",
              " Row(faa='1G3'),\n",
              " Row(faa='1OH'),\n",
              " Row(faa='1RL'),\n",
              " Row(faa='24C'),\n",
              " Row(faa='24J'),\n",
              " Row(faa='25D'),\n",
              " Row(faa='29D'),\n",
              " Row(faa='2A0'),\n",
              " Row(faa='2G2'),\n",
              " Row(faa='2G9'),\n",
              " Row(faa='2J9'),\n",
              " Row(faa='369'),\n",
              " Row(faa='36U'),\n",
              " Row(faa='38W'),\n",
              " Row(faa='3D2'),\n",
              " Row(faa='3G3'),\n",
              " Row(faa='3G4'),\n",
              " Row(faa='3J1'),\n",
              " Row(faa='3W2'),\n",
              " Row(faa='40J'),\n",
              " Row(faa='41N'),\n",
              " Row(faa='47A'),\n",
              " Row(faa='49A'),\n",
              " Row(faa='49X'),\n",
              " Row(faa='4A4'),\n",
              " Row(faa='4A7'),\n",
              " Row(faa='4A9'),\n",
              " Row(faa='4B8'),\n",
              " Row(faa='4G0'),\n",
              " Row(faa='4G2'),\n",
              " Row(faa='4G4'),\n",
              " Row(faa='4I7'),\n",
              " Row(faa='4U9'),\n",
              " Row(faa='52A'),\n",
              " Row(faa='54J'),\n",
              " Row(faa='55J'),\n",
              " Row(faa='57C'),\n",
              " Row(faa='60J'),\n",
              " Row(faa='6A2'),\n",
              " Row(faa='6K8'),\n",
              " Row(faa='6S0'),\n",
              " Row(faa='6S2'),\n",
              " Row(faa='6Y8'),\n",
              " Row(faa='70J'),\n",
              " Row(faa='70N'),\n",
              " Row(faa='7A4'),\n",
              " Row(faa='7D9'),\n",
              " Row(faa='7N7'),\n",
              " Row(faa='8M8'),\n",
              " Row(faa='93C'),\n",
              " Row(faa='99N'),\n",
              " Row(faa='9A1'),\n",
              " Row(faa='9A5'),\n",
              " Row(faa='A39'),\n",
              " Row(faa='AAF'),\n",
              " Row(faa='ABE'),\n",
              " Row(faa='ABI'),\n",
              " Row(faa='ABL'),\n",
              " Row(faa='ABQ'),\n",
              " Row(faa='ABR'),\n",
              " Row(faa='ABY'),\n",
              " Row(faa='ACK'),\n",
              " Row(faa='ACT'),\n",
              " Row(faa='ACV'),\n",
              " Row(faa='ACY'),\n",
              " Row(faa='ADK'),\n",
              " Row(faa='ADM'),\n",
              " Row(faa='ADQ'),\n",
              " Row(faa='ADS'),\n",
              " Row(faa='ADW'),\n",
              " Row(faa='AET'),\n",
              " Row(faa='AEX'),\n",
              " Row(faa='AFE'),\n",
              " Row(faa='AFW'),\n",
              " Row(faa='AGC'),\n",
              " Row(faa='AGN'),\n",
              " Row(faa='AGS'),\n",
              " Row(faa='AHN'),\n",
              " Row(faa='AIA'),\n",
              " Row(faa='AIK'),\n",
              " Row(faa='AIN'),\n",
              " Row(faa='AIZ'),\n",
              " Row(faa='AKB'),\n",
              " Row(faa='AKC'),\n",
              " Row(faa='AKI'),\n",
              " Row(faa='AKK'),\n",
              " Row(faa='AKN'),\n",
              " Row(faa='AKP'),\n",
              " Row(faa='ALB'),\n",
              " Row(faa='ALI'),\n",
              " Row(faa='ALM'),\n",
              " Row(faa='ALO'),\n",
              " Row(faa='ALS'),\n",
              " Row(faa='ALW'),\n",
              " Row(faa='ALX'),\n",
              " Row(faa='ALZ'),\n",
              " Row(faa='AMA'),\n",
              " Row(faa='ANB'),\n",
              " Row(faa='ANC'),\n",
              " Row(faa='AND'),\n",
              " Row(faa='ANI'),\n",
              " Row(faa='ANN'),\n",
              " Row(faa='ANP'),\n",
              " Row(faa='ANQ'),\n",
              " Row(faa='ANV'),\n",
              " Row(faa='AOH'),\n",
              " Row(faa='AOO'),\n",
              " Row(faa='AOS'),\n",
              " Row(faa='APA'),\n",
              " Row(faa='APC'),\n",
              " Row(faa='APF'),\n",
              " Row(faa='APG'),\n",
              " Row(faa='APN'),\n",
              " Row(faa='AQC'),\n",
              " Row(faa='ARA'),\n",
              " Row(faa='ARB'),\n",
              " Row(faa='ARC'),\n",
              " Row(faa='ART'),\n",
              " Row(faa='ARV'),\n",
              " Row(faa='ASE'),\n",
              " Row(faa='ASH'),\n",
              " Row(faa='AST'),\n",
              " Row(faa='ATK'),\n",
              " Row(faa='ATL'),\n",
              " Row(faa='ATT'),\n",
              " Row(faa='ATW'),\n",
              " Row(faa='ATY'),\n",
              " Row(faa='AUG'),\n",
              " Row(faa='AUK'),\n",
              " Row(faa='AUS'),\n",
              " Row(faa='AUW'),\n",
              " Row(faa='AVL'),\n",
              " Row(faa='AVO'),\n",
              " Row(faa='AVP'),\n",
              " Row(faa='AVW'),\n",
              " Row(faa='AVX'),\n",
              " Row(faa='AZA'),\n",
              " Row(faa='AZO'),\n",
              " Row(faa='BAB'),\n",
              " Row(faa='BAD'),\n",
              " Row(faa='BAF'),\n",
              " Row(faa='BBX'),\n",
              " Row(faa='BCE'),\n",
              " Row(faa='BCT'),\n",
              " Row(faa='BDE'),\n",
              " Row(faa='BDL'),\n",
              " Row(faa='BDR'),\n",
              " Row(faa='BEC'),\n",
              " Row(faa='BED'),\n",
              " Row(faa='BEH'),\n",
              " Row(faa='BET'),\n",
              " Row(faa='BFD'),\n",
              " Row(faa='BFF'),\n",
              " Row(faa='BFI'),\n",
              " Row(faa='BFL'),\n",
              " Row(faa='BFM'),\n",
              " Row(faa='BFP'),\n",
              " Row(faa='BFT'),\n",
              " Row(faa='BFT'),\n",
              " Row(faa='BGE'),\n",
              " Row(faa='BGM'),\n",
              " Row(faa='BGR'),\n",
              " Row(faa='BHB'),\n",
              " Row(faa='BHM'),\n",
              " Row(faa='BID'),\n",
              " Row(faa='BIF'),\n",
              " Row(faa='BIG'),\n",
              " Row(faa='BIL'),\n",
              " Row(faa='BIS'),\n",
              " Row(faa='BIV'),\n",
              " Row(faa='BIX'),\n",
              " Row(faa='BJC'),\n",
              " Row(faa='BJI'),\n",
              " Row(faa='BKC'),\n",
              " Row(faa='BKD'),\n",
              " Row(faa='BKF'),\n",
              " Row(faa='BKG'),\n",
              " Row(faa='BKH'),\n",
              " Row(faa='BKL'),\n",
              " Row(faa='BKW'),\n",
              " Row(faa='BKX'),\n",
              " Row(faa='BLD'),\n",
              " Row(faa='BLF'),\n",
              " Row(faa='BLH'),\n",
              " Row(faa='BLI'),\n",
              " Row(faa='BLV'),\n",
              " Row(faa='BMC'),\n",
              " Row(faa='BMG'),\n",
              " Row(faa='BMI'),\n",
              " Row(faa='BMX'),\n",
              " Row(faa='BNA'),\n",
              " Row(faa='BOI'),\n",
              " Row(faa='BOS'),\n",
              " Row(faa='BOW'),\n",
              " Row(faa='BPT'),\n",
              " Row(faa='BQK'),\n",
              " Row(faa='BRD'),\n",
              " Row(faa='BRL'),\n",
              " Row(faa='BRO'),\n",
              " Row(faa='BRW'),\n",
              " Row(faa='BSF'),\n",
              " Row(faa='BTI'),\n",
              " Row(faa='BTM'),\n",
              " Row(faa='BTR'),\n",
              " Row(faa='BTT'),\n",
              " Row(faa='BTV'),\n",
              " Row(faa='BUF'),\n",
              " Row(faa='BUR'),\n",
              " Row(faa='BUU'),\n",
              " Row(faa='BUY'),\n",
              " Row(faa='BVY'),\n",
              " Row(faa='BWD'),\n",
              " Row(faa='BWG'),\n",
              " Row(faa='BWI'),\n",
              " Row(faa='BXK'),\n",
              " Row(faa='BXS'),\n",
              " Row(faa='BYH'),\n",
              " Row(faa='BYS'),\n",
              " Row(faa='BYW'),\n",
              " Row(faa='BZN'),\n",
              " Row(faa='C02'),\n",
              " Row(faa='C16'),\n",
              " Row(faa='C47'),\n",
              " Row(faa='C65'),\n",
              " Row(faa='C89'),\n",
              " Row(faa='C91'),\n",
              " Row(faa='CAE'),\n",
              " Row(faa='CAK'),\n",
              " Row(faa='CAR'),\n",
              " Row(faa='CBE'),\n",
              " Row(faa='CBM'),\n",
              " Row(faa='CCO'),\n",
              " Row(faa='CCR'),\n",
              " Row(faa='CDB'),\n",
              " Row(faa='CDC'),\n",
              " Row(faa='CDI'),\n",
              " Row(faa='CDK'),\n",
              " Row(faa='CDN'),\n",
              " Row(faa='CDR'),\n",
              " Row(faa='CDS'),\n",
              " Row(faa='CDV'),\n",
              " Row(faa='CDW'),\n",
              " Row(faa='CEC'),\n",
              " Row(faa='CEF'),\n",
              " Row(faa='CEM'),\n",
              " Row(faa='CEU'),\n",
              " Row(faa='CEW'),\n",
              " Row(faa='CEZ'),\n",
              " Row(faa='CFD'),\n",
              " Row(faa='CGA'),\n",
              " Row(faa='CGF'),\n",
              " Row(faa='CGI'),\n",
              " Row(faa='CGX'),\n",
              " Row(faa='CGZ'),\n",
              " Row(faa='CHA'),\n",
              " Row(faa='CHI'),\n",
              " Row(faa='CHO'),\n",
              " Row(faa='CHS'),\n",
              " Row(faa='CHU'),\n",
              " Row(faa='CIC'),\n",
              " Row(faa='CID'),\n",
              " Row(faa='CIK'),\n",
              " Row(faa='CIL'),\n",
              " Row(faa='CIU'),\n",
              " Row(faa='CKB'),\n",
              " Row(faa='CKD'),\n",
              " Row(faa='CKF'),\n",
              " Row(faa='CKV'),\n",
              " Row(faa='CLC'),\n",
              " Row(faa='CLD'),\n",
              " Row(faa='CLE'),\n",
              " Row(faa='CLL'),\n",
              " Row(faa='CLM'),\n",
              " Row(faa='CLT'),\n",
              " Row(faa='CLW'),\n",
              " Row(faa='CMH'),\n",
              " Row(faa='CMI'),\n",
              " Row(faa='CMX'),\n",
              " Row(faa='CNM'),\n",
              " Row(faa='CNW'),\n",
              " Row(faa='CNY'),\n",
              " Row(faa='COD'),\n",
              " Row(faa='COF'),\n",
              " Row(faa='CON'),\n",
              " Row(faa='COS'),\n",
              " Row(faa='COT'),\n",
              " Row(faa='COU'),\n",
              " Row(faa='CPR'),\n",
              " Row(faa='CPS'),\n",
              " Row(faa='CRE'),\n",
              " Row(faa='CRP'),\n",
              " Row(faa='CRW'),\n",
              " Row(faa='CSG'),\n",
              " Row(faa='CTB'),\n",
              " Row(faa='CTH'),\n",
              " Row(faa='CTJ'),\n",
              " Row(faa='CTY'),\n",
              " Row(faa='CVG'),\n",
              " Row(faa='CVN'),\n",
              " Row(faa='CVS'),\n",
              " Row(faa='CVX'),\n",
              " Row(faa='CWA'),\n",
              " Row(faa='CWI'),\n",
              " Row(faa='CXF'),\n",
              " Row(faa='CXL'),\n",
              " Row(faa='CXO'),\n",
              " Row(faa='CXY'),\n",
              " Row(faa='CYF'),\n",
              " Row(faa='CYM'),\n",
              " Row(faa='CYS'),\n",
              " Row(faa='CYT'),\n",
              " Row(faa='CZF'),\n",
              " Row(faa='CZN'),\n",
              " Row(faa='DAB'),\n",
              " Row(faa='DAL'),\n",
              " Row(faa='DAY'),\n",
              " Row(faa='DBQ'),\n",
              " Row(faa='DCA'),\n",
              " Row(faa='DDC'),\n",
              " Row(faa='DEC'),\n",
              " Row(faa='DEN'),\n",
              " Row(faa='DET'),\n",
              " Row(faa='DFW'),\n",
              " Row(faa='DGL'),\n",
              " Row(faa='DHN'),\n",
              " Row(faa='DHT'),\n",
              " Row(faa='DIK'),\n",
              " Row(faa='DKB'),\n",
              " Row(faa='DKK'),\n",
              " Row(faa='DKX'),\n",
              " Row(faa='DLF'),\n",
              " Row(faa='DLG'),\n",
              " Row(faa='DLH'),\n",
              " Row(faa='DLL'),\n",
              " Row(faa='DMA'),\n",
              " Row(faa='DNL'),\n",
              " Row(faa='DNN'),\n",
              " Row(faa='DOV'),\n",
              " Row(faa='DPA'),\n",
              " Row(faa='DQH'),\n",
              " Row(faa='DRG'),\n",
              " Row(faa='DRI'),\n",
              " Row(faa='DRM'),\n",
              " Row(faa='DRO'),\n",
              " Row(faa='DRT'),\n",
              " Row(faa='DSM'),\n",
              " Row(faa='DTA'),\n",
              " Row(faa='DTS'),\n",
              " Row(faa='DTW'),\n",
              " Row(faa='DUC'),\n",
              " Row(faa='DUG'),\n",
              " Row(faa='DUJ'),\n",
              " Row(faa='DUT'),\n",
              " Row(faa='DVL'),\n",
              " Row(faa='DVT'),\n",
              " Row(faa='DWA'),\n",
              " Row(faa='DWH'),\n",
              " Row(faa='DWS'),\n",
              " Row(faa='DXR'),\n",
              " Row(faa='DYS'),\n",
              " Row(faa='E25'),\n",
              " Row(faa='E51'),\n",
              " Row(faa='E55'),\n",
              " Row(faa='E63'),\n",
              " Row(faa='E91'),\n",
              " Row(faa='EAA'),\n",
              " Row(faa='EAR'),\n",
              " Row(faa='EAT'),\n",
              " Row(faa='EAU'),\n",
              " Row(faa='ECA'),\n",
              " Row(faa='ECG'),\n",
              " Row(faa='ECP'),\n",
              " Row(faa='EDF'),\n",
              " Row(faa='EDW'),\n",
              " Row(faa='EEK'),\n",
              " Row(faa='EEN'),\n",
              " Row(faa='EET'),\n",
              " Row(faa='EFD'),\n",
              " Row(faa='EGA'),\n",
              " Row(faa='EGE'),\n",
              " Row(faa='EGT'),\n",
              " Row(faa='EGV'),\n",
              " Row(faa='EGX'),\n",
              " Row(faa='EHM'),\n",
              " Row(faa='EIL'),\n",
              " Row(faa='EKI'),\n",
              " Row(faa='EKN'),\n",
              " Row(faa='EKO'),\n",
              " Row(faa='ELD'),\n",
              " Row(faa='ELI'),\n",
              " Row(faa='ELM'),\n",
              " Row(faa='ELP'),\n",
              " Row(faa='ELV'),\n",
              " Row(faa='ELY'),\n",
              " Row(faa='EMK'),\n",
              " Row(faa='EMP'),\n",
              " Row(faa='ENA'),\n",
              " Row(faa='END'),\n",
              " Row(faa='ENV'),\n",
              " Row(faa='ENW'),\n",
              " Row(faa='EOK'),\n",
              " Row(faa='EPM'),\n",
              " Row(faa='EQY'),\n",
              " Row(faa='ERI'),\n",
              " Row(faa='ERV'),\n",
              " Row(faa='ERY'),\n",
              " Row(faa='ESC'),\n",
              " Row(faa='ESD'),\n",
              " Row(faa='ESF'),\n",
              " Row(faa='ESN'),\n",
              " Row(faa='EUG'),\n",
              " Row(faa='EVV'),\n",
              " Row(faa='EWB'),\n",
              " Row(faa='EWN'),\n",
              " Row(faa='EWR'),\n",
              " Row(faa='EXI'),\n",
              " Row(faa='EYW'),\n",
              " Row(faa='F57'),\n",
              " Row(faa='FAF'),\n",
              " Row(faa='FAI'),\n",
              " Row(faa='FAR'),\n",
              " Row(faa='FAT'),\n",
              " Row(faa='FAY'),\n",
              " Row(faa='FBG'),\n",
              " Row(faa='FBK'),\n",
              " Row(faa='FBS'),\n",
              " Row(faa='FCA'),\n",
              " Row(faa='FCS'),\n",
              " Row(faa='FDY'),\n",
              " Row(faa='FFA'),\n",
              " Row(faa='FFC'),\n",
              " Row(faa='FFO'),\n",
              " Row(faa='FFT'),\n",
              " Row(faa='FFZ'),\n",
              " Row(faa='FHU'),\n",
              " Row(faa='FIT'),\n",
              " Row(faa='FKL'),\n",
              " Row(faa='FLD'),\n",
              " Row(faa='FLG'),\n",
              " Row(faa='FLL'),\n",
              " Row(faa='FLO'),\n",
              " Row(faa='FLV'),\n",
              " Row(faa='FME'),\n",
              " Row(faa='FMH'),\n",
              " Row(faa='FMN'),\n",
              " Row(faa='FMY'),\n",
              " Row(faa='FNL'),\n",
              " Row(faa='FNR'),\n",
              " Row(faa='FNT'),\n",
              " Row(faa='FOD'),\n",
              " Row(faa='FOE'),\n",
              " Row(faa='FOK'),\n",
              " Row(faa='FRD'),\n",
              " Row(faa='FRI'),\n",
              " Row(faa='FRN'),\n",
              " Row(faa='FRP'),\n",
              " Row(faa='FSD'),\n",
              " Row(faa='FSI'),\n",
              " Row(faa='FSM'),\n",
              " Row(faa='FST'),\n",
              " Row(faa='FTK'),\n",
              " Row(faa='FTW'),\n",
              " Row(faa='FTY'),\n",
              " Row(faa='FUL'),\n",
              " Row(faa='FWA'),\n",
              " Row(faa='FXE'),\n",
              " Row(faa='FYU'),\n",
              " Row(faa='FYV'),\n",
              " Row(faa='FZG'),\n",
              " Row(faa='GAD'),\n",
              " Row(faa='GAI'),\n",
              " Row(faa='GAL'),\n",
              " Row(faa='GAM'),\n",
              " Row(faa='GBN'),\n",
              " Row(faa='GCC'),\n",
              " Row(faa='GCK'),\n",
              " Row(faa='GCN'),\n",
              " Row(faa='GCW'),\n",
              " Row(faa='GDV'),\n",
              " Row(faa='GDW'),\n",
              " Row(faa='GED'),\n",
              " Row(faa='GEG'),\n",
              " Row(faa='GEU'),\n",
              " Row(faa='GFK'),\n",
              " Row(faa='GGE'),\n",
              " Row(faa='GGG'),\n",
              " Row(faa='GGW'),\n",
              " Row(faa='GHG'),\n",
              " Row(faa='GIF'),\n",
              " Row(faa='GJT'),\n",
              " Row(faa='GKN'),\n",
              " Row(faa='GKY'),\n",
              " Row(faa='GLD'),\n",
              " Row(faa='GLH'),\n",
              " Row(faa='GLS'),\n",
              " Row(faa='GLV'),\n",
              " Row(faa='GNT'),\n",
              " Row(faa='GNU'),\n",
              " Row(faa='GNV'),\n",
              " Row(faa='GON'),\n",
              " Row(faa='GPT'),\n",
              " Row(faa='GPZ'),\n",
              " Row(faa='GQQ'),\n",
              " Row(faa='GRB'),\n",
              " Row(faa='GRF'),\n",
              " Row(faa='GRI'),\n",
              " Row(faa='GRK'),\n",
              " Row(faa='GRM'),\n",
              " Row(faa='GRR'),\n",
              " Row(faa='GSB'),\n",
              " Row(faa='GSO'),\n",
              " Row(faa='GSP'),\n",
              " Row(faa='GST'),\n",
              " Row(faa='GTB'),\n",
              " Row(faa='GTF'),\n",
              " Row(faa='GTR'),\n",
              " Row(faa='GTU'),\n",
              " Row(faa='GUC'),\n",
              " Row(faa='GUP'),\n",
              " Row(faa='GUS'),\n",
              " Row(faa='GVL'),\n",
              " Row(faa='GVQ'),\n",
              " Row(faa='GVT'),\n",
              " Row(faa='GWO'),\n",
              " Row(faa='GYY'),\n",
              " Row(faa='HBG'),\n",
              " Row(faa='HBR'),\n",
              " Row(faa='HCC'),\n",
              " Row(faa='HCR'),\n",
              " Row(faa='HDH'),\n",
              " Row(faa='HDI'),\n",
              " Row(faa='HDN'),\n",
              " Row(faa='HDO'),\n",
              " Row(faa='HFD'),\n",
              " Row(faa='HGR'),\n",
              " Row(faa='HHH'),\n",
              " Row(faa='HHI'),\n",
              " Row(faa='HHR'),\n",
              " Row(faa='HIB'),\n",
              " Row(faa='HIF'),\n",
              " Row(faa='HII'),\n",
              " Row(faa='HIO'),\n",
              " Row(faa='HKB'),\n",
              " Row(faa='HKY'),\n",
              " Row(faa='HLG'),\n",
              " Row(faa='HLN'),\n",
              " Row(faa='HLR'),\n",
              " Row(faa='HMN'),\n",
              " Row(faa='HNH'),\n",
              " Row(faa='HNL'),\n",
              " Row(faa='HNM'),\n",
              " Row(faa='HNS'),\n",
              " Row(faa='HOB'),\n",
              " Row(faa='HOM'),\n",
              " Row(faa='HON'),\n",
              " Row(faa='HOP'),\n",
              " Row(faa='HOT'),\n",
              " Row(faa='HOU'),\n",
              " Row(faa='HPB'),\n",
              " Row(faa='HPN'),\n",
              " Row(faa='HQM'),\n",
              " Row(faa='HQU'),\n",
              " Row(faa='HRL'),\n",
              " Row(faa='HRO'),\n",
              " Row(faa='HRT'),\n",
              " Row(faa='HSH'),\n",
              " Row(faa='HSL'),\n",
              " Row(faa='HST'),\n",
              " Row(faa='HSV'),\n",
              " Row(faa='HTL'),\n",
              " Row(faa='HTS'),\n",
              " Row(faa='HUA'),\n",
              " Row(faa='HUF'),\n",
              " Row(faa='HUL'),\n",
              " Row(faa='HUS'),\n",
              " Row(faa='HUT'),\n",
              " Row(faa='HVN'),\n",
              " Row(faa='HVR'),\n",
              " Row(faa='HWD'),\n",
              " Row(faa='HWO'),\n",
              " Row(faa='HXD'),\n",
              " Row(faa='HYA'),\n",
              " Row(faa='HYG'),\n",
              " Row(faa='HYL'),\n",
              " Row(faa='HYS'),\n",
              " Row(faa='HZL'),\n",
              " Row(faa='IAB'),\n",
              " Row(faa='IAD'),\n",
              " Row(faa='IAG'),\n",
              " Row(faa='IAH'),\n",
              " Row(faa='IAN'),\n",
              " Row(faa='ICT'),\n",
              " Row(faa='ICY'),\n",
              " Row(faa='IDA'),\n",
              " Row(faa='IDL'),\n",
              " Row(faa='IFP'),\n",
              " Row(faa='IGG'),\n",
              " Row(faa='IGM'),\n",
              " Row(faa='IGQ'),\n",
              " Row(faa='IJD'),\n",
              " Row(faa='IKK'),\n",
              " Row(faa='IKO'),\n",
              " Row(faa='IKR'),\n",
              " Row(faa='IKV'),\n",
              " Row(faa='ILG'),\n",
              " Row(faa='ILI'),\n",
              " Row(faa='ILM'),\n",
              " Row(faa='ILN'),\n",
              " Row(faa='IMM'),\n",
              " Row(faa='IMT'),\n",
              " Row(faa='IND'),\n",
              " Row(faa='INJ'),\n",
              " Row(faa='INK'),\n",
              " Row(faa='INL'),\n",
              " Row(faa='INS'),\n",
              " Row(faa='INT'),\n",
              " Row(faa='INW'),\n",
              " Row(faa='IOW'),\n",
              " Row(faa='IPL'),\n",
              " Row(faa='IPT'),\n",
              " Row(faa='IRC'),\n",
              " Row(faa='IRK'),\n",
              " Row(faa='ISM'),\n",
              " Row(faa='ISN'),\n",
              " Row(faa='ISO'),\n",
              " Row(faa='ISP'),\n",
              " Row(faa='ISW'),\n",
              " Row(faa='ITH'),\n",
              " Row(faa='ITO'),\n",
              " Row(faa='IWD'),\n",
              " Row(faa='IWS'),\n",
              " Row(faa='IYK'),\n",
              " Row(faa='JAC'),\n",
              " Row(faa='JAN'),\n",
              " Row(faa='JAX'),\n",
              " Row(faa='JBR'),\n",
              " Row(faa='JCI'),\n",
              " Row(faa='JEF'),\n",
              " Row(faa='JES'),\n",
              " Row(faa='JFK'),\n",
              " Row(faa='JGC'),\n",
              " Row(faa='JHM'),\n",
              " Row(faa='JHW'),\n",
              " Row(faa='JKA'),\n",
              " Row(faa='JLN'),\n",
              " Row(faa='JMS'),\n",
              " Row(faa='JNU'),\n",
              " Row(faa='JOT'),\n",
              " Row(faa='JRA'),\n",
              " Row(faa='JRB'),\n",
              " Row(faa='JST'),\n",
              " Row(faa='JVL'),\n",
              " Row(faa='JXN'),\n",
              " Row(faa='JYL'),\n",
              " Row(faa='JYO'),\n",
              " Row(faa='JZP'),\n",
              " Row(faa='K03'),\n",
              " Row(faa='KAE'),\n",
              " Row(faa='KAL'),\n",
              " Row(faa='KBC'),\n",
              " Row(faa='KBW'),\n",
              " Row(faa='KCC'),\n",
              " Row(faa='KCL'),\n",
              " Row(faa='KCQ'),\n",
              " Row(faa='KEH'),\n",
              " Row(faa='KEK'),\n",
              " Row(faa='KFP'),\n",
              " Row(faa='KGK'),\n",
              " Row(faa='KGX'),\n",
              " Row(faa='KKA'),\n",
              " Row(faa='KKB'),\n",
              " Row(faa='KKH'),\n",
              " Row(faa='KLG'),\n",
              " Row(faa='KLL'),\n",
              " Row(faa='KLN'),\n",
              " Row(faa='KLS'),\n",
              " Row(faa='KLW'),\n",
              " Row(faa='KMO'),\n",
              " Row(faa='KMY'),\n",
              " Row(faa='KNW'),\n",
              " Row(faa='KOA'),\n",
              " Row(faa='KOT'),\n",
              " Row(faa='KOY'),\n",
              " Row(faa='KOZ'),\n",
              " Row(faa='KPB'),\n",
              " Row(faa='KPC'),\n",
              " Row(faa='KPN'),\n",
              " Row(faa='KPR'),\n",
              " Row(faa='KPV'),\n",
              " Row(faa='KPY'),\n",
              " Row(faa='KQA'),\n",
              " Row(faa='KSM'),\n",
              " Row(faa='KTB'),\n",
              " Row(faa='KTN'),\n",
              " Row(faa='KTS'),\n",
              " Row(faa='KUK'),\n",
              " Row(faa='KVC'),\n",
              " Row(faa='KVL'),\n",
              " Row(faa='KWK'),\n",
              " Row(faa='KWN'),\n",
              " Row(faa='KWP'),\n",
              " Row(faa='KWT'),\n",
              " Row(faa='KYK'),\n",
              " Row(faa='KYU'),\n",
              " Row(faa='KZB'),\n",
              " Row(faa='L06'),\n",
              " Row(faa='L35'),\n",
              " Row(faa='LAA'),\n",
              " Row(faa='LAF'),\n",
              " Row(faa='LAL'),\n",
              " Row(faa='LAM'),\n",
              " Row(faa='LAN'),\n",
              " Row(faa='LAR'),\n",
              " Row(faa='LAS'),\n",
              " Row(faa='LAW'),\n",
              " Row(faa='LAX'),\n",
              " Row(faa='LBB'),\n",
              " Row(faa='LBE'),\n",
              " Row(faa='LBF'),\n",
              " Row(faa='LBL'),\n",
              " Row(faa='LBT'),\n",
              " Row(faa='LCH'),\n",
              " Row(faa='LCK'),\n",
              " Row(faa='LCQ'),\n",
              " Row(faa='LDJ'),\n",
              " Row(faa='LEB'),\n",
              " Row(faa='LEW'),\n",
              " Row(faa='LEX'),\n",
              " Row(faa='LFI'),\n",
              " Row(faa='LFK'),\n",
              " Row(faa='LFT'),\n",
              " Row(faa='LGA'),\n",
              " Row(faa='LGB'),\n",
              " Row(faa='LGC'),\n",
              " Row(faa='LGU'),\n",
              " Row(faa='LHD'),\n",
              " Row(faa='LHV'),\n",
              " Row(faa='LHX'),\n",
              " Row(faa='LIH'),\n",
              " Row(faa='LIT'),\n",
              " Row(faa='LIV'),\n",
              " Row(faa='LKE'),\n",
              " Row(faa='LKP'),\n",
              " Row(faa='LMT'),\n",
              " Row(faa='LNA'),\n",
              " Row(faa='LNK'),\n",
              " Row(faa='LNN'),\n",
              " Row(faa='LNR'),\n",
              " Row(faa='LNS'),\n",
              " Row(faa='LNY'),\n",
              " Row(faa='LOT'),\n",
              " Row(faa='LOU'),\n",
              " Row(faa='LOZ'),\n",
              " Row(faa='LPC'),\n",
              " Row(faa='LPR'),\n",
              " Row(faa='LPS'),\n",
              " Row(faa='LRD'),\n",
              " Row(faa='LRF'),\n",
              " Row(faa='LRU'),\n",
              " Row(faa='LSE'),\n",
              " Row(faa='LSF'),\n",
              " Row(faa='LSV'),\n",
              " Row(faa='LTS'),\n",
              " Row(faa='LUF'),\n",
              " Row(faa='LUK'),\n",
              " Row(faa='LUP'),\n",
              " Row(faa='LUR'),\n",
              " Row(faa='LVK'),\n",
              " Row(faa='LVM'),\n",
              " Row(faa='LVS'),\n",
              " Row(faa='LWA'),\n",
              " Row(faa='LWB'),\n",
              " Row(faa='LWC'),\n",
              " Row(faa='LWM'),\n",
              " Row(faa='LWS'),\n",
              " Row(faa='LWT'),\n",
              " Row(faa='LXY'),\n",
              " Row(faa='LYH'),\n",
              " Row(faa='LYU'),\n",
              " Row(faa='LZU'),\n",
              " Row(faa='MAE'),\n",
              " Row(faa='MAF'),\n",
              " Row(faa='MBL'),\n",
              " Row(faa='MBS'),\n",
              " Row(faa='MCC'),\n",
              " Row(faa='MCD'),\n",
              " Row(faa='MCE'),\n",
              " Row(faa='MCF'),\n",
              " Row(faa='MCG'),\n",
              " Row(faa='MCI'),\n",
              " Row(faa='MCK'),\n",
              " Row(faa='MCL'),\n",
              " Row(faa='MCN'),\n",
              " Row(faa='MCO'),\n",
              " Row(faa='MCW'),\n",
              " Row(faa='MDT'),\n",
              " Row(faa='MDW'),\n",
              " Row(faa='ME5'),\n",
              " Row(faa='MEI'),\n",
              " Row(faa='MEM'),\n",
              " Row(faa='MER'),\n",
              " Row(faa='MFD'),\n",
              " Row(faa='MFE'),\n",
              " Row(faa='MFI'),\n",
              " Row(faa='MFR'),\n",
              " Row(faa='MGC'),\n",
              " Row(faa='MGE'),\n",
              " Row(faa='MGJ'),\n",
              " Row(faa='MGM'),\n",
              " Row(faa='MGR'),\n",
              " Row(faa='MGW'),\n",
              " Row(faa='MGY'),\n",
              " Row(faa='MHK'),\n",
              " Row(faa='MHM'),\n",
              " Row(faa='MHR'),\n",
              " Row(faa='MHT'),\n",
              " Row(faa='MHV'),\n",
              " Row(faa='MIA'),\n",
              " Row(faa='MIB'),\n",
              " Row(faa='MIE'),\n",
              " Row(faa='MIV'),\n",
              " Row(faa='MKC'),\n",
              " Row(faa='MKE'),\n",
              " Row(faa='MKG'),\n",
              " Row(faa='MKK'),\n",
              " Row(faa='MKL'),\n",
              " Row(faa='MKO'),\n",
              " Row(faa='MLB'),\n",
              " Row(faa='MLC'),\n",
              " Row(faa='MLD'),\n",
              " Row(faa='MLI'),\n",
              " Row(faa='MLJ'),\n",
              " Row(faa='MLL'),\n",
              " Row(faa='MLS'),\n",
              " Row(faa='MLT'),\n",
              " Row(faa='MLU'),\n",
              " Row(faa='MLY'),\n",
              " Row(faa='MMH'),\n",
              " Row(faa='MMI'),\n",
              " Row(faa='MMU'),\n",
              " Row(faa='MMV'),\n",
              " Row(faa='MNM'),\n",
              " Row(faa='MNT'),\n",
              " Row(faa='MOB'),\n",
              " Row(faa='MOD'),\n",
              " Row(faa='MOT'),\n",
              " Row(faa='MOU'),\n",
              " Row(faa='MPB'),\n",
              " Row(faa='MPI'),\n",
              " Row(faa='MPV'),\n",
              " Row(faa='MQB'),\n",
              " Row(faa='MQT'),\n",
              " Row(faa='MRB'),\n",
              " Row(faa='MRI'),\n",
              " Row(faa='MRK'),\n",
              " Row(faa='MRN'),\n",
              " Row(faa='MRY'),\n",
              " Row(faa='MSL'),\n",
              " Row(faa='MSN'),\n",
              " Row(faa='MSO'),\n",
              " Row(faa='MSP'),\n",
              " Row(faa='MSS'),\n",
              " Row(faa='MSY'),\n",
              " Row(faa='MTC'),\n",
              " Row(faa='MTH'),\n",
              " Row(faa='MTJ'),\n",
              " Row(faa='MTM'),\n",
              " Row(faa='MUE'),\n",
              " Row(faa='MUI'),\n",
              " Row(faa='MUO'),\n",
              " Row(faa='MVL'),\n",
              " Row(faa='MVY'),\n",
              " Row(faa='MWA'),\n",
              " Row(faa='MWC'),\n",
              " Row(faa='MWH'),\n",
              " Row(faa='MWL'),\n",
              " Row(faa='MWM'),\n",
              " Row(faa='MXF'),\n",
              " Row(faa='MXY'),\n",
              " Row(faa='MYF'),\n",
              " Row(faa='MYL'),\n",
              " Row(faa='MYR'),\n",
              " Row(faa='MYU'),\n",
              " Row(faa='MYV'),\n",
              " Row(faa='MZJ'),\n",
              " Row(faa='N53'),\n",
              " Row(faa='N69'),\n",
              " Row(faa='N87'),\n",
              " Row(faa='NBG'),\n",
              " Row(faa='NBU'),\n",
              " Row(faa='NCN'),\n",
              " Row(faa='NEL'),\n",
              " Row(faa='NFL'),\n",
              " Row(faa='NGF'),\n",
              " Row(faa='NGP'),\n",
              " Row(faa='NGU'),\n",
              " Row(faa='NGZ'),\n",
              " Row(faa='NHK'),\n",
              " Row(faa='NIB'),\n",
              " Row(faa='NID'),\n",
              " Row(faa='NIP'),\n",
              " Row(faa='NJK'),\n",
              " Row(faa='NKT'),\n",
              " Row(faa='NKX'),\n",
              " Row(faa='NLC'),\n",
              " Row(faa='NLG'),\n",
              " Row(faa='NME'),\n",
              " Row(faa='NMM'),\n",
              " Row(faa='NNL'),\n",
              " Row(faa='NOW'),\n",
              " Row(faa='NPA'),\n",
              " Row(faa='NPZ'),\n",
              " Row(faa='NQA'),\n",
              " Row(faa='NQI'),\n",
              " Row(faa='NQX'),\n",
              " Row(faa='NSE'),\n",
              " Row(faa='NTD'),\n",
              " Row(faa='NTU'),\n",
              " Row(faa='NUI'),\n",
              " Row(faa='NUL'),\n",
              " Row(faa='NUP'),\n",
              " Row(faa='NUQ'),\n",
              " Row(faa='NUW'),\n",
              " Row(faa='NXP'),\n",
              " Row(faa='NXX'),\n",
              " Row(faa='NY9'),\n",
              " Row(faa='NYC'),\n",
              " Row(faa='NYG'),\n",
              " Row(faa='NZC'),\n",
              " Row(faa='NZJ'),\n",
              " Row(faa='NZY'),\n",
              " Row(faa='O03'),\n",
              " Row(faa='O27'),\n",
              " Row(faa='OAJ'),\n",
              " Row(faa='OAK'),\n",
              " Row(faa='OAR'),\n",
              " Row(faa='OBE'),\n",
              " Row(faa='OBU'),\n",
              " Row(faa='OCA'),\n",
              " Row(faa='OCF'),\n",
              " Row(faa='OEB'),\n",
              " Row(faa='OFF'),\n",
              " Row(faa='OGG'),\n",
              " Row(faa='OGS'),\n",
              " Row(faa='OKC'),\n",
              " Row(faa='OLF'),\n",
              " Row(faa='OLH'),\n",
              " Row(faa='OLM'),\n",
              " Row(faa='OLS'),\n",
              " Row(faa='OLV'),\n",
              " Row(faa='OMA'),\n",
              " Row(faa='OME'),\n",
              " Row(faa='OMN'),\n",
              " Row(faa='ONH'),\n",
              " Row(faa='ONP'),\n",
              " Row(faa='ONT'),\n",
              " Row(faa='OOK'),\n",
              " Row(faa='OPF'),\n",
              " Row(faa='OQU'),\n",
              " Row(faa='ORD'),\n",
              " Row(faa='ORF'),\n",
              " Row(faa='ORH'),\n",
              " Row(faa='ORI'),\n",
              " Row(faa='ORL'),\n",
              " Row(faa='ORT'),\n",
              " Row(faa='ORV'),\n",
              " Row(faa='OSC'),\n",
              " Row(faa='OSH'),\n",
              " Row(faa='OSU'),\n",
              " Row(faa='OTH'),\n",
              " Row(faa='OTS'),\n",
              " Row(faa='OTZ'),\n",
              " Row(faa='OWB'),\n",
              " Row(faa='OWD'),\n",
              " Row(faa='OXC'),\n",
              " Row(faa='OXD'),\n",
              " Row(faa='OXR'),\n",
              " Row(faa='OZA'),\n",
              " Row(faa='P08'),\n",
              " Row(faa='P52'),\n",
              " Row(faa='PAE'),\n",
              " Row(faa='PAH'),\n",
              " ...]"
            ]
          },
          "metadata": {},
          "execution_count": 11
        }
      ]
    },
    {
      "cell_type": "code",
      "source": [
        "df_airports.select(col('faa')).distinct().count()\n"
      ],
      "metadata": {
        "application/vnd.databricks.v1+cell": {
          "title": "",
          "showTitle": false,
          "inputWidgets": {},
          "nuid": "6ca65ff5-9872-47ba-99e8-69be680dc21c"
        },
        "id": "N54djxwCLZW-",
        "colab": {
          "base_uri": "https://localhost:8080/"
        },
        "outputId": "88db3da1-4a62-4b72-8d6e-c986a9c7d0f3"
      },
      "outputs": [
        {
          "output_type": "execute_result",
          "data": {
            "text/plain": [
              "1396"
            ]
          },
          "metadata": {},
          "execution_count": 12
        }
      ],
      "execution_count": 12
    },
    {
      "cell_type": "code",
      "source": [
        "df_airports.select(col('faa')).explain()\n"
      ],
      "metadata": {
        "id": "xsJv1i1xbB7N",
        "colab": {
          "base_uri": "https://localhost:8080/"
        },
        "outputId": "9d1d18d0-11a7-4501-a2e8-63cc27848174"
      },
      "execution_count": 13,
      "outputs": [
        {
          "output_type": "stream",
          "name": "stdout",
          "text": [
            "== Physical Plan ==\n",
            "FileScan csv [faa#17] Batched: false, DataFilters: [], Format: CSV, Location: InMemoryFileIndex(1 paths)[file:/content/airports.csv], PartitionFilters: [], PushedFilters: [], ReadSchema: struct<faa:string>\n",
            "\n",
            "\n"
          ]
        }
      ]
    },
    {
      "cell_type": "code",
      "source": [
        "df_airports.fillna('').show()\n"
      ],
      "metadata": {
        "id": "d2MlVuDeiZRW",
        "colab": {
          "base_uri": "https://localhost:8080/"
        },
        "outputId": "6859944f-1293-49a5-df71-0b115f4e2c4f"
      },
      "execution_count": 14,
      "outputs": [
        {
          "output_type": "stream",
          "name": "stdout",
          "text": [
            "+---+--------------------+----------------+-----------------+----+---+---+\n",
            "|faa|                name|             lat|              lon| alt| tz|dst|\n",
            "+---+--------------------+----------------+-----------------+----+---+---+\n",
            "|04G|   Lansdowne Airport|      41.1304722|      -80.6195833|1044| -5|  A|\n",
            "|06A|Moton Field Munic...|      32.4605722|      -85.6800278| 264| -5|  A|\n",
            "|06C| Schaumburg Regional|      41.9893408|      -88.1012428| 801| -6|  A|\n",
            "|06N|     Randall Airport|       41.431912|      -74.3915611| 523| -5|  A|\n",
            "|09J|Jekyll Island Air...|      31.0744722|      -81.4277778|  11| -4|  A|\n",
            "|0A9|Elizabethton Muni...|      36.3712222|      -82.1734167|1593| -4|  A|\n",
            "|0G6|Williams County A...|      41.4673056|      -84.5067778| 730| -5|  A|\n",
            "|0G7|Finger Lakes Regi...|      42.8835647|      -76.7812318| 492| -5|  A|\n",
            "|0P2|Shoestring Aviati...|      39.7948244|      -76.6471914|1000| -5|  U|\n",
            "|0S9|Jefferson County ...|      48.0538086|     -122.8106436| 108| -8|  A|\n",
            "|0W3|Harford County Ai...|      39.5668378|      -76.2024028| 409| -5|  A|\n",
            "|10C|  Galt Field Airport|      42.4028889|      -88.3751111| 875| -6|  U|\n",
            "|17G|Port Bucyrus-Craw...|      40.7815556|      -82.9748056|1003| -5|  A|\n",
            "|19A|Jackson County Ai...|      34.1758638|      -83.5615972| 951| -4|  U|\n",
            "|1A3|Martin Campbell F...|      35.0158056|      -84.3468333|1789| -4|  A|\n",
            "|1B9| Mansfield Municipal|      42.0001331|      -71.1967714| 122| -5|  A|\n",
            "|1C9|Frazier Lake Airpark|54.0133333333333|-124.768333333333| 152| -8|  A|\n",
            "|1CS|Clow Internationa...|      41.6959744|      -88.1292306| 670| -6|  U|\n",
            "|1G3|  Kent State Airport|      41.1513889|      -81.4151111|1134| -4|  A|\n",
            "|1OH|     Fortman Airport|      40.5553253|      -84.3866186| 885| -5|  U|\n",
            "+---+--------------------+----------------+-----------------+----+---+---+\n",
            "only showing top 20 rows\n",
            "\n"
          ]
        }
      ]
    },
    {
      "cell_type": "code",
      "source": [
        "df_airports.fillna(value='', subset=['faa']).show()\n"
      ],
      "metadata": {
        "id": "mrhPkWC0QGXm",
        "colab": {
          "base_uri": "https://localhost:8080/"
        },
        "outputId": "a4233adf-ad2f-40c8-9564-8287a295ec5f"
      },
      "execution_count": 15,
      "outputs": [
        {
          "output_type": "stream",
          "name": "stdout",
          "text": [
            "+---+--------------------+----------------+-----------------+----+---+---+\n",
            "|faa|                name|             lat|              lon| alt| tz|dst|\n",
            "+---+--------------------+----------------+-----------------+----+---+---+\n",
            "|04G|   Lansdowne Airport|      41.1304722|      -80.6195833|1044| -5|  A|\n",
            "|06A|Moton Field Munic...|      32.4605722|      -85.6800278| 264| -5|  A|\n",
            "|06C| Schaumburg Regional|      41.9893408|      -88.1012428| 801| -6|  A|\n",
            "|06N|     Randall Airport|       41.431912|      -74.3915611| 523| -5|  A|\n",
            "|09J|Jekyll Island Air...|      31.0744722|      -81.4277778|  11| -4|  A|\n",
            "|0A9|Elizabethton Muni...|      36.3712222|      -82.1734167|1593| -4|  A|\n",
            "|0G6|Williams County A...|      41.4673056|      -84.5067778| 730| -5|  A|\n",
            "|0G7|Finger Lakes Regi...|      42.8835647|      -76.7812318| 492| -5|  A|\n",
            "|0P2|Shoestring Aviati...|      39.7948244|      -76.6471914|1000| -5|  U|\n",
            "|0S9|Jefferson County ...|      48.0538086|     -122.8106436| 108| -8|  A|\n",
            "|0W3|Harford County Ai...|      39.5668378|      -76.2024028| 409| -5|  A|\n",
            "|10C|  Galt Field Airport|      42.4028889|      -88.3751111| 875| -6|  U|\n",
            "|17G|Port Bucyrus-Craw...|      40.7815556|      -82.9748056|1003| -5|  A|\n",
            "|19A|Jackson County Ai...|      34.1758638|      -83.5615972| 951| -4|  U|\n",
            "|1A3|Martin Campbell F...|      35.0158056|      -84.3468333|1789| -4|  A|\n",
            "|1B9| Mansfield Municipal|      42.0001331|      -71.1967714| 122| -5|  A|\n",
            "|1C9|Frazier Lake Airpark|54.0133333333333|-124.768333333333| 152| -8|  A|\n",
            "|1CS|Clow Internationa...|      41.6959744|      -88.1292306| 670| -6|  U|\n",
            "|1G3|  Kent State Airport|      41.1513889|      -81.4151111|1134| -4|  A|\n",
            "|1OH|     Fortman Airport|      40.5553253|      -84.3866186| 885| -5|  U|\n",
            "+---+--------------------+----------------+-----------------+----+---+---+\n",
            "only showing top 20 rows\n",
            "\n"
          ]
        }
      ]
    },
    {
      "cell_type": "code",
      "source": [
        "df_airports.dropna().show()\n"
      ],
      "metadata": {
        "id": "DRJdPqKpQz3f",
        "colab": {
          "base_uri": "https://localhost:8080/"
        },
        "outputId": "a19e037a-901e-4567-b4c4-73d4de04b241"
      },
      "execution_count": 16,
      "outputs": [
        {
          "output_type": "stream",
          "name": "stdout",
          "text": [
            "+---+--------------------+----------------+-----------------+----+---+---+\n",
            "|faa|                name|             lat|              lon| alt| tz|dst|\n",
            "+---+--------------------+----------------+-----------------+----+---+---+\n",
            "|04G|   Lansdowne Airport|      41.1304722|      -80.6195833|1044| -5|  A|\n",
            "|06A|Moton Field Munic...|      32.4605722|      -85.6800278| 264| -5|  A|\n",
            "|06C| Schaumburg Regional|      41.9893408|      -88.1012428| 801| -6|  A|\n",
            "|06N|     Randall Airport|       41.431912|      -74.3915611| 523| -5|  A|\n",
            "|09J|Jekyll Island Air...|      31.0744722|      -81.4277778|  11| -4|  A|\n",
            "|0A9|Elizabethton Muni...|      36.3712222|      -82.1734167|1593| -4|  A|\n",
            "|0G6|Williams County A...|      41.4673056|      -84.5067778| 730| -5|  A|\n",
            "|0G7|Finger Lakes Regi...|      42.8835647|      -76.7812318| 492| -5|  A|\n",
            "|0P2|Shoestring Aviati...|      39.7948244|      -76.6471914|1000| -5|  U|\n",
            "|0S9|Jefferson County ...|      48.0538086|     -122.8106436| 108| -8|  A|\n",
            "|0W3|Harford County Ai...|      39.5668378|      -76.2024028| 409| -5|  A|\n",
            "|10C|  Galt Field Airport|      42.4028889|      -88.3751111| 875| -6|  U|\n",
            "|17G|Port Bucyrus-Craw...|      40.7815556|      -82.9748056|1003| -5|  A|\n",
            "|19A|Jackson County Ai...|      34.1758638|      -83.5615972| 951| -4|  U|\n",
            "|1A3|Martin Campbell F...|      35.0158056|      -84.3468333|1789| -4|  A|\n",
            "|1B9| Mansfield Municipal|      42.0001331|      -71.1967714| 122| -5|  A|\n",
            "|1C9|Frazier Lake Airpark|54.0133333333333|-124.768333333333| 152| -8|  A|\n",
            "|1CS|Clow Internationa...|      41.6959744|      -88.1292306| 670| -6|  U|\n",
            "|1G3|  Kent State Airport|      41.1513889|      -81.4151111|1134| -4|  A|\n",
            "|1OH|     Fortman Airport|      40.5553253|      -84.3866186| 885| -5|  U|\n",
            "+---+--------------------+----------------+-----------------+----+---+---+\n",
            "only showing top 20 rows\n",
            "\n"
          ]
        }
      ]
    },
    {
      "cell_type": "code",
      "source": [
        "df_airports.describe(['faa']).show()\n"
      ],
      "metadata": {
        "id": "vsguv5HSavXe",
        "colab": {
          "base_uri": "https://localhost:8080/"
        },
        "outputId": "62359448-ecff-4432-985e-5cd010b01547"
      },
      "execution_count": 17,
      "outputs": [
        {
          "output_type": "stream",
          "name": "stdout",
          "text": [
            "+-------+------------------+\n",
            "|summary|               faa|\n",
            "+-------+------------------+\n",
            "|  count|              1397|\n",
            "|   mean|             141.0|\n",
            "| stddev|197.46392075515973|\n",
            "|    min|               04G|\n",
            "|    max|               ZYP|\n",
            "+-------+------------------+\n",
            "\n"
          ]
        }
      ]
    },
    {
      "cell_type": "markdown",
      "source": [
        "1 - Crie a coluna qa_faa e aponte inconsistências da coluna faa de acordo com as regras abaixo.<br>\n",
        "M : Indica que está com dado faltante.<br>\n",
        "F : Indica que não respeita o formator de 3-5 caracteres alfanuméricos."
      ],
      "metadata": {
        "application/vnd.databricks.v1+cell": {
          "title": "",
          "showTitle": false,
          "inputWidgets": {},
          "nuid": "8d65add6-72e6-454e-b8a2-0b73fb34c665"
        },
        "id": "tTHER_JZLZW7"
      }
    },
    {
      "cell_type": "code",
      "source": [
        "df_airports_qa_faa = df_airports.withColumn('qa_faa', lit(col('faa') < 5).isNull().cast(StringType())).show()\n"
      ],
      "metadata": {
        "application/vnd.databricks.v1+cell": {
          "title": "",
          "showTitle": false,
          "inputWidgets": {},
          "nuid": "ff8dc977-728e-4362-86bb-30586f761c56"
        },
        "id": "QfXDwWMILZW_",
        "colab": {
          "base_uri": "https://localhost:8080/"
        },
        "outputId": "00f26467-0b81-45b4-e72e-f4efe1c70a9f"
      },
      "outputs": [
        {
          "output_type": "stream",
          "name": "stdout",
          "text": [
            "+---+--------------------+----------------+-----------------+----+---+---+------+\n",
            "|faa|                name|             lat|              lon| alt| tz|dst|qa_faa|\n",
            "+---+--------------------+----------------+-----------------+----+---+---+------+\n",
            "|04G|   Lansdowne Airport|      41.1304722|      -80.6195833|1044| -5|  A|  true|\n",
            "|06A|Moton Field Munic...|      32.4605722|      -85.6800278| 264| -5|  A|  true|\n",
            "|06C| Schaumburg Regional|      41.9893408|      -88.1012428| 801| -6|  A|  true|\n",
            "|06N|     Randall Airport|       41.431912|      -74.3915611| 523| -5|  A|  true|\n",
            "|09J|Jekyll Island Air...|      31.0744722|      -81.4277778|  11| -4|  A|  true|\n",
            "|0A9|Elizabethton Muni...|      36.3712222|      -82.1734167|1593| -4|  A|  true|\n",
            "|0G6|Williams County A...|      41.4673056|      -84.5067778| 730| -5|  A|  true|\n",
            "|0G7|Finger Lakes Regi...|      42.8835647|      -76.7812318| 492| -5|  A|  true|\n",
            "|0P2|Shoestring Aviati...|      39.7948244|      -76.6471914|1000| -5|  U|  true|\n",
            "|0S9|Jefferson County ...|      48.0538086|     -122.8106436| 108| -8|  A|  true|\n",
            "|0W3|Harford County Ai...|      39.5668378|      -76.2024028| 409| -5|  A|  true|\n",
            "|10C|  Galt Field Airport|      42.4028889|      -88.3751111| 875| -6|  U|  true|\n",
            "|17G|Port Bucyrus-Craw...|      40.7815556|      -82.9748056|1003| -5|  A|  true|\n",
            "|19A|Jackson County Ai...|      34.1758638|      -83.5615972| 951| -4|  U|  true|\n",
            "|1A3|Martin Campbell F...|      35.0158056|      -84.3468333|1789| -4|  A|  true|\n",
            "|1B9| Mansfield Municipal|      42.0001331|      -71.1967714| 122| -5|  A|  true|\n",
            "|1C9|Frazier Lake Airpark|54.0133333333333|-124.768333333333| 152| -8|  A|  true|\n",
            "|1CS|Clow Internationa...|      41.6959744|      -88.1292306| 670| -6|  U|  true|\n",
            "|1G3|  Kent State Airport|      41.1513889|      -81.4151111|1134| -4|  A|  true|\n",
            "|1OH|     Fortman Airport|      40.5553253|      -84.3866186| 885| -5|  U|  true|\n",
            "+---+--------------------+----------------+-----------------+----+---+---+------+\n",
            "only showing top 20 rows\n",
            "\n"
          ]
        }
      ],
      "execution_count": 18
    },
    {
      "cell_type": "markdown",
      "source": [
        "2 - Crie a coluna qa_name e aponte inconsistências da coluna name de acordo com as regras abaixo.<br>\n",
        "M : Indica que está com dado faltante."
      ],
      "metadata": {
        "application/vnd.databricks.v1+cell": {
          "title": "",
          "showTitle": false,
          "inputWidgets": {},
          "nuid": "e3aa2467-9a3f-44e4-b8e3-3dcd8c0e982b"
        },
        "id": "rsEfUnfsLZXA"
      }
    },
    {
      "cell_type": "code",
      "source": [
        "df_airports_qa_name = df_airports.withColumn('qa_name', lit(col('name') != '').isNull().cast(StringType())).show()\n"
      ],
      "metadata": {
        "id": "z8wyMpZxiI6M",
        "colab": {
          "base_uri": "https://localhost:8080/"
        },
        "outputId": "b70283bb-aa18-403a-deed-cee7bce566ee"
      },
      "execution_count": 19,
      "outputs": [
        {
          "output_type": "stream",
          "name": "stdout",
          "text": [
            "+---+--------------------+----------------+-----------------+----+---+---+-------+\n",
            "|faa|                name|             lat|              lon| alt| tz|dst|qa_name|\n",
            "+---+--------------------+----------------+-----------------+----+---+---+-------+\n",
            "|04G|   Lansdowne Airport|      41.1304722|      -80.6195833|1044| -5|  A|  false|\n",
            "|06A|Moton Field Munic...|      32.4605722|      -85.6800278| 264| -5|  A|  false|\n",
            "|06C| Schaumburg Regional|      41.9893408|      -88.1012428| 801| -6|  A|  false|\n",
            "|06N|     Randall Airport|       41.431912|      -74.3915611| 523| -5|  A|  false|\n",
            "|09J|Jekyll Island Air...|      31.0744722|      -81.4277778|  11| -4|  A|  false|\n",
            "|0A9|Elizabethton Muni...|      36.3712222|      -82.1734167|1593| -4|  A|  false|\n",
            "|0G6|Williams County A...|      41.4673056|      -84.5067778| 730| -5|  A|  false|\n",
            "|0G7|Finger Lakes Regi...|      42.8835647|      -76.7812318| 492| -5|  A|  false|\n",
            "|0P2|Shoestring Aviati...|      39.7948244|      -76.6471914|1000| -5|  U|  false|\n",
            "|0S9|Jefferson County ...|      48.0538086|     -122.8106436| 108| -8|  A|  false|\n",
            "|0W3|Harford County Ai...|      39.5668378|      -76.2024028| 409| -5|  A|  false|\n",
            "|10C|  Galt Field Airport|      42.4028889|      -88.3751111| 875| -6|  U|  false|\n",
            "|17G|Port Bucyrus-Craw...|      40.7815556|      -82.9748056|1003| -5|  A|  false|\n",
            "|19A|Jackson County Ai...|      34.1758638|      -83.5615972| 951| -4|  U|  false|\n",
            "|1A3|Martin Campbell F...|      35.0158056|      -84.3468333|1789| -4|  A|  false|\n",
            "|1B9| Mansfield Municipal|      42.0001331|      -71.1967714| 122| -5|  A|  false|\n",
            "|1C9|Frazier Lake Airpark|54.0133333333333|-124.768333333333| 152| -8|  A|  false|\n",
            "|1CS|Clow Internationa...|      41.6959744|      -88.1292306| 670| -6|  U|  false|\n",
            "|1G3|  Kent State Airport|      41.1513889|      -81.4151111|1134| -4|  A|  false|\n",
            "|1OH|     Fortman Airport|      40.5553253|      -84.3866186| 885| -5|  U|  false|\n",
            "+---+--------------------+----------------+-----------------+----+---+---+-------+\n",
            "only showing top 20 rows\n",
            "\n"
          ]
        }
      ]
    },
    {
      "cell_type": "markdown",
      "source": [
        "3 - Crie a coluna qa_lat e aponte inconsistências da coluna lat de acordo com as regras abaixo.<br>\n",
        "M : Indica que está com dado faltante.<br>\n",
        "I : Indica que o valor excede o intervalo .<br>\n",
        "A : Indica que o valor é alfanumérico."
      ],
      "metadata": {
        "application/vnd.databricks.v1+cell": {
          "title": "",
          "showTitle": false,
          "inputWidgets": {},
          "nuid": "b0655bbd-536c-491b-8ce1-66ca322efbb7"
        },
        "id": "fr-p_RORLZXB"
      }
    },
    {
      "cell_type": "code",
      "source": [
        "df_airports.filter(col(\"lat\")\n",
        "    .rlike(\"^[0-9]*$\").isNull()\n",
        "  ).show()\n",
        "  \n",
        "df_airports_qa_lat = df_airports.withColumn('qa_lat', lit(col('lat') <= 11).isNull().cast(StringType())).show()\n"
      ],
      "metadata": {
        "id": "jiqw7SZXltTj",
        "colab": {
          "base_uri": "https://localhost:8080/"
        },
        "outputId": "742a592f-8690-4d29-b368-5757f7f860e9"
      },
      "execution_count": 20,
      "outputs": [
        {
          "output_type": "stream",
          "name": "stdout",
          "text": [
            "+---+----+---+---+---+---+---+\n",
            "|faa|name|lat|lon|alt| tz|dst|\n",
            "+---+----+---+---+---+---+---+\n",
            "+---+----+---+---+---+---+---+\n",
            "\n",
            "+---+--------------------+----------------+-----------------+----+---+---+------+\n",
            "|faa|                name|             lat|              lon| alt| tz|dst|qa_lat|\n",
            "+---+--------------------+----------------+-----------------+----+---+---+------+\n",
            "|04G|   Lansdowne Airport|      41.1304722|      -80.6195833|1044| -5|  A| false|\n",
            "|06A|Moton Field Munic...|      32.4605722|      -85.6800278| 264| -5|  A| false|\n",
            "|06C| Schaumburg Regional|      41.9893408|      -88.1012428| 801| -6|  A| false|\n",
            "|06N|     Randall Airport|       41.431912|      -74.3915611| 523| -5|  A| false|\n",
            "|09J|Jekyll Island Air...|      31.0744722|      -81.4277778|  11| -4|  A| false|\n",
            "|0A9|Elizabethton Muni...|      36.3712222|      -82.1734167|1593| -4|  A| false|\n",
            "|0G6|Williams County A...|      41.4673056|      -84.5067778| 730| -5|  A| false|\n",
            "|0G7|Finger Lakes Regi...|      42.8835647|      -76.7812318| 492| -5|  A| false|\n",
            "|0P2|Shoestring Aviati...|      39.7948244|      -76.6471914|1000| -5|  U| false|\n",
            "|0S9|Jefferson County ...|      48.0538086|     -122.8106436| 108| -8|  A| false|\n",
            "|0W3|Harford County Ai...|      39.5668378|      -76.2024028| 409| -5|  A| false|\n",
            "|10C|  Galt Field Airport|      42.4028889|      -88.3751111| 875| -6|  U| false|\n",
            "|17G|Port Bucyrus-Craw...|      40.7815556|      -82.9748056|1003| -5|  A| false|\n",
            "|19A|Jackson County Ai...|      34.1758638|      -83.5615972| 951| -4|  U| false|\n",
            "|1A3|Martin Campbell F...|      35.0158056|      -84.3468333|1789| -4|  A| false|\n",
            "|1B9| Mansfield Municipal|      42.0001331|      -71.1967714| 122| -5|  A| false|\n",
            "|1C9|Frazier Lake Airpark|54.0133333333333|-124.768333333333| 152| -8|  A| false|\n",
            "|1CS|Clow Internationa...|      41.6959744|      -88.1292306| 670| -6|  U| false|\n",
            "|1G3|  Kent State Airport|      41.1513889|      -81.4151111|1134| -4|  A| false|\n",
            "|1OH|     Fortman Airport|      40.5553253|      -84.3866186| 885| -5|  U| false|\n",
            "+---+--------------------+----------------+-----------------+----+---+---+------+\n",
            "only showing top 20 rows\n",
            "\n"
          ]
        }
      ]
    },
    {
      "cell_type": "markdown",
      "source": [
        "4 - Crie a coluna qa_lon e aponte inconsistências da coluna lon de acordo com as regras abaixo.<br>\n",
        "M : Indica que está com dado faltante.<br>\n",
        "I : Indica que o valor excede o intervalo .<br>\n",
        "A : Indica que o valor é alfanumérico."
      ],
      "metadata": {
        "application/vnd.databricks.v1+cell": {
          "title": "",
          "showTitle": false,
          "inputWidgets": {},
          "nuid": "655a6c26-1f63-478f-b596-f79bfde6d07d"
        },
        "id": "IFESP0LALZXC"
      }
    },
    {
      "cell_type": "code",
      "source": [
        "df_airports.filter(col(\"lon\")\n",
        "    .rlike(\"^[0-9]*$\").isNull()\n",
        "  ).show()\n",
        "  \n",
        "df_airports_qa_lon = df_airports.withColumn('qa_lon', lit(col('lon') <= 16).isNull().cast(StringType())).show()\n"
      ],
      "metadata": {
        "id": "8ZKbOLVxmUCr",
        "colab": {
          "base_uri": "https://localhost:8080/"
        },
        "outputId": "bdf4291f-53b9-43bd-946a-4e369399618d"
      },
      "execution_count": 21,
      "outputs": [
        {
          "output_type": "stream",
          "name": "stdout",
          "text": [
            "+---+----+---+---+---+---+---+\n",
            "|faa|name|lat|lon|alt| tz|dst|\n",
            "+---+----+---+---+---+---+---+\n",
            "+---+----+---+---+---+---+---+\n",
            "\n",
            "+---+--------------------+----------------+-----------------+----+---+---+------+\n",
            "|faa|                name|             lat|              lon| alt| tz|dst|qa_lon|\n",
            "+---+--------------------+----------------+-----------------+----+---+---+------+\n",
            "|04G|   Lansdowne Airport|      41.1304722|      -80.6195833|1044| -5|  A| false|\n",
            "|06A|Moton Field Munic...|      32.4605722|      -85.6800278| 264| -5|  A| false|\n",
            "|06C| Schaumburg Regional|      41.9893408|      -88.1012428| 801| -6|  A| false|\n",
            "|06N|     Randall Airport|       41.431912|      -74.3915611| 523| -5|  A| false|\n",
            "|09J|Jekyll Island Air...|      31.0744722|      -81.4277778|  11| -4|  A| false|\n",
            "|0A9|Elizabethton Muni...|      36.3712222|      -82.1734167|1593| -4|  A| false|\n",
            "|0G6|Williams County A...|      41.4673056|      -84.5067778| 730| -5|  A| false|\n",
            "|0G7|Finger Lakes Regi...|      42.8835647|      -76.7812318| 492| -5|  A| false|\n",
            "|0P2|Shoestring Aviati...|      39.7948244|      -76.6471914|1000| -5|  U| false|\n",
            "|0S9|Jefferson County ...|      48.0538086|     -122.8106436| 108| -8|  A| false|\n",
            "|0W3|Harford County Ai...|      39.5668378|      -76.2024028| 409| -5|  A| false|\n",
            "|10C|  Galt Field Airport|      42.4028889|      -88.3751111| 875| -6|  U| false|\n",
            "|17G|Port Bucyrus-Craw...|      40.7815556|      -82.9748056|1003| -5|  A| false|\n",
            "|19A|Jackson County Ai...|      34.1758638|      -83.5615972| 951| -4|  U| false|\n",
            "|1A3|Martin Campbell F...|      35.0158056|      -84.3468333|1789| -4|  A| false|\n",
            "|1B9| Mansfield Municipal|      42.0001331|      -71.1967714| 122| -5|  A| false|\n",
            "|1C9|Frazier Lake Airpark|54.0133333333333|-124.768333333333| 152| -8|  A| false|\n",
            "|1CS|Clow Internationa...|      41.6959744|      -88.1292306| 670| -6|  U| false|\n",
            "|1G3|  Kent State Airport|      41.1513889|      -81.4151111|1134| -4|  A| false|\n",
            "|1OH|     Fortman Airport|      40.5553253|      -84.3866186| 885| -5|  U| false|\n",
            "+---+--------------------+----------------+-----------------+----+---+---+------+\n",
            "only showing top 20 rows\n",
            "\n"
          ]
        }
      ]
    },
    {
      "cell_type": "markdown",
      "source": [
        "5 - Crie a coluna qa_alt e aponte inconsistências da coluna alt de acordo com as regras abaixo.<br>\n",
        "M : Indica que está com dado faltante.<br>\n",
        "I : Indica que o valor excede o intervalo [0,+∞).<br>\n",
        "A : Indica que o valor é alfanumérico.<br>"
      ],
      "metadata": {
        "application/vnd.databricks.v1+cell": {
          "title": "",
          "showTitle": false,
          "inputWidgets": {},
          "nuid": "fddab5d8-c319-4cec-bf42-8492c65a1d90"
        },
        "id": "W058IVN3LZXD"
      }
    },
    {
      "cell_type": "code",
      "source": [
        "df_airports.filter(col(\"alt\")\n",
        "    .rlike(\"^[0-9]*$\").isNull()\n",
        "  ).show()\n",
        "  \n",
        "df_airports_qa_alt = df_airports.withColumn('qa_alt', lit(col('alt') <= 0).isNull().cast(StringType())).show()\n"
      ],
      "metadata": {
        "id": "VsMzDnZ3pONe",
        "colab": {
          "base_uri": "https://localhost:8080/"
        },
        "outputId": "a10b215c-92d8-4cb0-b6d4-8bdfc63d7d2d"
      },
      "execution_count": 22,
      "outputs": [
        {
          "output_type": "stream",
          "name": "stdout",
          "text": [
            "+---+----+---+---+---+---+---+\n",
            "|faa|name|lat|lon|alt| tz|dst|\n",
            "+---+----+---+---+---+---+---+\n",
            "+---+----+---+---+---+---+---+\n",
            "\n",
            "+---+--------------------+----------------+-----------------+----+---+---+------+\n",
            "|faa|                name|             lat|              lon| alt| tz|dst|qa_alt|\n",
            "+---+--------------------+----------------+-----------------+----+---+---+------+\n",
            "|04G|   Lansdowne Airport|      41.1304722|      -80.6195833|1044| -5|  A| false|\n",
            "|06A|Moton Field Munic...|      32.4605722|      -85.6800278| 264| -5|  A| false|\n",
            "|06C| Schaumburg Regional|      41.9893408|      -88.1012428| 801| -6|  A| false|\n",
            "|06N|     Randall Airport|       41.431912|      -74.3915611| 523| -5|  A| false|\n",
            "|09J|Jekyll Island Air...|      31.0744722|      -81.4277778|  11| -4|  A| false|\n",
            "|0A9|Elizabethton Muni...|      36.3712222|      -82.1734167|1593| -4|  A| false|\n",
            "|0G6|Williams County A...|      41.4673056|      -84.5067778| 730| -5|  A| false|\n",
            "|0G7|Finger Lakes Regi...|      42.8835647|      -76.7812318| 492| -5|  A| false|\n",
            "|0P2|Shoestring Aviati...|      39.7948244|      -76.6471914|1000| -5|  U| false|\n",
            "|0S9|Jefferson County ...|      48.0538086|     -122.8106436| 108| -8|  A| false|\n",
            "|0W3|Harford County Ai...|      39.5668378|      -76.2024028| 409| -5|  A| false|\n",
            "|10C|  Galt Field Airport|      42.4028889|      -88.3751111| 875| -6|  U| false|\n",
            "|17G|Port Bucyrus-Craw...|      40.7815556|      -82.9748056|1003| -5|  A| false|\n",
            "|19A|Jackson County Ai...|      34.1758638|      -83.5615972| 951| -4|  U| false|\n",
            "|1A3|Martin Campbell F...|      35.0158056|      -84.3468333|1789| -4|  A| false|\n",
            "|1B9| Mansfield Municipal|      42.0001331|      -71.1967714| 122| -5|  A| false|\n",
            "|1C9|Frazier Lake Airpark|54.0133333333333|-124.768333333333| 152| -8|  A| false|\n",
            "|1CS|Clow Internationa...|      41.6959744|      -88.1292306| 670| -6|  U| false|\n",
            "|1G3|  Kent State Airport|      41.1513889|      -81.4151111|1134| -4|  A| false|\n",
            "|1OH|     Fortman Airport|      40.5553253|      -84.3866186| 885| -5|  U| false|\n",
            "+---+--------------------+----------------+-----------------+----+---+---+------+\n",
            "only showing top 20 rows\n",
            "\n"
          ]
        }
      ]
    },
    {
      "cell_type": "markdown",
      "source": [
        "6 - Crie a coluna qa_tz e aponte inconsistências da coluna tz de acordo com as regras abaixo.<br>\n",
        "M : Indica que está com dado faltante.<br>\n",
        "I : Indica que o valor excede o intervalo .<br>\n",
        "A : Indica que o valor é alfanumérico."
      ],
      "metadata": {
        "application/vnd.databricks.v1+cell": {
          "title": "",
          "showTitle": false,
          "inputWidgets": {},
          "nuid": "19b9f23f-9ba4-43e2-88d3-63123c38163a"
        },
        "id": "YMII4B2bLZXE"
      }
    },
    {
      "cell_type": "code",
      "source": [
        "df_airports.filter(col(\"tz\")\n",
        "    .rlike(\"^[0-9]*$\").isNull()\n",
        "  ).show()\n",
        "  \n",
        "df_airports_qa_tz = df_airports.withColumn('qa_tz', lit(col('tz') <= 0).isNull().cast(StringType())).show()\n"
      ],
      "metadata": {
        "id": "vC7LDIXcpSL0",
        "colab": {
          "base_uri": "https://localhost:8080/"
        },
        "outputId": "eaa0e232-20c5-4910-a1f4-1e8b4d42f15f"
      },
      "execution_count": 23,
      "outputs": [
        {
          "output_type": "stream",
          "name": "stdout",
          "text": [
            "+---+----+---+---+---+---+---+\n",
            "|faa|name|lat|lon|alt| tz|dst|\n",
            "+---+----+---+---+---+---+---+\n",
            "+---+----+---+---+---+---+---+\n",
            "\n",
            "+---+--------------------+----------------+-----------------+----+---+---+-----+\n",
            "|faa|                name|             lat|              lon| alt| tz|dst|qa_tz|\n",
            "+---+--------------------+----------------+-----------------+----+---+---+-----+\n",
            "|04G|   Lansdowne Airport|      41.1304722|      -80.6195833|1044| -5|  A|false|\n",
            "|06A|Moton Field Munic...|      32.4605722|      -85.6800278| 264| -5|  A|false|\n",
            "|06C| Schaumburg Regional|      41.9893408|      -88.1012428| 801| -6|  A|false|\n",
            "|06N|     Randall Airport|       41.431912|      -74.3915611| 523| -5|  A|false|\n",
            "|09J|Jekyll Island Air...|      31.0744722|      -81.4277778|  11| -4|  A|false|\n",
            "|0A9|Elizabethton Muni...|      36.3712222|      -82.1734167|1593| -4|  A|false|\n",
            "|0G6|Williams County A...|      41.4673056|      -84.5067778| 730| -5|  A|false|\n",
            "|0G7|Finger Lakes Regi...|      42.8835647|      -76.7812318| 492| -5|  A|false|\n",
            "|0P2|Shoestring Aviati...|      39.7948244|      -76.6471914|1000| -5|  U|false|\n",
            "|0S9|Jefferson County ...|      48.0538086|     -122.8106436| 108| -8|  A|false|\n",
            "|0W3|Harford County Ai...|      39.5668378|      -76.2024028| 409| -5|  A|false|\n",
            "|10C|  Galt Field Airport|      42.4028889|      -88.3751111| 875| -6|  U|false|\n",
            "|17G|Port Bucyrus-Craw...|      40.7815556|      -82.9748056|1003| -5|  A|false|\n",
            "|19A|Jackson County Ai...|      34.1758638|      -83.5615972| 951| -4|  U|false|\n",
            "|1A3|Martin Campbell F...|      35.0158056|      -84.3468333|1789| -4|  A|false|\n",
            "|1B9| Mansfield Municipal|      42.0001331|      -71.1967714| 122| -5|  A|false|\n",
            "|1C9|Frazier Lake Airpark|54.0133333333333|-124.768333333333| 152| -8|  A|false|\n",
            "|1CS|Clow Internationa...|      41.6959744|      -88.1292306| 670| -6|  U|false|\n",
            "|1G3|  Kent State Airport|      41.1513889|      -81.4151111|1134| -4|  A|false|\n",
            "|1OH|     Fortman Airport|      40.5553253|      -84.3866186| 885| -5|  U|false|\n",
            "+---+--------------------+----------------+-----------------+----+---+---+-----+\n",
            "only showing top 20 rows\n",
            "\n"
          ]
        }
      ]
    },
    {
      "cell_type": "markdown",
      "source": [
        "7 - Crie a coluna qa_dst e aponte inconsistências da coluna dst de acordo com as regras abaixo.<br>\n",
        "M : Indica que está com dado faltante.<br>\n",
        "C : Indica que o valor não pertence a nenhuma das categorias esperadas: E, A, S, O, Z, N, U<br>\n",
        "N : Indica que o valor é numérico."
      ],
      "metadata": {
        "application/vnd.databricks.v1+cell": {
          "title": "",
          "showTitle": false,
          "inputWidgets": {},
          "nuid": "860bad8a-21f5-4e24-815c-5cc24b2e969d"
        },
        "id": "MfW-rQE5LZXF"
      }
    },
    {
      "cell_type": "code",
      "source": [
        "df_airports.filter(col(\"dst\")\n",
        "    .rlike(\"^[0-9]*$\").isNull()\n",
        "  ).show()\n",
        "\n",
        "df_airports_qa_dst = df_airports.withColumn('qa_dst',\n",
        "                                            expr(\"CASE WHEN dst = 'E' THEN 'não pertence'\"\n",
        "                                            + \"WHEN dst = 'A' THEN 'não pertence'\" + \"WHEN dst = 'S' THEN 'não pertence'\"\n",
        "                                            + \"WHEN dst = 'O' THEN 'não pertence'\" + \"WHEN dst = 'Z' THEN 'não pertence'\"\n",
        "                                            + \"WHEN dst = 'N' THEN 'não pertence'\" + \"WHEN dst = 'U' THEN 'não pertence'\"\n",
        "                                            \"ELSE dst END\")).show()\n"
      ],
      "metadata": {
        "id": "q9uWgIfXp23v",
        "colab": {
          "base_uri": "https://localhost:8080/"
        },
        "outputId": "f208a0be-1595-4358-a666-250edd756c03"
      },
      "execution_count": 24,
      "outputs": [
        {
          "output_type": "stream",
          "name": "stdout",
          "text": [
            "+---+----+---+---+---+---+---+\n",
            "|faa|name|lat|lon|alt| tz|dst|\n",
            "+---+----+---+---+---+---+---+\n",
            "+---+----+---+---+---+---+---+\n",
            "\n",
            "+---+--------------------+----------------+-----------------+----+---+---+------------+\n",
            "|faa|                name|             lat|              lon| alt| tz|dst|      qa_dst|\n",
            "+---+--------------------+----------------+-----------------+----+---+---+------------+\n",
            "|04G|   Lansdowne Airport|      41.1304722|      -80.6195833|1044| -5|  A|não pertence|\n",
            "|06A|Moton Field Munic...|      32.4605722|      -85.6800278| 264| -5|  A|não pertence|\n",
            "|06C| Schaumburg Regional|      41.9893408|      -88.1012428| 801| -6|  A|não pertence|\n",
            "|06N|     Randall Airport|       41.431912|      -74.3915611| 523| -5|  A|não pertence|\n",
            "|09J|Jekyll Island Air...|      31.0744722|      -81.4277778|  11| -4|  A|não pertence|\n",
            "|0A9|Elizabethton Muni...|      36.3712222|      -82.1734167|1593| -4|  A|não pertence|\n",
            "|0G6|Williams County A...|      41.4673056|      -84.5067778| 730| -5|  A|não pertence|\n",
            "|0G7|Finger Lakes Regi...|      42.8835647|      -76.7812318| 492| -5|  A|não pertence|\n",
            "|0P2|Shoestring Aviati...|      39.7948244|      -76.6471914|1000| -5|  U|não pertence|\n",
            "|0S9|Jefferson County ...|      48.0538086|     -122.8106436| 108| -8|  A|não pertence|\n",
            "|0W3|Harford County Ai...|      39.5668378|      -76.2024028| 409| -5|  A|não pertence|\n",
            "|10C|  Galt Field Airport|      42.4028889|      -88.3751111| 875| -6|  U|não pertence|\n",
            "|17G|Port Bucyrus-Craw...|      40.7815556|      -82.9748056|1003| -5|  A|não pertence|\n",
            "|19A|Jackson County Ai...|      34.1758638|      -83.5615972| 951| -4|  U|não pertence|\n",
            "|1A3|Martin Campbell F...|      35.0158056|      -84.3468333|1789| -4|  A|não pertence|\n",
            "|1B9| Mansfield Municipal|      42.0001331|      -71.1967714| 122| -5|  A|não pertence|\n",
            "|1C9|Frazier Lake Airpark|54.0133333333333|-124.768333333333| 152| -8|  A|não pertence|\n",
            "|1CS|Clow Internationa...|      41.6959744|      -88.1292306| 670| -6|  U|não pertence|\n",
            "|1G3|  Kent State Airport|      41.1513889|      -81.4151111|1134| -4|  A|não pertence|\n",
            "|1OH|     Fortman Airport|      40.5553253|      -84.3866186| 885| -5|  U|não pertence|\n",
            "+---+--------------------+----------------+-----------------+----+---+---+------------+\n",
            "only showing top 20 rows\n",
            "\n"
          ]
        }
      ]
    },
    {
      "cell_type": "markdown",
      "source": [
        "# Planes Dataset:"
      ],
      "metadata": {
        "application/vnd.databricks.v1+cell": {
          "title": "",
          "showTitle": false,
          "inputWidgets": {},
          "nuid": "e3c09a43-5e7d-4205-a87e-ee03b2762f34"
        },
        "id": "ZZ9fMRX_LZXG"
      }
    },
    {
      "cell_type": "code",
      "source": [
        "# Importação dos dados para o PySpark:\n",
        "# Download do http para arquivo local:\n",
        "\n",
        "!wget --quiet --show-progress https://drive.google.com/file/d/18Ru1UuLHv9d6nPBWj5-T_ikyJAHhaDI2/view?usp=sharing\n",
        "\n",
        "# Carregar dados do Planes:\n",
        "\n",
        "df_planes = spark.read.csv(\"./planes.csv\", inferSchema=True, header=True)\n",
        "\n",
        "# Ver algumas informações sobre os tipos de dados de cada coluna:\n",
        "\n",
        "df_planes.printSchema()\n"
      ],
      "metadata": {
        "application/vnd.databricks.v1+cell": {
          "title": "",
          "showTitle": false,
          "inputWidgets": {},
          "nuid": "d6260bad-2671-49b4-be2d-3030dea38c38"
        },
        "id": "WiTrkeyQLZXG",
        "colab": {
          "base_uri": "https://localhost:8080/"
        },
        "outputId": "0f262da7-5759-435f-cb84-651b5fb74efa"
      },
      "outputs": [
        {
          "output_type": "stream",
          "name": "stdout",
          "text": [
            "\rview?usp=sharing.17     [<=>                 ]       0  --.-KB/s               \rview?usp=sharing.17     [ <=>                ]  67.50K  --.-KB/s    in 0.03s   \n",
            "root\n",
            " |-- tailnum: string (nullable = true)\n",
            " |-- year: string (nullable = true)\n",
            " |-- type: string (nullable = true)\n",
            " |-- manufacturer: string (nullable = true)\n",
            " |-- model: string (nullable = true)\n",
            " |-- engines: integer (nullable = true)\n",
            " |-- seats: integer (nullable = true)\n",
            " |-- speed: string (nullable = true)\n",
            " |-- engine: string (nullable = true)\n",
            "\n"
          ]
        }
      ],
      "execution_count": 25
    },
    {
      "cell_type": "code",
      "source": [
        "df_planes.show()\n"
      ],
      "metadata": {
        "application/vnd.databricks.v1+cell": {
          "title": "",
          "showTitle": false,
          "inputWidgets": {},
          "nuid": "f7dbdadb-a113-4813-b1c4-7c453c5abe69"
        },
        "id": "OAoIh3ILLZXH",
        "colab": {
          "base_uri": "https://localhost:8080/"
        },
        "outputId": "3c83b5bb-025f-4eb9-dc0b-83db427aa254"
      },
      "outputs": [
        {
          "output_type": "stream",
          "name": "stdout",
          "text": [
            "+-------+----+--------------------+----------------+--------+-------+-----+-----+---------+\n",
            "|tailnum|year|                type|    manufacturer|   model|engines|seats|speed|   engine|\n",
            "+-------+----+--------------------+----------------+--------+-------+-----+-----+---------+\n",
            "| N102UW|1998|Fixed wing multi ...|AIRBUS INDUSTRIE|A320-214|      2|  182|   NA|Turbo-fan|\n",
            "| N103US|1999|Fixed wing multi ...|AIRBUS INDUSTRIE|A320-214|      2|  182|   NA|Turbo-fan|\n",
            "| N104UW|1999|Fixed wing multi ...|AIRBUS INDUSTRIE|A320-214|      2|  182|   NA|Turbo-fan|\n",
            "| N105UW|1999|Fixed wing multi ...|AIRBUS INDUSTRIE|A320-214|      2|  182|   NA|Turbo-fan|\n",
            "| N107US|1999|Fixed wing multi ...|AIRBUS INDUSTRIE|A320-214|      2|  182|   NA|Turbo-fan|\n",
            "| N108UW|1999|Fixed wing multi ...|AIRBUS INDUSTRIE|A320-214|      2|  182|   NA|Turbo-fan|\n",
            "| N109UW|1999|Fixed wing multi ...|AIRBUS INDUSTRIE|A320-214|      2|  182|   NA|Turbo-fan|\n",
            "| N110UW|1999|Fixed wing multi ...|AIRBUS INDUSTRIE|A320-214|      2|  182|   NA|Turbo-fan|\n",
            "| N111US|1999|Fixed wing multi ...|AIRBUS INDUSTRIE|A320-214|      2|  182|   NA|Turbo-fan|\n",
            "| N11206|2000|Fixed wing multi ...|          BOEING| 737-824|      2|  149|   NA|Turbo-fan|\n",
            "| N112US|1999|Fixed wing multi ...|AIRBUS INDUSTRIE|A320-214|      2|  182|   NA|Turbo-fan|\n",
            "| N113UW|1999|Fixed wing multi ...|AIRBUS INDUSTRIE|A320-214|      2|  182|   NA|Turbo-fan|\n",
            "| N114UW|1999|Fixed wing multi ...|AIRBUS INDUSTRIE|A320-214|      2|  182|   NA|Turbo-fan|\n",
            "| N117UW|2000|Fixed wing multi ...|AIRBUS INDUSTRIE|A320-214|      2|  182|   NA|Turbo-fan|\n",
            "| N118US|2000|Fixed wing multi ...|AIRBUS INDUSTRIE|A320-214|      2|  182|   NA|Turbo-fan|\n",
            "| N119US|2000|Fixed wing multi ...|AIRBUS INDUSTRIE|A320-214|      2|  182|   NA|Turbo-fan|\n",
            "| N1200K|1998|Fixed wing multi ...|          BOEING| 767-332|      2|  330|   NA|Turbo-fan|\n",
            "| N1201P|1998|Fixed wing multi ...|          BOEING| 767-332|      2|  330|   NA|Turbo-fan|\n",
            "| N12114|1995|Fixed wing multi ...|          BOEING| 757-224|      2|  178|   NA|Turbo-jet|\n",
            "| N121DE|1987|Fixed wing multi ...|          BOEING| 767-332|      2|  330|   NA|Turbo-fan|\n",
            "+-------+----+--------------------+----------------+--------+-------+-----+-----+---------+\n",
            "only showing top 20 rows\n",
            "\n"
          ]
        }
      ],
      "execution_count": 26
    },
    {
      "cell_type": "code",
      "source": [
        "df_planes.fillna('').show()\n"
      ],
      "metadata": {
        "id": "0BaYhH3qjHaA",
        "colab": {
          "base_uri": "https://localhost:8080/"
        },
        "outputId": "f2a66243-8acb-4b51-ed23-d0e5a1cc4575"
      },
      "execution_count": 27,
      "outputs": [
        {
          "output_type": "stream",
          "name": "stdout",
          "text": [
            "+-------+----+--------------------+----------------+--------+-------+-----+-----+---------+\n",
            "|tailnum|year|                type|    manufacturer|   model|engines|seats|speed|   engine|\n",
            "+-------+----+--------------------+----------------+--------+-------+-----+-----+---------+\n",
            "| N102UW|1998|Fixed wing multi ...|AIRBUS INDUSTRIE|A320-214|      2|  182|   NA|Turbo-fan|\n",
            "| N103US|1999|Fixed wing multi ...|AIRBUS INDUSTRIE|A320-214|      2|  182|   NA|Turbo-fan|\n",
            "| N104UW|1999|Fixed wing multi ...|AIRBUS INDUSTRIE|A320-214|      2|  182|   NA|Turbo-fan|\n",
            "| N105UW|1999|Fixed wing multi ...|AIRBUS INDUSTRIE|A320-214|      2|  182|   NA|Turbo-fan|\n",
            "| N107US|1999|Fixed wing multi ...|AIRBUS INDUSTRIE|A320-214|      2|  182|   NA|Turbo-fan|\n",
            "| N108UW|1999|Fixed wing multi ...|AIRBUS INDUSTRIE|A320-214|      2|  182|   NA|Turbo-fan|\n",
            "| N109UW|1999|Fixed wing multi ...|AIRBUS INDUSTRIE|A320-214|      2|  182|   NA|Turbo-fan|\n",
            "| N110UW|1999|Fixed wing multi ...|AIRBUS INDUSTRIE|A320-214|      2|  182|   NA|Turbo-fan|\n",
            "| N111US|1999|Fixed wing multi ...|AIRBUS INDUSTRIE|A320-214|      2|  182|   NA|Turbo-fan|\n",
            "| N11206|2000|Fixed wing multi ...|          BOEING| 737-824|      2|  149|   NA|Turbo-fan|\n",
            "| N112US|1999|Fixed wing multi ...|AIRBUS INDUSTRIE|A320-214|      2|  182|   NA|Turbo-fan|\n",
            "| N113UW|1999|Fixed wing multi ...|AIRBUS INDUSTRIE|A320-214|      2|  182|   NA|Turbo-fan|\n",
            "| N114UW|1999|Fixed wing multi ...|AIRBUS INDUSTRIE|A320-214|      2|  182|   NA|Turbo-fan|\n",
            "| N117UW|2000|Fixed wing multi ...|AIRBUS INDUSTRIE|A320-214|      2|  182|   NA|Turbo-fan|\n",
            "| N118US|2000|Fixed wing multi ...|AIRBUS INDUSTRIE|A320-214|      2|  182|   NA|Turbo-fan|\n",
            "| N119US|2000|Fixed wing multi ...|AIRBUS INDUSTRIE|A320-214|      2|  182|   NA|Turbo-fan|\n",
            "| N1200K|1998|Fixed wing multi ...|          BOEING| 767-332|      2|  330|   NA|Turbo-fan|\n",
            "| N1201P|1998|Fixed wing multi ...|          BOEING| 767-332|      2|  330|   NA|Turbo-fan|\n",
            "| N12114|1995|Fixed wing multi ...|          BOEING| 757-224|      2|  178|   NA|Turbo-jet|\n",
            "| N121DE|1987|Fixed wing multi ...|          BOEING| 767-332|      2|  330|   NA|Turbo-fan|\n",
            "+-------+----+--------------------+----------------+--------+-------+-----+-----+---------+\n",
            "only showing top 20 rows\n",
            "\n"
          ]
        }
      ]
    },
    {
      "cell_type": "markdown",
      "source": [
        "Perguntas<br>\n",
        "Considere o dataset planes.csv para realizar as seguintes tarefas:"
      ],
      "metadata": {
        "application/vnd.databricks.v1+cell": {
          "title": "",
          "showTitle": false,
          "inputWidgets": {},
          "nuid": "fb3b2a37-06e5-4976-a3f7-728e74d5c9bd"
        },
        "id": "zeA0zaZgLZXJ"
      }
    },
    {
      "cell_type": "markdown",
      "source": [
        "1 - Crie a coluna qa_tailnum e aponte inconsistências da coluna tailnum de acordo com as regras\n",
        "abaixo.<br>\n",
        "M : Indica que está com dado faltante.<br>\n",
        "S : Indica que não tem exatamente 5 caracteres.<br>\n",
        "F : Indica que não respeita o formato esperado (ex. N1234Z ou N123AZ).<br>\n",
        "FN : Indica que não inicia com a letra \"N\".<br>\n",
        "FE : Indica que contém caracteres inválidos (\"I\", \"O\", ou 0 como primeiro digito).<br>"
      ],
      "metadata": {
        "application/vnd.databricks.v1+cell": {
          "title": "",
          "showTitle": false,
          "inputWidgets": {},
          "nuid": "91ba35b6-0d95-44e5-800b-9a54e3e1a468"
        },
        "id": "tUbtr7-8LZXJ"
      }
    },
    {
      "cell_type": "code",
      "source": [
        "df_planes.filter(col(\"tailnum\")\n",
        "    .rlike(\"^[0-9]*$\").isNull()\n",
        "  ).show()\n",
        "\n",
        "df_planes.filter(col(\"tailnum\")\n",
        "                .rlike(\"N\")\n",
        "                ).show()\n",
        "\n",
        "df_planes.select(substring('tailnum', 0, 1).cast(StringType()).alias('qa_tailnum')).show()\n",
        "\n",
        "df_planes.select(expr(\"length(tailnum)\")).show()\n",
        "\n",
        "df_planes_qa_tailnum = df_planes.withColumn('qa_tailnum',\n",
        "                                                expr(\"CASE WHEN tailnum = 'I' THEN 'não pertence'\"\n",
        "                                                + \"WHEN tailnum = 'O' THEN 'não pertence'\" + \"WHEN tailnum = '0' THEN 'não pertence'\"\n",
        "                                                \"ELSE tailnum END\")).show()\n"
      ],
      "metadata": {
        "id": "0gm95ArsowI2",
        "colab": {
          "base_uri": "https://localhost:8080/"
        },
        "outputId": "83f7e4de-23b2-4ddb-b74d-91b322f02169"
      },
      "execution_count": 28,
      "outputs": [
        {
          "output_type": "stream",
          "name": "stdout",
          "text": [
            "+-------+----+----+------------+-----+-------+-----+-----+------+\n",
            "|tailnum|year|type|manufacturer|model|engines|seats|speed|engine|\n",
            "+-------+----+----+------------+-----+-------+-----+-----+------+\n",
            "+-------+----+----+------------+-----+-------+-----+-----+------+\n",
            "\n",
            "+-------+----+--------------------+----------------+--------+-------+-----+-----+---------+\n",
            "|tailnum|year|                type|    manufacturer|   model|engines|seats|speed|   engine|\n",
            "+-------+----+--------------------+----------------+--------+-------+-----+-----+---------+\n",
            "| N102UW|1998|Fixed wing multi ...|AIRBUS INDUSTRIE|A320-214|      2|  182|   NA|Turbo-fan|\n",
            "| N103US|1999|Fixed wing multi ...|AIRBUS INDUSTRIE|A320-214|      2|  182|   NA|Turbo-fan|\n",
            "| N104UW|1999|Fixed wing multi ...|AIRBUS INDUSTRIE|A320-214|      2|  182|   NA|Turbo-fan|\n",
            "| N105UW|1999|Fixed wing multi ...|AIRBUS INDUSTRIE|A320-214|      2|  182|   NA|Turbo-fan|\n",
            "| N107US|1999|Fixed wing multi ...|AIRBUS INDUSTRIE|A320-214|      2|  182|   NA|Turbo-fan|\n",
            "| N108UW|1999|Fixed wing multi ...|AIRBUS INDUSTRIE|A320-214|      2|  182|   NA|Turbo-fan|\n",
            "| N109UW|1999|Fixed wing multi ...|AIRBUS INDUSTRIE|A320-214|      2|  182|   NA|Turbo-fan|\n",
            "| N110UW|1999|Fixed wing multi ...|AIRBUS INDUSTRIE|A320-214|      2|  182|   NA|Turbo-fan|\n",
            "| N111US|1999|Fixed wing multi ...|AIRBUS INDUSTRIE|A320-214|      2|  182|   NA|Turbo-fan|\n",
            "| N11206|2000|Fixed wing multi ...|          BOEING| 737-824|      2|  149|   NA|Turbo-fan|\n",
            "| N112US|1999|Fixed wing multi ...|AIRBUS INDUSTRIE|A320-214|      2|  182|   NA|Turbo-fan|\n",
            "| N113UW|1999|Fixed wing multi ...|AIRBUS INDUSTRIE|A320-214|      2|  182|   NA|Turbo-fan|\n",
            "| N114UW|1999|Fixed wing multi ...|AIRBUS INDUSTRIE|A320-214|      2|  182|   NA|Turbo-fan|\n",
            "| N117UW|2000|Fixed wing multi ...|AIRBUS INDUSTRIE|A320-214|      2|  182|   NA|Turbo-fan|\n",
            "| N118US|2000|Fixed wing multi ...|AIRBUS INDUSTRIE|A320-214|      2|  182|   NA|Turbo-fan|\n",
            "| N119US|2000|Fixed wing multi ...|AIRBUS INDUSTRIE|A320-214|      2|  182|   NA|Turbo-fan|\n",
            "| N1200K|1998|Fixed wing multi ...|          BOEING| 767-332|      2|  330|   NA|Turbo-fan|\n",
            "| N1201P|1998|Fixed wing multi ...|          BOEING| 767-332|      2|  330|   NA|Turbo-fan|\n",
            "| N12114|1995|Fixed wing multi ...|          BOEING| 757-224|      2|  178|   NA|Turbo-jet|\n",
            "| N121DE|1987|Fixed wing multi ...|          BOEING| 767-332|      2|  330|   NA|Turbo-fan|\n",
            "+-------+----+--------------------+----------------+--------+-------+-----+-----+---------+\n",
            "only showing top 20 rows\n",
            "\n",
            "+----------+\n",
            "|qa_tailnum|\n",
            "+----------+\n",
            "|         N|\n",
            "|         N|\n",
            "|         N|\n",
            "|         N|\n",
            "|         N|\n",
            "|         N|\n",
            "|         N|\n",
            "|         N|\n",
            "|         N|\n",
            "|         N|\n",
            "|         N|\n",
            "|         N|\n",
            "|         N|\n",
            "|         N|\n",
            "|         N|\n",
            "|         N|\n",
            "|         N|\n",
            "|         N|\n",
            "|         N|\n",
            "|         N|\n",
            "+----------+\n",
            "only showing top 20 rows\n",
            "\n",
            "+---------------+\n",
            "|length(tailnum)|\n",
            "+---------------+\n",
            "|              6|\n",
            "|              6|\n",
            "|              6|\n",
            "|              6|\n",
            "|              6|\n",
            "|              6|\n",
            "|              6|\n",
            "|              6|\n",
            "|              6|\n",
            "|              6|\n",
            "|              6|\n",
            "|              6|\n",
            "|              6|\n",
            "|              6|\n",
            "|              6|\n",
            "|              6|\n",
            "|              6|\n",
            "|              6|\n",
            "|              6|\n",
            "|              6|\n",
            "+---------------+\n",
            "only showing top 20 rows\n",
            "\n",
            "+-------+----+--------------------+----------------+--------+-------+-----+-----+---------+----------+\n",
            "|tailnum|year|                type|    manufacturer|   model|engines|seats|speed|   engine|qa_tailnum|\n",
            "+-------+----+--------------------+----------------+--------+-------+-----+-----+---------+----------+\n",
            "| N102UW|1998|Fixed wing multi ...|AIRBUS INDUSTRIE|A320-214|      2|  182|   NA|Turbo-fan|    N102UW|\n",
            "| N103US|1999|Fixed wing multi ...|AIRBUS INDUSTRIE|A320-214|      2|  182|   NA|Turbo-fan|    N103US|\n",
            "| N104UW|1999|Fixed wing multi ...|AIRBUS INDUSTRIE|A320-214|      2|  182|   NA|Turbo-fan|    N104UW|\n",
            "| N105UW|1999|Fixed wing multi ...|AIRBUS INDUSTRIE|A320-214|      2|  182|   NA|Turbo-fan|    N105UW|\n",
            "| N107US|1999|Fixed wing multi ...|AIRBUS INDUSTRIE|A320-214|      2|  182|   NA|Turbo-fan|    N107US|\n",
            "| N108UW|1999|Fixed wing multi ...|AIRBUS INDUSTRIE|A320-214|      2|  182|   NA|Turbo-fan|    N108UW|\n",
            "| N109UW|1999|Fixed wing multi ...|AIRBUS INDUSTRIE|A320-214|      2|  182|   NA|Turbo-fan|    N109UW|\n",
            "| N110UW|1999|Fixed wing multi ...|AIRBUS INDUSTRIE|A320-214|      2|  182|   NA|Turbo-fan|    N110UW|\n",
            "| N111US|1999|Fixed wing multi ...|AIRBUS INDUSTRIE|A320-214|      2|  182|   NA|Turbo-fan|    N111US|\n",
            "| N11206|2000|Fixed wing multi ...|          BOEING| 737-824|      2|  149|   NA|Turbo-fan|    N11206|\n",
            "| N112US|1999|Fixed wing multi ...|AIRBUS INDUSTRIE|A320-214|      2|  182|   NA|Turbo-fan|    N112US|\n",
            "| N113UW|1999|Fixed wing multi ...|AIRBUS INDUSTRIE|A320-214|      2|  182|   NA|Turbo-fan|    N113UW|\n",
            "| N114UW|1999|Fixed wing multi ...|AIRBUS INDUSTRIE|A320-214|      2|  182|   NA|Turbo-fan|    N114UW|\n",
            "| N117UW|2000|Fixed wing multi ...|AIRBUS INDUSTRIE|A320-214|      2|  182|   NA|Turbo-fan|    N117UW|\n",
            "| N118US|2000|Fixed wing multi ...|AIRBUS INDUSTRIE|A320-214|      2|  182|   NA|Turbo-fan|    N118US|\n",
            "| N119US|2000|Fixed wing multi ...|AIRBUS INDUSTRIE|A320-214|      2|  182|   NA|Turbo-fan|    N119US|\n",
            "| N1200K|1998|Fixed wing multi ...|          BOEING| 767-332|      2|  330|   NA|Turbo-fan|    N1200K|\n",
            "| N1201P|1998|Fixed wing multi ...|          BOEING| 767-332|      2|  330|   NA|Turbo-fan|    N1201P|\n",
            "| N12114|1995|Fixed wing multi ...|          BOEING| 757-224|      2|  178|   NA|Turbo-jet|    N12114|\n",
            "| N121DE|1987|Fixed wing multi ...|          BOEING| 767-332|      2|  330|   NA|Turbo-fan|    N121DE|\n",
            "+-------+----+--------------------+----------------+--------+-------+-----+-----+---------+----------+\n",
            "only showing top 20 rows\n",
            "\n"
          ]
        }
      ]
    },
    {
      "cell_type": "code",
      "source": [
        "expression = \"\"\"(\"CASE WHEN tailnum = 'I' THEN 'não pertence'\"\n",
        "                + \"WHEN tailnum = 'O' THEN 'não pertence'\"\n",
        "                + \"WHEN tailnum = '0' THEN 'não pertence'\"\n",
        "                \"ELSE tailnum END\")\"\"\"\n",
        "\n",
        "df_planes_qa_tailnum_test = df_planes.withColumn('qa_tailnum', expression)"
      ],
      "metadata": {
        "colab": {
          "base_uri": "https://localhost:8080/",
          "height": 336
        },
        "id": "_53Tcf-OyQev",
        "outputId": "80c7952f-8471-41ec-e511-323d471ad34d"
      },
      "execution_count": 46,
      "outputs": [
        {
          "output_type": "error",
          "ename": "TypeError",
          "evalue": "ignored",
          "traceback": [
            "\u001b[0;31m---------------------------------------------------------------------------\u001b[0m",
            "\u001b[0;31mTypeError\u001b[0m                                 Traceback (most recent call last)",
            "\u001b[0;32m<ipython-input-46-9d634a88c5b0>\u001b[0m in \u001b[0;36m<module>\u001b[0;34m()\u001b[0m\n\u001b[1;32m      4\u001b[0m                 \"ELSE tailnum END\")\"\"\"\n\u001b[1;32m      5\u001b[0m \u001b[0;34m\u001b[0m\u001b[0m\n\u001b[0;32m----> 6\u001b[0;31m \u001b[0mdf_planes_qa_tailnum_test\u001b[0m \u001b[0;34m=\u001b[0m \u001b[0mdf_planes\u001b[0m\u001b[0;34m.\u001b[0m\u001b[0mwithColumn\u001b[0m\u001b[0;34m(\u001b[0m\u001b[0;34m'qa_tailnum'\u001b[0m\u001b[0;34m,\u001b[0m \u001b[0mexpression\u001b[0m\u001b[0;34m)\u001b[0m\u001b[0;34m\u001b[0m\u001b[0;34m\u001b[0m\u001b[0m\n\u001b[0m",
            "\u001b[0;32m/content/spark-3.3.0-bin-hadoop3/python/pyspark/sql/dataframe.py\u001b[0m in \u001b[0;36mwithColumn\u001b[0;34m(self, colName, col)\u001b[0m\n\u001b[1;32m   3033\u001b[0m         \"\"\"\n\u001b[1;32m   3034\u001b[0m         \u001b[0;32mif\u001b[0m \u001b[0;32mnot\u001b[0m \u001b[0misinstance\u001b[0m\u001b[0;34m(\u001b[0m\u001b[0mcol\u001b[0m\u001b[0;34m,\u001b[0m \u001b[0mColumn\u001b[0m\u001b[0;34m)\u001b[0m\u001b[0;34m:\u001b[0m\u001b[0;34m\u001b[0m\u001b[0;34m\u001b[0m\u001b[0m\n\u001b[0;32m-> 3035\u001b[0;31m             \u001b[0;32mraise\u001b[0m \u001b[0mTypeError\u001b[0m\u001b[0;34m(\u001b[0m\u001b[0;34m\"col should be Column\"\u001b[0m\u001b[0;34m)\u001b[0m\u001b[0;34m\u001b[0m\u001b[0;34m\u001b[0m\u001b[0m\n\u001b[0m\u001b[1;32m   3036\u001b[0m         \u001b[0;32mreturn\u001b[0m \u001b[0mDataFrame\u001b[0m\u001b[0;34m(\u001b[0m\u001b[0mself\u001b[0m\u001b[0;34m.\u001b[0m\u001b[0m_jdf\u001b[0m\u001b[0;34m.\u001b[0m\u001b[0mwithColumn\u001b[0m\u001b[0;34m(\u001b[0m\u001b[0mcolName\u001b[0m\u001b[0;34m,\u001b[0m \u001b[0mcol\u001b[0m\u001b[0;34m.\u001b[0m\u001b[0m_jc\u001b[0m\u001b[0;34m)\u001b[0m\u001b[0;34m,\u001b[0m \u001b[0mself\u001b[0m\u001b[0;34m.\u001b[0m\u001b[0msparkSession\u001b[0m\u001b[0;34m)\u001b[0m\u001b[0;34m\u001b[0m\u001b[0;34m\u001b[0m\u001b[0m\n\u001b[1;32m   3037\u001b[0m \u001b[0;34m\u001b[0m\u001b[0m\n",
            "\u001b[0;31mTypeError\u001b[0m: col should be Column"
          ]
        }
      ]
    },
    {
      "cell_type": "markdown",
      "source": [
        "2 - Crie a coluna qa_year e aponte inconsistências da coluna year de acordo com as regras abaixo.<br>\n",
        "M : Indica que está com dado faltante.<br>\n",
        "I : Indica que o valor excede o intervalo [1950,+∞)."
      ],
      "metadata": {
        "application/vnd.databricks.v1+cell": {
          "title": "",
          "showTitle": false,
          "inputWidgets": {},
          "nuid": "52984aac-98a1-45f1-8e4e-be30ac095ba5"
        },
        "id": "6RhtUz69LZXL"
      }
    },
    {
      "cell_type": "code",
      "source": [
        "df_planes.filter(col(\"year\")\n",
        "                .rlike(\"^[0-9]*$\").isNull()\n",
        "                ).show()\n",
        "\n",
        "window = Window.partitionBy(\"qa_year\").orderBy(\"year\").rangeBetween(Window.currentRow, 1950)\n",
        "\n",
        "\n",
        "# df_planes_qa_year = df_planes.withColumn('qa_year',).show()\n"
      ],
      "metadata": {
        "id": "CBQEDxTqYLtQ",
        "colab": {
          "base_uri": "https://localhost:8080/"
        },
        "outputId": "30918414-4b76-4d17-f40f-e02a1954329a"
      },
      "execution_count": 29,
      "outputs": [
        {
          "output_type": "stream",
          "name": "stdout",
          "text": [
            "+-------+----+----+------------+-----+-------+-----+-----+------+\n",
            "|tailnum|year|type|manufacturer|model|engines|seats|speed|engine|\n",
            "+-------+----+----+------------+-----+-------+-----+-----+------+\n",
            "+-------+----+----+------------+-----+-------+-----+-----+------+\n",
            "\n"
          ]
        }
      ]
    },
    {
      "cell_type": "markdown",
      "source": [
        "3 - Crie a coluna qa_type e aponte inconsistências da coluna type de acordo com as regras abaixo.<br>\n",
        "M : Indica que está com dado faltante.<br>\n",
        "C : Indica que o valor não pertence a nenhuma categoria esperada:<br>\n",
        "Fixed wing multi engine<br>\n",
        "Fixed wing single engine<br>\n",
        "Rotorcraft"
      ],
      "metadata": {
        "application/vnd.databricks.v1+cell": {
          "title": "",
          "showTitle": false,
          "inputWidgets": {},
          "nuid": "836ff85c-a51c-4dd2-aab4-e6c761b6f54d"
        },
        "id": "U9T_2QyeLZXL"
      }
    },
    {
      "cell_type": "code",
      "source": [
        "df_planes.filter(col(\"type\")\n",
        "                .isNull()\n",
        "                ).show()\n",
        "  \n",
        "df_planes_qa_type = df_planes.withColumn('qa_type',\n",
        "                                         expr(\"CASE WHEN type = 'Fixed wing multi engine' THEN 'não pertence'\"\n",
        "                                         + \"WHEN type = 'Fixed wing single engine' THEN 'não pertence'\"\n",
        "                                         + \"WHEN type = 'Rotorcraft' THEN 'não pertence'\"\n",
        "                                         \"ELSE type END\")).show()"
      ],
      "metadata": {
        "id": "vK5gpTbbYiDO",
        "colab": {
          "base_uri": "https://localhost:8080/"
        },
        "outputId": "a204cebb-bcea-48d1-c28b-e2401a80f6d3"
      },
      "execution_count": 30,
      "outputs": [
        {
          "output_type": "stream",
          "name": "stdout",
          "text": [
            "+-------+----+----+------------+-----+-------+-----+-----+------+\n",
            "|tailnum|year|type|manufacturer|model|engines|seats|speed|engine|\n",
            "+-------+----+----+------------+-----+-------+-----+-----+------+\n",
            "+-------+----+----+------------+-----+-------+-----+-----+------+\n",
            "\n",
            "+-------+----+--------------------+----------------+--------+-------+-----+-----+---------+------------+\n",
            "|tailnum|year|                type|    manufacturer|   model|engines|seats|speed|   engine|     qa_type|\n",
            "+-------+----+--------------------+----------------+--------+-------+-----+-----+---------+------------+\n",
            "| N102UW|1998|Fixed wing multi ...|AIRBUS INDUSTRIE|A320-214|      2|  182|   NA|Turbo-fan|não pertence|\n",
            "| N103US|1999|Fixed wing multi ...|AIRBUS INDUSTRIE|A320-214|      2|  182|   NA|Turbo-fan|não pertence|\n",
            "| N104UW|1999|Fixed wing multi ...|AIRBUS INDUSTRIE|A320-214|      2|  182|   NA|Turbo-fan|não pertence|\n",
            "| N105UW|1999|Fixed wing multi ...|AIRBUS INDUSTRIE|A320-214|      2|  182|   NA|Turbo-fan|não pertence|\n",
            "| N107US|1999|Fixed wing multi ...|AIRBUS INDUSTRIE|A320-214|      2|  182|   NA|Turbo-fan|não pertence|\n",
            "| N108UW|1999|Fixed wing multi ...|AIRBUS INDUSTRIE|A320-214|      2|  182|   NA|Turbo-fan|não pertence|\n",
            "| N109UW|1999|Fixed wing multi ...|AIRBUS INDUSTRIE|A320-214|      2|  182|   NA|Turbo-fan|não pertence|\n",
            "| N110UW|1999|Fixed wing multi ...|AIRBUS INDUSTRIE|A320-214|      2|  182|   NA|Turbo-fan|não pertence|\n",
            "| N111US|1999|Fixed wing multi ...|AIRBUS INDUSTRIE|A320-214|      2|  182|   NA|Turbo-fan|não pertence|\n",
            "| N11206|2000|Fixed wing multi ...|          BOEING| 737-824|      2|  149|   NA|Turbo-fan|não pertence|\n",
            "| N112US|1999|Fixed wing multi ...|AIRBUS INDUSTRIE|A320-214|      2|  182|   NA|Turbo-fan|não pertence|\n",
            "| N113UW|1999|Fixed wing multi ...|AIRBUS INDUSTRIE|A320-214|      2|  182|   NA|Turbo-fan|não pertence|\n",
            "| N114UW|1999|Fixed wing multi ...|AIRBUS INDUSTRIE|A320-214|      2|  182|   NA|Turbo-fan|não pertence|\n",
            "| N117UW|2000|Fixed wing multi ...|AIRBUS INDUSTRIE|A320-214|      2|  182|   NA|Turbo-fan|não pertence|\n",
            "| N118US|2000|Fixed wing multi ...|AIRBUS INDUSTRIE|A320-214|      2|  182|   NA|Turbo-fan|não pertence|\n",
            "| N119US|2000|Fixed wing multi ...|AIRBUS INDUSTRIE|A320-214|      2|  182|   NA|Turbo-fan|não pertence|\n",
            "| N1200K|1998|Fixed wing multi ...|          BOEING| 767-332|      2|  330|   NA|Turbo-fan|não pertence|\n",
            "| N1201P|1998|Fixed wing multi ...|          BOEING| 767-332|      2|  330|   NA|Turbo-fan|não pertence|\n",
            "| N12114|1995|Fixed wing multi ...|          BOEING| 757-224|      2|  178|   NA|Turbo-jet|não pertence|\n",
            "| N121DE|1987|Fixed wing multi ...|          BOEING| 767-332|      2|  330|   NA|Turbo-fan|não pertence|\n",
            "+-------+----+--------------------+----------------+--------+-------+-----+-----+---------+------------+\n",
            "only showing top 20 rows\n",
            "\n"
          ]
        }
      ]
    },
    {
      "cell_type": "markdown",
      "source": [
        "4 - Crie a coluna qa_manufacturer e aponte inconsistências da coluna manufacturer de acordo com\n",
        "as regras abaixo.<br>\n",
        "M : Indica que está com dado faltante.<br>\n",
        "C : Indica que o valor não pertence a nenhuma categoria esperada:<br>\n",
        "AIRBUS<br>\n",
        "BOEING<br>\n",
        "BOMBARDIER<br>\n",
        "CESSNA<br>\n",
        "EMBRAER<br>\n",
        "SIKORSKY<br>\n",
        "CANADAIR<br>\n",
        "PIPER<br>\n",
        "MCDONNELL DOUGLAS<br>\n",
        "CIRRUS<br>\n",
        "BELL<br>\n",
        "KILDALL GARY<br>\n",
        "LAMBERT RICHARD<br>\n",
        "BARKER JACK<br>\n",
        "ROBINSON HELICOPTER<br>\n",
        "GULFSTREAM<br>\n",
        "MARZ BARRY<br>"
      ],
      "metadata": {
        "application/vnd.databricks.v1+cell": {
          "title": "",
          "showTitle": false,
          "inputWidgets": {},
          "nuid": "20657935-1db9-44e5-a409-41d3019ae299"
        },
        "id": "9j04WGHILZXM"
      }
    },
    {
      "cell_type": "code",
      "source": [
        "df_planes.filter(col(\"manufacturer\")\n",
        "                .isNull()\n",
        "                ).show()\n",
        "\n",
        "df_planes_qa_manufacturer = df_planes.withColumn('qa_manufacturer',\n",
        "                                                 expr(\"CASE WHEN manufacturer = 'AIRBUS' THEN 'pertence'\"\n",
        "                                                 + \"WHEN manufacturer = 'BOEING' THEN 'pertence'\"\n",
        "                                                 + \"WHEN manufacturer = 'BOMBARDIER' THEN 'pertence'\"\n",
        "                                                 + \"WHEN manufacturer = 'CESSNA' THEN 'pertence'\"\n",
        "                                                 + \"WHEN manufacturer = 'EMBRAER' THEN 'pertence'\"\n",
        "                                                 + \"WHEN manufacturer = 'SIKORSKY' THEN 'pertence'\"\n",
        "                                                 + \"WHEN manufacturer = 'CANADAIR' THEN 'pertence'\"\n",
        "                                                 + \"WHEN manufacturer = 'PIPER' THEN 'pertence'\"\n",
        "                                                 + \"WHEN manufacturer = 'MCDONNELL DOUGLAS' THEN 'pertence'\"\n",
        "                                                 + \"WHEN manufacturer = 'CIRRUS' THEN 'pertence'\"\n",
        "                                                 + \"WHEN manufacturer = 'BELL' THEN 'pertence'\"\n",
        "                                                 + \"WHEN manufacturer = 'KILDALL GARY' THEN 'pertence'\"\n",
        "                                                 + \"WHEN manufacturer = 'LAMBERT RICHARD' THEN 'pertence'\"\n",
        "                                                 + \"WHEN manufacturer = 'BARKER JACK' THEN 'pertence'\"\n",
        "                                                 + \"WHEN manufacturer = 'ROBINSON HELICOPTER' THEN 'pertence'\"\n",
        "                                                 + \"WHEN manufacturer = 'GULFSTREAM' THEN 'pertence'\"\n",
        "                                                 + \"WHEN manufacturer = 'MARZ BARRY' THEN 'pertence'\"\n",
        "                                                 \"ELSE manufacturer END\")).show()\n"
      ],
      "metadata": {
        "id": "XH-95PuZl7XQ",
        "colab": {
          "base_uri": "https://localhost:8080/"
        },
        "outputId": "0b849973-4d76-471b-e93a-a5614188eafb"
      },
      "execution_count": 31,
      "outputs": [
        {
          "output_type": "stream",
          "name": "stdout",
          "text": [
            "+-------+----+----+------------+-----+-------+-----+-----+------+\n",
            "|tailnum|year|type|manufacturer|model|engines|seats|speed|engine|\n",
            "+-------+----+----+------------+-----+-------+-----+-----+------+\n",
            "+-------+----+----+------------+-----+-------+-----+-----+------+\n",
            "\n",
            "+-------+----+--------------------+----------------+--------+-------+-----+-----+---------+----------------+\n",
            "|tailnum|year|                type|    manufacturer|   model|engines|seats|speed|   engine| qa_manufacturer|\n",
            "+-------+----+--------------------+----------------+--------+-------+-----+-----+---------+----------------+\n",
            "| N102UW|1998|Fixed wing multi ...|AIRBUS INDUSTRIE|A320-214|      2|  182|   NA|Turbo-fan|AIRBUS INDUSTRIE|\n",
            "| N103US|1999|Fixed wing multi ...|AIRBUS INDUSTRIE|A320-214|      2|  182|   NA|Turbo-fan|AIRBUS INDUSTRIE|\n",
            "| N104UW|1999|Fixed wing multi ...|AIRBUS INDUSTRIE|A320-214|      2|  182|   NA|Turbo-fan|AIRBUS INDUSTRIE|\n",
            "| N105UW|1999|Fixed wing multi ...|AIRBUS INDUSTRIE|A320-214|      2|  182|   NA|Turbo-fan|AIRBUS INDUSTRIE|\n",
            "| N107US|1999|Fixed wing multi ...|AIRBUS INDUSTRIE|A320-214|      2|  182|   NA|Turbo-fan|AIRBUS INDUSTRIE|\n",
            "| N108UW|1999|Fixed wing multi ...|AIRBUS INDUSTRIE|A320-214|      2|  182|   NA|Turbo-fan|AIRBUS INDUSTRIE|\n",
            "| N109UW|1999|Fixed wing multi ...|AIRBUS INDUSTRIE|A320-214|      2|  182|   NA|Turbo-fan|AIRBUS INDUSTRIE|\n",
            "| N110UW|1999|Fixed wing multi ...|AIRBUS INDUSTRIE|A320-214|      2|  182|   NA|Turbo-fan|AIRBUS INDUSTRIE|\n",
            "| N111US|1999|Fixed wing multi ...|AIRBUS INDUSTRIE|A320-214|      2|  182|   NA|Turbo-fan|AIRBUS INDUSTRIE|\n",
            "| N11206|2000|Fixed wing multi ...|          BOEING| 737-824|      2|  149|   NA|Turbo-fan|        pertence|\n",
            "| N112US|1999|Fixed wing multi ...|AIRBUS INDUSTRIE|A320-214|      2|  182|   NA|Turbo-fan|AIRBUS INDUSTRIE|\n",
            "| N113UW|1999|Fixed wing multi ...|AIRBUS INDUSTRIE|A320-214|      2|  182|   NA|Turbo-fan|AIRBUS INDUSTRIE|\n",
            "| N114UW|1999|Fixed wing multi ...|AIRBUS INDUSTRIE|A320-214|      2|  182|   NA|Turbo-fan|AIRBUS INDUSTRIE|\n",
            "| N117UW|2000|Fixed wing multi ...|AIRBUS INDUSTRIE|A320-214|      2|  182|   NA|Turbo-fan|AIRBUS INDUSTRIE|\n",
            "| N118US|2000|Fixed wing multi ...|AIRBUS INDUSTRIE|A320-214|      2|  182|   NA|Turbo-fan|AIRBUS INDUSTRIE|\n",
            "| N119US|2000|Fixed wing multi ...|AIRBUS INDUSTRIE|A320-214|      2|  182|   NA|Turbo-fan|AIRBUS INDUSTRIE|\n",
            "| N1200K|1998|Fixed wing multi ...|          BOEING| 767-332|      2|  330|   NA|Turbo-fan|        pertence|\n",
            "| N1201P|1998|Fixed wing multi ...|          BOEING| 767-332|      2|  330|   NA|Turbo-fan|        pertence|\n",
            "| N12114|1995|Fixed wing multi ...|          BOEING| 757-224|      2|  178|   NA|Turbo-jet|        pertence|\n",
            "| N121DE|1987|Fixed wing multi ...|          BOEING| 767-332|      2|  330|   NA|Turbo-fan|        pertence|\n",
            "+-------+----+--------------------+----------------+--------+-------+-----+-----+---------+----------------+\n",
            "only showing top 20 rows\n",
            "\n"
          ]
        }
      ]
    },
    {
      "cell_type": "markdown",
      "source": [
        "5 - Crie a coluna qa_model e aponte inconsistências da coluna model de acordo com as regras abaixo.<br>\n",
        "M : Indica que está com dado faltante.<br>\n",
        "F : Indica que não respeita o formato esperado<br>\n",
        "Modelos AIRBUS devem começar com \"A\"<br>\n",
        "Modelos BOEING devem começar com \"7\"<br>\n",
        "Modelos BOMBARDIER e CANADAIR devem começar com \"CL\"<br>\n",
        "Modelos MCDONNELL DOUGLAS devem começar com \"MD\" ou \"DC\""
      ],
      "metadata": {
        "application/vnd.databricks.v1+cell": {
          "title": "",
          "showTitle": false,
          "inputWidgets": {},
          "nuid": "2eda36ae-a6f2-4c31-8381-54e0004c57c1"
        },
        "id": "3qGdy7uGLZXN"
      }
    },
    {
      "cell_type": "code",
      "source": [
        "df_planes.filter(col(\"model\")\n",
        "                .rlike(\"^[0-9]*$\").isNull()\n",
        "                ).show()\n",
        "\n",
        "df_planes.filter(col(\"model\")\n",
        "                .rlike(\"A\") == ' AIRBUS'\n",
        "                ).show()\n",
        "\n",
        "df_planes.filter(col(\"model\")\n",
        "                .rlike(\"7\") == 'BOEING'\n",
        "                ).show()\n",
        "\n",
        "df_planes.filter(col(\"model\")\n",
        "                .rlike(\"CL\") == 'BOMBARDIER'\n",
        "                ).show()\n",
        "\n",
        "df_planes.filter(col(\"model\")\n",
        "                .rlike(\"CL\") == 'CANADAIR'\n",
        "                ).show()\n",
        " \n",
        "df_planes.filter(col(\"model\")\n",
        "                .rlike(\"MD\") == 'MCDONNELL DOUGLAS'\n",
        "                ).show()\n",
        "\n",
        "df_planes.filter(col(\"model\")\n",
        "                .rlike(\"DC\") == 'MCDONNELL DOUGLAS'\n",
        "                ).show()\n",
        " "
      ],
      "metadata": {
        "id": "zkCZpr7Xkrcz",
        "colab": {
          "base_uri": "https://localhost:8080/"
        },
        "outputId": "3ff13bb1-cd7f-48d1-a047-df416317f36d"
      },
      "execution_count": 32,
      "outputs": [
        {
          "output_type": "stream",
          "name": "stdout",
          "text": [
            "+-------+----+----+------------+-----+-------+-----+-----+------+\n",
            "|tailnum|year|type|manufacturer|model|engines|seats|speed|engine|\n",
            "+-------+----+----+------------+-----+-------+-----+-----+------+\n",
            "+-------+----+----+------------+-----+-------+-----+-----+------+\n",
            "\n",
            "+-------+----+----+------------+-----+-------+-----+-----+------+\n",
            "|tailnum|year|type|manufacturer|model|engines|seats|speed|engine|\n",
            "+-------+----+----+------------+-----+-------+-----+-----+------+\n",
            "+-------+----+----+------------+-----+-------+-----+-----+------+\n",
            "\n",
            "+-------+----+----+------------+-----+-------+-----+-----+------+\n",
            "|tailnum|year|type|manufacturer|model|engines|seats|speed|engine|\n",
            "+-------+----+----+------------+-----+-------+-----+-----+------+\n",
            "+-------+----+----+------------+-----+-------+-----+-----+------+\n",
            "\n",
            "+-------+----+----+------------+-----+-------+-----+-----+------+\n",
            "|tailnum|year|type|manufacturer|model|engines|seats|speed|engine|\n",
            "+-------+----+----+------------+-----+-------+-----+-----+------+\n",
            "+-------+----+----+------------+-----+-------+-----+-----+------+\n",
            "\n",
            "+-------+----+----+------------+-----+-------+-----+-----+------+\n",
            "|tailnum|year|type|manufacturer|model|engines|seats|speed|engine|\n",
            "+-------+----+----+------------+-----+-------+-----+-----+------+\n",
            "+-------+----+----+------------+-----+-------+-----+-----+------+\n",
            "\n",
            "+-------+----+----+------------+-----+-------+-----+-----+------+\n",
            "|tailnum|year|type|manufacturer|model|engines|seats|speed|engine|\n",
            "+-------+----+----+------------+-----+-------+-----+-----+------+\n",
            "+-------+----+----+------------+-----+-------+-----+-----+------+\n",
            "\n",
            "+-------+----+----+------------+-----+-------+-----+-----+------+\n",
            "|tailnum|year|type|manufacturer|model|engines|seats|speed|engine|\n",
            "+-------+----+----+------------+-----+-------+-----+-----+------+\n",
            "+-------+----+----+------------+-----+-------+-----+-----+------+\n",
            "\n"
          ]
        }
      ]
    },
    {
      "cell_type": "markdown",
      "source": [
        "6 - Crie a coluna qa_engines e aponte inconsistências da coluna engines de acordo com as regras\n",
        "abaixo.<br>\n",
        "M : Indica que está com dado faltante.<br>\n",
        "I : Indica que o valor excede o intervalo [1, 4].<br>\n",
        "A : Indica que o valor é alfanumérico."
      ],
      "metadata": {
        "application/vnd.databricks.v1+cell": {
          "title": "",
          "showTitle": false,
          "inputWidgets": {},
          "nuid": "472e247e-3f58-4d38-9ca3-67105ad81216"
        },
        "id": "xSgA2Gz-LZXO"
      }
    },
    {
      "cell_type": "code",
      "source": [
        "df_planes.filter(col(\"engines\")\n",
        "                .rlike(\"^[0-9]*$\").isNull()\n",
        "                ).show()\n",
        "\n",
        "df_planes.select(substring('engines', 1, 4).cast(StringType()).alias('qa_engines')).show()"
      ],
      "metadata": {
        "id": "hbpxwNTKofGx",
        "colab": {
          "base_uri": "https://localhost:8080/"
        },
        "outputId": "e35174c2-1f8a-418e-e455-c4bff737cb2a"
      },
      "execution_count": 33,
      "outputs": [
        {
          "output_type": "stream",
          "name": "stdout",
          "text": [
            "+-------+----+----+------------+-----+-------+-----+-----+------+\n",
            "|tailnum|year|type|manufacturer|model|engines|seats|speed|engine|\n",
            "+-------+----+----+------------+-----+-------+-----+-----+------+\n",
            "+-------+----+----+------------+-----+-------+-----+-----+------+\n",
            "\n",
            "+----------+\n",
            "|qa_engines|\n",
            "+----------+\n",
            "|         2|\n",
            "|         2|\n",
            "|         2|\n",
            "|         2|\n",
            "|         2|\n",
            "|         2|\n",
            "|         2|\n",
            "|         2|\n",
            "|         2|\n",
            "|         2|\n",
            "|         2|\n",
            "|         2|\n",
            "|         2|\n",
            "|         2|\n",
            "|         2|\n",
            "|         2|\n",
            "|         2|\n",
            "|         2|\n",
            "|         2|\n",
            "|         2|\n",
            "+----------+\n",
            "only showing top 20 rows\n",
            "\n"
          ]
        }
      ]
    },
    {
      "cell_type": "markdown",
      "source": [
        "7 - Crie a coluna qa_seats e aponte inconsistências da coluna seats de acordo com as regras abaixo.<br>\n",
        "M : Indica que está com dado faltante.<br><br>\n",
        "I : Indica que o valor excede o intervalo .<br>\n",
        "A : Indica que o valor é alfanumérico."
      ],
      "metadata": {
        "application/vnd.databricks.v1+cell": {
          "title": "",
          "showTitle": false,
          "inputWidgets": {},
          "nuid": "e9bc4faf-5d21-459d-830e-5e72803dc686"
        },
        "id": "0LMkEEWJLZXO"
      }
    },
    {
      "cell_type": "code",
      "source": [
        "df_planes.filter(col(\"seats\")\n",
        "                .rlike(\"^[0-9]*$\").isNull()\n",
        "                ).show()\n",
        "                "
      ],
      "metadata": {
        "id": "wIy2yobgpedU",
        "colab": {
          "base_uri": "https://localhost:8080/"
        },
        "outputId": "3a8d48aa-f778-4a7d-8414-14b3f2dd3ceb"
      },
      "execution_count": 34,
      "outputs": [
        {
          "output_type": "stream",
          "name": "stdout",
          "text": [
            "+-------+----+----+------------+-----+-------+-----+-----+------+\n",
            "|tailnum|year|type|manufacturer|model|engines|seats|speed|engine|\n",
            "+-------+----+----+------------+-----+-------+-----+-----+------+\n",
            "+-------+----+----+------------+-----+-------+-----+-----+------+\n",
            "\n"
          ]
        }
      ]
    },
    {
      "cell_type": "markdown",
      "source": [
        "8 - Crie a coluna qa_speed e aponte inconsistências da coluna speed de acordo com as regras abaixo.<br>\n",
        "M : Indica que está com dado faltante.<br>\n",
        "I : Indica que o valor excede o intervalo [50, 150].<br>\n",
        "A : Indica que o valor é alfanumérico.<br>"
      ],
      "metadata": {
        "application/vnd.databricks.v1+cell": {
          "title": "",
          "showTitle": false,
          "inputWidgets": {},
          "nuid": "06b8ca48-5f32-4baa-8507-917c06bf2154"
        },
        "id": "5zwhrHMlLZXP"
      }
    },
    {
      "cell_type": "code",
      "source": [
        "df_planes.filter(col(\"speed\")\n",
        "                .rlike(\"^[0-9]*$\").isNull()\n",
        "                ).show()\n",
        "\n",
        "df_planes.select(substring('speed', 50, 150).cast(StringType()).alias('qa_speed')).show()"
      ],
      "metadata": {
        "id": "MP8chNcopqSM",
        "colab": {
          "base_uri": "https://localhost:8080/"
        },
        "outputId": "48c7194e-2b5f-4763-f94c-29ca78f902c0"
      },
      "execution_count": 35,
      "outputs": [
        {
          "output_type": "stream",
          "name": "stdout",
          "text": [
            "+-------+----+----+------------+-----+-------+-----+-----+------+\n",
            "|tailnum|year|type|manufacturer|model|engines|seats|speed|engine|\n",
            "+-------+----+----+------------+-----+-------+-----+-----+------+\n",
            "+-------+----+----+------------+-----+-------+-----+-----+------+\n",
            "\n",
            "+--------+\n",
            "|qa_speed|\n",
            "+--------+\n",
            "|        |\n",
            "|        |\n",
            "|        |\n",
            "|        |\n",
            "|        |\n",
            "|        |\n",
            "|        |\n",
            "|        |\n",
            "|        |\n",
            "|        |\n",
            "|        |\n",
            "|        |\n",
            "|        |\n",
            "|        |\n",
            "|        |\n",
            "|        |\n",
            "|        |\n",
            "|        |\n",
            "|        |\n",
            "|        |\n",
            "+--------+\n",
            "only showing top 20 rows\n",
            "\n"
          ]
        }
      ]
    },
    {
      "cell_type": "markdown",
      "source": [
        "9 - Crie a coluna qa_engine e aponte inconsistências da coluna engine de acordo com as regras\n",
        "abaixo.<br>\n",
        "M : Indica que está com dado faltante.<br>\n",
        "C : Indica que o valor não pertence a nenhuma categoria esperada:<br>\n",
        "Turbo-fan<br>\n",
        "Turbo-jet<br>\n",
        "Turbo-prop<br>\n",
        "Turbo-shaft<br>\n",
        "4 Cycle"
      ],
      "metadata": {
        "application/vnd.databricks.v1+cell": {
          "title": "",
          "showTitle": false,
          "inputWidgets": {},
          "nuid": "d221fa8d-38b9-4e28-a8c7-b7b67ab933c2"
        },
        "id": "aeFXaBuMLZXP"
      }
    },
    {
      "cell_type": "code",
      "source": [
        "df_planes.filter(col(\"engine\")\n",
        "                .isNull()\n",
        "                ).show()\n",
        "\n",
        "df_planes_qa_engine = df_planes.withColumn('qa_engine',\n",
        "                                           expr(\"CASE WHEN engine = 'Turbo-fan' THEN 'não pertence'\"\n",
        "                                           + \"WHEN engine = 'Turbo-jet' THEN 'não pertence'\"\n",
        "                                           + \"WHEN engine = 'Turbo-prop' THEN 'não pertence'\"\n",
        "                                           + \"WHEN engine = 'Turbo-shaft' THEN 'não pertence'\"\n",
        "                                           + \"WHEN engine = '4 Cycle' THEN 'não pertence'\"\n",
        "                                           \"ELSE engine END\")).show()\n"
      ],
      "metadata": {
        "id": "3Iz4nEw6rAKn",
        "colab": {
          "base_uri": "https://localhost:8080/"
        },
        "outputId": "bdbd2df5-fd1c-4d24-f7a1-728d2d7c51e8"
      },
      "execution_count": 36,
      "outputs": [
        {
          "output_type": "stream",
          "name": "stdout",
          "text": [
            "+-------+----+----+------------+-----+-------+-----+-----+------+\n",
            "|tailnum|year|type|manufacturer|model|engines|seats|speed|engine|\n",
            "+-------+----+----+------------+-----+-------+-----+-----+------+\n",
            "+-------+----+----+------------+-----+-------+-----+-----+------+\n",
            "\n",
            "+-------+----+--------------------+----------------+--------+-------+-----+-----+---------+------------+\n",
            "|tailnum|year|                type|    manufacturer|   model|engines|seats|speed|   engine|   qa_engine|\n",
            "+-------+----+--------------------+----------------+--------+-------+-----+-----+---------+------------+\n",
            "| N102UW|1998|Fixed wing multi ...|AIRBUS INDUSTRIE|A320-214|      2|  182|   NA|Turbo-fan|não pertence|\n",
            "| N103US|1999|Fixed wing multi ...|AIRBUS INDUSTRIE|A320-214|      2|  182|   NA|Turbo-fan|não pertence|\n",
            "| N104UW|1999|Fixed wing multi ...|AIRBUS INDUSTRIE|A320-214|      2|  182|   NA|Turbo-fan|não pertence|\n",
            "| N105UW|1999|Fixed wing multi ...|AIRBUS INDUSTRIE|A320-214|      2|  182|   NA|Turbo-fan|não pertence|\n",
            "| N107US|1999|Fixed wing multi ...|AIRBUS INDUSTRIE|A320-214|      2|  182|   NA|Turbo-fan|não pertence|\n",
            "| N108UW|1999|Fixed wing multi ...|AIRBUS INDUSTRIE|A320-214|      2|  182|   NA|Turbo-fan|não pertence|\n",
            "| N109UW|1999|Fixed wing multi ...|AIRBUS INDUSTRIE|A320-214|      2|  182|   NA|Turbo-fan|não pertence|\n",
            "| N110UW|1999|Fixed wing multi ...|AIRBUS INDUSTRIE|A320-214|      2|  182|   NA|Turbo-fan|não pertence|\n",
            "| N111US|1999|Fixed wing multi ...|AIRBUS INDUSTRIE|A320-214|      2|  182|   NA|Turbo-fan|não pertence|\n",
            "| N11206|2000|Fixed wing multi ...|          BOEING| 737-824|      2|  149|   NA|Turbo-fan|não pertence|\n",
            "| N112US|1999|Fixed wing multi ...|AIRBUS INDUSTRIE|A320-214|      2|  182|   NA|Turbo-fan|não pertence|\n",
            "| N113UW|1999|Fixed wing multi ...|AIRBUS INDUSTRIE|A320-214|      2|  182|   NA|Turbo-fan|não pertence|\n",
            "| N114UW|1999|Fixed wing multi ...|AIRBUS INDUSTRIE|A320-214|      2|  182|   NA|Turbo-fan|não pertence|\n",
            "| N117UW|2000|Fixed wing multi ...|AIRBUS INDUSTRIE|A320-214|      2|  182|   NA|Turbo-fan|não pertence|\n",
            "| N118US|2000|Fixed wing multi ...|AIRBUS INDUSTRIE|A320-214|      2|  182|   NA|Turbo-fan|não pertence|\n",
            "| N119US|2000|Fixed wing multi ...|AIRBUS INDUSTRIE|A320-214|      2|  182|   NA|Turbo-fan|não pertence|\n",
            "| N1200K|1998|Fixed wing multi ...|          BOEING| 767-332|      2|  330|   NA|Turbo-fan|não pertence|\n",
            "| N1201P|1998|Fixed wing multi ...|          BOEING| 767-332|      2|  330|   NA|Turbo-fan|não pertence|\n",
            "| N12114|1995|Fixed wing multi ...|          BOEING| 757-224|      2|  178|   NA|Turbo-jet|não pertence|\n",
            "| N121DE|1987|Fixed wing multi ...|          BOEING| 767-332|      2|  330|   NA|Turbo-fan|não pertence|\n",
            "+-------+----+--------------------+----------------+--------+-------+-----+-----+---------+------------+\n",
            "only showing top 20 rows\n",
            "\n"
          ]
        }
      ]
    },
    {
      "cell_type": "markdown",
      "source": [
        "# Flights Dataset:"
      ],
      "metadata": {
        "application/vnd.databricks.v1+cell": {
          "title": "",
          "showTitle": false,
          "inputWidgets": {},
          "nuid": "f63f2996-a8d3-4c1e-bd8a-a2100550a9ab"
        },
        "id": "kt70zVSyLZXQ"
      }
    },
    {
      "cell_type": "code",
      "source": [
        "# Importação dos dados para o PySpark:\n",
        "# Download do http para arquivo local:\n",
        "\n",
        "!wget --quiet --show-progress https://drive.google.com/file/d/1ggZ_dBMvAkILRh-YrozqsvsXc2XYUYeG/view?usp=sharing\n",
        "\n",
        "# Carregar dados do Flights:\n",
        "\n",
        "df_flights = spark.read.csv(\"./flights.csv\", inferSchema=True, header=True)\n",
        "\n",
        "# Ver algumas informações sobre os tipos de dados de cada coluna:\n",
        "\n",
        "df_flights.printSchema()\n"
      ],
      "metadata": {
        "application/vnd.databricks.v1+cell": {
          "title": "",
          "showTitle": false,
          "inputWidgets": {},
          "nuid": "049d0a0d-40be-4002-a3f5-3274049ec707"
        },
        "id": "rUvSWsUJLZXR",
        "colab": {
          "base_uri": "https://localhost:8080/"
        },
        "outputId": "8be8d9e7-6180-4ab2-c4dc-831b6213d0ae"
      },
      "outputs": [
        {
          "output_type": "stream",
          "name": "stdout",
          "text": [
            "\rview?usp=sharing.18     [<=>                 ]       0  --.-KB/s               \rview?usp=sharing.18     [ <=>                ]  67.49K  --.-KB/s    in 0.03s   \n",
            "root\n",
            " |-- year: integer (nullable = true)\n",
            " |-- month: integer (nullable = true)\n",
            " |-- day: integer (nullable = true)\n",
            " |-- dep_time: string (nullable = true)\n",
            " |-- dep_delay: string (nullable = true)\n",
            " |-- arr_time: string (nullable = true)\n",
            " |-- arr_delay: string (nullable = true)\n",
            " |-- carrier: string (nullable = true)\n",
            " |-- tailnum: string (nullable = true)\n",
            " |-- flight: integer (nullable = true)\n",
            " |-- origin: string (nullable = true)\n",
            " |-- dest: string (nullable = true)\n",
            " |-- air_time: string (nullable = true)\n",
            " |-- distance: integer (nullable = true)\n",
            " |-- hour: string (nullable = true)\n",
            " |-- minute: string (nullable = true)\n",
            "\n"
          ]
        }
      ],
      "execution_count": 37
    },
    {
      "cell_type": "code",
      "source": [
        "df_flights.show()\n"
      ],
      "metadata": {
        "application/vnd.databricks.v1+cell": {
          "title": "",
          "showTitle": false,
          "inputWidgets": {},
          "nuid": "f342bc80-c27a-470f-b47b-a07fefb901c7"
        },
        "id": "3JR5euVQLZXS",
        "colab": {
          "base_uri": "https://localhost:8080/"
        },
        "outputId": "f9513d17-7a3e-4a80-819e-3a2263a47bf5"
      },
      "outputs": [
        {
          "output_type": "stream",
          "name": "stdout",
          "text": [
            "+----+-----+---+--------+---------+--------+---------+-------+-------+------+------+----+--------+--------+----+------+\n",
            "|year|month|day|dep_time|dep_delay|arr_time|arr_delay|carrier|tailnum|flight|origin|dest|air_time|distance|hour|minute|\n",
            "+----+-----+---+--------+---------+--------+---------+-------+-------+------+------+----+--------+--------+----+------+\n",
            "|2014|   12|  8|     658|       -7|     935|       -5|     VX| N846VA|  1780|   SEA| LAX|     132|     954|   6|    58|\n",
            "|2014|    1| 22|    1040|        5|    1505|        5|     AS| N559AS|   851|   SEA| HNL|     360|    2677|  10|    40|\n",
            "|2014|    3|  9|    1443|       -2|    1652|        2|     VX| N847VA|   755|   SEA| SFO|     111|     679|  14|    43|\n",
            "|2014|    4|  9|    1705|       45|    1839|       34|     WN| N360SW|   344|   PDX| SJC|      83|     569|  17|     5|\n",
            "|2014|    3|  9|     754|       -1|    1015|        1|     AS| N612AS|   522|   SEA| BUR|     127|     937|   7|    54|\n",
            "|2014|    1| 15|    1037|        7|    1352|        2|     WN| N646SW|    48|   PDX| DEN|     121|     991|  10|    37|\n",
            "|2014|    7|  2|     847|       42|    1041|       51|     WN| N422WN|  1520|   PDX| OAK|      90|     543|   8|    47|\n",
            "|2014|    5| 12|    1655|       -5|    1842|      -18|     VX| N361VA|   755|   SEA| SFO|      98|     679|  16|    55|\n",
            "|2014|    4| 19|    1236|       -4|    1508|       -7|     AS| N309AS|   490|   SEA| SAN|     135|    1050|  12|    36|\n",
            "|2014|   11| 19|    1812|       -3|    2352|       -4|     AS| N564AS|    26|   SEA| ORD|     198|    1721|  18|    12|\n",
            "|2014|   11|  8|    1653|       -2|    1924|       -1|     AS| N323AS|   448|   SEA| LAX|     130|     954|  16|    53|\n",
            "|2014|    8|  3|    1120|        0|    1415|        2|     AS| N305AS|   656|   SEA| PHX|     154|    1107|  11|    20|\n",
            "|2014|   10| 30|     811|       21|    1038|       29|     AS| N433AS|   608|   SEA| LAS|     127|     867|   8|    11|\n",
            "|2014|   11| 12|    2346|       -4|     217|      -28|     AS| N765AS|   121|   SEA| ANC|     183|    1448|  23|    46|\n",
            "|2014|   10| 31|    1314|       89|    1544|      111|     AS| N713AS|   306|   SEA| SFO|     129|     679|  13|    14|\n",
            "|2014|    1| 29|    2009|        3|    2159|        9|     UA| N27205|  1458|   PDX| SFO|      90|     550|  20|     9|\n",
            "|2014|   12| 17|    2015|       50|    2150|       41|     AS| N626AS|   368|   SEA| SMF|      76|     605|  20|    15|\n",
            "|2014|    8| 11|    1017|       -3|    1613|       -7|     WN| N8634A|   827|   SEA| MDW|     216|    1733|  10|    17|\n",
            "|2014|    1| 13|    2156|       -9|     607|      -15|     AS| N597AS|    24|   SEA| BOS|     290|    2496|  21|    56|\n",
            "|2014|    6|  5|    1733|      -12|    1945|      -10|     OO| N215AG|  3488|   PDX| BUR|     111|     817|  17|    33|\n",
            "+----+-----+---+--------+---------+--------+---------+-------+-------+------+------+----+--------+--------+----+------+\n",
            "only showing top 20 rows\n",
            "\n"
          ]
        }
      ],
      "execution_count": 38
    },
    {
      "cell_type": "code",
      "source": [
        "df_flights.count()"
      ],
      "metadata": {
        "colab": {
          "base_uri": "https://localhost:8080/"
        },
        "id": "benz8DnaqZWK",
        "outputId": "3a9730e4-acc0-4892-f2f4-cdec899b8a79"
      },
      "execution_count": 39,
      "outputs": [
        {
          "output_type": "execute_result",
          "data": {
            "text/plain": [
              "10000"
            ]
          },
          "metadata": {},
          "execution_count": 39
        }
      ]
    },
    {
      "cell_type": "code",
      "source": [
        "df_flights.fillna('').show()\n"
      ],
      "metadata": {
        "id": "J0LSRxWvkAaN",
        "colab": {
          "base_uri": "https://localhost:8080/"
        },
        "outputId": "549ac80d-7f3a-4c40-d3ca-589ec7c0d34a"
      },
      "execution_count": 40,
      "outputs": [
        {
          "output_type": "stream",
          "name": "stdout",
          "text": [
            "+----+-----+---+--------+---------+--------+---------+-------+-------+------+------+----+--------+--------+----+------+\n",
            "|year|month|day|dep_time|dep_delay|arr_time|arr_delay|carrier|tailnum|flight|origin|dest|air_time|distance|hour|minute|\n",
            "+----+-----+---+--------+---------+--------+---------+-------+-------+------+------+----+--------+--------+----+------+\n",
            "|2014|   12|  8|     658|       -7|     935|       -5|     VX| N846VA|  1780|   SEA| LAX|     132|     954|   6|    58|\n",
            "|2014|    1| 22|    1040|        5|    1505|        5|     AS| N559AS|   851|   SEA| HNL|     360|    2677|  10|    40|\n",
            "|2014|    3|  9|    1443|       -2|    1652|        2|     VX| N847VA|   755|   SEA| SFO|     111|     679|  14|    43|\n",
            "|2014|    4|  9|    1705|       45|    1839|       34|     WN| N360SW|   344|   PDX| SJC|      83|     569|  17|     5|\n",
            "|2014|    3|  9|     754|       -1|    1015|        1|     AS| N612AS|   522|   SEA| BUR|     127|     937|   7|    54|\n",
            "|2014|    1| 15|    1037|        7|    1352|        2|     WN| N646SW|    48|   PDX| DEN|     121|     991|  10|    37|\n",
            "|2014|    7|  2|     847|       42|    1041|       51|     WN| N422WN|  1520|   PDX| OAK|      90|     543|   8|    47|\n",
            "|2014|    5| 12|    1655|       -5|    1842|      -18|     VX| N361VA|   755|   SEA| SFO|      98|     679|  16|    55|\n",
            "|2014|    4| 19|    1236|       -4|    1508|       -7|     AS| N309AS|   490|   SEA| SAN|     135|    1050|  12|    36|\n",
            "|2014|   11| 19|    1812|       -3|    2352|       -4|     AS| N564AS|    26|   SEA| ORD|     198|    1721|  18|    12|\n",
            "|2014|   11|  8|    1653|       -2|    1924|       -1|     AS| N323AS|   448|   SEA| LAX|     130|     954|  16|    53|\n",
            "|2014|    8|  3|    1120|        0|    1415|        2|     AS| N305AS|   656|   SEA| PHX|     154|    1107|  11|    20|\n",
            "|2014|   10| 30|     811|       21|    1038|       29|     AS| N433AS|   608|   SEA| LAS|     127|     867|   8|    11|\n",
            "|2014|   11| 12|    2346|       -4|     217|      -28|     AS| N765AS|   121|   SEA| ANC|     183|    1448|  23|    46|\n",
            "|2014|   10| 31|    1314|       89|    1544|      111|     AS| N713AS|   306|   SEA| SFO|     129|     679|  13|    14|\n",
            "|2014|    1| 29|    2009|        3|    2159|        9|     UA| N27205|  1458|   PDX| SFO|      90|     550|  20|     9|\n",
            "|2014|   12| 17|    2015|       50|    2150|       41|     AS| N626AS|   368|   SEA| SMF|      76|     605|  20|    15|\n",
            "|2014|    8| 11|    1017|       -3|    1613|       -7|     WN| N8634A|   827|   SEA| MDW|     216|    1733|  10|    17|\n",
            "|2014|    1| 13|    2156|       -9|     607|      -15|     AS| N597AS|    24|   SEA| BOS|     290|    2496|  21|    56|\n",
            "|2014|    6|  5|    1733|      -12|    1945|      -10|     OO| N215AG|  3488|   PDX| BUR|     111|     817|  17|    33|\n",
            "+----+-----+---+--------+---------+--------+---------+-------+-------+------+------+----+--------+--------+----+------+\n",
            "only showing top 20 rows\n",
            "\n"
          ]
        }
      ]
    },
    {
      "cell_type": "code",
      "source": [
        "df_flights.fillna('').show()"
      ],
      "metadata": {
        "colab": {
          "base_uri": "https://localhost:8080/"
        },
        "id": "t3ICs0PpocAX",
        "outputId": "30558a59-1dea-47ce-811a-2f9514efebc3"
      },
      "execution_count": 41,
      "outputs": [
        {
          "output_type": "stream",
          "name": "stdout",
          "text": [
            "+----+-----+---+--------+---------+--------+---------+-------+-------+------+------+----+--------+--------+----+------+\n",
            "|year|month|day|dep_time|dep_delay|arr_time|arr_delay|carrier|tailnum|flight|origin|dest|air_time|distance|hour|minute|\n",
            "+----+-----+---+--------+---------+--------+---------+-------+-------+------+------+----+--------+--------+----+------+\n",
            "|2014|   12|  8|     658|       -7|     935|       -5|     VX| N846VA|  1780|   SEA| LAX|     132|     954|   6|    58|\n",
            "|2014|    1| 22|    1040|        5|    1505|        5|     AS| N559AS|   851|   SEA| HNL|     360|    2677|  10|    40|\n",
            "|2014|    3|  9|    1443|       -2|    1652|        2|     VX| N847VA|   755|   SEA| SFO|     111|     679|  14|    43|\n",
            "|2014|    4|  9|    1705|       45|    1839|       34|     WN| N360SW|   344|   PDX| SJC|      83|     569|  17|     5|\n",
            "|2014|    3|  9|     754|       -1|    1015|        1|     AS| N612AS|   522|   SEA| BUR|     127|     937|   7|    54|\n",
            "|2014|    1| 15|    1037|        7|    1352|        2|     WN| N646SW|    48|   PDX| DEN|     121|     991|  10|    37|\n",
            "|2014|    7|  2|     847|       42|    1041|       51|     WN| N422WN|  1520|   PDX| OAK|      90|     543|   8|    47|\n",
            "|2014|    5| 12|    1655|       -5|    1842|      -18|     VX| N361VA|   755|   SEA| SFO|      98|     679|  16|    55|\n",
            "|2014|    4| 19|    1236|       -4|    1508|       -7|     AS| N309AS|   490|   SEA| SAN|     135|    1050|  12|    36|\n",
            "|2014|   11| 19|    1812|       -3|    2352|       -4|     AS| N564AS|    26|   SEA| ORD|     198|    1721|  18|    12|\n",
            "|2014|   11|  8|    1653|       -2|    1924|       -1|     AS| N323AS|   448|   SEA| LAX|     130|     954|  16|    53|\n",
            "|2014|    8|  3|    1120|        0|    1415|        2|     AS| N305AS|   656|   SEA| PHX|     154|    1107|  11|    20|\n",
            "|2014|   10| 30|     811|       21|    1038|       29|     AS| N433AS|   608|   SEA| LAS|     127|     867|   8|    11|\n",
            "|2014|   11| 12|    2346|       -4|     217|      -28|     AS| N765AS|   121|   SEA| ANC|     183|    1448|  23|    46|\n",
            "|2014|   10| 31|    1314|       89|    1544|      111|     AS| N713AS|   306|   SEA| SFO|     129|     679|  13|    14|\n",
            "|2014|    1| 29|    2009|        3|    2159|        9|     UA| N27205|  1458|   PDX| SFO|      90|     550|  20|     9|\n",
            "|2014|   12| 17|    2015|       50|    2150|       41|     AS| N626AS|   368|   SEA| SMF|      76|     605|  20|    15|\n",
            "|2014|    8| 11|    1017|       -3|    1613|       -7|     WN| N8634A|   827|   SEA| MDW|     216|    1733|  10|    17|\n",
            "|2014|    1| 13|    2156|       -9|     607|      -15|     AS| N597AS|    24|   SEA| BOS|     290|    2496|  21|    56|\n",
            "|2014|    6|  5|    1733|      -12|    1945|      -10|     OO| N215AG|  3488|   PDX| BUR|     111|     817|  17|    33|\n",
            "+----+-----+---+--------+---------+--------+---------+-------+-------+------+------+----+--------+--------+----+------+\n",
            "only showing top 20 rows\n",
            "\n"
          ]
        }
      ]
    },
    {
      "cell_type": "markdown",
      "source": [
        "Perguntas<br>\n",
        "Considere o dataset flights.csv para realizar as seguintes tarefas:"
      ],
      "metadata": {
        "application/vnd.databricks.v1+cell": {
          "title": "",
          "showTitle": false,
          "inputWidgets": {},
          "nuid": "23f3dd51-a226-4b86-9482-bd11587d6835"
        },
        "id": "E4pFuSjTLZXT"
      }
    },
    {
      "cell_type": "markdown",
      "source": [
        "1 - Crie a coluna qa_year_month_day e aponte inconsistências das colunas year , month , day de\n",
        "acordo com as regras abaixo.<br>\n",
        "MY : Indica que está com dado faltante no ano.<br>\n",
        "MM : Indica que está com dado faltante no mes.<br>\n",
        "MD : Indica que está com dado faltante no dia.<br>\n",
        "IY : Indica que o valor excede o intervalo [1950,+∞] no ano.<br>\n",
        "IM : Indica que o valor excede o intervalo [1, 12] no mês.<br>\n",
        "ID : Indica que o valor excede o intervalo [1, 31] no dia. No mês de Fevereiro o intervalo é [1, 29]."
      ],
      "metadata": {
        "application/vnd.databricks.v1+cell": {
          "title": "",
          "showTitle": false,
          "inputWidgets": {},
          "nuid": "af2199d7-7cdf-4d2b-93c0-aaa52efa4271"
        },
        "id": "ds0tgAfYLZXT"
      }
    },
    {
      "cell_type": "code",
      "source": [
        "df_flights.filter(df_flights.year.isNotNull()).show(100)"
      ],
      "metadata": {
        "colab": {
          "base_uri": "https://localhost:8080/"
        },
        "id": "ZOBx8PrKo4n-",
        "outputId": "5a204f00-ff0a-4455-bf1d-4d63f77d4eea"
      },
      "execution_count": 42,
      "outputs": [
        {
          "output_type": "stream",
          "name": "stdout",
          "text": [
            "+----+-----+---+--------+---------+--------+---------+-------+-------+------+------+----+--------+--------+----+------+\n",
            "|year|month|day|dep_time|dep_delay|arr_time|arr_delay|carrier|tailnum|flight|origin|dest|air_time|distance|hour|minute|\n",
            "+----+-----+---+--------+---------+--------+---------+-------+-------+------+------+----+--------+--------+----+------+\n",
            "|2014|   12|  8|     658|       -7|     935|       -5|     VX| N846VA|  1780|   SEA| LAX|     132|     954|   6|    58|\n",
            "|2014|    1| 22|    1040|        5|    1505|        5|     AS| N559AS|   851|   SEA| HNL|     360|    2677|  10|    40|\n",
            "|2014|    3|  9|    1443|       -2|    1652|        2|     VX| N847VA|   755|   SEA| SFO|     111|     679|  14|    43|\n",
            "|2014|    4|  9|    1705|       45|    1839|       34|     WN| N360SW|   344|   PDX| SJC|      83|     569|  17|     5|\n",
            "|2014|    3|  9|     754|       -1|    1015|        1|     AS| N612AS|   522|   SEA| BUR|     127|     937|   7|    54|\n",
            "|2014|    1| 15|    1037|        7|    1352|        2|     WN| N646SW|    48|   PDX| DEN|     121|     991|  10|    37|\n",
            "|2014|    7|  2|     847|       42|    1041|       51|     WN| N422WN|  1520|   PDX| OAK|      90|     543|   8|    47|\n",
            "|2014|    5| 12|    1655|       -5|    1842|      -18|     VX| N361VA|   755|   SEA| SFO|      98|     679|  16|    55|\n",
            "|2014|    4| 19|    1236|       -4|    1508|       -7|     AS| N309AS|   490|   SEA| SAN|     135|    1050|  12|    36|\n",
            "|2014|   11| 19|    1812|       -3|    2352|       -4|     AS| N564AS|    26|   SEA| ORD|     198|    1721|  18|    12|\n",
            "|2014|   11|  8|    1653|       -2|    1924|       -1|     AS| N323AS|   448|   SEA| LAX|     130|     954|  16|    53|\n",
            "|2014|    8|  3|    1120|        0|    1415|        2|     AS| N305AS|   656|   SEA| PHX|     154|    1107|  11|    20|\n",
            "|2014|   10| 30|     811|       21|    1038|       29|     AS| N433AS|   608|   SEA| LAS|     127|     867|   8|    11|\n",
            "|2014|   11| 12|    2346|       -4|     217|      -28|     AS| N765AS|   121|   SEA| ANC|     183|    1448|  23|    46|\n",
            "|2014|   10| 31|    1314|       89|    1544|      111|     AS| N713AS|   306|   SEA| SFO|     129|     679|  13|    14|\n",
            "|2014|    1| 29|    2009|        3|    2159|        9|     UA| N27205|  1458|   PDX| SFO|      90|     550|  20|     9|\n",
            "|2014|   12| 17|    2015|       50|    2150|       41|     AS| N626AS|   368|   SEA| SMF|      76|     605|  20|    15|\n",
            "|2014|    8| 11|    1017|       -3|    1613|       -7|     WN| N8634A|   827|   SEA| MDW|     216|    1733|  10|    17|\n",
            "|2014|    1| 13|    2156|       -9|     607|      -15|     AS| N597AS|    24|   SEA| BOS|     290|    2496|  21|    56|\n",
            "|2014|    6|  5|    1733|      -12|    1945|      -10|     OO| N215AG|  3488|   PDX| BUR|     111|     817|  17|    33|\n",
            "|2014|    7| 27|    2105|       15|    2316|       21|     AS| N519AS|   300|   SEA| SFO|     106|     679|  21|     5|\n",
            "|2014|    9| 26|     610|       -5|    1523|       65|     US| N127UW|   616|   SEA| PHL|     293|    2378|   6|    10|\n",
            "|2014|    8| 19|    1845|       -5|    2112|      -22|     DL| N354NW|  2642|   SEA| LAX|     119|     954|  18|    45|\n",
            "|2014|    8| 19|    1222|        5|    1419|       -1|     OO| N825SK|  4623|   SEA| SJC|      90|     697|  12|    22|\n",
            "|2014|   10| 29|     643|        3|     851|        2|     OO| N218AG|  3456|   PDX| BUR|     108|     817|   6|    43|\n",
            "|2014|    6|  5|    1133|       38|    1247|       32|     WN| N793SA|  1617|   PDX| RNO|      61|     444|  11|    33|\n",
            "|2014|   12| 30|    1305|       70|    1525|       86|     AS| N520AS|   306|   SEA| SFO|     117|     679|  13|     5|\n",
            "|2014|    9| 28|    1848|       -7|    2044|       -9|     OO| N217AG|  3490|   SEA| FAT|      98|     748|  18|    48|\n",
            "|2014|   12|  4|     954|       -6|    1348|      -17|     HA| N395HA|    29|   SEA| OGG|     333|    2640|   9|    54|\n",
            "|2014|    2| 25|     555|       -5|     819|       -3|     AS| N549AS|   604|   SEA| LAS|     121|     867|   5|    55|\n",
            "|2014|   12| 14|     633|       -7|     841|       -9|     OO| N951SW|  3456|   PDX| BUR|     107|     817|   6|    33|\n",
            "|2014|    8| 24|    1646|       21|    1901|        1|     B6| N606JB|  1007|   SEA| LGB|     121|     965|  16|    46|\n",
            "|2014|    6|  4|    1115|        0|    1346|       -3|     AS| N461AS|   488|   SEA| SAN|     133|    1050|  11|    15|\n",
            "|2014|    6| 26|    2054|       -1|    2318|       -6|     B6| N590JB|   907|   SEA| ANC|     179|    1448|  20|    54|\n",
            "|2014|    6| 11|    1957|       -3|    2201|       -2|     AS| N778AS|   326|   SEA| SJC|     106|     697|  19|    57|\n",
            "|2014|    6|  7|    1823|       -7|    2112|      -28|     AS| N512AS|   815|   SEA| LIH|     335|    2701|  18|    23|\n",
            "|2014|    4| 30|     801|        1|    1757|       90|     AS| N407AS|    18|   SEA| MCO|     342|    2554|   8|     1|\n",
            "|2014|   11| 29|     905|      155|    1655|      170|     DL| N824DN|  1598|   SEA| ATL|     229|    2182|   9|     5|\n",
            "|2014|    7| 25|     948|       -2|    1229|      -10|     OO| N223AG|  3492|   PDX| SLC|      85|     630|   9|    48|\n",
            "|2014|    8| 30|    2004|       26|    2325|       22|     F9| N204FR|   794|   PDX| DEN|     120|     991|  20|     4|\n",
            "|2014|    6|  2|    2222|        7|      55|       15|     AS| N402AS|    99|   SEA| ANC|     190|    1448|  22|    22|\n",
            "|2014|   11| 15|    1034|       -6|    1414|      -26|     AS| N589AS|   794|   SEA| ABQ|     139|    1180|  10|    34|\n",
            "|2014|   11| 15|    1858|        8|    2107|        2|     AS| N587AS|   616|   SEA| LAS|     106|     867|  18|    58|\n",
            "|2014|   10| 20|    1328|       -1|    1949|        4|     UA| N68805|  1212|   SEA| IAH|     228|    1874|  13|    28|\n",
            "|2014|   10| 23|    2102|       -3|    2258|        5|     OO| N969SW|  5189|   PDX| SFO|      93|     550|  21|     2|\n",
            "|2014|   12| 16|    1500|        0|    1906|       19|     US| N662AW|   500|   SEA| PHX|     151|    1107|  15|     0|\n",
            "|2014|   11| 19|    1319|       -6|    1821|      -14|     DL| N309US|  2164|   PDX| MSP|     169|    1426|  13|    19|\n",
            "|2014|    5| 21|     515|        0|     757|        0|     US| N172US|   593|   SEA| PHX|     143|    1107|   5|    15|\n",
            "|2014|    9|  3|     900|       -5|    1136|       -1|     US| N579UW|   630|   PDX| PHX|     138|    1009|   9|     0|\n",
            "|2014|    7| 26|    1058|       -2|    1407|       12|     AS| N315AS|   648|   SEA| TUS|     174|    1216|  10|    58|\n",
            "|2014|    9| 29|    1003|       58|    1222|       45|     US| N157UW|   630|   PDX| PHX|     125|    1009|  10|     3|\n",
            "|2014|    6| 11|     750|      -10|    1009|      -11|     AS| N799AS|   568|   PDX| LAX|     118|     834|   7|    50|\n",
            "|2014|    3| 13|    2201|        1|     554|      -14|     UA| N37468|  1275|   SEA| EWR|     268|    2402|  22|     1|\n",
            "|2014|    8|  8|    2011|       11|    2216|       11|     AS| N565AS|   326|   SEA| SJC|     104|     697|  20|    11|\n",
            "|2014|    9|  4|     830|       -5|    1647|      -23|     AS| N583AS|    12|   SEA| BOS|     285|    2496|   8|    30|\n",
            "|2014|    9| 15|    1025|       -5|    1259|       -5|     AS| N585AS|    85|   SEA| ANC|     181|    1448|  10|    25|\n",
            "|2014|    6| 13|    2233|       53|    2359|       38|     AS| N577AS|   372|   SEA| SMF|      68|     605|  22|    33|\n",
            "|2014|    5|  2|    1253|       -2|    1452|       -3|     AS| N516AS|   324|   SEA| SJC|     107|     697|  12|    53|\n",
            "|2014|   12|  9|     936|      -14|    1215|      -25|     OO| N225AG|  3492|   PDX| SLC|      82|     630|   9|    36|\n",
            "|2014|    5| 22|    1018|       -3|    1621|        1|     UA| N559UA|   732|   PDX| ORD|     211|    1739|  10|    18|\n",
            "|2014|    3| 20|    1200|       -8|    1239|       -7|     OO| N569SW|  5411|   PDX| EUG|      30|     106|  12|     0|\n",
            "|2014|    7| 13|    2125|       -5|    2216|       -8|     AS| N315AS|   694|   SEA| GEG|      37|     224|  21|    25|\n",
            "|2014|    1| 15|     808|       -2|    1011|        1|     WN| N364SW|   207|   SEA| OAK|     104|     672|   8|     8|\n",
            "|2014|   10| 12|    1836|       -4|    2200|      -15|     OO| N219AG|  3498|   SEA| COS|     123|    1068|  18|    36|\n",
            "|2014|    2| 18|     554|       -1|    1151|      -19|     UA| N37419|  1445|   SEA| IAH|     203|    1874|   5|    54|\n",
            "|2014|   12| 11|    1057|       87|    1315|      112|     OO| N918SW|  6328|   PDX| SFO|     118|     550|  10|    57|\n",
            "|2014|    7|  5|    2224|       -1|      48|      -20|     AS| N459AS|   143|   PDX| ANC|     185|    1542|  22|    24|\n",
            "|2014|    5| 16|     746|       -4|    1021|      -12|     AS| N622AS|   634|   SEA| PHX|     135|    1107|   7|    46|\n",
            "|2014|   11| 19|     601|        1|    1129|      -16|     AA| N4YJAA|  1534|   PDX| DFW|     189|    1616|   6|     1|\n",
            "|2014|    3| 19|    1750|        5|    2027|       -5|     US| N640AW|   496|   SEA| PHX|     137|    1107|  17|    50|\n",
            "|2014|    7|  7|     602|        2|     806|        5|     AS| N453AS|   200|   SEA| SJC|     104|     697|   6|     2|\n",
            "|2014|   12| 17|    2234|      223|      11|      212|     UA| N39450|  1596|   PDX| SFO|      76|     550|  22|    34|\n",
            "|2014|    5| 12|    1424|       -6|    1631|       -5|     AS| N532AS|   316|   SEA| SFO|      95|     679|  14|    24|\n",
            "|2014|    8| 16|    1217|       -7|    1356|      -28|     UA| N34282|  1574|   PDX| SFO|      84|     550|  12|    17|\n",
            "|2014|    4|  6|    1844|       -6|    2104|      -26|     AS| N409AS|   630|   SEA| PHX|     124|    1107|  18|    44|\n",
            "|2014|    4|  1|    1010|       -5|    1258|      -17|     HA| N381HA|    25|   PDX| HNL|     328|    2603|  10|    10|\n",
            "|2014|    3| 20|     704|        4|    1033|       -2|     WN| N650SW|   397|   PDX| ABQ|     133|    1111|   7|     4|\n",
            "|2014|    1| 22|    1528|       -9|    1851|      -14|     F9| N941FR|   148|   SEA| DEN|     129|    1024|  15|    28|\n",
            "|2014|    9| 28|    2041|       -9|    2251|       -7|     AS| N552AS|   624|   PDX| LAS|     106|     763|  20|    41|\n",
            "|2014|    2| 14|    2002|        2|    2056|        1|     AS| N788AS|   694|   SEA| GEG|      38|     224|  20|     2|\n",
            "|2014|    4| 25|    1049|       -6|    1326|       -4|     VX| N853VA|   784|   SEA| LAX|     133|     954|  10|    49|\n",
            "|2014|    7| 25|     739|       -1|    1020|       -5|     AS| N442AS|   634|   SEA| PHX|     139|    1107|   7|    39|\n",
            "|2014|    8| 25|     711|       -4|     843|      -27|     WN| N244WN|   159|   PDX| SJC|      77|     569|   7|    11|\n",
            "|2014|   12| 26|    2337|        0|     741|       -1|     DL| N3760C|  1358|   PDX| JFK|     274|    2454|  23|    37|\n",
            "|2014|   11| 25|     559|      -11|     914|      -27|     F9| N208FR|   144|   SEA| DEN|     112|    1024|   5|    59|\n",
            "|2014|    7| 14|    2009|       44|    2336|       31|     WN| N468WN|  1918|   SEA| DEN|     122|    1024|  20|     9|\n",
            "|2014|    7|  1|    1959|       -6|    2224|      -17|     DL|  N6701|  1545|   SEA| FAI|     180|    1533|  19|    59|\n",
            "|2014|    6| 29|    1347|        3|    2016|       14|     UA| N848UA|   475|   SEA| IAH|     215|    1874|  13|    47|\n",
            "|2014|    8| 23|     831|       -4|    1639|       -3|     AS| N435AS|    32|   SEA| PHL|     285|    2378|   8|    31|\n",
            "|2014|    6| 27|     934|        4|    1139|        9|     AS| N794AS|   330|   SEA| SJC|     105|     697|   9|    34|\n",
            "|2014|    1|  6|     758|       -2|    1030|      -19|     AS| N614AS|    83|   SEA| ANC|     193|    1448|   7|    58|\n",
            "|2014|    4| 23|    1650|        9|    1924|        2|     DL| N814DN|  1194|   PDX| SLC|      80|     630|  16|    50|\n",
            "|2014|    7| 27|    1020|       -5|    1251|        2|     AS| N587AS|   586|   SEA| LAS|     130|     867|  10|    20|\n",
            "|2014|    1| 11|     716|       -4|    1059|       -9|     AS| N581AS|   642|   SEA| PHX|     142|    1107|   7|    16|\n",
            "|2014|   10| 15|    2244|        5|     607|        3|     DL| N816DN|  2497|   PDX| ATL|     233|    2172|  22|    44|\n",
            "|2014|    8|  6|     735|       -5|     829|      -18|     AS| N703AS|    65|   SEA| KTN|      98|     680|   7|    35|\n",
            "|2014|    4| 12|    1248|       -2|    1836|      -14|     UA| N435UA|   464|   PDX| ORD|     212|    1739|  12|    48|\n",
            "|2014|   12|  1|    2210|        0|     124|       11|     AS| N538AS|   143|   PDX| ANC|     225|    1542|  22|    10|\n",
            "|2014|    4| 30|     835|       -5|    1040|       -9|     AS| N705AS|   382|   SEA| SFO|     101|     679|   8|    35|\n",
            "|2014|    8| 15|    1113|       -7|    1355|      -18|     AS| N614AS|   656|   SEA| PHX|     140|    1107|  11|    13|\n",
            "+----+-----+---+--------+---------+--------+---------+-------+-------+------+------+----+--------+--------+----+------+\n",
            "only showing top 100 rows\n",
            "\n"
          ]
        }
      ]
    },
    {
      "cell_type": "code",
      "source": [
        "df_flights.filter(df_flights.month.isNotNull()).show(100)"
      ],
      "metadata": {
        "colab": {
          "base_uri": "https://localhost:8080/"
        },
        "id": "zxZckr9yqz-I",
        "outputId": "01626d18-a681-4774-fbf1-9e018d675976"
      },
      "execution_count": 43,
      "outputs": [
        {
          "output_type": "stream",
          "name": "stdout",
          "text": [
            "+----+-----+---+--------+---------+--------+---------+-------+-------+------+------+----+--------+--------+----+------+\n",
            "|year|month|day|dep_time|dep_delay|arr_time|arr_delay|carrier|tailnum|flight|origin|dest|air_time|distance|hour|minute|\n",
            "+----+-----+---+--------+---------+--------+---------+-------+-------+------+------+----+--------+--------+----+------+\n",
            "|2014|   12|  8|     658|       -7|     935|       -5|     VX| N846VA|  1780|   SEA| LAX|     132|     954|   6|    58|\n",
            "|2014|    1| 22|    1040|        5|    1505|        5|     AS| N559AS|   851|   SEA| HNL|     360|    2677|  10|    40|\n",
            "|2014|    3|  9|    1443|       -2|    1652|        2|     VX| N847VA|   755|   SEA| SFO|     111|     679|  14|    43|\n",
            "|2014|    4|  9|    1705|       45|    1839|       34|     WN| N360SW|   344|   PDX| SJC|      83|     569|  17|     5|\n",
            "|2014|    3|  9|     754|       -1|    1015|        1|     AS| N612AS|   522|   SEA| BUR|     127|     937|   7|    54|\n",
            "|2014|    1| 15|    1037|        7|    1352|        2|     WN| N646SW|    48|   PDX| DEN|     121|     991|  10|    37|\n",
            "|2014|    7|  2|     847|       42|    1041|       51|     WN| N422WN|  1520|   PDX| OAK|      90|     543|   8|    47|\n",
            "|2014|    5| 12|    1655|       -5|    1842|      -18|     VX| N361VA|   755|   SEA| SFO|      98|     679|  16|    55|\n",
            "|2014|    4| 19|    1236|       -4|    1508|       -7|     AS| N309AS|   490|   SEA| SAN|     135|    1050|  12|    36|\n",
            "|2014|   11| 19|    1812|       -3|    2352|       -4|     AS| N564AS|    26|   SEA| ORD|     198|    1721|  18|    12|\n",
            "|2014|   11|  8|    1653|       -2|    1924|       -1|     AS| N323AS|   448|   SEA| LAX|     130|     954|  16|    53|\n",
            "|2014|    8|  3|    1120|        0|    1415|        2|     AS| N305AS|   656|   SEA| PHX|     154|    1107|  11|    20|\n",
            "|2014|   10| 30|     811|       21|    1038|       29|     AS| N433AS|   608|   SEA| LAS|     127|     867|   8|    11|\n",
            "|2014|   11| 12|    2346|       -4|     217|      -28|     AS| N765AS|   121|   SEA| ANC|     183|    1448|  23|    46|\n",
            "|2014|   10| 31|    1314|       89|    1544|      111|     AS| N713AS|   306|   SEA| SFO|     129|     679|  13|    14|\n",
            "|2014|    1| 29|    2009|        3|    2159|        9|     UA| N27205|  1458|   PDX| SFO|      90|     550|  20|     9|\n",
            "|2014|   12| 17|    2015|       50|    2150|       41|     AS| N626AS|   368|   SEA| SMF|      76|     605|  20|    15|\n",
            "|2014|    8| 11|    1017|       -3|    1613|       -7|     WN| N8634A|   827|   SEA| MDW|     216|    1733|  10|    17|\n",
            "|2014|    1| 13|    2156|       -9|     607|      -15|     AS| N597AS|    24|   SEA| BOS|     290|    2496|  21|    56|\n",
            "|2014|    6|  5|    1733|      -12|    1945|      -10|     OO| N215AG|  3488|   PDX| BUR|     111|     817|  17|    33|\n",
            "|2014|    7| 27|    2105|       15|    2316|       21|     AS| N519AS|   300|   SEA| SFO|     106|     679|  21|     5|\n",
            "|2014|    9| 26|     610|       -5|    1523|       65|     US| N127UW|   616|   SEA| PHL|     293|    2378|   6|    10|\n",
            "|2014|    8| 19|    1845|       -5|    2112|      -22|     DL| N354NW|  2642|   SEA| LAX|     119|     954|  18|    45|\n",
            "|2014|    8| 19|    1222|        5|    1419|       -1|     OO| N825SK|  4623|   SEA| SJC|      90|     697|  12|    22|\n",
            "|2014|   10| 29|     643|        3|     851|        2|     OO| N218AG|  3456|   PDX| BUR|     108|     817|   6|    43|\n",
            "|2014|    6|  5|    1133|       38|    1247|       32|     WN| N793SA|  1617|   PDX| RNO|      61|     444|  11|    33|\n",
            "|2014|   12| 30|    1305|       70|    1525|       86|     AS| N520AS|   306|   SEA| SFO|     117|     679|  13|     5|\n",
            "|2014|    9| 28|    1848|       -7|    2044|       -9|     OO| N217AG|  3490|   SEA| FAT|      98|     748|  18|    48|\n",
            "|2014|   12|  4|     954|       -6|    1348|      -17|     HA| N395HA|    29|   SEA| OGG|     333|    2640|   9|    54|\n",
            "|2014|    2| 25|     555|       -5|     819|       -3|     AS| N549AS|   604|   SEA| LAS|     121|     867|   5|    55|\n",
            "|2014|   12| 14|     633|       -7|     841|       -9|     OO| N951SW|  3456|   PDX| BUR|     107|     817|   6|    33|\n",
            "|2014|    8| 24|    1646|       21|    1901|        1|     B6| N606JB|  1007|   SEA| LGB|     121|     965|  16|    46|\n",
            "|2014|    6|  4|    1115|        0|    1346|       -3|     AS| N461AS|   488|   SEA| SAN|     133|    1050|  11|    15|\n",
            "|2014|    6| 26|    2054|       -1|    2318|       -6|     B6| N590JB|   907|   SEA| ANC|     179|    1448|  20|    54|\n",
            "|2014|    6| 11|    1957|       -3|    2201|       -2|     AS| N778AS|   326|   SEA| SJC|     106|     697|  19|    57|\n",
            "|2014|    6|  7|    1823|       -7|    2112|      -28|     AS| N512AS|   815|   SEA| LIH|     335|    2701|  18|    23|\n",
            "|2014|    4| 30|     801|        1|    1757|       90|     AS| N407AS|    18|   SEA| MCO|     342|    2554|   8|     1|\n",
            "|2014|   11| 29|     905|      155|    1655|      170|     DL| N824DN|  1598|   SEA| ATL|     229|    2182|   9|     5|\n",
            "|2014|    7| 25|     948|       -2|    1229|      -10|     OO| N223AG|  3492|   PDX| SLC|      85|     630|   9|    48|\n",
            "|2014|    8| 30|    2004|       26|    2325|       22|     F9| N204FR|   794|   PDX| DEN|     120|     991|  20|     4|\n",
            "|2014|    6|  2|    2222|        7|      55|       15|     AS| N402AS|    99|   SEA| ANC|     190|    1448|  22|    22|\n",
            "|2014|   11| 15|    1034|       -6|    1414|      -26|     AS| N589AS|   794|   SEA| ABQ|     139|    1180|  10|    34|\n",
            "|2014|   11| 15|    1858|        8|    2107|        2|     AS| N587AS|   616|   SEA| LAS|     106|     867|  18|    58|\n",
            "|2014|   10| 20|    1328|       -1|    1949|        4|     UA| N68805|  1212|   SEA| IAH|     228|    1874|  13|    28|\n",
            "|2014|   10| 23|    2102|       -3|    2258|        5|     OO| N969SW|  5189|   PDX| SFO|      93|     550|  21|     2|\n",
            "|2014|   12| 16|    1500|        0|    1906|       19|     US| N662AW|   500|   SEA| PHX|     151|    1107|  15|     0|\n",
            "|2014|   11| 19|    1319|       -6|    1821|      -14|     DL| N309US|  2164|   PDX| MSP|     169|    1426|  13|    19|\n",
            "|2014|    5| 21|     515|        0|     757|        0|     US| N172US|   593|   SEA| PHX|     143|    1107|   5|    15|\n",
            "|2014|    9|  3|     900|       -5|    1136|       -1|     US| N579UW|   630|   PDX| PHX|     138|    1009|   9|     0|\n",
            "|2014|    7| 26|    1058|       -2|    1407|       12|     AS| N315AS|   648|   SEA| TUS|     174|    1216|  10|    58|\n",
            "|2014|    9| 29|    1003|       58|    1222|       45|     US| N157UW|   630|   PDX| PHX|     125|    1009|  10|     3|\n",
            "|2014|    6| 11|     750|      -10|    1009|      -11|     AS| N799AS|   568|   PDX| LAX|     118|     834|   7|    50|\n",
            "|2014|    3| 13|    2201|        1|     554|      -14|     UA| N37468|  1275|   SEA| EWR|     268|    2402|  22|     1|\n",
            "|2014|    8|  8|    2011|       11|    2216|       11|     AS| N565AS|   326|   SEA| SJC|     104|     697|  20|    11|\n",
            "|2014|    9|  4|     830|       -5|    1647|      -23|     AS| N583AS|    12|   SEA| BOS|     285|    2496|   8|    30|\n",
            "|2014|    9| 15|    1025|       -5|    1259|       -5|     AS| N585AS|    85|   SEA| ANC|     181|    1448|  10|    25|\n",
            "|2014|    6| 13|    2233|       53|    2359|       38|     AS| N577AS|   372|   SEA| SMF|      68|     605|  22|    33|\n",
            "|2014|    5|  2|    1253|       -2|    1452|       -3|     AS| N516AS|   324|   SEA| SJC|     107|     697|  12|    53|\n",
            "|2014|   12|  9|     936|      -14|    1215|      -25|     OO| N225AG|  3492|   PDX| SLC|      82|     630|   9|    36|\n",
            "|2014|    5| 22|    1018|       -3|    1621|        1|     UA| N559UA|   732|   PDX| ORD|     211|    1739|  10|    18|\n",
            "|2014|    3| 20|    1200|       -8|    1239|       -7|     OO| N569SW|  5411|   PDX| EUG|      30|     106|  12|     0|\n",
            "|2014|    7| 13|    2125|       -5|    2216|       -8|     AS| N315AS|   694|   SEA| GEG|      37|     224|  21|    25|\n",
            "|2014|    1| 15|     808|       -2|    1011|        1|     WN| N364SW|   207|   SEA| OAK|     104|     672|   8|     8|\n",
            "|2014|   10| 12|    1836|       -4|    2200|      -15|     OO| N219AG|  3498|   SEA| COS|     123|    1068|  18|    36|\n",
            "|2014|    2| 18|     554|       -1|    1151|      -19|     UA| N37419|  1445|   SEA| IAH|     203|    1874|   5|    54|\n",
            "|2014|   12| 11|    1057|       87|    1315|      112|     OO| N918SW|  6328|   PDX| SFO|     118|     550|  10|    57|\n",
            "|2014|    7|  5|    2224|       -1|      48|      -20|     AS| N459AS|   143|   PDX| ANC|     185|    1542|  22|    24|\n",
            "|2014|    5| 16|     746|       -4|    1021|      -12|     AS| N622AS|   634|   SEA| PHX|     135|    1107|   7|    46|\n",
            "|2014|   11| 19|     601|        1|    1129|      -16|     AA| N4YJAA|  1534|   PDX| DFW|     189|    1616|   6|     1|\n",
            "|2014|    3| 19|    1750|        5|    2027|       -5|     US| N640AW|   496|   SEA| PHX|     137|    1107|  17|    50|\n",
            "|2014|    7|  7|     602|        2|     806|        5|     AS| N453AS|   200|   SEA| SJC|     104|     697|   6|     2|\n",
            "|2014|   12| 17|    2234|      223|      11|      212|     UA| N39450|  1596|   PDX| SFO|      76|     550|  22|    34|\n",
            "|2014|    5| 12|    1424|       -6|    1631|       -5|     AS| N532AS|   316|   SEA| SFO|      95|     679|  14|    24|\n",
            "|2014|    8| 16|    1217|       -7|    1356|      -28|     UA| N34282|  1574|   PDX| SFO|      84|     550|  12|    17|\n",
            "|2014|    4|  6|    1844|       -6|    2104|      -26|     AS| N409AS|   630|   SEA| PHX|     124|    1107|  18|    44|\n",
            "|2014|    4|  1|    1010|       -5|    1258|      -17|     HA| N381HA|    25|   PDX| HNL|     328|    2603|  10|    10|\n",
            "|2014|    3| 20|     704|        4|    1033|       -2|     WN| N650SW|   397|   PDX| ABQ|     133|    1111|   7|     4|\n",
            "|2014|    1| 22|    1528|       -9|    1851|      -14|     F9| N941FR|   148|   SEA| DEN|     129|    1024|  15|    28|\n",
            "|2014|    9| 28|    2041|       -9|    2251|       -7|     AS| N552AS|   624|   PDX| LAS|     106|     763|  20|    41|\n",
            "|2014|    2| 14|    2002|        2|    2056|        1|     AS| N788AS|   694|   SEA| GEG|      38|     224|  20|     2|\n",
            "|2014|    4| 25|    1049|       -6|    1326|       -4|     VX| N853VA|   784|   SEA| LAX|     133|     954|  10|    49|\n",
            "|2014|    7| 25|     739|       -1|    1020|       -5|     AS| N442AS|   634|   SEA| PHX|     139|    1107|   7|    39|\n",
            "|2014|    8| 25|     711|       -4|     843|      -27|     WN| N244WN|   159|   PDX| SJC|      77|     569|   7|    11|\n",
            "|2014|   12| 26|    2337|        0|     741|       -1|     DL| N3760C|  1358|   PDX| JFK|     274|    2454|  23|    37|\n",
            "|2014|   11| 25|     559|      -11|     914|      -27|     F9| N208FR|   144|   SEA| DEN|     112|    1024|   5|    59|\n",
            "|2014|    7| 14|    2009|       44|    2336|       31|     WN| N468WN|  1918|   SEA| DEN|     122|    1024|  20|     9|\n",
            "|2014|    7|  1|    1959|       -6|    2224|      -17|     DL|  N6701|  1545|   SEA| FAI|     180|    1533|  19|    59|\n",
            "|2014|    6| 29|    1347|        3|    2016|       14|     UA| N848UA|   475|   SEA| IAH|     215|    1874|  13|    47|\n",
            "|2014|    8| 23|     831|       -4|    1639|       -3|     AS| N435AS|    32|   SEA| PHL|     285|    2378|   8|    31|\n",
            "|2014|    6| 27|     934|        4|    1139|        9|     AS| N794AS|   330|   SEA| SJC|     105|     697|   9|    34|\n",
            "|2014|    1|  6|     758|       -2|    1030|      -19|     AS| N614AS|    83|   SEA| ANC|     193|    1448|   7|    58|\n",
            "|2014|    4| 23|    1650|        9|    1924|        2|     DL| N814DN|  1194|   PDX| SLC|      80|     630|  16|    50|\n",
            "|2014|    7| 27|    1020|       -5|    1251|        2|     AS| N587AS|   586|   SEA| LAS|     130|     867|  10|    20|\n",
            "|2014|    1| 11|     716|       -4|    1059|       -9|     AS| N581AS|   642|   SEA| PHX|     142|    1107|   7|    16|\n",
            "|2014|   10| 15|    2244|        5|     607|        3|     DL| N816DN|  2497|   PDX| ATL|     233|    2172|  22|    44|\n",
            "|2014|    8|  6|     735|       -5|     829|      -18|     AS| N703AS|    65|   SEA| KTN|      98|     680|   7|    35|\n",
            "|2014|    4| 12|    1248|       -2|    1836|      -14|     UA| N435UA|   464|   PDX| ORD|     212|    1739|  12|    48|\n",
            "|2014|   12|  1|    2210|        0|     124|       11|     AS| N538AS|   143|   PDX| ANC|     225|    1542|  22|    10|\n",
            "|2014|    4| 30|     835|       -5|    1040|       -9|     AS| N705AS|   382|   SEA| SFO|     101|     679|   8|    35|\n",
            "|2014|    8| 15|    1113|       -7|    1355|      -18|     AS| N614AS|   656|   SEA| PHX|     140|    1107|  11|    13|\n",
            "+----+-----+---+--------+---------+--------+---------+-------+-------+------+------+----+--------+--------+----+------+\n",
            "only showing top 100 rows\n",
            "\n"
          ]
        }
      ]
    },
    {
      "cell_type": "code",
      "source": [
        "df_flights.filter(df_flights.day.isNotNull()).show(100)"
      ],
      "metadata": {
        "colab": {
          "base_uri": "https://localhost:8080/"
        },
        "id": "NUIc-c-4q91K",
        "outputId": "fc52e30b-e3cf-43f3-9e56-7e40937b4e2e"
      },
      "execution_count": 44,
      "outputs": [
        {
          "output_type": "stream",
          "name": "stdout",
          "text": [
            "+----+-----+---+--------+---------+--------+---------+-------+-------+------+------+----+--------+--------+----+------+\n",
            "|year|month|day|dep_time|dep_delay|arr_time|arr_delay|carrier|tailnum|flight|origin|dest|air_time|distance|hour|minute|\n",
            "+----+-----+---+--------+---------+--------+---------+-------+-------+------+------+----+--------+--------+----+------+\n",
            "|2014|   12|  8|     658|       -7|     935|       -5|     VX| N846VA|  1780|   SEA| LAX|     132|     954|   6|    58|\n",
            "|2014|    1| 22|    1040|        5|    1505|        5|     AS| N559AS|   851|   SEA| HNL|     360|    2677|  10|    40|\n",
            "|2014|    3|  9|    1443|       -2|    1652|        2|     VX| N847VA|   755|   SEA| SFO|     111|     679|  14|    43|\n",
            "|2014|    4|  9|    1705|       45|    1839|       34|     WN| N360SW|   344|   PDX| SJC|      83|     569|  17|     5|\n",
            "|2014|    3|  9|     754|       -1|    1015|        1|     AS| N612AS|   522|   SEA| BUR|     127|     937|   7|    54|\n",
            "|2014|    1| 15|    1037|        7|    1352|        2|     WN| N646SW|    48|   PDX| DEN|     121|     991|  10|    37|\n",
            "|2014|    7|  2|     847|       42|    1041|       51|     WN| N422WN|  1520|   PDX| OAK|      90|     543|   8|    47|\n",
            "|2014|    5| 12|    1655|       -5|    1842|      -18|     VX| N361VA|   755|   SEA| SFO|      98|     679|  16|    55|\n",
            "|2014|    4| 19|    1236|       -4|    1508|       -7|     AS| N309AS|   490|   SEA| SAN|     135|    1050|  12|    36|\n",
            "|2014|   11| 19|    1812|       -3|    2352|       -4|     AS| N564AS|    26|   SEA| ORD|     198|    1721|  18|    12|\n",
            "|2014|   11|  8|    1653|       -2|    1924|       -1|     AS| N323AS|   448|   SEA| LAX|     130|     954|  16|    53|\n",
            "|2014|    8|  3|    1120|        0|    1415|        2|     AS| N305AS|   656|   SEA| PHX|     154|    1107|  11|    20|\n",
            "|2014|   10| 30|     811|       21|    1038|       29|     AS| N433AS|   608|   SEA| LAS|     127|     867|   8|    11|\n",
            "|2014|   11| 12|    2346|       -4|     217|      -28|     AS| N765AS|   121|   SEA| ANC|     183|    1448|  23|    46|\n",
            "|2014|   10| 31|    1314|       89|    1544|      111|     AS| N713AS|   306|   SEA| SFO|     129|     679|  13|    14|\n",
            "|2014|    1| 29|    2009|        3|    2159|        9|     UA| N27205|  1458|   PDX| SFO|      90|     550|  20|     9|\n",
            "|2014|   12| 17|    2015|       50|    2150|       41|     AS| N626AS|   368|   SEA| SMF|      76|     605|  20|    15|\n",
            "|2014|    8| 11|    1017|       -3|    1613|       -7|     WN| N8634A|   827|   SEA| MDW|     216|    1733|  10|    17|\n",
            "|2014|    1| 13|    2156|       -9|     607|      -15|     AS| N597AS|    24|   SEA| BOS|     290|    2496|  21|    56|\n",
            "|2014|    6|  5|    1733|      -12|    1945|      -10|     OO| N215AG|  3488|   PDX| BUR|     111|     817|  17|    33|\n",
            "|2014|    7| 27|    2105|       15|    2316|       21|     AS| N519AS|   300|   SEA| SFO|     106|     679|  21|     5|\n",
            "|2014|    9| 26|     610|       -5|    1523|       65|     US| N127UW|   616|   SEA| PHL|     293|    2378|   6|    10|\n",
            "|2014|    8| 19|    1845|       -5|    2112|      -22|     DL| N354NW|  2642|   SEA| LAX|     119|     954|  18|    45|\n",
            "|2014|    8| 19|    1222|        5|    1419|       -1|     OO| N825SK|  4623|   SEA| SJC|      90|     697|  12|    22|\n",
            "|2014|   10| 29|     643|        3|     851|        2|     OO| N218AG|  3456|   PDX| BUR|     108|     817|   6|    43|\n",
            "|2014|    6|  5|    1133|       38|    1247|       32|     WN| N793SA|  1617|   PDX| RNO|      61|     444|  11|    33|\n",
            "|2014|   12| 30|    1305|       70|    1525|       86|     AS| N520AS|   306|   SEA| SFO|     117|     679|  13|     5|\n",
            "|2014|    9| 28|    1848|       -7|    2044|       -9|     OO| N217AG|  3490|   SEA| FAT|      98|     748|  18|    48|\n",
            "|2014|   12|  4|     954|       -6|    1348|      -17|     HA| N395HA|    29|   SEA| OGG|     333|    2640|   9|    54|\n",
            "|2014|    2| 25|     555|       -5|     819|       -3|     AS| N549AS|   604|   SEA| LAS|     121|     867|   5|    55|\n",
            "|2014|   12| 14|     633|       -7|     841|       -9|     OO| N951SW|  3456|   PDX| BUR|     107|     817|   6|    33|\n",
            "|2014|    8| 24|    1646|       21|    1901|        1|     B6| N606JB|  1007|   SEA| LGB|     121|     965|  16|    46|\n",
            "|2014|    6|  4|    1115|        0|    1346|       -3|     AS| N461AS|   488|   SEA| SAN|     133|    1050|  11|    15|\n",
            "|2014|    6| 26|    2054|       -1|    2318|       -6|     B6| N590JB|   907|   SEA| ANC|     179|    1448|  20|    54|\n",
            "|2014|    6| 11|    1957|       -3|    2201|       -2|     AS| N778AS|   326|   SEA| SJC|     106|     697|  19|    57|\n",
            "|2014|    6|  7|    1823|       -7|    2112|      -28|     AS| N512AS|   815|   SEA| LIH|     335|    2701|  18|    23|\n",
            "|2014|    4| 30|     801|        1|    1757|       90|     AS| N407AS|    18|   SEA| MCO|     342|    2554|   8|     1|\n",
            "|2014|   11| 29|     905|      155|    1655|      170|     DL| N824DN|  1598|   SEA| ATL|     229|    2182|   9|     5|\n",
            "|2014|    7| 25|     948|       -2|    1229|      -10|     OO| N223AG|  3492|   PDX| SLC|      85|     630|   9|    48|\n",
            "|2014|    8| 30|    2004|       26|    2325|       22|     F9| N204FR|   794|   PDX| DEN|     120|     991|  20|     4|\n",
            "|2014|    6|  2|    2222|        7|      55|       15|     AS| N402AS|    99|   SEA| ANC|     190|    1448|  22|    22|\n",
            "|2014|   11| 15|    1034|       -6|    1414|      -26|     AS| N589AS|   794|   SEA| ABQ|     139|    1180|  10|    34|\n",
            "|2014|   11| 15|    1858|        8|    2107|        2|     AS| N587AS|   616|   SEA| LAS|     106|     867|  18|    58|\n",
            "|2014|   10| 20|    1328|       -1|    1949|        4|     UA| N68805|  1212|   SEA| IAH|     228|    1874|  13|    28|\n",
            "|2014|   10| 23|    2102|       -3|    2258|        5|     OO| N969SW|  5189|   PDX| SFO|      93|     550|  21|     2|\n",
            "|2014|   12| 16|    1500|        0|    1906|       19|     US| N662AW|   500|   SEA| PHX|     151|    1107|  15|     0|\n",
            "|2014|   11| 19|    1319|       -6|    1821|      -14|     DL| N309US|  2164|   PDX| MSP|     169|    1426|  13|    19|\n",
            "|2014|    5| 21|     515|        0|     757|        0|     US| N172US|   593|   SEA| PHX|     143|    1107|   5|    15|\n",
            "|2014|    9|  3|     900|       -5|    1136|       -1|     US| N579UW|   630|   PDX| PHX|     138|    1009|   9|     0|\n",
            "|2014|    7| 26|    1058|       -2|    1407|       12|     AS| N315AS|   648|   SEA| TUS|     174|    1216|  10|    58|\n",
            "|2014|    9| 29|    1003|       58|    1222|       45|     US| N157UW|   630|   PDX| PHX|     125|    1009|  10|     3|\n",
            "|2014|    6| 11|     750|      -10|    1009|      -11|     AS| N799AS|   568|   PDX| LAX|     118|     834|   7|    50|\n",
            "|2014|    3| 13|    2201|        1|     554|      -14|     UA| N37468|  1275|   SEA| EWR|     268|    2402|  22|     1|\n",
            "|2014|    8|  8|    2011|       11|    2216|       11|     AS| N565AS|   326|   SEA| SJC|     104|     697|  20|    11|\n",
            "|2014|    9|  4|     830|       -5|    1647|      -23|     AS| N583AS|    12|   SEA| BOS|     285|    2496|   8|    30|\n",
            "|2014|    9| 15|    1025|       -5|    1259|       -5|     AS| N585AS|    85|   SEA| ANC|     181|    1448|  10|    25|\n",
            "|2014|    6| 13|    2233|       53|    2359|       38|     AS| N577AS|   372|   SEA| SMF|      68|     605|  22|    33|\n",
            "|2014|    5|  2|    1253|       -2|    1452|       -3|     AS| N516AS|   324|   SEA| SJC|     107|     697|  12|    53|\n",
            "|2014|   12|  9|     936|      -14|    1215|      -25|     OO| N225AG|  3492|   PDX| SLC|      82|     630|   9|    36|\n",
            "|2014|    5| 22|    1018|       -3|    1621|        1|     UA| N559UA|   732|   PDX| ORD|     211|    1739|  10|    18|\n",
            "|2014|    3| 20|    1200|       -8|    1239|       -7|     OO| N569SW|  5411|   PDX| EUG|      30|     106|  12|     0|\n",
            "|2014|    7| 13|    2125|       -5|    2216|       -8|     AS| N315AS|   694|   SEA| GEG|      37|     224|  21|    25|\n",
            "|2014|    1| 15|     808|       -2|    1011|        1|     WN| N364SW|   207|   SEA| OAK|     104|     672|   8|     8|\n",
            "|2014|   10| 12|    1836|       -4|    2200|      -15|     OO| N219AG|  3498|   SEA| COS|     123|    1068|  18|    36|\n",
            "|2014|    2| 18|     554|       -1|    1151|      -19|     UA| N37419|  1445|   SEA| IAH|     203|    1874|   5|    54|\n",
            "|2014|   12| 11|    1057|       87|    1315|      112|     OO| N918SW|  6328|   PDX| SFO|     118|     550|  10|    57|\n",
            "|2014|    7|  5|    2224|       -1|      48|      -20|     AS| N459AS|   143|   PDX| ANC|     185|    1542|  22|    24|\n",
            "|2014|    5| 16|     746|       -4|    1021|      -12|     AS| N622AS|   634|   SEA| PHX|     135|    1107|   7|    46|\n",
            "|2014|   11| 19|     601|        1|    1129|      -16|     AA| N4YJAA|  1534|   PDX| DFW|     189|    1616|   6|     1|\n",
            "|2014|    3| 19|    1750|        5|    2027|       -5|     US| N640AW|   496|   SEA| PHX|     137|    1107|  17|    50|\n",
            "|2014|    7|  7|     602|        2|     806|        5|     AS| N453AS|   200|   SEA| SJC|     104|     697|   6|     2|\n",
            "|2014|   12| 17|    2234|      223|      11|      212|     UA| N39450|  1596|   PDX| SFO|      76|     550|  22|    34|\n",
            "|2014|    5| 12|    1424|       -6|    1631|       -5|     AS| N532AS|   316|   SEA| SFO|      95|     679|  14|    24|\n",
            "|2014|    8| 16|    1217|       -7|    1356|      -28|     UA| N34282|  1574|   PDX| SFO|      84|     550|  12|    17|\n",
            "|2014|    4|  6|    1844|       -6|    2104|      -26|     AS| N409AS|   630|   SEA| PHX|     124|    1107|  18|    44|\n",
            "|2014|    4|  1|    1010|       -5|    1258|      -17|     HA| N381HA|    25|   PDX| HNL|     328|    2603|  10|    10|\n",
            "|2014|    3| 20|     704|        4|    1033|       -2|     WN| N650SW|   397|   PDX| ABQ|     133|    1111|   7|     4|\n",
            "|2014|    1| 22|    1528|       -9|    1851|      -14|     F9| N941FR|   148|   SEA| DEN|     129|    1024|  15|    28|\n",
            "|2014|    9| 28|    2041|       -9|    2251|       -7|     AS| N552AS|   624|   PDX| LAS|     106|     763|  20|    41|\n",
            "|2014|    2| 14|    2002|        2|    2056|        1|     AS| N788AS|   694|   SEA| GEG|      38|     224|  20|     2|\n",
            "|2014|    4| 25|    1049|       -6|    1326|       -4|     VX| N853VA|   784|   SEA| LAX|     133|     954|  10|    49|\n",
            "|2014|    7| 25|     739|       -1|    1020|       -5|     AS| N442AS|   634|   SEA| PHX|     139|    1107|   7|    39|\n",
            "|2014|    8| 25|     711|       -4|     843|      -27|     WN| N244WN|   159|   PDX| SJC|      77|     569|   7|    11|\n",
            "|2014|   12| 26|    2337|        0|     741|       -1|     DL| N3760C|  1358|   PDX| JFK|     274|    2454|  23|    37|\n",
            "|2014|   11| 25|     559|      -11|     914|      -27|     F9| N208FR|   144|   SEA| DEN|     112|    1024|   5|    59|\n",
            "|2014|    7| 14|    2009|       44|    2336|       31|     WN| N468WN|  1918|   SEA| DEN|     122|    1024|  20|     9|\n",
            "|2014|    7|  1|    1959|       -6|    2224|      -17|     DL|  N6701|  1545|   SEA| FAI|     180|    1533|  19|    59|\n",
            "|2014|    6| 29|    1347|        3|    2016|       14|     UA| N848UA|   475|   SEA| IAH|     215|    1874|  13|    47|\n",
            "|2014|    8| 23|     831|       -4|    1639|       -3|     AS| N435AS|    32|   SEA| PHL|     285|    2378|   8|    31|\n",
            "|2014|    6| 27|     934|        4|    1139|        9|     AS| N794AS|   330|   SEA| SJC|     105|     697|   9|    34|\n",
            "|2014|    1|  6|     758|       -2|    1030|      -19|     AS| N614AS|    83|   SEA| ANC|     193|    1448|   7|    58|\n",
            "|2014|    4| 23|    1650|        9|    1924|        2|     DL| N814DN|  1194|   PDX| SLC|      80|     630|  16|    50|\n",
            "|2014|    7| 27|    1020|       -5|    1251|        2|     AS| N587AS|   586|   SEA| LAS|     130|     867|  10|    20|\n",
            "|2014|    1| 11|     716|       -4|    1059|       -9|     AS| N581AS|   642|   SEA| PHX|     142|    1107|   7|    16|\n",
            "|2014|   10| 15|    2244|        5|     607|        3|     DL| N816DN|  2497|   PDX| ATL|     233|    2172|  22|    44|\n",
            "|2014|    8|  6|     735|       -5|     829|      -18|     AS| N703AS|    65|   SEA| KTN|      98|     680|   7|    35|\n",
            "|2014|    4| 12|    1248|       -2|    1836|      -14|     UA| N435UA|   464|   PDX| ORD|     212|    1739|  12|    48|\n",
            "|2014|   12|  1|    2210|        0|     124|       11|     AS| N538AS|   143|   PDX| ANC|     225|    1542|  22|    10|\n",
            "|2014|    4| 30|     835|       -5|    1040|       -9|     AS| N705AS|   382|   SEA| SFO|     101|     679|   8|    35|\n",
            "|2014|    8| 15|    1113|       -7|    1355|      -18|     AS| N614AS|   656|   SEA| PHX|     140|    1107|  11|    13|\n",
            "+----+-----+---+--------+---------+--------+---------+-------+-------+------+------+----+--------+--------+----+------+\n",
            "only showing top 100 rows\n",
            "\n"
          ]
        }
      ]
    },
    {
      "cell_type": "code",
      "source": [
        "window = Window.partitionBy(\"year\").orderBy(\"year\").rangeBetween(Window.currentRow, 1950)\n",
        "df_flights.select(substring('month', 1, 12).cast(StringType()).alias('qa_year_month_day')).show()\n",
        "df_flights.select(substring('day', 1, 31).cast(StringType()).alias('qa_year_month_day')).show()\n",
        "df_flights.filter((df_flights.month == \"2\") & (df_flights.day  < \"29\")).show()\n"
      ],
      "metadata": {
        "colab": {
          "base_uri": "https://localhost:8080/"
        },
        "id": "V0RN5qrtrrjX",
        "outputId": "4275eeba-29e3-4bcc-c16f-36005106e448"
      },
      "execution_count": 45,
      "outputs": [
        {
          "output_type": "stream",
          "name": "stdout",
          "text": [
            "+-----------------+\n",
            "|qa_year_month_day|\n",
            "+-----------------+\n",
            "|               12|\n",
            "|                1|\n",
            "|                3|\n",
            "|                4|\n",
            "|                3|\n",
            "|                1|\n",
            "|                7|\n",
            "|                5|\n",
            "|                4|\n",
            "|               11|\n",
            "|               11|\n",
            "|                8|\n",
            "|               10|\n",
            "|               11|\n",
            "|               10|\n",
            "|                1|\n",
            "|               12|\n",
            "|                8|\n",
            "|                1|\n",
            "|                6|\n",
            "+-----------------+\n",
            "only showing top 20 rows\n",
            "\n",
            "+-----------------+\n",
            "|qa_year_month_day|\n",
            "+-----------------+\n",
            "|                8|\n",
            "|               22|\n",
            "|                9|\n",
            "|                9|\n",
            "|                9|\n",
            "|               15|\n",
            "|                2|\n",
            "|               12|\n",
            "|               19|\n",
            "|               19|\n",
            "|                8|\n",
            "|                3|\n",
            "|               30|\n",
            "|               12|\n",
            "|               31|\n",
            "|               29|\n",
            "|               17|\n",
            "|               11|\n",
            "|               13|\n",
            "|                5|\n",
            "+-----------------+\n",
            "only showing top 20 rows\n",
            "\n",
            "+----+-----+---+--------+---------+--------+---------+-------+-------+------+------+----+--------+--------+----+------+\n",
            "|year|month|day|dep_time|dep_delay|arr_time|arr_delay|carrier|tailnum|flight|origin|dest|air_time|distance|hour|minute|\n",
            "+----+-----+---+--------+---------+--------+---------+-------+-------+------+------+----+--------+--------+----+------+\n",
            "|2014|    2| 25|     555|       -5|     819|       -3|     AS| N549AS|   604|   SEA| LAS|     121|     867|   5|    55|\n",
            "|2014|    2| 18|     554|       -1|    1151|      -19|     UA| N37419|  1445|   SEA| IAH|     203|    1874|   5|    54|\n",
            "|2014|    2| 14|    2002|        2|    2056|        1|     AS| N788AS|   694|   SEA| GEG|      38|     224|  20|     2|\n",
            "|2014|    2| 17|     901|       -4|    1505|        6|     UA| N407UA|   714|   PDX| ORD|     197|    1739|   9|     1|\n",
            "|2014|    2|  9|     837|        7|    1205|      -11|     US| N626AW|   471|   SEA| PHX|     129|    1107|   8|    37|\n",
            "|2014|    2| 23|     827|       22|    1358|        8|     AA| N4YDAA|  1220|   PDX| DFW|     183|    1616|   8|    27|\n",
            "|2014|    2|  4|    2053|       -7|    2144|       -4|     OO| N223SW|  5433|   SEA| PDX|      29|     129|  20|    53|\n",
            "|2014|    2|  5|    2249|      -11|    2338|      -19|     AS| N644AS|   698|   SEA| GEG|      36|     224|  22|    49|\n",
            "|2014|    2|  3|     553|       -7|     836|      -27|     DL| N663DN|  1634|   SEA| SLC|      85|     689|   5|    53|\n",
            "|2014|    2| 12|      NA|       NA|      NA|       NA|     AS| N527AS|     2|   SEA| DCA|      NA|    2329|  NA|    NA|\n",
            "|2014|    2|  9|    1019|       -1|    1639|       11|     AS| N433AS|   730|   SEA| IAH|     228|    1874|  10|    19|\n",
            "|2014|    2| 27|    1426|       -4|    1645|       -6|     AS| N609AS|   608|   SEA| LAS|     113|     867|  14|    26|\n",
            "|2014|    2|  5|    1823|       -2|    2046|       -9|     AS| N524AS|   464|   SEA| LAX|     120|     954|  18|    23|\n",
            "|2014|    2| 22|    1348|       46|    1637|       51|     UA| N36444|  1192|   SEA| ANC|     213|    1448|  13|    48|\n",
            "|2014|    2|  9|    1058|      133|    1158|      145|     OO| N580SW|  5438|   SEA| PDX|      35|     129|  10|    58|\n",
            "|2014|    2| 12|     602|       -3|    1123|      -32|     AA| N3ELAA|  1094|   SEA| DFW|     178|    1660|   6|     2|\n",
            "|2014|    2|  8|    1024|       14|    1151|       21|     WN| N728SW|  3181|   PDX| SMF|      71|     479|  10|    24|\n",
            "|2014|    2| 22|    1827|       -8|    2027|      -18|     AS| N796AS|   302|   SEA| SFO|      98|     679|  18|    27|\n",
            "|2014|    2| 19|    2048|       43|    2257|       22|     WN| N959WN|   126|   SEA| LAS|     106|     867|  20|    48|\n",
            "|2014|    2| 23|    2050|      -10|    2140|       -8|     OO| N221SW|  5433|   SEA| PDX|      34|     129|  20|    50|\n",
            "+----+-----+---+--------+---------+--------+---------+-------+-------+------+------+----+--------+--------+----+------+\n",
            "only showing top 20 rows\n",
            "\n"
          ]
        }
      ]
    },
    {
      "cell_type": "markdown",
      "source": [
        "2 - Crie a coluna qa_hour_minute e aponte inconsistencias das colunas hour e minute de acordo\n",
        "com as regras abaixo.<br>\n",
        "MH : Indica que está com dado faltante na hora.<br>\n",
        "MM : Indica que está com dado faltante no minuto.<br>\n",
        "IH : Indica que o valor excede o intervalo na hora [0, 24].<br>\n",
        "IM : Indica que o valor excede o intervalo no minuto [0, 59].<br>"
      ],
      "metadata": {
        "application/vnd.databricks.v1+cell": {
          "title": "",
          "showTitle": false,
          "inputWidgets": {},
          "nuid": "c531772a-1aa3-473f-869c-d21d532c3f35"
        },
        "id": "nZXXDMwQLZXU"
      }
    },
    {
      "cell_type": "markdown",
      "source": [
        "3 - Crie a coluna qa_dep_arr_time e aponte inconsistências da coluna dep_time e arr_time de\n",
        "acordo com as regras abaixo.<br>\n",
        "MD : Indica que está com dado faltante no dep_time .<br>\n",
        "MA : Indica que está com dado faltante no arr_time .<br>\n",
        "FD : Indica que não respeita o formato esperado (HHMM ou HMM) no dep_time .<br>\n",
        "FA : Indica que não respeita o formato esperado (HHMM ou HMM) no arr_time .<br>"
      ],
      "metadata": {
        "application/vnd.databricks.v1+cell": {
          "title": "",
          "showTitle": false,
          "inputWidgets": {},
          "nuid": "1f993d9c-a3ba-4cc7-a743-9ebd28a26ac6"
        },
        "id": "YJjyiXFOLZXV"
      }
    },
    {
      "cell_type": "markdown",
      "source": [
        "4 - Crie a coluna qa_dep_arr_delay e aponte inconsistências da coluna dep_delay e arr_delay de\n",
        "acordo com as regras abaixo.<br>\n",
        "MD : Indica que está com dado faltante no dep_delay .<br>\n",
        "MA : Indica que está com dado faltante no arr_delay .<br>"
      ],
      "metadata": {
        "application/vnd.databricks.v1+cell": {
          "title": "",
          "showTitle": false,
          "inputWidgets": {},
          "nuid": "80e2a6f8-cc92-4010-9671-27c35aebe440"
        },
        "id": "Vo-FNidtLZXV"
      }
    },
    {
      "cell_type": "markdown",
      "source": [
        "5 - Crie a coluna qa_carrier e aponte inconsistências da coluna carrier de acordo com as regras\n",
        "abaixo.<br>\n",
        "M : Indica que está com dado faltante.<br>\n",
        "F : Indica que não respeita o formato esperado (2 caracteres alfanuméricos).<br>"
      ],
      "metadata": {
        "application/vnd.databricks.v1+cell": {
          "title": "",
          "showTitle": false,
          "inputWidgets": {},
          "nuid": "ff210613-286f-48a3-8d63-5368bf9f2462"
        },
        "id": "5YPELYglLZXW"
      }
    },
    {
      "cell_type": "markdown",
      "source": [
        "6 - Crie a coluna qa_tailnum e aponte inconsistências da coluna tailnum de acordo com as regras\n",
        "abaixo.<br>\n",
        "M : Indica que está com dado faltante.<br>\n",
        "S : Indica que não tem o número de caracteres esperado.<br>\n",
        "F : Indica que não respeita o formato esperado (ex. N1234Z ou N123AZ).<br>\n",
        "FN : Indica que não inicia com a letra \"N\".<br>\n",
        "FE : Indica que contém caracteres inválidos (\"I\", \"O\", ou 0 como primeiro digito).<br>"
      ],
      "metadata": {
        "application/vnd.databricks.v1+cell": {
          "title": "",
          "showTitle": false,
          "inputWidgets": {},
          "nuid": "3e739a7a-7d6d-45fc-ba4d-e2ceaca25bab"
        },
        "id": "RxKSUGeyLZXW"
      }
    },
    {
      "cell_type": "markdown",
      "source": [
        "7 - Crie a coluna qa_flight e aponte inconsistências da coluna flight de acordo com as regras\n",
        "abaixo.<br>\n",
        "M : Indica que está com dado faltante.<br>\n",
        "F : Indica que não respeita o formato esperado (4 caracteres numéricos).<br>"
      ],
      "metadata": {
        "application/vnd.databricks.v1+cell": {
          "title": "",
          "showTitle": false,
          "inputWidgets": {},
          "nuid": "38ac0eab-227f-4304-b11c-bc08e54c159b"
        },
        "id": "XIr6jj3VLZXX"
      }
    },
    {
      "cell_type": "markdown",
      "source": [
        "8 - Crie a coluna qa_origin_dest e aponte inconsistências da coluna origin , dest de acordo com\n",
        "as regras abaixo.<br>\n",
        "MO : Indica que está com dado faltante no origin .<br>\n",
        "MD : Indica que está com dado faltante no dest .<br>\n",
        "FO : Indica que não respeita o formato esperado (3 caracteres alfanuméricos) no origin .<br>\n",
        "FD : Indica que não respeita o formato esperado (3 caracteres alfanuméricos) no dest .<br>"
      ],
      "metadata": {
        "application/vnd.databricks.v1+cell": {
          "title": "",
          "showTitle": false,
          "inputWidgets": {},
          "nuid": "c3953a2d-80bc-41be-add1-3d06d58fac41"
        },
        "id": "thaBGASHLZXX"
      }
    },
    {
      "cell_type": "markdown",
      "source": [
        "9 - Crie a coluna qa_air_time e aponte inconsistencias da coluna air_time de acordo com as regras\n",
        "abaixo.<br>\n",
        "M : Indica que está com dado faltante.<br>\n",
        "I : Indica que o valor excede o intervalo [20, 500].<br>"
      ],
      "metadata": {
        "application/vnd.databricks.v1+cell": {
          "title": "",
          "showTitle": false,
          "inputWidgets": {},
          "nuid": "25ef53fc-d274-4b41-8cbc-8f21258e5b42"
        },
        "id": "WA51m7EKLZXX"
      }
    },
    {
      "cell_type": "markdown",
      "source": [
        "10 - Crie a coluna qa_distance e aponte inconsistências da coluna distance de acordo com as regras\n",
        "abaixo.<br>\n",
        "M : Indica que está com dado faltante.<br>\n",
        "I : Indica que o valor excede o intervalo [50, 3000].<br>"
      ],
      "metadata": {
        "application/vnd.databricks.v1+cell": {
          "title": "",
          "showTitle": false,
          "inputWidgets": {},
          "nuid": "190335f3-a190-4f30-bce4-a321d67ed456"
        },
        "id": "qCnoIU5qLZXY"
      }
    },
    {
      "cell_type": "markdown",
      "source": [
        "11 - Crie a coluna qa_distance_airtime e aponte inconsistências entre as colunas distance e\n",
        "air_time de acordo com as regras abaixo.<br>\n",
        "M : Indica que está com distance ou air_time faltante.<br>\n",
        "TL : Indica que a viagem é longa de acordo com a condição:<br>\n",
        "air_time >= distance × 0.1 + 30.<br>\n",
        "TS : Indica que a viagem é curta de acordo com a condição:<br>\n",
        "air_time <= distance × 0.1 + 10.<br>\n",
        "TR : Indica que a viagem é normal caso as duas anteriores não sejam verdade.<br>"
      ],
      "metadata": {
        "application/vnd.databricks.v1+cell": {
          "title": "",
          "showTitle": false,
          "inputWidgets": {},
          "nuid": "a95a56da-4efd-43ae-b283-8f833ca2c9c9"
        },
        "id": "kWh6vblHLZXY"
      }
    },
    {
      "cell_type": "code",
      "source": [
        ""
      ],
      "metadata": {
        "application/vnd.databricks.v1+cell": {
          "title": "",
          "showTitle": false,
          "inputWidgets": {},
          "nuid": "5269b504-d3a7-4d48-a7fb-08082bb08bf8"
        },
        "id": "ePEswCVzLZXZ"
      },
      "outputs": [],
      "execution_count": 45
    }
  ],
  "metadata": {
    "application/vnd.databricks.v1+notebook": {
      "notebookName": "Airports",
      "dashboards": [],
      "notebookMetadata": {
        "pythonIndentUnit": 4
      },
      "language": "python",
      "widgets": {},
      "notebookOrigID": 3630559490240670
    },
    "colab": {
      "name": "avaliacao_pyspark.ipynb",
      "provenance": [],
      "include_colab_link": true
    },
    "language_info": {
      "name": "python"
    },
    "kernelspec": {
      "name": "python3",
      "display_name": "Python 3"
    },
    "gpuClass": "standard"
  },
  "nbformat": 4,
  "nbformat_minor": 0
}