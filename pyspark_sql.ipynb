{
  "cells": [
    {
      "cell_type": "markdown",
      "metadata": {
        "id": "view-in-github",
        "colab_type": "text"
      },
      "source": [
        "<a href=\"https://colab.research.google.com/github/marcosferreiracabral/projeto_pyspark_aviacao/blob/main/pyspark_sql.ipynb\" target=\"_parent\"><img src=\"https://colab.research.google.com/assets/colab-badge.svg\" alt=\"Open In Colab\"/></a>"
      ]
    },
    {
      "cell_type": "code",
      "source": [
        "from google.colab import drive\n",
        "\n",
        "drive.mount('/content/drive')\n"
      ],
      "metadata": {
        "colab": {
          "base_uri": "https://localhost:8080/"
        },
        "id": "6kX5VysCLe-H",
        "outputId": "4f73e08f-7683-4d34-9ac0-bb09a0372019"
      },
      "execution_count": 1,
      "outputs": [
        {
          "output_type": "stream",
          "name": "stdout",
          "text": [
            "Drive already mounted at /content/drive; to attempt to forcibly remount, call drive.mount(\"/content/drive\", force_remount=True).\n"
          ]
        }
      ]
    },
    {
      "cell_type": "code",
      "source": [
        "# Instalação das dependências:\n",
        "\n",
        "!sudo apt update\n",
        "!apt-get install openjdk-8-jdk-headless -qq > /dev/null\n",
        "\n",
        "# Fazendo download:\n",
        "!wget -q https://dlcdn.apache.org/spark/spark-3.3.0/spark-3.3.0-bin-hadoop3.tgz\n",
        "\n",
        "# Descompactando os arquivos:\n",
        "!tar xf spark-3.3.0-bin-hadoop3.tgz\n",
        "\n",
        "# instalando a findspark:\n",
        "!pip install -q findspark\n",
        "\n",
        "# instalando o pyspark:\n",
        "!pip install -q pyspark\n"
      ],
      "metadata": {
        "id": "MTHP8zjROMv0",
        "colab": {
          "base_uri": "https://localhost:8080/"
        },
        "outputId": "87a5e5c3-fb0b-4f83-ed90-7fd6b858b734"
      },
      "execution_count": 2,
      "outputs": [
        {
          "output_type": "stream",
          "name": "stdout",
          "text": [
            "Hit:1 https://cloud.r-project.org/bin/linux/ubuntu bionic-cran40/ InRelease\n",
            "Hit:2 http://security.ubuntu.com/ubuntu bionic-security InRelease\n",
            "Ign:3 https://developer.download.nvidia.com/compute/machine-learning/repos/ubuntu1804/x86_64  InRelease\n",
            "Hit:4 https://developer.download.nvidia.com/compute/cuda/repos/ubuntu1804/x86_64  InRelease\n",
            "Hit:5 https://developer.download.nvidia.com/compute/machine-learning/repos/ubuntu1804/x86_64  Release\n",
            "Hit:6 http://ppa.launchpad.net/c2d4u.team/c2d4u4.0+/ubuntu bionic InRelease\n",
            "Hit:7 http://archive.ubuntu.com/ubuntu bionic InRelease\n",
            "Get:9 http://archive.ubuntu.com/ubuntu bionic-updates InRelease [88.7 kB]\n",
            "Hit:10 http://ppa.launchpad.net/cran/libgit2/ubuntu bionic InRelease\n",
            "Hit:11 http://ppa.launchpad.net/deadsnakes/ppa/ubuntu bionic InRelease\n",
            "Get:12 http://archive.ubuntu.com/ubuntu bionic-backports InRelease [74.6 kB]\n",
            "Hit:13 http://ppa.launchpad.net/graphics-drivers/ppa/ubuntu bionic InRelease\n",
            "Fetched 163 kB in 2s (80.5 kB/s)\n",
            "Reading package lists... Done\n",
            "Building dependency tree       \n",
            "Reading state information... Done\n",
            "38 packages can be upgraded. Run 'apt list --upgradable' to see them.\n"
          ]
        }
      ]
    },
    {
      "cell_type": "code",
      "source": [
        "# Configuração das variáveis de ambiente:\n",
        "\n",
        "import os\n",
        "\n",
        "os.environ[\"JAVA_HOME\"] = \"/usr/lib/jvm/java-8-openjdk-amd64\"\n",
        "\n",
        "os.environ[\"SPARK_HOME\"] = \"/content/spark-3.3.0-bin-hadoop3\"\n",
        "\n",
        "# Tornar o pyspark \"importável\":\n",
        "\n",
        "import findspark\n",
        "\n",
        "findspark.init('spark-3.3.0-bin-hadoop3')\n"
      ],
      "metadata": {
        "id": "yqxFXbIwNjSv"
      },
      "execution_count": 3,
      "outputs": []
    },
    {
      "cell_type": "code",
      "source": [
        "# Iniciar uma sessão local:\n",
        "\n",
        "import pyspark\n",
        "import findspark\n",
        "\n",
        "findspark.init()\n",
        "\n",
        "from pyspark.sql import SparkSession\n",
        "\n",
        "spark = SparkSession.builder.master('local[*]').getOrCreate()\n"
      ],
      "metadata": {
        "id": "avxIxHA_Nz7n"
      },
      "execution_count": 4,
      "outputs": []
    },
    {
      "cell_type": "code",
      "source": [
        "# Importação das bibliotecas para o notebook:\n",
        "\n",
        "from pyspark.sql.functions import col, expr\n"
      ],
      "metadata": {
        "id": "H2pm4dH8LRLQ"
      },
      "execution_count": 5,
      "outputs": []
    },
    {
      "cell_type": "markdown",
      "source": [
        "# Airports Dataset:"
      ],
      "metadata": {
        "application/vnd.databricks.v1+cell": {
          "title": "",
          "showTitle": false,
          "inputWidgets": {},
          "nuid": "9d056a1f-cc41-4fe3-9a35-08c8946f995f"
        },
        "id": "8tpIn9QuLZWw"
      }
    },
    {
      "cell_type": "code",
      "source": [
        "# Importação dos dados para o PySpark:\n",
        "# Download do http para arquivo local:\n",
        "\n",
        "!wget --quiet --show-progress https://drive.google.com/file/d/1cpygs-tfjUqAYqbBAkt3zcVP1h4J_3W_/view?usp=sharing\n",
        "\n",
        "# Carregar dados do Airports:\n",
        "\n",
        "df_airports = spark.read.csv(\"./airports.csv\", inferSchema=True, header=True)\n",
        "\n",
        "# Ver algumas informações sobre os tipos de dados de cada coluna:\n",
        "\n",
        "df_airports.printSchema()\n"
      ],
      "metadata": {
        "id": "tKk66mzuPem_",
        "colab": {
          "base_uri": "https://localhost:8080/"
        },
        "outputId": "66c24253-c634-4e1e-a724-372c4ef6fdd6"
      },
      "execution_count": 6,
      "outputs": [
        {
          "output_type": "stream",
          "name": "stdout",
          "text": [
            "\rview?usp=sharing.12     [<=>                 ]       0  --.-KB/s               \rview?usp=sharing.12     [ <=>                ]  66.61K  --.-KB/s    in 0.1s    \n",
            "root\n",
            " |-- faa: string (nullable = true)\n",
            " |-- name: string (nullable = true)\n",
            " |-- lat: double (nullable = true)\n",
            " |-- lon: double (nullable = true)\n",
            " |-- alt: integer (nullable = true)\n",
            " |-- tz: integer (nullable = true)\n",
            " |-- dst: string (nullable = true)\n",
            "\n"
          ]
        }
      ]
    },
    {
      "cell_type": "markdown",
      "source": [
        "# Data Discovery:"
      ],
      "metadata": {
        "id": "6TuGbOmWFVzs"
      }
    },
    {
      "cell_type": "code",
      "source": [
        "# Tipo do dado:\n",
        "\n",
        "type(df_airports)"
      ],
      "metadata": {
        "colab": {
          "base_uri": "https://localhost:8080/"
        },
        "id": "7ATVPgA73r9o",
        "outputId": "e8f74b0a-91ad-4270-f1e5-490a73e0305a"
      },
      "execution_count": 7,
      "outputs": [
        {
          "output_type": "execute_result",
          "data": {
            "text/plain": [
              "pyspark.sql.dataframe.DataFrame"
            ]
          },
          "metadata": {},
          "execution_count": 7
        }
      ]
    },
    {
      "cell_type": "code",
      "source": [
        "# Lendo o dataframe e impimindo as colunas e linhas:\n",
        "\n",
        "df_airports.show()\n"
      ],
      "metadata": {
        "application/vnd.databricks.v1+cell": {
          "title": "",
          "showTitle": false,
          "inputWidgets": {},
          "nuid": "eb31806e-0f44-4ca6-bf90-d6e933bcc926"
        },
        "id": "vmJ4h8lwLZW5",
        "colab": {
          "base_uri": "https://localhost:8080/"
        },
        "outputId": "b4c7f08e-103e-429b-975d-1fabb507db73"
      },
      "outputs": [
        {
          "output_type": "stream",
          "name": "stdout",
          "text": [
            "+---+--------------------+----------------+-----------------+----+---+---+\n",
            "|faa|                name|             lat|              lon| alt| tz|dst|\n",
            "+---+--------------------+----------------+-----------------+----+---+---+\n",
            "|04G|   Lansdowne Airport|      41.1304722|      -80.6195833|1044| -5|  A|\n",
            "|06A|Moton Field Munic...|      32.4605722|      -85.6800278| 264| -5|  A|\n",
            "|06C| Schaumburg Regional|      41.9893408|      -88.1012428| 801| -6|  A|\n",
            "|06N|     Randall Airport|       41.431912|      -74.3915611| 523| -5|  A|\n",
            "|09J|Jekyll Island Air...|      31.0744722|      -81.4277778|  11| -4|  A|\n",
            "|0A9|Elizabethton Muni...|      36.3712222|      -82.1734167|1593| -4|  A|\n",
            "|0G6|Williams County A...|      41.4673056|      -84.5067778| 730| -5|  A|\n",
            "|0G7|Finger Lakes Regi...|      42.8835647|      -76.7812318| 492| -5|  A|\n",
            "|0P2|Shoestring Aviati...|      39.7948244|      -76.6471914|1000| -5|  U|\n",
            "|0S9|Jefferson County ...|      48.0538086|     -122.8106436| 108| -8|  A|\n",
            "|0W3|Harford County Ai...|      39.5668378|      -76.2024028| 409| -5|  A|\n",
            "|10C|  Galt Field Airport|      42.4028889|      -88.3751111| 875| -6|  U|\n",
            "|17G|Port Bucyrus-Craw...|      40.7815556|      -82.9748056|1003| -5|  A|\n",
            "|19A|Jackson County Ai...|      34.1758638|      -83.5615972| 951| -4|  U|\n",
            "|1A3|Martin Campbell F...|      35.0158056|      -84.3468333|1789| -4|  A|\n",
            "|1B9| Mansfield Municipal|      42.0001331|      -71.1967714| 122| -5|  A|\n",
            "|1C9|Frazier Lake Airpark|54.0133333333333|-124.768333333333| 152| -8|  A|\n",
            "|1CS|Clow Internationa...|      41.6959744|      -88.1292306| 670| -6|  U|\n",
            "|1G3|  Kent State Airport|      41.1513889|      -81.4151111|1134| -4|  A|\n",
            "|1OH|     Fortman Airport|      40.5553253|      -84.3866186| 885| -5|  U|\n",
            "+---+--------------------+----------------+-----------------+----+---+---+\n",
            "only showing top 20 rows\n",
            "\n"
          ]
        }
      ],
      "execution_count": 8
    },
    {
      "cell_type": "code",
      "source": [
        "# Lendo o dataframe e impimindo o cabeçalho:\n",
        "\n",
        "df_airports.head(10) # 10 primeiras linhas.\n"
      ],
      "metadata": {
        "application/vnd.databricks.v1+cell": {
          "title": "",
          "showTitle": false,
          "inputWidgets": {},
          "nuid": "5bdd2088-fd83-4ce7-b34d-e6fe0f361b09"
        },
        "id": "8f0t1bYGLZW8",
        "colab": {
          "base_uri": "https://localhost:8080/"
        },
        "outputId": "da29b187-3cca-4ed0-a55e-45660a1d98cf"
      },
      "outputs": [
        {
          "output_type": "execute_result",
          "data": {
            "text/plain": [
              "[Row(faa='04G', name='Lansdowne Airport', lat=41.1304722, lon=-80.6195833, alt=1044, tz=-5, dst='A'),\n",
              " Row(faa='06A', name='Moton Field Municipal Airport', lat=32.4605722, lon=-85.6800278, alt=264, tz=-5, dst='A'),\n",
              " Row(faa='06C', name='Schaumburg Regional', lat=41.9893408, lon=-88.1012428, alt=801, tz=-6, dst='A'),\n",
              " Row(faa='06N', name='Randall Airport', lat=41.431912, lon=-74.3915611, alt=523, tz=-5, dst='A'),\n",
              " Row(faa='09J', name='Jekyll Island Airport', lat=31.0744722, lon=-81.4277778, alt=11, tz=-4, dst='A'),\n",
              " Row(faa='0A9', name='Elizabethton Municipal Airport', lat=36.3712222, lon=-82.1734167, alt=1593, tz=-4, dst='A'),\n",
              " Row(faa='0G6', name='Williams County Airport', lat=41.4673056, lon=-84.5067778, alt=730, tz=-5, dst='A'),\n",
              " Row(faa='0G7', name='Finger Lakes Regional Airport', lat=42.8835647, lon=-76.7812318, alt=492, tz=-5, dst='A'),\n",
              " Row(faa='0P2', name='Shoestring Aviation Airfield', lat=39.7948244, lon=-76.6471914, alt=1000, tz=-5, dst='U'),\n",
              " Row(faa='0S9', name='Jefferson County Intl', lat=48.0538086, lon=-122.8106436, alt=108, tz=-8, dst='A')]"
            ]
          },
          "metadata": {},
          "execution_count": 9
        }
      ],
      "execution_count": 9
    },
    {
      "cell_type": "code",
      "source": [
        "# Contagem das linhas da coluna faa:\n",
        "\n",
        "df_airports.select(col('faa')).count()\n"
      ],
      "metadata": {
        "application/vnd.databricks.v1+cell": {
          "title": "",
          "showTitle": false,
          "inputWidgets": {},
          "nuid": "bfa1c448-7fe2-4ed3-b06c-59d332e4736f"
        },
        "id": "du4CuxyTLZW9",
        "colab": {
          "base_uri": "https://localhost:8080/"
        },
        "outputId": "dee731ef-6075-48f0-89c2-d5588ceaba08"
      },
      "outputs": [
        {
          "output_type": "execute_result",
          "data": {
            "text/plain": [
              "1397"
            ]
          },
          "metadata": {},
          "execution_count": 10
        }
      ],
      "execution_count": 10
    },
    {
      "cell_type": "code",
      "source": [
        "# Tipo da coluna faa:\n",
        "\n",
        "df_airports.select(col('faa')).dtypes\n"
      ],
      "metadata": {
        "application/vnd.databricks.v1+cell": {
          "title": "",
          "showTitle": false,
          "inputWidgets": {},
          "nuid": "2db21a89-e11a-4400-9da2-572f9a5f27ab"
        },
        "id": "j0e_DNQhLZW9",
        "colab": {
          "base_uri": "https://localhost:8080/"
        },
        "outputId": "d8365a8f-c45f-47e5-96b8-6edc2146d7fa"
      },
      "outputs": [
        {
          "output_type": "execute_result",
          "data": {
            "text/plain": [
              "[('faa', 'string')]"
            ]
          },
          "metadata": {},
          "execution_count": 11
        }
      ],
      "execution_count": 11
    },
    {
      "cell_type": "code",
      "source": [
        "# Retorna os dados em um Array:\n",
        "df_airports.select(col('faa')).collect()\n"
      ],
      "metadata": {
        "id": "OMn8K2qILwQU",
        "colab": {
          "base_uri": "https://localhost:8080/"
        },
        "outputId": "9231095b-0437-4266-bc01-b7780d7181f5"
      },
      "execution_count": 12,
      "outputs": [
        {
          "output_type": "execute_result",
          "data": {
            "text/plain": [
              "[Row(faa='04G'),\n",
              " Row(faa='06A'),\n",
              " Row(faa='06C'),\n",
              " Row(faa='06N'),\n",
              " Row(faa='09J'),\n",
              " Row(faa='0A9'),\n",
              " Row(faa='0G6'),\n",
              " Row(faa='0G7'),\n",
              " Row(faa='0P2'),\n",
              " Row(faa='0S9'),\n",
              " Row(faa='0W3'),\n",
              " Row(faa='10C'),\n",
              " Row(faa='17G'),\n",
              " Row(faa='19A'),\n",
              " Row(faa='1A3'),\n",
              " Row(faa='1B9'),\n",
              " Row(faa='1C9'),\n",
              " Row(faa='1CS'),\n",
              " Row(faa='1G3'),\n",
              " Row(faa='1OH'),\n",
              " Row(faa='1RL'),\n",
              " Row(faa='24C'),\n",
              " Row(faa='24J'),\n",
              " Row(faa='25D'),\n",
              " Row(faa='29D'),\n",
              " Row(faa='2A0'),\n",
              " Row(faa='2G2'),\n",
              " Row(faa='2G9'),\n",
              " Row(faa='2J9'),\n",
              " Row(faa='369'),\n",
              " Row(faa='36U'),\n",
              " Row(faa='38W'),\n",
              " Row(faa='3D2'),\n",
              " Row(faa='3G3'),\n",
              " Row(faa='3G4'),\n",
              " Row(faa='3J1'),\n",
              " Row(faa='3W2'),\n",
              " Row(faa='40J'),\n",
              " Row(faa='41N'),\n",
              " Row(faa='47A'),\n",
              " Row(faa='49A'),\n",
              " Row(faa='49X'),\n",
              " Row(faa='4A4'),\n",
              " Row(faa='4A7'),\n",
              " Row(faa='4A9'),\n",
              " Row(faa='4B8'),\n",
              " Row(faa='4G0'),\n",
              " Row(faa='4G2'),\n",
              " Row(faa='4G4'),\n",
              " Row(faa='4I7'),\n",
              " Row(faa='4U9'),\n",
              " Row(faa='52A'),\n",
              " Row(faa='54J'),\n",
              " Row(faa='55J'),\n",
              " Row(faa='57C'),\n",
              " Row(faa='60J'),\n",
              " Row(faa='6A2'),\n",
              " Row(faa='6K8'),\n",
              " Row(faa='6S0'),\n",
              " Row(faa='6S2'),\n",
              " Row(faa='6Y8'),\n",
              " Row(faa='70J'),\n",
              " Row(faa='70N'),\n",
              " Row(faa='7A4'),\n",
              " Row(faa='7D9'),\n",
              " Row(faa='7N7'),\n",
              " Row(faa='8M8'),\n",
              " Row(faa='93C'),\n",
              " Row(faa='99N'),\n",
              " Row(faa='9A1'),\n",
              " Row(faa='9A5'),\n",
              " Row(faa='A39'),\n",
              " Row(faa='AAF'),\n",
              " Row(faa='ABE'),\n",
              " Row(faa='ABI'),\n",
              " Row(faa='ABL'),\n",
              " Row(faa='ABQ'),\n",
              " Row(faa='ABR'),\n",
              " Row(faa='ABY'),\n",
              " Row(faa='ACK'),\n",
              " Row(faa='ACT'),\n",
              " Row(faa='ACV'),\n",
              " Row(faa='ACY'),\n",
              " Row(faa='ADK'),\n",
              " Row(faa='ADM'),\n",
              " Row(faa='ADQ'),\n",
              " Row(faa='ADS'),\n",
              " Row(faa='ADW'),\n",
              " Row(faa='AET'),\n",
              " Row(faa='AEX'),\n",
              " Row(faa='AFE'),\n",
              " Row(faa='AFW'),\n",
              " Row(faa='AGC'),\n",
              " Row(faa='AGN'),\n",
              " Row(faa='AGS'),\n",
              " Row(faa='AHN'),\n",
              " Row(faa='AIA'),\n",
              " Row(faa='AIK'),\n",
              " Row(faa='AIN'),\n",
              " Row(faa='AIZ'),\n",
              " Row(faa='AKB'),\n",
              " Row(faa='AKC'),\n",
              " Row(faa='AKI'),\n",
              " Row(faa='AKK'),\n",
              " Row(faa='AKN'),\n",
              " Row(faa='AKP'),\n",
              " Row(faa='ALB'),\n",
              " Row(faa='ALI'),\n",
              " Row(faa='ALM'),\n",
              " Row(faa='ALO'),\n",
              " Row(faa='ALS'),\n",
              " Row(faa='ALW'),\n",
              " Row(faa='ALX'),\n",
              " Row(faa='ALZ'),\n",
              " Row(faa='AMA'),\n",
              " Row(faa='ANB'),\n",
              " Row(faa='ANC'),\n",
              " Row(faa='AND'),\n",
              " Row(faa='ANI'),\n",
              " Row(faa='ANN'),\n",
              " Row(faa='ANP'),\n",
              " Row(faa='ANQ'),\n",
              " Row(faa='ANV'),\n",
              " Row(faa='AOH'),\n",
              " Row(faa='AOO'),\n",
              " Row(faa='AOS'),\n",
              " Row(faa='APA'),\n",
              " Row(faa='APC'),\n",
              " Row(faa='APF'),\n",
              " Row(faa='APG'),\n",
              " Row(faa='APN'),\n",
              " Row(faa='AQC'),\n",
              " Row(faa='ARA'),\n",
              " Row(faa='ARB'),\n",
              " Row(faa='ARC'),\n",
              " Row(faa='ART'),\n",
              " Row(faa='ARV'),\n",
              " Row(faa='ASE'),\n",
              " Row(faa='ASH'),\n",
              " Row(faa='AST'),\n",
              " Row(faa='ATK'),\n",
              " Row(faa='ATL'),\n",
              " Row(faa='ATT'),\n",
              " Row(faa='ATW'),\n",
              " Row(faa='ATY'),\n",
              " Row(faa='AUG'),\n",
              " Row(faa='AUK'),\n",
              " Row(faa='AUS'),\n",
              " Row(faa='AUW'),\n",
              " Row(faa='AVL'),\n",
              " Row(faa='AVO'),\n",
              " Row(faa='AVP'),\n",
              " Row(faa='AVW'),\n",
              " Row(faa='AVX'),\n",
              " Row(faa='AZA'),\n",
              " Row(faa='AZO'),\n",
              " Row(faa='BAB'),\n",
              " Row(faa='BAD'),\n",
              " Row(faa='BAF'),\n",
              " Row(faa='BBX'),\n",
              " Row(faa='BCE'),\n",
              " Row(faa='BCT'),\n",
              " Row(faa='BDE'),\n",
              " Row(faa='BDL'),\n",
              " Row(faa='BDR'),\n",
              " Row(faa='BEC'),\n",
              " Row(faa='BED'),\n",
              " Row(faa='BEH'),\n",
              " Row(faa='BET'),\n",
              " Row(faa='BFD'),\n",
              " Row(faa='BFF'),\n",
              " Row(faa='BFI'),\n",
              " Row(faa='BFL'),\n",
              " Row(faa='BFM'),\n",
              " Row(faa='BFP'),\n",
              " Row(faa='BFT'),\n",
              " Row(faa='BFT'),\n",
              " Row(faa='BGE'),\n",
              " Row(faa='BGM'),\n",
              " Row(faa='BGR'),\n",
              " Row(faa='BHB'),\n",
              " Row(faa='BHM'),\n",
              " Row(faa='BID'),\n",
              " Row(faa='BIF'),\n",
              " Row(faa='BIG'),\n",
              " Row(faa='BIL'),\n",
              " Row(faa='BIS'),\n",
              " Row(faa='BIV'),\n",
              " Row(faa='BIX'),\n",
              " Row(faa='BJC'),\n",
              " Row(faa='BJI'),\n",
              " Row(faa='BKC'),\n",
              " Row(faa='BKD'),\n",
              " Row(faa='BKF'),\n",
              " Row(faa='BKG'),\n",
              " Row(faa='BKH'),\n",
              " Row(faa='BKL'),\n",
              " Row(faa='BKW'),\n",
              " Row(faa='BKX'),\n",
              " Row(faa='BLD'),\n",
              " Row(faa='BLF'),\n",
              " Row(faa='BLH'),\n",
              " Row(faa='BLI'),\n",
              " Row(faa='BLV'),\n",
              " Row(faa='BMC'),\n",
              " Row(faa='BMG'),\n",
              " Row(faa='BMI'),\n",
              " Row(faa='BMX'),\n",
              " Row(faa='BNA'),\n",
              " Row(faa='BOI'),\n",
              " Row(faa='BOS'),\n",
              " Row(faa='BOW'),\n",
              " Row(faa='BPT'),\n",
              " Row(faa='BQK'),\n",
              " Row(faa='BRD'),\n",
              " Row(faa='BRL'),\n",
              " Row(faa='BRO'),\n",
              " Row(faa='BRW'),\n",
              " Row(faa='BSF'),\n",
              " Row(faa='BTI'),\n",
              " Row(faa='BTM'),\n",
              " Row(faa='BTR'),\n",
              " Row(faa='BTT'),\n",
              " Row(faa='BTV'),\n",
              " Row(faa='BUF'),\n",
              " Row(faa='BUR'),\n",
              " Row(faa='BUU'),\n",
              " Row(faa='BUY'),\n",
              " Row(faa='BVY'),\n",
              " Row(faa='BWD'),\n",
              " Row(faa='BWG'),\n",
              " Row(faa='BWI'),\n",
              " Row(faa='BXK'),\n",
              " Row(faa='BXS'),\n",
              " Row(faa='BYH'),\n",
              " Row(faa='BYS'),\n",
              " Row(faa='BYW'),\n",
              " Row(faa='BZN'),\n",
              " Row(faa='C02'),\n",
              " Row(faa='C16'),\n",
              " Row(faa='C47'),\n",
              " Row(faa='C65'),\n",
              " Row(faa='C89'),\n",
              " Row(faa='C91'),\n",
              " Row(faa='CAE'),\n",
              " Row(faa='CAK'),\n",
              " Row(faa='CAR'),\n",
              " Row(faa='CBE'),\n",
              " Row(faa='CBM'),\n",
              " Row(faa='CCO'),\n",
              " Row(faa='CCR'),\n",
              " Row(faa='CDB'),\n",
              " Row(faa='CDC'),\n",
              " Row(faa='CDI'),\n",
              " Row(faa='CDK'),\n",
              " Row(faa='CDN'),\n",
              " Row(faa='CDR'),\n",
              " Row(faa='CDS'),\n",
              " Row(faa='CDV'),\n",
              " Row(faa='CDW'),\n",
              " Row(faa='CEC'),\n",
              " Row(faa='CEF'),\n",
              " Row(faa='CEM'),\n",
              " Row(faa='CEU'),\n",
              " Row(faa='CEW'),\n",
              " Row(faa='CEZ'),\n",
              " Row(faa='CFD'),\n",
              " Row(faa='CGA'),\n",
              " Row(faa='CGF'),\n",
              " Row(faa='CGI'),\n",
              " Row(faa='CGX'),\n",
              " Row(faa='CGZ'),\n",
              " Row(faa='CHA'),\n",
              " Row(faa='CHI'),\n",
              " Row(faa='CHO'),\n",
              " Row(faa='CHS'),\n",
              " Row(faa='CHU'),\n",
              " Row(faa='CIC'),\n",
              " Row(faa='CID'),\n",
              " Row(faa='CIK'),\n",
              " Row(faa='CIL'),\n",
              " Row(faa='CIU'),\n",
              " Row(faa='CKB'),\n",
              " Row(faa='CKD'),\n",
              " Row(faa='CKF'),\n",
              " Row(faa='CKV'),\n",
              " Row(faa='CLC'),\n",
              " Row(faa='CLD'),\n",
              " Row(faa='CLE'),\n",
              " Row(faa='CLL'),\n",
              " Row(faa='CLM'),\n",
              " Row(faa='CLT'),\n",
              " Row(faa='CLW'),\n",
              " Row(faa='CMH'),\n",
              " Row(faa='CMI'),\n",
              " Row(faa='CMX'),\n",
              " Row(faa='CNM'),\n",
              " Row(faa='CNW'),\n",
              " Row(faa='CNY'),\n",
              " Row(faa='COD'),\n",
              " Row(faa='COF'),\n",
              " Row(faa='CON'),\n",
              " Row(faa='COS'),\n",
              " Row(faa='COT'),\n",
              " Row(faa='COU'),\n",
              " Row(faa='CPR'),\n",
              " Row(faa='CPS'),\n",
              " Row(faa='CRE'),\n",
              " Row(faa='CRP'),\n",
              " Row(faa='CRW'),\n",
              " Row(faa='CSG'),\n",
              " Row(faa='CTB'),\n",
              " Row(faa='CTH'),\n",
              " Row(faa='CTJ'),\n",
              " Row(faa='CTY'),\n",
              " Row(faa='CVG'),\n",
              " Row(faa='CVN'),\n",
              " Row(faa='CVS'),\n",
              " Row(faa='CVX'),\n",
              " Row(faa='CWA'),\n",
              " Row(faa='CWI'),\n",
              " Row(faa='CXF'),\n",
              " Row(faa='CXL'),\n",
              " Row(faa='CXO'),\n",
              " Row(faa='CXY'),\n",
              " Row(faa='CYF'),\n",
              " Row(faa='CYM'),\n",
              " Row(faa='CYS'),\n",
              " Row(faa='CYT'),\n",
              " Row(faa='CZF'),\n",
              " Row(faa='CZN'),\n",
              " Row(faa='DAB'),\n",
              " Row(faa='DAL'),\n",
              " Row(faa='DAY'),\n",
              " Row(faa='DBQ'),\n",
              " Row(faa='DCA'),\n",
              " Row(faa='DDC'),\n",
              " Row(faa='DEC'),\n",
              " Row(faa='DEN'),\n",
              " Row(faa='DET'),\n",
              " Row(faa='DFW'),\n",
              " Row(faa='DGL'),\n",
              " Row(faa='DHN'),\n",
              " Row(faa='DHT'),\n",
              " Row(faa='DIK'),\n",
              " Row(faa='DKB'),\n",
              " Row(faa='DKK'),\n",
              " Row(faa='DKX'),\n",
              " Row(faa='DLF'),\n",
              " Row(faa='DLG'),\n",
              " Row(faa='DLH'),\n",
              " Row(faa='DLL'),\n",
              " Row(faa='DMA'),\n",
              " Row(faa='DNL'),\n",
              " Row(faa='DNN'),\n",
              " Row(faa='DOV'),\n",
              " Row(faa='DPA'),\n",
              " Row(faa='DQH'),\n",
              " Row(faa='DRG'),\n",
              " Row(faa='DRI'),\n",
              " Row(faa='DRM'),\n",
              " Row(faa='DRO'),\n",
              " Row(faa='DRT'),\n",
              " Row(faa='DSM'),\n",
              " Row(faa='DTA'),\n",
              " Row(faa='DTS'),\n",
              " Row(faa='DTW'),\n",
              " Row(faa='DUC'),\n",
              " Row(faa='DUG'),\n",
              " Row(faa='DUJ'),\n",
              " Row(faa='DUT'),\n",
              " Row(faa='DVL'),\n",
              " Row(faa='DVT'),\n",
              " Row(faa='DWA'),\n",
              " Row(faa='DWH'),\n",
              " Row(faa='DWS'),\n",
              " Row(faa='DXR'),\n",
              " Row(faa='DYS'),\n",
              " Row(faa='E25'),\n",
              " Row(faa='E51'),\n",
              " Row(faa='E55'),\n",
              " Row(faa='E63'),\n",
              " Row(faa='E91'),\n",
              " Row(faa='EAA'),\n",
              " Row(faa='EAR'),\n",
              " Row(faa='EAT'),\n",
              " Row(faa='EAU'),\n",
              " Row(faa='ECA'),\n",
              " Row(faa='ECG'),\n",
              " Row(faa='ECP'),\n",
              " Row(faa='EDF'),\n",
              " Row(faa='EDW'),\n",
              " Row(faa='EEK'),\n",
              " Row(faa='EEN'),\n",
              " Row(faa='EET'),\n",
              " Row(faa='EFD'),\n",
              " Row(faa='EGA'),\n",
              " Row(faa='EGE'),\n",
              " Row(faa='EGT'),\n",
              " Row(faa='EGV'),\n",
              " Row(faa='EGX'),\n",
              " Row(faa='EHM'),\n",
              " Row(faa='EIL'),\n",
              " Row(faa='EKI'),\n",
              " Row(faa='EKN'),\n",
              " Row(faa='EKO'),\n",
              " Row(faa='ELD'),\n",
              " Row(faa='ELI'),\n",
              " Row(faa='ELM'),\n",
              " Row(faa='ELP'),\n",
              " Row(faa='ELV'),\n",
              " Row(faa='ELY'),\n",
              " Row(faa='EMK'),\n",
              " Row(faa='EMP'),\n",
              " Row(faa='ENA'),\n",
              " Row(faa='END'),\n",
              " Row(faa='ENV'),\n",
              " Row(faa='ENW'),\n",
              " Row(faa='EOK'),\n",
              " Row(faa='EPM'),\n",
              " Row(faa='EQY'),\n",
              " Row(faa='ERI'),\n",
              " Row(faa='ERV'),\n",
              " Row(faa='ERY'),\n",
              " Row(faa='ESC'),\n",
              " Row(faa='ESD'),\n",
              " Row(faa='ESF'),\n",
              " Row(faa='ESN'),\n",
              " Row(faa='EUG'),\n",
              " Row(faa='EVV'),\n",
              " Row(faa='EWB'),\n",
              " Row(faa='EWN'),\n",
              " Row(faa='EWR'),\n",
              " Row(faa='EXI'),\n",
              " Row(faa='EYW'),\n",
              " Row(faa='F57'),\n",
              " Row(faa='FAF'),\n",
              " Row(faa='FAI'),\n",
              " Row(faa='FAR'),\n",
              " Row(faa='FAT'),\n",
              " Row(faa='FAY'),\n",
              " Row(faa='FBG'),\n",
              " Row(faa='FBK'),\n",
              " Row(faa='FBS'),\n",
              " Row(faa='FCA'),\n",
              " Row(faa='FCS'),\n",
              " Row(faa='FDY'),\n",
              " Row(faa='FFA'),\n",
              " Row(faa='FFC'),\n",
              " Row(faa='FFO'),\n",
              " Row(faa='FFT'),\n",
              " Row(faa='FFZ'),\n",
              " Row(faa='FHU'),\n",
              " Row(faa='FIT'),\n",
              " Row(faa='FKL'),\n",
              " Row(faa='FLD'),\n",
              " Row(faa='FLG'),\n",
              " Row(faa='FLL'),\n",
              " Row(faa='FLO'),\n",
              " Row(faa='FLV'),\n",
              " Row(faa='FME'),\n",
              " Row(faa='FMH'),\n",
              " Row(faa='FMN'),\n",
              " Row(faa='FMY'),\n",
              " Row(faa='FNL'),\n",
              " Row(faa='FNR'),\n",
              " Row(faa='FNT'),\n",
              " Row(faa='FOD'),\n",
              " Row(faa='FOE'),\n",
              " Row(faa='FOK'),\n",
              " Row(faa='FRD'),\n",
              " Row(faa='FRI'),\n",
              " Row(faa='FRN'),\n",
              " Row(faa='FRP'),\n",
              " Row(faa='FSD'),\n",
              " Row(faa='FSI'),\n",
              " Row(faa='FSM'),\n",
              " Row(faa='FST'),\n",
              " Row(faa='FTK'),\n",
              " Row(faa='FTW'),\n",
              " Row(faa='FTY'),\n",
              " Row(faa='FUL'),\n",
              " Row(faa='FWA'),\n",
              " Row(faa='FXE'),\n",
              " Row(faa='FYU'),\n",
              " Row(faa='FYV'),\n",
              " Row(faa='FZG'),\n",
              " Row(faa='GAD'),\n",
              " Row(faa='GAI'),\n",
              " Row(faa='GAL'),\n",
              " Row(faa='GAM'),\n",
              " Row(faa='GBN'),\n",
              " Row(faa='GCC'),\n",
              " Row(faa='GCK'),\n",
              " Row(faa='GCN'),\n",
              " Row(faa='GCW'),\n",
              " Row(faa='GDV'),\n",
              " Row(faa='GDW'),\n",
              " Row(faa='GED'),\n",
              " Row(faa='GEG'),\n",
              " Row(faa='GEU'),\n",
              " Row(faa='GFK'),\n",
              " Row(faa='GGE'),\n",
              " Row(faa='GGG'),\n",
              " Row(faa='GGW'),\n",
              " Row(faa='GHG'),\n",
              " Row(faa='GIF'),\n",
              " Row(faa='GJT'),\n",
              " Row(faa='GKN'),\n",
              " Row(faa='GKY'),\n",
              " Row(faa='GLD'),\n",
              " Row(faa='GLH'),\n",
              " Row(faa='GLS'),\n",
              " Row(faa='GLV'),\n",
              " Row(faa='GNT'),\n",
              " Row(faa='GNU'),\n",
              " Row(faa='GNV'),\n",
              " Row(faa='GON'),\n",
              " Row(faa='GPT'),\n",
              " Row(faa='GPZ'),\n",
              " Row(faa='GQQ'),\n",
              " Row(faa='GRB'),\n",
              " Row(faa='GRF'),\n",
              " Row(faa='GRI'),\n",
              " Row(faa='GRK'),\n",
              " Row(faa='GRM'),\n",
              " Row(faa='GRR'),\n",
              " Row(faa='GSB'),\n",
              " Row(faa='GSO'),\n",
              " Row(faa='GSP'),\n",
              " Row(faa='GST'),\n",
              " Row(faa='GTB'),\n",
              " Row(faa='GTF'),\n",
              " Row(faa='GTR'),\n",
              " Row(faa='GTU'),\n",
              " Row(faa='GUC'),\n",
              " Row(faa='GUP'),\n",
              " Row(faa='GUS'),\n",
              " Row(faa='GVL'),\n",
              " Row(faa='GVQ'),\n",
              " Row(faa='GVT'),\n",
              " Row(faa='GWO'),\n",
              " Row(faa='GYY'),\n",
              " Row(faa='HBG'),\n",
              " Row(faa='HBR'),\n",
              " Row(faa='HCC'),\n",
              " Row(faa='HCR'),\n",
              " Row(faa='HDH'),\n",
              " Row(faa='HDI'),\n",
              " Row(faa='HDN'),\n",
              " Row(faa='HDO'),\n",
              " Row(faa='HFD'),\n",
              " Row(faa='HGR'),\n",
              " Row(faa='HHH'),\n",
              " Row(faa='HHI'),\n",
              " Row(faa='HHR'),\n",
              " Row(faa='HIB'),\n",
              " Row(faa='HIF'),\n",
              " Row(faa='HII'),\n",
              " Row(faa='HIO'),\n",
              " Row(faa='HKB'),\n",
              " Row(faa='HKY'),\n",
              " Row(faa='HLG'),\n",
              " Row(faa='HLN'),\n",
              " Row(faa='HLR'),\n",
              " Row(faa='HMN'),\n",
              " Row(faa='HNH'),\n",
              " Row(faa='HNL'),\n",
              " Row(faa='HNM'),\n",
              " Row(faa='HNS'),\n",
              " Row(faa='HOB'),\n",
              " Row(faa='HOM'),\n",
              " Row(faa='HON'),\n",
              " Row(faa='HOP'),\n",
              " Row(faa='HOT'),\n",
              " Row(faa='HOU'),\n",
              " Row(faa='HPB'),\n",
              " Row(faa='HPN'),\n",
              " Row(faa='HQM'),\n",
              " Row(faa='HQU'),\n",
              " Row(faa='HRL'),\n",
              " Row(faa='HRO'),\n",
              " Row(faa='HRT'),\n",
              " Row(faa='HSH'),\n",
              " Row(faa='HSL'),\n",
              " Row(faa='HST'),\n",
              " Row(faa='HSV'),\n",
              " Row(faa='HTL'),\n",
              " Row(faa='HTS'),\n",
              " Row(faa='HUA'),\n",
              " Row(faa='HUF'),\n",
              " Row(faa='HUL'),\n",
              " Row(faa='HUS'),\n",
              " Row(faa='HUT'),\n",
              " Row(faa='HVN'),\n",
              " Row(faa='HVR'),\n",
              " Row(faa='HWD'),\n",
              " Row(faa='HWO'),\n",
              " Row(faa='HXD'),\n",
              " Row(faa='HYA'),\n",
              " Row(faa='HYG'),\n",
              " Row(faa='HYL'),\n",
              " Row(faa='HYS'),\n",
              " Row(faa='HZL'),\n",
              " Row(faa='IAB'),\n",
              " Row(faa='IAD'),\n",
              " Row(faa='IAG'),\n",
              " Row(faa='IAH'),\n",
              " Row(faa='IAN'),\n",
              " Row(faa='ICT'),\n",
              " Row(faa='ICY'),\n",
              " Row(faa='IDA'),\n",
              " Row(faa='IDL'),\n",
              " Row(faa='IFP'),\n",
              " Row(faa='IGG'),\n",
              " Row(faa='IGM'),\n",
              " Row(faa='IGQ'),\n",
              " Row(faa='IJD'),\n",
              " Row(faa='IKK'),\n",
              " Row(faa='IKO'),\n",
              " Row(faa='IKR'),\n",
              " Row(faa='IKV'),\n",
              " Row(faa='ILG'),\n",
              " Row(faa='ILI'),\n",
              " Row(faa='ILM'),\n",
              " Row(faa='ILN'),\n",
              " Row(faa='IMM'),\n",
              " Row(faa='IMT'),\n",
              " Row(faa='IND'),\n",
              " Row(faa='INJ'),\n",
              " Row(faa='INK'),\n",
              " Row(faa='INL'),\n",
              " Row(faa='INS'),\n",
              " Row(faa='INT'),\n",
              " Row(faa='INW'),\n",
              " Row(faa='IOW'),\n",
              " Row(faa='IPL'),\n",
              " Row(faa='IPT'),\n",
              " Row(faa='IRC'),\n",
              " Row(faa='IRK'),\n",
              " Row(faa='ISM'),\n",
              " Row(faa='ISN'),\n",
              " Row(faa='ISO'),\n",
              " Row(faa='ISP'),\n",
              " Row(faa='ISW'),\n",
              " Row(faa='ITH'),\n",
              " Row(faa='ITO'),\n",
              " Row(faa='IWD'),\n",
              " Row(faa='IWS'),\n",
              " Row(faa='IYK'),\n",
              " Row(faa='JAC'),\n",
              " Row(faa='JAN'),\n",
              " Row(faa='JAX'),\n",
              " Row(faa='JBR'),\n",
              " Row(faa='JCI'),\n",
              " Row(faa='JEF'),\n",
              " Row(faa='JES'),\n",
              " Row(faa='JFK'),\n",
              " Row(faa='JGC'),\n",
              " Row(faa='JHM'),\n",
              " Row(faa='JHW'),\n",
              " Row(faa='JKA'),\n",
              " Row(faa='JLN'),\n",
              " Row(faa='JMS'),\n",
              " Row(faa='JNU'),\n",
              " Row(faa='JOT'),\n",
              " Row(faa='JRA'),\n",
              " Row(faa='JRB'),\n",
              " Row(faa='JST'),\n",
              " Row(faa='JVL'),\n",
              " Row(faa='JXN'),\n",
              " Row(faa='JYL'),\n",
              " Row(faa='JYO'),\n",
              " Row(faa='JZP'),\n",
              " Row(faa='K03'),\n",
              " Row(faa='KAE'),\n",
              " Row(faa='KAL'),\n",
              " Row(faa='KBC'),\n",
              " Row(faa='KBW'),\n",
              " Row(faa='KCC'),\n",
              " Row(faa='KCL'),\n",
              " Row(faa='KCQ'),\n",
              " Row(faa='KEH'),\n",
              " Row(faa='KEK'),\n",
              " Row(faa='KFP'),\n",
              " Row(faa='KGK'),\n",
              " Row(faa='KGX'),\n",
              " Row(faa='KKA'),\n",
              " Row(faa='KKB'),\n",
              " Row(faa='KKH'),\n",
              " Row(faa='KLG'),\n",
              " Row(faa='KLL'),\n",
              " Row(faa='KLN'),\n",
              " Row(faa='KLS'),\n",
              " Row(faa='KLW'),\n",
              " Row(faa='KMO'),\n",
              " Row(faa='KMY'),\n",
              " Row(faa='KNW'),\n",
              " Row(faa='KOA'),\n",
              " Row(faa='KOT'),\n",
              " Row(faa='KOY'),\n",
              " Row(faa='KOZ'),\n",
              " Row(faa='KPB'),\n",
              " Row(faa='KPC'),\n",
              " Row(faa='KPN'),\n",
              " Row(faa='KPR'),\n",
              " Row(faa='KPV'),\n",
              " Row(faa='KPY'),\n",
              " Row(faa='KQA'),\n",
              " Row(faa='KSM'),\n",
              " Row(faa='KTB'),\n",
              " Row(faa='KTN'),\n",
              " Row(faa='KTS'),\n",
              " Row(faa='KUK'),\n",
              " Row(faa='KVC'),\n",
              " Row(faa='KVL'),\n",
              " Row(faa='KWK'),\n",
              " Row(faa='KWN'),\n",
              " Row(faa='KWP'),\n",
              " Row(faa='KWT'),\n",
              " Row(faa='KYK'),\n",
              " Row(faa='KYU'),\n",
              " Row(faa='KZB'),\n",
              " Row(faa='L06'),\n",
              " Row(faa='L35'),\n",
              " Row(faa='LAA'),\n",
              " Row(faa='LAF'),\n",
              " Row(faa='LAL'),\n",
              " Row(faa='LAM'),\n",
              " Row(faa='LAN'),\n",
              " Row(faa='LAR'),\n",
              " Row(faa='LAS'),\n",
              " Row(faa='LAW'),\n",
              " Row(faa='LAX'),\n",
              " Row(faa='LBB'),\n",
              " Row(faa='LBE'),\n",
              " Row(faa='LBF'),\n",
              " Row(faa='LBL'),\n",
              " Row(faa='LBT'),\n",
              " Row(faa='LCH'),\n",
              " Row(faa='LCK'),\n",
              " Row(faa='LCQ'),\n",
              " Row(faa='LDJ'),\n",
              " Row(faa='LEB'),\n",
              " Row(faa='LEW'),\n",
              " Row(faa='LEX'),\n",
              " Row(faa='LFI'),\n",
              " Row(faa='LFK'),\n",
              " Row(faa='LFT'),\n",
              " Row(faa='LGA'),\n",
              " Row(faa='LGB'),\n",
              " Row(faa='LGC'),\n",
              " Row(faa='LGU'),\n",
              " Row(faa='LHD'),\n",
              " Row(faa='LHV'),\n",
              " Row(faa='LHX'),\n",
              " Row(faa='LIH'),\n",
              " Row(faa='LIT'),\n",
              " Row(faa='LIV'),\n",
              " Row(faa='LKE'),\n",
              " Row(faa='LKP'),\n",
              " Row(faa='LMT'),\n",
              " Row(faa='LNA'),\n",
              " Row(faa='LNK'),\n",
              " Row(faa='LNN'),\n",
              " Row(faa='LNR'),\n",
              " Row(faa='LNS'),\n",
              " Row(faa='LNY'),\n",
              " Row(faa='LOT'),\n",
              " Row(faa='LOU'),\n",
              " Row(faa='LOZ'),\n",
              " Row(faa='LPC'),\n",
              " Row(faa='LPR'),\n",
              " Row(faa='LPS'),\n",
              " Row(faa='LRD'),\n",
              " Row(faa='LRF'),\n",
              " Row(faa='LRU'),\n",
              " Row(faa='LSE'),\n",
              " Row(faa='LSF'),\n",
              " Row(faa='LSV'),\n",
              " Row(faa='LTS'),\n",
              " Row(faa='LUF'),\n",
              " Row(faa='LUK'),\n",
              " Row(faa='LUP'),\n",
              " Row(faa='LUR'),\n",
              " Row(faa='LVK'),\n",
              " Row(faa='LVM'),\n",
              " Row(faa='LVS'),\n",
              " Row(faa='LWA'),\n",
              " Row(faa='LWB'),\n",
              " Row(faa='LWC'),\n",
              " Row(faa='LWM'),\n",
              " Row(faa='LWS'),\n",
              " Row(faa='LWT'),\n",
              " Row(faa='LXY'),\n",
              " Row(faa='LYH'),\n",
              " Row(faa='LYU'),\n",
              " Row(faa='LZU'),\n",
              " Row(faa='MAE'),\n",
              " Row(faa='MAF'),\n",
              " Row(faa='MBL'),\n",
              " Row(faa='MBS'),\n",
              " Row(faa='MCC'),\n",
              " Row(faa='MCD'),\n",
              " Row(faa='MCE'),\n",
              " Row(faa='MCF'),\n",
              " Row(faa='MCG'),\n",
              " Row(faa='MCI'),\n",
              " Row(faa='MCK'),\n",
              " Row(faa='MCL'),\n",
              " Row(faa='MCN'),\n",
              " Row(faa='MCO'),\n",
              " Row(faa='MCW'),\n",
              " Row(faa='MDT'),\n",
              " Row(faa='MDW'),\n",
              " Row(faa='ME5'),\n",
              " Row(faa='MEI'),\n",
              " Row(faa='MEM'),\n",
              " Row(faa='MER'),\n",
              " Row(faa='MFD'),\n",
              " Row(faa='MFE'),\n",
              " Row(faa='MFI'),\n",
              " Row(faa='MFR'),\n",
              " Row(faa='MGC'),\n",
              " Row(faa='MGE'),\n",
              " Row(faa='MGJ'),\n",
              " Row(faa='MGM'),\n",
              " Row(faa='MGR'),\n",
              " Row(faa='MGW'),\n",
              " Row(faa='MGY'),\n",
              " Row(faa='MHK'),\n",
              " Row(faa='MHM'),\n",
              " Row(faa='MHR'),\n",
              " Row(faa='MHT'),\n",
              " Row(faa='MHV'),\n",
              " Row(faa='MIA'),\n",
              " Row(faa='MIB'),\n",
              " Row(faa='MIE'),\n",
              " Row(faa='MIV'),\n",
              " Row(faa='MKC'),\n",
              " Row(faa='MKE'),\n",
              " Row(faa='MKG'),\n",
              " Row(faa='MKK'),\n",
              " Row(faa='MKL'),\n",
              " Row(faa='MKO'),\n",
              " Row(faa='MLB'),\n",
              " Row(faa='MLC'),\n",
              " Row(faa='MLD'),\n",
              " Row(faa='MLI'),\n",
              " Row(faa='MLJ'),\n",
              " Row(faa='MLL'),\n",
              " Row(faa='MLS'),\n",
              " Row(faa='MLT'),\n",
              " Row(faa='MLU'),\n",
              " Row(faa='MLY'),\n",
              " Row(faa='MMH'),\n",
              " Row(faa='MMI'),\n",
              " Row(faa='MMU'),\n",
              " Row(faa='MMV'),\n",
              " Row(faa='MNM'),\n",
              " Row(faa='MNT'),\n",
              " Row(faa='MOB'),\n",
              " Row(faa='MOD'),\n",
              " Row(faa='MOT'),\n",
              " Row(faa='MOU'),\n",
              " Row(faa='MPB'),\n",
              " Row(faa='MPI'),\n",
              " Row(faa='MPV'),\n",
              " Row(faa='MQB'),\n",
              " Row(faa='MQT'),\n",
              " Row(faa='MRB'),\n",
              " Row(faa='MRI'),\n",
              " Row(faa='MRK'),\n",
              " Row(faa='MRN'),\n",
              " Row(faa='MRY'),\n",
              " Row(faa='MSL'),\n",
              " Row(faa='MSN'),\n",
              " Row(faa='MSO'),\n",
              " Row(faa='MSP'),\n",
              " Row(faa='MSS'),\n",
              " Row(faa='MSY'),\n",
              " Row(faa='MTC'),\n",
              " Row(faa='MTH'),\n",
              " Row(faa='MTJ'),\n",
              " Row(faa='MTM'),\n",
              " Row(faa='MUE'),\n",
              " Row(faa='MUI'),\n",
              " Row(faa='MUO'),\n",
              " Row(faa='MVL'),\n",
              " Row(faa='MVY'),\n",
              " Row(faa='MWA'),\n",
              " Row(faa='MWC'),\n",
              " Row(faa='MWH'),\n",
              " Row(faa='MWL'),\n",
              " Row(faa='MWM'),\n",
              " Row(faa='MXF'),\n",
              " Row(faa='MXY'),\n",
              " Row(faa='MYF'),\n",
              " Row(faa='MYL'),\n",
              " Row(faa='MYR'),\n",
              " Row(faa='MYU'),\n",
              " Row(faa='MYV'),\n",
              " Row(faa='MZJ'),\n",
              " Row(faa='N53'),\n",
              " Row(faa='N69'),\n",
              " Row(faa='N87'),\n",
              " Row(faa='NBG'),\n",
              " Row(faa='NBU'),\n",
              " Row(faa='NCN'),\n",
              " Row(faa='NEL'),\n",
              " Row(faa='NFL'),\n",
              " Row(faa='NGF'),\n",
              " Row(faa='NGP'),\n",
              " Row(faa='NGU'),\n",
              " Row(faa='NGZ'),\n",
              " Row(faa='NHK'),\n",
              " Row(faa='NIB'),\n",
              " Row(faa='NID'),\n",
              " Row(faa='NIP'),\n",
              " Row(faa='NJK'),\n",
              " Row(faa='NKT'),\n",
              " Row(faa='NKX'),\n",
              " Row(faa='NLC'),\n",
              " Row(faa='NLG'),\n",
              " Row(faa='NME'),\n",
              " Row(faa='NMM'),\n",
              " Row(faa='NNL'),\n",
              " Row(faa='NOW'),\n",
              " Row(faa='NPA'),\n",
              " Row(faa='NPZ'),\n",
              " Row(faa='NQA'),\n",
              " Row(faa='NQI'),\n",
              " Row(faa='NQX'),\n",
              " Row(faa='NSE'),\n",
              " Row(faa='NTD'),\n",
              " Row(faa='NTU'),\n",
              " Row(faa='NUI'),\n",
              " Row(faa='NUL'),\n",
              " Row(faa='NUP'),\n",
              " Row(faa='NUQ'),\n",
              " Row(faa='NUW'),\n",
              " Row(faa='NXP'),\n",
              " Row(faa='NXX'),\n",
              " Row(faa='NY9'),\n",
              " Row(faa='NYC'),\n",
              " Row(faa='NYG'),\n",
              " Row(faa='NZC'),\n",
              " Row(faa='NZJ'),\n",
              " Row(faa='NZY'),\n",
              " Row(faa='O03'),\n",
              " Row(faa='O27'),\n",
              " Row(faa='OAJ'),\n",
              " Row(faa='OAK'),\n",
              " Row(faa='OAR'),\n",
              " Row(faa='OBE'),\n",
              " Row(faa='OBU'),\n",
              " Row(faa='OCA'),\n",
              " Row(faa='OCF'),\n",
              " Row(faa='OEB'),\n",
              " Row(faa='OFF'),\n",
              " Row(faa='OGG'),\n",
              " Row(faa='OGS'),\n",
              " Row(faa='OKC'),\n",
              " Row(faa='OLF'),\n",
              " Row(faa='OLH'),\n",
              " Row(faa='OLM'),\n",
              " Row(faa='OLS'),\n",
              " Row(faa='OLV'),\n",
              " Row(faa='OMA'),\n",
              " Row(faa='OME'),\n",
              " Row(faa='OMN'),\n",
              " Row(faa='ONH'),\n",
              " Row(faa='ONP'),\n",
              " Row(faa='ONT'),\n",
              " Row(faa='OOK'),\n",
              " Row(faa='OPF'),\n",
              " Row(faa='OQU'),\n",
              " Row(faa='ORD'),\n",
              " Row(faa='ORF'),\n",
              " Row(faa='ORH'),\n",
              " Row(faa='ORI'),\n",
              " Row(faa='ORL'),\n",
              " Row(faa='ORT'),\n",
              " Row(faa='ORV'),\n",
              " Row(faa='OSC'),\n",
              " Row(faa='OSH'),\n",
              " Row(faa='OSU'),\n",
              " Row(faa='OTH'),\n",
              " Row(faa='OTS'),\n",
              " Row(faa='OTZ'),\n",
              " Row(faa='OWB'),\n",
              " Row(faa='OWD'),\n",
              " Row(faa='OXC'),\n",
              " Row(faa='OXD'),\n",
              " Row(faa='OXR'),\n",
              " Row(faa='OZA'),\n",
              " Row(faa='P08'),\n",
              " Row(faa='P52'),\n",
              " Row(faa='PAE'),\n",
              " Row(faa='PAH'),\n",
              " ...]"
            ]
          },
          "metadata": {},
          "execution_count": 12
        }
      ]
    },
    {
      "cell_type": "code",
      "source": [
        "# Retorna um novo DataFramecontendo as linhas distintas neste DataFrame:\n",
        "\n",
        "df_airports.select(col('faa')).distinct().count()\n"
      ],
      "metadata": {
        "application/vnd.databricks.v1+cell": {
          "title": "",
          "showTitle": false,
          "inputWidgets": {},
          "nuid": "6ca65ff5-9872-47ba-99e8-69be680dc21c"
        },
        "id": "N54djxwCLZW-",
        "colab": {
          "base_uri": "https://localhost:8080/"
        },
        "outputId": "c94eb6aa-9b77-4c6c-c844-f00c2b92a7a6"
      },
      "outputs": [
        {
          "output_type": "execute_result",
          "data": {
            "text/plain": [
              "1396"
            ]
          },
          "metadata": {},
          "execution_count": 13
        }
      ],
      "execution_count": 13
    },
    {
      "cell_type": "code",
      "source": [
        "# Retorna um novo DataFrame contendo as linhas distintas neste DataFrame:\n",
        "\n",
        "df_airports.select(col('faa')).explain()\n"
      ],
      "metadata": {
        "id": "xsJv1i1xbB7N",
        "colab": {
          "base_uri": "https://localhost:8080/"
        },
        "outputId": "4356eb14-5779-47ab-ca51-5fec33ae4112"
      },
      "execution_count": 14,
      "outputs": [
        {
          "output_type": "stream",
          "name": "stdout",
          "text": [
            "== Physical Plan ==\n",
            "FileScan csv [faa#17] Batched: false, DataFilters: [], Format: CSV, Location: InMemoryFileIndex(1 paths)[file:/content/airports.csv], PartitionFilters: [], PushedFilters: [], ReadSchema: struct<faa:string>\n",
            "\n",
            "\n"
          ]
        }
      ]
    },
    {
      "cell_type": "code",
      "source": [
        "# Substitui os valores nulos:\n",
        "\n",
        "df_airports.fillna('').show()\n"
      ],
      "metadata": {
        "id": "d2MlVuDeiZRW",
        "colab": {
          "base_uri": "https://localhost:8080/"
        },
        "outputId": "4a923b04-76b7-4136-ba14-d7245c54a1b6"
      },
      "execution_count": 15,
      "outputs": [
        {
          "output_type": "stream",
          "name": "stdout",
          "text": [
            "+---+--------------------+----------------+-----------------+----+---+---+\n",
            "|faa|                name|             lat|              lon| alt| tz|dst|\n",
            "+---+--------------------+----------------+-----------------+----+---+---+\n",
            "|04G|   Lansdowne Airport|      41.1304722|      -80.6195833|1044| -5|  A|\n",
            "|06A|Moton Field Munic...|      32.4605722|      -85.6800278| 264| -5|  A|\n",
            "|06C| Schaumburg Regional|      41.9893408|      -88.1012428| 801| -6|  A|\n",
            "|06N|     Randall Airport|       41.431912|      -74.3915611| 523| -5|  A|\n",
            "|09J|Jekyll Island Air...|      31.0744722|      -81.4277778|  11| -4|  A|\n",
            "|0A9|Elizabethton Muni...|      36.3712222|      -82.1734167|1593| -4|  A|\n",
            "|0G6|Williams County A...|      41.4673056|      -84.5067778| 730| -5|  A|\n",
            "|0G7|Finger Lakes Regi...|      42.8835647|      -76.7812318| 492| -5|  A|\n",
            "|0P2|Shoestring Aviati...|      39.7948244|      -76.6471914|1000| -5|  U|\n",
            "|0S9|Jefferson County ...|      48.0538086|     -122.8106436| 108| -8|  A|\n",
            "|0W3|Harford County Ai...|      39.5668378|      -76.2024028| 409| -5|  A|\n",
            "|10C|  Galt Field Airport|      42.4028889|      -88.3751111| 875| -6|  U|\n",
            "|17G|Port Bucyrus-Craw...|      40.7815556|      -82.9748056|1003| -5|  A|\n",
            "|19A|Jackson County Ai...|      34.1758638|      -83.5615972| 951| -4|  U|\n",
            "|1A3|Martin Campbell F...|      35.0158056|      -84.3468333|1789| -4|  A|\n",
            "|1B9| Mansfield Municipal|      42.0001331|      -71.1967714| 122| -5|  A|\n",
            "|1C9|Frazier Lake Airpark|54.0133333333333|-124.768333333333| 152| -8|  A|\n",
            "|1CS|Clow Internationa...|      41.6959744|      -88.1292306| 670| -6|  U|\n",
            "|1G3|  Kent State Airport|      41.1513889|      -81.4151111|1134| -4|  A|\n",
            "|1OH|     Fortman Airport|      40.5553253|      -84.3866186| 885| -5|  U|\n",
            "+---+--------------------+----------------+-----------------+----+---+---+\n",
            "only showing top 20 rows\n",
            "\n"
          ]
        }
      ]
    },
    {
      "cell_type": "code",
      "source": [
        "# Retorna um novo DataFrameomitindo linhas com valores nulos:\n",
        "\n",
        "df_airports.dropna().show()\n"
      ],
      "metadata": {
        "id": "DRJdPqKpQz3f",
        "colab": {
          "base_uri": "https://localhost:8080/"
        },
        "outputId": "f6cc06fc-0620-4b24-bae3-e43f4b5af09a"
      },
      "execution_count": 16,
      "outputs": [
        {
          "output_type": "stream",
          "name": "stdout",
          "text": [
            "+---+--------------------+----------------+-----------------+----+---+---+\n",
            "|faa|                name|             lat|              lon| alt| tz|dst|\n",
            "+---+--------------------+----------------+-----------------+----+---+---+\n",
            "|04G|   Lansdowne Airport|      41.1304722|      -80.6195833|1044| -5|  A|\n",
            "|06A|Moton Field Munic...|      32.4605722|      -85.6800278| 264| -5|  A|\n",
            "|06C| Schaumburg Regional|      41.9893408|      -88.1012428| 801| -6|  A|\n",
            "|06N|     Randall Airport|       41.431912|      -74.3915611| 523| -5|  A|\n",
            "|09J|Jekyll Island Air...|      31.0744722|      -81.4277778|  11| -4|  A|\n",
            "|0A9|Elizabethton Muni...|      36.3712222|      -82.1734167|1593| -4|  A|\n",
            "|0G6|Williams County A...|      41.4673056|      -84.5067778| 730| -5|  A|\n",
            "|0G7|Finger Lakes Regi...|      42.8835647|      -76.7812318| 492| -5|  A|\n",
            "|0P2|Shoestring Aviati...|      39.7948244|      -76.6471914|1000| -5|  U|\n",
            "|0S9|Jefferson County ...|      48.0538086|     -122.8106436| 108| -8|  A|\n",
            "|0W3|Harford County Ai...|      39.5668378|      -76.2024028| 409| -5|  A|\n",
            "|10C|  Galt Field Airport|      42.4028889|      -88.3751111| 875| -6|  U|\n",
            "|17G|Port Bucyrus-Craw...|      40.7815556|      -82.9748056|1003| -5|  A|\n",
            "|19A|Jackson County Ai...|      34.1758638|      -83.5615972| 951| -4|  U|\n",
            "|1A3|Martin Campbell F...|      35.0158056|      -84.3468333|1789| -4|  A|\n",
            "|1B9| Mansfield Municipal|      42.0001331|      -71.1967714| 122| -5|  A|\n",
            "|1C9|Frazier Lake Airpark|54.0133333333333|-124.768333333333| 152| -8|  A|\n",
            "|1CS|Clow Internationa...|      41.6959744|      -88.1292306| 670| -6|  U|\n",
            "|1G3|  Kent State Airport|      41.1513889|      -81.4151111|1134| -4|  A|\n",
            "|1OH|     Fortman Airport|      40.5553253|      -84.3866186| 885| -5|  U|\n",
            "+---+--------------------+----------------+-----------------+----+---+---+\n",
            "only showing top 20 rows\n",
            "\n"
          ]
        }
      ]
    },
    {
      "cell_type": "code",
      "source": [
        "# Função inclui contagem, média, stddev, min e max. Se nenhuma coluna for fornecida, esta função calcula estatísticas para todas as colunas numéricas ou de string:\n",
        "\n",
        "df_airports.describe(['faa']).show()\n"
      ],
      "metadata": {
        "id": "vsguv5HSavXe",
        "colab": {
          "base_uri": "https://localhost:8080/"
        },
        "outputId": "e52fe71a-d526-4ab6-a494-8832e41c9cd2"
      },
      "execution_count": 17,
      "outputs": [
        {
          "output_type": "stream",
          "name": "stdout",
          "text": [
            "+-------+------------------+\n",
            "|summary|               faa|\n",
            "+-------+------------------+\n",
            "|  count|              1397|\n",
            "|   mean|             141.0|\n",
            "| stddev|197.46392075515973|\n",
            "|    min|               04G|\n",
            "|    max|               ZYP|\n",
            "+-------+------------------+\n",
            "\n"
          ]
        }
      ]
    },
    {
      "cell_type": "markdown",
      "source": [
        "Perguntas<br>\n",
        "Considere o dataset airports.csv para realizar as seguintes tarefas:"
      ],
      "metadata": {
        "application/vnd.databricks.v1+cell": {
          "title": "",
          "showTitle": false,
          "inputWidgets": {},
          "nuid": "e097a9c0-4869-4530-b3a0-c6d1e6a5c6ee"
        },
        "id": "Kx_JVSwZLZW6"
      }
    },
    {
      "cell_type": "markdown",
      "source": [
        "1 - Crie a coluna qa_faa e aponte inconsistências da coluna faa de acordo com as regras abaixo.<br>\n",
        "M : Indica que está com dado faltante.<br>\n",
        "F : Indica que não respeita o formator de 3-5 caracteres alfanuméricos.<br>"
      ],
      "metadata": {
        "application/vnd.databricks.v1+cell": {
          "title": "",
          "showTitle": false,
          "inputWidgets": {},
          "nuid": "8d65add6-72e6-454e-b8a2-0b73fb34c665"
        },
        "id": "tTHER_JZLZW7"
      }
    },
    {
      "cell_type": "code",
      "source": [
        "df_airports_qa_faa = df_airports.withColumn('qa_faa',\n",
        "                                            expr(\"\"\"CASE \n",
        "                                                        WHEN faa LIKE '' THEN 'M'\n",
        "                                                        WHEN faa RLIKE '[a-zA-Z0-9]' THEN 'F'\n",
        "                                                        WHEN faa BETWEEN 1 AND 3 THEN 'F'\n",
        "                                                        ELSE faa\n",
        "                                                    END\"\"\"))\n",
        "df_airports_qa_faa.show()\n"
      ],
      "metadata": {
        "id": "OxOK3HYzNNZF",
        "colab": {
          "base_uri": "https://localhost:8080/"
        },
        "outputId": "8ebb0f8b-47df-44e1-b868-b7ef5c2415c8"
      },
      "execution_count": 18,
      "outputs": [
        {
          "output_type": "stream",
          "name": "stdout",
          "text": [
            "+---+--------------------+----------------+-----------------+----+---+---+------+\n",
            "|faa|                name|             lat|              lon| alt| tz|dst|qa_faa|\n",
            "+---+--------------------+----------------+-----------------+----+---+---+------+\n",
            "|04G|   Lansdowne Airport|      41.1304722|      -80.6195833|1044| -5|  A|     F|\n",
            "|06A|Moton Field Munic...|      32.4605722|      -85.6800278| 264| -5|  A|     F|\n",
            "|06C| Schaumburg Regional|      41.9893408|      -88.1012428| 801| -6|  A|     F|\n",
            "|06N|     Randall Airport|       41.431912|      -74.3915611| 523| -5|  A|     F|\n",
            "|09J|Jekyll Island Air...|      31.0744722|      -81.4277778|  11| -4|  A|     F|\n",
            "|0A9|Elizabethton Muni...|      36.3712222|      -82.1734167|1593| -4|  A|     F|\n",
            "|0G6|Williams County A...|      41.4673056|      -84.5067778| 730| -5|  A|     F|\n",
            "|0G7|Finger Lakes Regi...|      42.8835647|      -76.7812318| 492| -5|  A|     F|\n",
            "|0P2|Shoestring Aviati...|      39.7948244|      -76.6471914|1000| -5|  U|     F|\n",
            "|0S9|Jefferson County ...|      48.0538086|     -122.8106436| 108| -8|  A|     F|\n",
            "|0W3|Harford County Ai...|      39.5668378|      -76.2024028| 409| -5|  A|     F|\n",
            "|10C|  Galt Field Airport|      42.4028889|      -88.3751111| 875| -6|  U|     F|\n",
            "|17G|Port Bucyrus-Craw...|      40.7815556|      -82.9748056|1003| -5|  A|     F|\n",
            "|19A|Jackson County Ai...|      34.1758638|      -83.5615972| 951| -4|  U|     F|\n",
            "|1A3|Martin Campbell F...|      35.0158056|      -84.3468333|1789| -4|  A|     F|\n",
            "|1B9| Mansfield Municipal|      42.0001331|      -71.1967714| 122| -5|  A|     F|\n",
            "|1C9|Frazier Lake Airpark|54.0133333333333|-124.768333333333| 152| -8|  A|     F|\n",
            "|1CS|Clow Internationa...|      41.6959744|      -88.1292306| 670| -6|  U|     F|\n",
            "|1G3|  Kent State Airport|      41.1513889|      -81.4151111|1134| -4|  A|     F|\n",
            "|1OH|     Fortman Airport|      40.5553253|      -84.3866186| 885| -5|  U|     F|\n",
            "+---+--------------------+----------------+-----------------+----+---+---+------+\n",
            "only showing top 20 rows\n",
            "\n"
          ]
        }
      ]
    },
    {
      "cell_type": "markdown",
      "source": [
        "2 - Crie a coluna qa_name e aponte inconsistências da coluna name de acordo com as regras abaixo.<br>\n",
        "M : Indica que está com dado faltante."
      ],
      "metadata": {
        "application/vnd.databricks.v1+cell": {
          "title": "",
          "showTitle": false,
          "inputWidgets": {},
          "nuid": "e3aa2467-9a3f-44e4-b8e3-3dcd8c0e982b"
        },
        "id": "rsEfUnfsLZXA"
      }
    },
    {
      "cell_type": "code",
      "source": [
        "df_airports_qa_name = df_airports.withColumn('qa_name',\n",
        "                                            expr(\"\"\"CASE \n",
        "                                                        WHEN name LIKE '' THEN 'M'\n",
        "                                                        ELSE name\n",
        "                                                    END\"\"\"))\n",
        "df_airports_qa_name.show()\n"
      ],
      "metadata": {
        "id": "z8wyMpZxiI6M",
        "colab": {
          "base_uri": "https://localhost:8080/"
        },
        "outputId": "d748a91e-ed85-4e86-f9f6-6c6c349dbb26"
      },
      "execution_count": 19,
      "outputs": [
        {
          "output_type": "stream",
          "name": "stdout",
          "text": [
            "+---+--------------------+----------------+-----------------+----+---+---+--------------------+\n",
            "|faa|                name|             lat|              lon| alt| tz|dst|             qa_name|\n",
            "+---+--------------------+----------------+-----------------+----+---+---+--------------------+\n",
            "|04G|   Lansdowne Airport|      41.1304722|      -80.6195833|1044| -5|  A|   Lansdowne Airport|\n",
            "|06A|Moton Field Munic...|      32.4605722|      -85.6800278| 264| -5|  A|Moton Field Munic...|\n",
            "|06C| Schaumburg Regional|      41.9893408|      -88.1012428| 801| -6|  A| Schaumburg Regional|\n",
            "|06N|     Randall Airport|       41.431912|      -74.3915611| 523| -5|  A|     Randall Airport|\n",
            "|09J|Jekyll Island Air...|      31.0744722|      -81.4277778|  11| -4|  A|Jekyll Island Air...|\n",
            "|0A9|Elizabethton Muni...|      36.3712222|      -82.1734167|1593| -4|  A|Elizabethton Muni...|\n",
            "|0G6|Williams County A...|      41.4673056|      -84.5067778| 730| -5|  A|Williams County A...|\n",
            "|0G7|Finger Lakes Regi...|      42.8835647|      -76.7812318| 492| -5|  A|Finger Lakes Regi...|\n",
            "|0P2|Shoestring Aviati...|      39.7948244|      -76.6471914|1000| -5|  U|Shoestring Aviati...|\n",
            "|0S9|Jefferson County ...|      48.0538086|     -122.8106436| 108| -8|  A|Jefferson County ...|\n",
            "|0W3|Harford County Ai...|      39.5668378|      -76.2024028| 409| -5|  A|Harford County Ai...|\n",
            "|10C|  Galt Field Airport|      42.4028889|      -88.3751111| 875| -6|  U|  Galt Field Airport|\n",
            "|17G|Port Bucyrus-Craw...|      40.7815556|      -82.9748056|1003| -5|  A|Port Bucyrus-Craw...|\n",
            "|19A|Jackson County Ai...|      34.1758638|      -83.5615972| 951| -4|  U|Jackson County Ai...|\n",
            "|1A3|Martin Campbell F...|      35.0158056|      -84.3468333|1789| -4|  A|Martin Campbell F...|\n",
            "|1B9| Mansfield Municipal|      42.0001331|      -71.1967714| 122| -5|  A| Mansfield Municipal|\n",
            "|1C9|Frazier Lake Airpark|54.0133333333333|-124.768333333333| 152| -8|  A|Frazier Lake Airpark|\n",
            "|1CS|Clow Internationa...|      41.6959744|      -88.1292306| 670| -6|  U|Clow Internationa...|\n",
            "|1G3|  Kent State Airport|      41.1513889|      -81.4151111|1134| -4|  A|  Kent State Airport|\n",
            "|1OH|     Fortman Airport|      40.5553253|      -84.3866186| 885| -5|  U|     Fortman Airport|\n",
            "+---+--------------------+----------------+-----------------+----+---+---+--------------------+\n",
            "only showing top 20 rows\n",
            "\n"
          ]
        }
      ]
    },
    {
      "cell_type": "markdown",
      "source": [
        "3 - Crie a coluna qa_lat e aponte inconsistências da coluna lat de acordo com as regras abaixo.<br>\n",
        "M : Indica que está com dado faltante.<br>\n",
        "I : Indica que o valor excede o intervalo [-180, 180].<br>\n",
        "A : Indica que o valor é alfanumérico."
      ],
      "metadata": {
        "application/vnd.databricks.v1+cell": {
          "title": "",
          "showTitle": false,
          "inputWidgets": {},
          "nuid": "b0655bbd-536c-491b-8ce1-66ca322efbb7"
        },
        "id": "fr-p_RORLZXB"
      }
    },
    {
      "cell_type": "code",
      "source": [
        "\n",
        "df_airports_qa_lat = df_airports.withColumn('qa_lat',\n",
        "                                            expr(\"\"\"CASE\n",
        "                                                  WHEN lat LIKE '' THEN 'M'\n",
        "                                                  WHEN lat BETWEEN -180 AND 180 THEN 'I'\n",
        "                                                  WHEN lat RLIKE '[a-zA-Z0-9]' THEN 'A'\n",
        "                                                  ELSE lat\n",
        "                                                END\"\"\"))\n",
        "df_airports_qa_lat.show()\n"
      ],
      "metadata": {
        "id": "jiqw7SZXltTj",
        "colab": {
          "base_uri": "https://localhost:8080/"
        },
        "outputId": "4ab49190-083f-4ac3-e147-79c1a390d5f7"
      },
      "execution_count": 20,
      "outputs": [
        {
          "output_type": "stream",
          "name": "stdout",
          "text": [
            "+---+--------------------+----------------+-----------------+----+---+---+------+\n",
            "|faa|                name|             lat|              lon| alt| tz|dst|qa_lat|\n",
            "+---+--------------------+----------------+-----------------+----+---+---+------+\n",
            "|04G|   Lansdowne Airport|      41.1304722|      -80.6195833|1044| -5|  A|     I|\n",
            "|06A|Moton Field Munic...|      32.4605722|      -85.6800278| 264| -5|  A|     I|\n",
            "|06C| Schaumburg Regional|      41.9893408|      -88.1012428| 801| -6|  A|     I|\n",
            "|06N|     Randall Airport|       41.431912|      -74.3915611| 523| -5|  A|     I|\n",
            "|09J|Jekyll Island Air...|      31.0744722|      -81.4277778|  11| -4|  A|     I|\n",
            "|0A9|Elizabethton Muni...|      36.3712222|      -82.1734167|1593| -4|  A|     I|\n",
            "|0G6|Williams County A...|      41.4673056|      -84.5067778| 730| -5|  A|     I|\n",
            "|0G7|Finger Lakes Regi...|      42.8835647|      -76.7812318| 492| -5|  A|     I|\n",
            "|0P2|Shoestring Aviati...|      39.7948244|      -76.6471914|1000| -5|  U|     I|\n",
            "|0S9|Jefferson County ...|      48.0538086|     -122.8106436| 108| -8|  A|     I|\n",
            "|0W3|Harford County Ai...|      39.5668378|      -76.2024028| 409| -5|  A|     I|\n",
            "|10C|  Galt Field Airport|      42.4028889|      -88.3751111| 875| -6|  U|     I|\n",
            "|17G|Port Bucyrus-Craw...|      40.7815556|      -82.9748056|1003| -5|  A|     I|\n",
            "|19A|Jackson County Ai...|      34.1758638|      -83.5615972| 951| -4|  U|     I|\n",
            "|1A3|Martin Campbell F...|      35.0158056|      -84.3468333|1789| -4|  A|     I|\n",
            "|1B9| Mansfield Municipal|      42.0001331|      -71.1967714| 122| -5|  A|     I|\n",
            "|1C9|Frazier Lake Airpark|54.0133333333333|-124.768333333333| 152| -8|  A|     I|\n",
            "|1CS|Clow Internationa...|      41.6959744|      -88.1292306| 670| -6|  U|     I|\n",
            "|1G3|  Kent State Airport|      41.1513889|      -81.4151111|1134| -4|  A|     I|\n",
            "|1OH|     Fortman Airport|      40.5553253|      -84.3866186| 885| -5|  U|     I|\n",
            "+---+--------------------+----------------+-----------------+----+---+---+------+\n",
            "only showing top 20 rows\n",
            "\n"
          ]
        }
      ]
    },
    {
      "cell_type": "markdown",
      "source": [
        "4 - Crie a coluna qa_lon e aponte inconsistências da coluna lon de acordo com as regras abaixo.<br>\n",
        "M : Indica que está com dado faltante.<br>\n",
        "I : Indica que o valor excede o intervalo [-180, 180].<br>\n",
        "A : Indica que o valor é alfanumérico."
      ],
      "metadata": {
        "application/vnd.databricks.v1+cell": {
          "title": "",
          "showTitle": false,
          "inputWidgets": {},
          "nuid": "655a6c26-1f63-478f-b596-f79bfde6d07d"
        },
        "id": "IFESP0LALZXC"
      }
    },
    {
      "cell_type": "code",
      "source": [
        "df_airports_qa_lon = df_airports.withColumn('qa_lon',\n",
        "                                            expr(\"\"\"CASE \n",
        "                                                        WHEN lon LIKE '' THEN 'M'\n",
        "                                                        WHEN lon BETWEEN -180 AND 180 THEN 'I'\n",
        "                                                        WHEN lon RLIKE '[a-zA-Z0-9]' THEN 'A'\n",
        "                                                        ELSE lon\n",
        "                                                    END\"\"\"))\n",
        "df_airports_qa_lon.show()\n"
      ],
      "metadata": {
        "id": "8ZKbOLVxmUCr",
        "colab": {
          "base_uri": "https://localhost:8080/"
        },
        "outputId": "516c0021-02b0-4fda-e8dd-1a7def83abbe"
      },
      "execution_count": 21,
      "outputs": [
        {
          "output_type": "stream",
          "name": "stdout",
          "text": [
            "+---+--------------------+----------------+-----------------+----+---+---+------+\n",
            "|faa|                name|             lat|              lon| alt| tz|dst|qa_lon|\n",
            "+---+--------------------+----------------+-----------------+----+---+---+------+\n",
            "|04G|   Lansdowne Airport|      41.1304722|      -80.6195833|1044| -5|  A|     I|\n",
            "|06A|Moton Field Munic...|      32.4605722|      -85.6800278| 264| -5|  A|     I|\n",
            "|06C| Schaumburg Regional|      41.9893408|      -88.1012428| 801| -6|  A|     I|\n",
            "|06N|     Randall Airport|       41.431912|      -74.3915611| 523| -5|  A|     I|\n",
            "|09J|Jekyll Island Air...|      31.0744722|      -81.4277778|  11| -4|  A|     I|\n",
            "|0A9|Elizabethton Muni...|      36.3712222|      -82.1734167|1593| -4|  A|     I|\n",
            "|0G6|Williams County A...|      41.4673056|      -84.5067778| 730| -5|  A|     I|\n",
            "|0G7|Finger Lakes Regi...|      42.8835647|      -76.7812318| 492| -5|  A|     I|\n",
            "|0P2|Shoestring Aviati...|      39.7948244|      -76.6471914|1000| -5|  U|     I|\n",
            "|0S9|Jefferson County ...|      48.0538086|     -122.8106436| 108| -8|  A|     I|\n",
            "|0W3|Harford County Ai...|      39.5668378|      -76.2024028| 409| -5|  A|     I|\n",
            "|10C|  Galt Field Airport|      42.4028889|      -88.3751111| 875| -6|  U|     I|\n",
            "|17G|Port Bucyrus-Craw...|      40.7815556|      -82.9748056|1003| -5|  A|     I|\n",
            "|19A|Jackson County Ai...|      34.1758638|      -83.5615972| 951| -4|  U|     I|\n",
            "|1A3|Martin Campbell F...|      35.0158056|      -84.3468333|1789| -4|  A|     I|\n",
            "|1B9| Mansfield Municipal|      42.0001331|      -71.1967714| 122| -5|  A|     I|\n",
            "|1C9|Frazier Lake Airpark|54.0133333333333|-124.768333333333| 152| -8|  A|     I|\n",
            "|1CS|Clow Internationa...|      41.6959744|      -88.1292306| 670| -6|  U|     I|\n",
            "|1G3|  Kent State Airport|      41.1513889|      -81.4151111|1134| -4|  A|     I|\n",
            "|1OH|     Fortman Airport|      40.5553253|      -84.3866186| 885| -5|  U|     I|\n",
            "+---+--------------------+----------------+-----------------+----+---+---+------+\n",
            "only showing top 20 rows\n",
            "\n"
          ]
        }
      ]
    },
    {
      "cell_type": "markdown",
      "source": [
        "5 - Crie a coluna qa_alt e aponte inconsistências da coluna alt de acordo com as regras abaixo.<br>\n",
        "M : Indica que está com dado faltante.<br>\n",
        "I : Indica que o valor excede o intervalo [0,+∞).<br>\n",
        "A : Indica que o valor é alfanumérico.<br>"
      ],
      "metadata": {
        "application/vnd.databricks.v1+cell": {
          "title": "",
          "showTitle": false,
          "inputWidgets": {},
          "nuid": "fddab5d8-c319-4cec-bf42-8492c65a1d90"
        },
        "id": "W058IVN3LZXD"
      }
    },
    {
      "cell_type": "code",
      "source": [
        "df_airports_qa_alt = df_airports.withColumn('qa_alt',\n",
        "                                            expr(\"\"\"CASE\n",
        "                                                  WHEN alt LIKE '' THEN 'M'\n",
        "                                                  WHEN alt BETWEEN 0 AND 50000 THEN 'I'\n",
        "                                                  WHEN alt RLIKE '[a-zA-Z0-9]' THEN 'A'\n",
        "                                                  ELSE alt\n",
        "                                                END\"\"\"))\n",
        "df_airports_qa_alt.show()\n"
      ],
      "metadata": {
        "id": "VsMzDnZ3pONe",
        "colab": {
          "base_uri": "https://localhost:8080/"
        },
        "outputId": "42886505-f21a-41a4-e2bd-4ab577e86243"
      },
      "execution_count": 22,
      "outputs": [
        {
          "output_type": "stream",
          "name": "stdout",
          "text": [
            "+---+--------------------+----------------+-----------------+----+---+---+------+\n",
            "|faa|                name|             lat|              lon| alt| tz|dst|qa_alt|\n",
            "+---+--------------------+----------------+-----------------+----+---+---+------+\n",
            "|04G|   Lansdowne Airport|      41.1304722|      -80.6195833|1044| -5|  A|     I|\n",
            "|06A|Moton Field Munic...|      32.4605722|      -85.6800278| 264| -5|  A|     I|\n",
            "|06C| Schaumburg Regional|      41.9893408|      -88.1012428| 801| -6|  A|     I|\n",
            "|06N|     Randall Airport|       41.431912|      -74.3915611| 523| -5|  A|     I|\n",
            "|09J|Jekyll Island Air...|      31.0744722|      -81.4277778|  11| -4|  A|     I|\n",
            "|0A9|Elizabethton Muni...|      36.3712222|      -82.1734167|1593| -4|  A|     I|\n",
            "|0G6|Williams County A...|      41.4673056|      -84.5067778| 730| -5|  A|     I|\n",
            "|0G7|Finger Lakes Regi...|      42.8835647|      -76.7812318| 492| -5|  A|     I|\n",
            "|0P2|Shoestring Aviati...|      39.7948244|      -76.6471914|1000| -5|  U|     I|\n",
            "|0S9|Jefferson County ...|      48.0538086|     -122.8106436| 108| -8|  A|     I|\n",
            "|0W3|Harford County Ai...|      39.5668378|      -76.2024028| 409| -5|  A|     I|\n",
            "|10C|  Galt Field Airport|      42.4028889|      -88.3751111| 875| -6|  U|     I|\n",
            "|17G|Port Bucyrus-Craw...|      40.7815556|      -82.9748056|1003| -5|  A|     I|\n",
            "|19A|Jackson County Ai...|      34.1758638|      -83.5615972| 951| -4|  U|     I|\n",
            "|1A3|Martin Campbell F...|      35.0158056|      -84.3468333|1789| -4|  A|     I|\n",
            "|1B9| Mansfield Municipal|      42.0001331|      -71.1967714| 122| -5|  A|     I|\n",
            "|1C9|Frazier Lake Airpark|54.0133333333333|-124.768333333333| 152| -8|  A|     I|\n",
            "|1CS|Clow Internationa...|      41.6959744|      -88.1292306| 670| -6|  U|     I|\n",
            "|1G3|  Kent State Airport|      41.1513889|      -81.4151111|1134| -4|  A|     I|\n",
            "|1OH|     Fortman Airport|      40.5553253|      -84.3866186| 885| -5|  U|     I|\n",
            "+---+--------------------+----------------+-----------------+----+---+---+------+\n",
            "only showing top 20 rows\n",
            "\n"
          ]
        }
      ]
    },
    {
      "cell_type": "markdown",
      "source": [
        "6 - Crie a coluna qa_tz e aponte inconsistências da coluna tz de acordo com as regras abaixo.<br>\n",
        "M : Indica que está com dado faltante.<br>\n",
        "I : Indica que o valor excede o intervalo [-11, +14].<br>\n",
        "A : Indica que o valor é alfanumérico."
      ],
      "metadata": {
        "application/vnd.databricks.v1+cell": {
          "title": "",
          "showTitle": false,
          "inputWidgets": {},
          "nuid": "19b9f23f-9ba4-43e2-88d3-63123c38163a"
        },
        "id": "YMII4B2bLZXE"
      }
    },
    {
      "cell_type": "code",
      "source": [
        "df_airports_qa_tz = df_airports.withColumn('qa_tz',\n",
        "                                            expr(\"\"\"CASE \n",
        "                                                        WHEN tz LIKE '' THEN 'M'\n",
        "                                                        WHEN tz BETWEEN -11 AND +14 THEN 'I'\n",
        "                                                        WHEN tz RLIKE '[a-zA-Z0-9]' THEN 'A'\n",
        "                                                        ELSE tz\n",
        "                                                    END\"\"\"))\n",
        "df_airports_qa_tz.show()\n"
      ],
      "metadata": {
        "id": "vC7LDIXcpSL0",
        "colab": {
          "base_uri": "https://localhost:8080/"
        },
        "outputId": "825d7e7b-a8ea-47ef-bccf-0b2d11fbd091"
      },
      "execution_count": 23,
      "outputs": [
        {
          "output_type": "stream",
          "name": "stdout",
          "text": [
            "+---+--------------------+----------------+-----------------+----+---+---+-----+\n",
            "|faa|                name|             lat|              lon| alt| tz|dst|qa_tz|\n",
            "+---+--------------------+----------------+-----------------+----+---+---+-----+\n",
            "|04G|   Lansdowne Airport|      41.1304722|      -80.6195833|1044| -5|  A|    I|\n",
            "|06A|Moton Field Munic...|      32.4605722|      -85.6800278| 264| -5|  A|    I|\n",
            "|06C| Schaumburg Regional|      41.9893408|      -88.1012428| 801| -6|  A|    I|\n",
            "|06N|     Randall Airport|       41.431912|      -74.3915611| 523| -5|  A|    I|\n",
            "|09J|Jekyll Island Air...|      31.0744722|      -81.4277778|  11| -4|  A|    I|\n",
            "|0A9|Elizabethton Muni...|      36.3712222|      -82.1734167|1593| -4|  A|    I|\n",
            "|0G6|Williams County A...|      41.4673056|      -84.5067778| 730| -5|  A|    I|\n",
            "|0G7|Finger Lakes Regi...|      42.8835647|      -76.7812318| 492| -5|  A|    I|\n",
            "|0P2|Shoestring Aviati...|      39.7948244|      -76.6471914|1000| -5|  U|    I|\n",
            "|0S9|Jefferson County ...|      48.0538086|     -122.8106436| 108| -8|  A|    I|\n",
            "|0W3|Harford County Ai...|      39.5668378|      -76.2024028| 409| -5|  A|    I|\n",
            "|10C|  Galt Field Airport|      42.4028889|      -88.3751111| 875| -6|  U|    I|\n",
            "|17G|Port Bucyrus-Craw...|      40.7815556|      -82.9748056|1003| -5|  A|    I|\n",
            "|19A|Jackson County Ai...|      34.1758638|      -83.5615972| 951| -4|  U|    I|\n",
            "|1A3|Martin Campbell F...|      35.0158056|      -84.3468333|1789| -4|  A|    I|\n",
            "|1B9| Mansfield Municipal|      42.0001331|      -71.1967714| 122| -5|  A|    I|\n",
            "|1C9|Frazier Lake Airpark|54.0133333333333|-124.768333333333| 152| -8|  A|    I|\n",
            "|1CS|Clow Internationa...|      41.6959744|      -88.1292306| 670| -6|  U|    I|\n",
            "|1G3|  Kent State Airport|      41.1513889|      -81.4151111|1134| -4|  A|    I|\n",
            "|1OH|     Fortman Airport|      40.5553253|      -84.3866186| 885| -5|  U|    I|\n",
            "+---+--------------------+----------------+-----------------+----+---+---+-----+\n",
            "only showing top 20 rows\n",
            "\n"
          ]
        }
      ]
    },
    {
      "cell_type": "markdown",
      "source": [
        "7 - Crie a coluna qa_dst e aponte inconsistências da coluna dst de acordo com as regras abaixo.<br>\n",
        "M : Indica que está com dado faltante.<br>\n",
        "C : Indica que o valor não pertence a nenhuma das categorias esperadas: E, A, S, O, Z, N, U<br>\n",
        "N : Indica que o valor é numérico."
      ],
      "metadata": {
        "application/vnd.databricks.v1+cell": {
          "title": "",
          "showTitle": false,
          "inputWidgets": {},
          "nuid": "860bad8a-21f5-4e24-815c-5cc24b2e969d"
        },
        "id": "MfW-rQE5LZXF"
      }
    },
    {
      "cell_type": "code",
      "source": [
        "df_airports_qa_dst = df_airports.withColumn('qa_dst',\n",
        "                                            expr(\"\"\"CASE\n",
        "                                                        WHEN dst LIKE ''  THEN 'M'\n",
        "                                                        WHEN dst LIKE 'E' THEN 'C'\n",
        "                                                        WHEN dst LIKE 'A' THEN 'C'\n",
        "                                                        WHEN dst LIKE 'S' THEN 'C'\n",
        "                                                        WHEN dst LIKE 'O' THEN 'C'\n",
        "                                                        WHEN dst LIKE 'Z' THEN 'C'\n",
        "                                                        WHEN dst LIKE 'N' THEN 'C'\n",
        "                                                        WHEN dst LIKE 'U' THEN 'C'\n",
        "                                                        WHEN dst RLIKE '[a-zA-Z0-9]' THEN 'A'\n",
        "                                                        WHEN dst RLIKE '[0-9]' THEN 'N'\n",
        "                                                        ELSE dst\n",
        "                                            END\"\"\"))\n",
        "df_airports_qa_dst.show()\n"
      ],
      "metadata": {
        "id": "q9uWgIfXp23v",
        "colab": {
          "base_uri": "https://localhost:8080/"
        },
        "outputId": "8ac2bc76-e0b2-4507-d898-3e13a38048f3"
      },
      "execution_count": 24,
      "outputs": [
        {
          "output_type": "stream",
          "name": "stdout",
          "text": [
            "+---+--------------------+----------------+-----------------+----+---+---+------+\n",
            "|faa|                name|             lat|              lon| alt| tz|dst|qa_dst|\n",
            "+---+--------------------+----------------+-----------------+----+---+---+------+\n",
            "|04G|   Lansdowne Airport|      41.1304722|      -80.6195833|1044| -5|  A|     C|\n",
            "|06A|Moton Field Munic...|      32.4605722|      -85.6800278| 264| -5|  A|     C|\n",
            "|06C| Schaumburg Regional|      41.9893408|      -88.1012428| 801| -6|  A|     C|\n",
            "|06N|     Randall Airport|       41.431912|      -74.3915611| 523| -5|  A|     C|\n",
            "|09J|Jekyll Island Air...|      31.0744722|      -81.4277778|  11| -4|  A|     C|\n",
            "|0A9|Elizabethton Muni...|      36.3712222|      -82.1734167|1593| -4|  A|     C|\n",
            "|0G6|Williams County A...|      41.4673056|      -84.5067778| 730| -5|  A|     C|\n",
            "|0G7|Finger Lakes Regi...|      42.8835647|      -76.7812318| 492| -5|  A|     C|\n",
            "|0P2|Shoestring Aviati...|      39.7948244|      -76.6471914|1000| -5|  U|     C|\n",
            "|0S9|Jefferson County ...|      48.0538086|     -122.8106436| 108| -8|  A|     C|\n",
            "|0W3|Harford County Ai...|      39.5668378|      -76.2024028| 409| -5|  A|     C|\n",
            "|10C|  Galt Field Airport|      42.4028889|      -88.3751111| 875| -6|  U|     C|\n",
            "|17G|Port Bucyrus-Craw...|      40.7815556|      -82.9748056|1003| -5|  A|     C|\n",
            "|19A|Jackson County Ai...|      34.1758638|      -83.5615972| 951| -4|  U|     C|\n",
            "|1A3|Martin Campbell F...|      35.0158056|      -84.3468333|1789| -4|  A|     C|\n",
            "|1B9| Mansfield Municipal|      42.0001331|      -71.1967714| 122| -5|  A|     C|\n",
            "|1C9|Frazier Lake Airpark|54.0133333333333|-124.768333333333| 152| -8|  A|     C|\n",
            "|1CS|Clow Internationa...|      41.6959744|      -88.1292306| 670| -6|  U|     C|\n",
            "|1G3|  Kent State Airport|      41.1513889|      -81.4151111|1134| -4|  A|     C|\n",
            "|1OH|     Fortman Airport|      40.5553253|      -84.3866186| 885| -5|  U|     C|\n",
            "+---+--------------------+----------------+-----------------+----+---+---+------+\n",
            "only showing top 20 rows\n",
            "\n"
          ]
        }
      ]
    },
    {
      "cell_type": "markdown",
      "source": [
        "# Planes Dataset:"
      ],
      "metadata": {
        "application/vnd.databricks.v1+cell": {
          "title": "",
          "showTitle": false,
          "inputWidgets": {},
          "nuid": "e3c09a43-5e7d-4205-a87e-ee03b2762f34"
        },
        "id": "ZZ9fMRX_LZXG"
      }
    },
    {
      "cell_type": "code",
      "source": [
        "# Importação dos dados para o PySpark:\n",
        "# Download do http para arquivo local:\n",
        "\n",
        "!wget --quiet --show-progress https://drive.google.com/file/d/18Ru1UuLHv9d6nPBWj5-T_ikyJAHhaDI2/view?usp=sharing\n",
        "\n",
        "# Carregar dados do Planes:\n",
        "\n",
        "df_planes = spark.read.csv(\"./planes.csv\", inferSchema=True, header=True)\n",
        "\n",
        "# Ver algumas informações sobre os tipos de dados de cada coluna:\n",
        "\n",
        "df_planes.printSchema()\n"
      ],
      "metadata": {
        "application/vnd.databricks.v1+cell": {
          "title": "",
          "showTitle": false,
          "inputWidgets": {},
          "nuid": "d6260bad-2671-49b4-be2d-3030dea38c38"
        },
        "id": "WiTrkeyQLZXG",
        "colab": {
          "base_uri": "https://localhost:8080/"
        },
        "outputId": "18ec479a-e4f5-408c-8d7f-33d55a67421c"
      },
      "outputs": [
        {
          "output_type": "stream",
          "name": "stdout",
          "text": [
            "\rview?usp=sharing.13     [<=>                 ]       0  --.-KB/s               \rview?usp=sharing.13     [ <=>                ]  66.59K  --.-KB/s    in 0.1s    \n",
            "root\n",
            " |-- tailnum: string (nullable = true)\n",
            " |-- year: string (nullable = true)\n",
            " |-- type: string (nullable = true)\n",
            " |-- manufacturer: string (nullable = true)\n",
            " |-- model: string (nullable = true)\n",
            " |-- engines: integer (nullable = true)\n",
            " |-- seats: integer (nullable = true)\n",
            " |-- speed: string (nullable = true)\n",
            " |-- engine: string (nullable = true)\n",
            "\n"
          ]
        }
      ],
      "execution_count": 25
    },
    {
      "cell_type": "code",
      "source": [
        "df_planes.show()\n"
      ],
      "metadata": {
        "application/vnd.databricks.v1+cell": {
          "title": "",
          "showTitle": false,
          "inputWidgets": {},
          "nuid": "f7dbdadb-a113-4813-b1c4-7c453c5abe69"
        },
        "id": "OAoIh3ILLZXH",
        "colab": {
          "base_uri": "https://localhost:8080/"
        },
        "outputId": "c7053a6f-7481-4bcf-c1a7-a1434f51d760"
      },
      "outputs": [
        {
          "output_type": "stream",
          "name": "stdout",
          "text": [
            "+-------+----+--------------------+----------------+--------+-------+-----+-----+---------+\n",
            "|tailnum|year|                type|    manufacturer|   model|engines|seats|speed|   engine|\n",
            "+-------+----+--------------------+----------------+--------+-------+-----+-----+---------+\n",
            "| N102UW|1998|Fixed wing multi ...|AIRBUS INDUSTRIE|A320-214|      2|  182|   NA|Turbo-fan|\n",
            "| N103US|1999|Fixed wing multi ...|AIRBUS INDUSTRIE|A320-214|      2|  182|   NA|Turbo-fan|\n",
            "| N104UW|1999|Fixed wing multi ...|AIRBUS INDUSTRIE|A320-214|      2|  182|   NA|Turbo-fan|\n",
            "| N105UW|1999|Fixed wing multi ...|AIRBUS INDUSTRIE|A320-214|      2|  182|   NA|Turbo-fan|\n",
            "| N107US|1999|Fixed wing multi ...|AIRBUS INDUSTRIE|A320-214|      2|  182|   NA|Turbo-fan|\n",
            "| N108UW|1999|Fixed wing multi ...|AIRBUS INDUSTRIE|A320-214|      2|  182|   NA|Turbo-fan|\n",
            "| N109UW|1999|Fixed wing multi ...|AIRBUS INDUSTRIE|A320-214|      2|  182|   NA|Turbo-fan|\n",
            "| N110UW|1999|Fixed wing multi ...|AIRBUS INDUSTRIE|A320-214|      2|  182|   NA|Turbo-fan|\n",
            "| N111US|1999|Fixed wing multi ...|AIRBUS INDUSTRIE|A320-214|      2|  182|   NA|Turbo-fan|\n",
            "| N11206|2000|Fixed wing multi ...|          BOEING| 737-824|      2|  149|   NA|Turbo-fan|\n",
            "| N112US|1999|Fixed wing multi ...|AIRBUS INDUSTRIE|A320-214|      2|  182|   NA|Turbo-fan|\n",
            "| N113UW|1999|Fixed wing multi ...|AIRBUS INDUSTRIE|A320-214|      2|  182|   NA|Turbo-fan|\n",
            "| N114UW|1999|Fixed wing multi ...|AIRBUS INDUSTRIE|A320-214|      2|  182|   NA|Turbo-fan|\n",
            "| N117UW|2000|Fixed wing multi ...|AIRBUS INDUSTRIE|A320-214|      2|  182|   NA|Turbo-fan|\n",
            "| N118US|2000|Fixed wing multi ...|AIRBUS INDUSTRIE|A320-214|      2|  182|   NA|Turbo-fan|\n",
            "| N119US|2000|Fixed wing multi ...|AIRBUS INDUSTRIE|A320-214|      2|  182|   NA|Turbo-fan|\n",
            "| N1200K|1998|Fixed wing multi ...|          BOEING| 767-332|      2|  330|   NA|Turbo-fan|\n",
            "| N1201P|1998|Fixed wing multi ...|          BOEING| 767-332|      2|  330|   NA|Turbo-fan|\n",
            "| N12114|1995|Fixed wing multi ...|          BOEING| 757-224|      2|  178|   NA|Turbo-jet|\n",
            "| N121DE|1987|Fixed wing multi ...|          BOEING| 767-332|      2|  330|   NA|Turbo-fan|\n",
            "+-------+----+--------------------+----------------+--------+-------+-----+-----+---------+\n",
            "only showing top 20 rows\n",
            "\n"
          ]
        }
      ],
      "execution_count": 26
    },
    {
      "cell_type": "code",
      "source": [
        "df_planes.fillna('NA').show()\n"
      ],
      "metadata": {
        "id": "0BaYhH3qjHaA",
        "colab": {
          "base_uri": "https://localhost:8080/"
        },
        "outputId": "8a13e174-dea2-4639-9a82-5de3c72c6965"
      },
      "execution_count": 27,
      "outputs": [
        {
          "output_type": "stream",
          "name": "stdout",
          "text": [
            "+-------+----+--------------------+----------------+--------+-------+-----+-----+---------+\n",
            "|tailnum|year|                type|    manufacturer|   model|engines|seats|speed|   engine|\n",
            "+-------+----+--------------------+----------------+--------+-------+-----+-----+---------+\n",
            "| N102UW|1998|Fixed wing multi ...|AIRBUS INDUSTRIE|A320-214|      2|  182|   NA|Turbo-fan|\n",
            "| N103US|1999|Fixed wing multi ...|AIRBUS INDUSTRIE|A320-214|      2|  182|   NA|Turbo-fan|\n",
            "| N104UW|1999|Fixed wing multi ...|AIRBUS INDUSTRIE|A320-214|      2|  182|   NA|Turbo-fan|\n",
            "| N105UW|1999|Fixed wing multi ...|AIRBUS INDUSTRIE|A320-214|      2|  182|   NA|Turbo-fan|\n",
            "| N107US|1999|Fixed wing multi ...|AIRBUS INDUSTRIE|A320-214|      2|  182|   NA|Turbo-fan|\n",
            "| N108UW|1999|Fixed wing multi ...|AIRBUS INDUSTRIE|A320-214|      2|  182|   NA|Turbo-fan|\n",
            "| N109UW|1999|Fixed wing multi ...|AIRBUS INDUSTRIE|A320-214|      2|  182|   NA|Turbo-fan|\n",
            "| N110UW|1999|Fixed wing multi ...|AIRBUS INDUSTRIE|A320-214|      2|  182|   NA|Turbo-fan|\n",
            "| N111US|1999|Fixed wing multi ...|AIRBUS INDUSTRIE|A320-214|      2|  182|   NA|Turbo-fan|\n",
            "| N11206|2000|Fixed wing multi ...|          BOEING| 737-824|      2|  149|   NA|Turbo-fan|\n",
            "| N112US|1999|Fixed wing multi ...|AIRBUS INDUSTRIE|A320-214|      2|  182|   NA|Turbo-fan|\n",
            "| N113UW|1999|Fixed wing multi ...|AIRBUS INDUSTRIE|A320-214|      2|  182|   NA|Turbo-fan|\n",
            "| N114UW|1999|Fixed wing multi ...|AIRBUS INDUSTRIE|A320-214|      2|  182|   NA|Turbo-fan|\n",
            "| N117UW|2000|Fixed wing multi ...|AIRBUS INDUSTRIE|A320-214|      2|  182|   NA|Turbo-fan|\n",
            "| N118US|2000|Fixed wing multi ...|AIRBUS INDUSTRIE|A320-214|      2|  182|   NA|Turbo-fan|\n",
            "| N119US|2000|Fixed wing multi ...|AIRBUS INDUSTRIE|A320-214|      2|  182|   NA|Turbo-fan|\n",
            "| N1200K|1998|Fixed wing multi ...|          BOEING| 767-332|      2|  330|   NA|Turbo-fan|\n",
            "| N1201P|1998|Fixed wing multi ...|          BOEING| 767-332|      2|  330|   NA|Turbo-fan|\n",
            "| N12114|1995|Fixed wing multi ...|          BOEING| 757-224|      2|  178|   NA|Turbo-jet|\n",
            "| N121DE|1987|Fixed wing multi ...|          BOEING| 767-332|      2|  330|   NA|Turbo-fan|\n",
            "+-------+----+--------------------+----------------+--------+-------+-----+-----+---------+\n",
            "only showing top 20 rows\n",
            "\n"
          ]
        }
      ]
    },
    {
      "cell_type": "markdown",
      "source": [
        "Perguntas<br>\n",
        "Considere o dataset planes.csv para realizar as seguintes tarefas:"
      ],
      "metadata": {
        "application/vnd.databricks.v1+cell": {
          "title": "",
          "showTitle": false,
          "inputWidgets": {},
          "nuid": "fb3b2a37-06e5-4976-a3f7-728e74d5c9bd"
        },
        "id": "zeA0zaZgLZXJ"
      }
    },
    {
      "cell_type": "markdown",
      "source": [
        "1 - Crie a coluna qa_tailnum e aponte inconsistências da coluna tailnum de acordo com as regras\n",
        "abaixo.<br>\n",
        "M : Indica que está com dado faltante.<br>\n",
        "S : Indica que não tem exatamente 5 caracteres.<br>\n",
        "F : Indica que não respeita o formato esperado (ex. N1234Z ou N123AZ).<br>\n",
        "FN : Indica que não inicia com a letra \"N\".<br>\n",
        "FE : Indica que contém caracteres inválidos (\"I\", \"O\", ou 0 como primeiro digito).<br>"
      ],
      "metadata": {
        "application/vnd.databricks.v1+cell": {
          "title": "",
          "showTitle": false,
          "inputWidgets": {},
          "nuid": "91ba35b6-0d95-44e5-800b-9a54e3e1a468"
        },
        "id": "tUbtr7-8LZXJ"
      }
    },
    {
      "cell_type": "code",
      "source": [
        "df_planes_qa_tailnum = df_planes.withColumn('qa_tailnum',\n",
        "                                            expr(\"\"\"CASE \n",
        "                                                        WHEN tailnum LIKE '' THEN 'M'\n",
        "                                                        WHEN tailnum >= 5 THEN 'S'\n",
        "                                                        WHEN tailnum LIKE 'N1234Z' THEN 'A'\n",
        "                                                        WHEN tailnum LIKE 'N123AZ' THEN 'A'\n",
        "                                                        WHEN tailnum LIKE 'N' THEN 'FN'\n",
        "                                                        WHEN tailnum LIKE 'I' THEN 'FE'\n",
        "                                                        WHEN tailnum LIKE 'O' THEN 'FE'\n",
        "                                                        WHEN tailnum LIKE '0' THEN 'FE'\n",
        "                                                        ELSE tailnum\n",
        "                                                    END\"\"\"))\n",
        "df_planes_qa_tailnum.show()\n"
      ],
      "metadata": {
        "id": "0gm95ArsowI2",
        "colab": {
          "base_uri": "https://localhost:8080/"
        },
        "outputId": "8c75126a-475b-4a4b-e1c2-15ea04d74b3e"
      },
      "execution_count": 28,
      "outputs": [
        {
          "output_type": "stream",
          "name": "stdout",
          "text": [
            "+-------+----+--------------------+----------------+--------+-------+-----+-----+---------+----------+\n",
            "|tailnum|year|                type|    manufacturer|   model|engines|seats|speed|   engine|qa_tailnum|\n",
            "+-------+----+--------------------+----------------+--------+-------+-----+-----+---------+----------+\n",
            "| N102UW|1998|Fixed wing multi ...|AIRBUS INDUSTRIE|A320-214|      2|  182|   NA|Turbo-fan|    N102UW|\n",
            "| N103US|1999|Fixed wing multi ...|AIRBUS INDUSTRIE|A320-214|      2|  182|   NA|Turbo-fan|    N103US|\n",
            "| N104UW|1999|Fixed wing multi ...|AIRBUS INDUSTRIE|A320-214|      2|  182|   NA|Turbo-fan|    N104UW|\n",
            "| N105UW|1999|Fixed wing multi ...|AIRBUS INDUSTRIE|A320-214|      2|  182|   NA|Turbo-fan|    N105UW|\n",
            "| N107US|1999|Fixed wing multi ...|AIRBUS INDUSTRIE|A320-214|      2|  182|   NA|Turbo-fan|    N107US|\n",
            "| N108UW|1999|Fixed wing multi ...|AIRBUS INDUSTRIE|A320-214|      2|  182|   NA|Turbo-fan|    N108UW|\n",
            "| N109UW|1999|Fixed wing multi ...|AIRBUS INDUSTRIE|A320-214|      2|  182|   NA|Turbo-fan|    N109UW|\n",
            "| N110UW|1999|Fixed wing multi ...|AIRBUS INDUSTRIE|A320-214|      2|  182|   NA|Turbo-fan|    N110UW|\n",
            "| N111US|1999|Fixed wing multi ...|AIRBUS INDUSTRIE|A320-214|      2|  182|   NA|Turbo-fan|    N111US|\n",
            "| N11206|2000|Fixed wing multi ...|          BOEING| 737-824|      2|  149|   NA|Turbo-fan|    N11206|\n",
            "| N112US|1999|Fixed wing multi ...|AIRBUS INDUSTRIE|A320-214|      2|  182|   NA|Turbo-fan|    N112US|\n",
            "| N113UW|1999|Fixed wing multi ...|AIRBUS INDUSTRIE|A320-214|      2|  182|   NA|Turbo-fan|    N113UW|\n",
            "| N114UW|1999|Fixed wing multi ...|AIRBUS INDUSTRIE|A320-214|      2|  182|   NA|Turbo-fan|    N114UW|\n",
            "| N117UW|2000|Fixed wing multi ...|AIRBUS INDUSTRIE|A320-214|      2|  182|   NA|Turbo-fan|    N117UW|\n",
            "| N118US|2000|Fixed wing multi ...|AIRBUS INDUSTRIE|A320-214|      2|  182|   NA|Turbo-fan|    N118US|\n",
            "| N119US|2000|Fixed wing multi ...|AIRBUS INDUSTRIE|A320-214|      2|  182|   NA|Turbo-fan|    N119US|\n",
            "| N1200K|1998|Fixed wing multi ...|          BOEING| 767-332|      2|  330|   NA|Turbo-fan|    N1200K|\n",
            "| N1201P|1998|Fixed wing multi ...|          BOEING| 767-332|      2|  330|   NA|Turbo-fan|    N1201P|\n",
            "| N12114|1995|Fixed wing multi ...|          BOEING| 757-224|      2|  178|   NA|Turbo-jet|    N12114|\n",
            "| N121DE|1987|Fixed wing multi ...|          BOEING| 767-332|      2|  330|   NA|Turbo-fan|    N121DE|\n",
            "+-------+----+--------------------+----------------+--------+-------+-----+-----+---------+----------+\n",
            "only showing top 20 rows\n",
            "\n"
          ]
        }
      ]
    },
    {
      "cell_type": "markdown",
      "source": [
        "2 - Crie a coluna qa_year e aponte inconsistências da coluna year de acordo com as regras abaixo.<br>\n",
        "M : Indica que está com dado faltante.<br>\n",
        "I : Indica que o valor excede o intervalo [1950,+∞)."
      ],
      "metadata": {
        "application/vnd.databricks.v1+cell": {
          "title": "",
          "showTitle": false,
          "inputWidgets": {},
          "nuid": "52984aac-98a1-45f1-8e4e-be30ac095ba5"
        },
        "id": "6RhtUz69LZXL"
      }
    },
    {
      "cell_type": "code",
      "source": [
        "df_planes_qa_year = df_planes.withColumn('qa_year',\n",
        "                                        expr(\"\"\"CASE \n",
        "                                                    WHEN year LIKE '' THEN 'M'\n",
        "                                                    WHEN year BETWEEN 1950 AND 2022 THEN 'I'\n",
        "                                                    ELSE year\n",
        "                                                END\"\"\"))\n",
        "df_planes_qa_year.show()\n"
      ],
      "metadata": {
        "id": "CBQEDxTqYLtQ",
        "colab": {
          "base_uri": "https://localhost:8080/"
        },
        "outputId": "d93a8d34-3dd6-4026-ebba-4a0422268509"
      },
      "execution_count": 29,
      "outputs": [
        {
          "output_type": "stream",
          "name": "stdout",
          "text": [
            "+-------+----+--------------------+----------------+--------+-------+-----+-----+---------+-------+\n",
            "|tailnum|year|                type|    manufacturer|   model|engines|seats|speed|   engine|qa_year|\n",
            "+-------+----+--------------------+----------------+--------+-------+-----+-----+---------+-------+\n",
            "| N102UW|1998|Fixed wing multi ...|AIRBUS INDUSTRIE|A320-214|      2|  182|   NA|Turbo-fan|      I|\n",
            "| N103US|1999|Fixed wing multi ...|AIRBUS INDUSTRIE|A320-214|      2|  182|   NA|Turbo-fan|      I|\n",
            "| N104UW|1999|Fixed wing multi ...|AIRBUS INDUSTRIE|A320-214|      2|  182|   NA|Turbo-fan|      I|\n",
            "| N105UW|1999|Fixed wing multi ...|AIRBUS INDUSTRIE|A320-214|      2|  182|   NA|Turbo-fan|      I|\n",
            "| N107US|1999|Fixed wing multi ...|AIRBUS INDUSTRIE|A320-214|      2|  182|   NA|Turbo-fan|      I|\n",
            "| N108UW|1999|Fixed wing multi ...|AIRBUS INDUSTRIE|A320-214|      2|  182|   NA|Turbo-fan|      I|\n",
            "| N109UW|1999|Fixed wing multi ...|AIRBUS INDUSTRIE|A320-214|      2|  182|   NA|Turbo-fan|      I|\n",
            "| N110UW|1999|Fixed wing multi ...|AIRBUS INDUSTRIE|A320-214|      2|  182|   NA|Turbo-fan|      I|\n",
            "| N111US|1999|Fixed wing multi ...|AIRBUS INDUSTRIE|A320-214|      2|  182|   NA|Turbo-fan|      I|\n",
            "| N11206|2000|Fixed wing multi ...|          BOEING| 737-824|      2|  149|   NA|Turbo-fan|      I|\n",
            "| N112US|1999|Fixed wing multi ...|AIRBUS INDUSTRIE|A320-214|      2|  182|   NA|Turbo-fan|      I|\n",
            "| N113UW|1999|Fixed wing multi ...|AIRBUS INDUSTRIE|A320-214|      2|  182|   NA|Turbo-fan|      I|\n",
            "| N114UW|1999|Fixed wing multi ...|AIRBUS INDUSTRIE|A320-214|      2|  182|   NA|Turbo-fan|      I|\n",
            "| N117UW|2000|Fixed wing multi ...|AIRBUS INDUSTRIE|A320-214|      2|  182|   NA|Turbo-fan|      I|\n",
            "| N118US|2000|Fixed wing multi ...|AIRBUS INDUSTRIE|A320-214|      2|  182|   NA|Turbo-fan|      I|\n",
            "| N119US|2000|Fixed wing multi ...|AIRBUS INDUSTRIE|A320-214|      2|  182|   NA|Turbo-fan|      I|\n",
            "| N1200K|1998|Fixed wing multi ...|          BOEING| 767-332|      2|  330|   NA|Turbo-fan|      I|\n",
            "| N1201P|1998|Fixed wing multi ...|          BOEING| 767-332|      2|  330|   NA|Turbo-fan|      I|\n",
            "| N12114|1995|Fixed wing multi ...|          BOEING| 757-224|      2|  178|   NA|Turbo-jet|      I|\n",
            "| N121DE|1987|Fixed wing multi ...|          BOEING| 767-332|      2|  330|   NA|Turbo-fan|      I|\n",
            "+-------+----+--------------------+----------------+--------+-------+-----+-----+---------+-------+\n",
            "only showing top 20 rows\n",
            "\n"
          ]
        }
      ]
    },
    {
      "cell_type": "markdown",
      "source": [
        "3 - Crie a coluna qa_type e aponte inconsistências da coluna type de acordo com as regras abaixo.<br>\n",
        "M : Indica que está com dado faltante.<br>\n",
        "C : Indica que o valor não pertence a nenhuma categoria esperada:<br>\n",
        "Fixed wing multi engine<br>\n",
        "Fixed wing single engine<br>\n",
        "Rotorcraft"
      ],
      "metadata": {
        "application/vnd.databricks.v1+cell": {
          "title": "",
          "showTitle": false,
          "inputWidgets": {},
          "nuid": "836ff85c-a51c-4dd2-aab4-e6c761b6f54d"
        },
        "id": "U9T_2QyeLZXL"
      }
    },
    {
      "cell_type": "code",
      "source": [
        "df_planes_qa_type = df_planes.withColumn('qa_type',\n",
        "                                            expr(\"\"\"CASE \n",
        "                                                        WHEN type LIKE '' THEN 'M'\n",
        "                                                        WHEN type LIKE 'Fixed wing multi engine' THEN 'C'\n",
        "                                                        WHEN type LIKE 'Fixed wing single engine' THEN 'C'\n",
        "                                                        WHEN type LIKE 'Rotorcraft' THEN 'C'\n",
        "                                                        ELSE type\n",
        "                                                    END\"\"\"))\n",
        "df_planes_qa_type.show()\n"
      ],
      "metadata": {
        "id": "vK5gpTbbYiDO",
        "colab": {
          "base_uri": "https://localhost:8080/"
        },
        "outputId": "62591b60-692a-4d49-c6ce-05f1436af240"
      },
      "execution_count": 30,
      "outputs": [
        {
          "output_type": "stream",
          "name": "stdout",
          "text": [
            "+-------+----+--------------------+----------------+--------+-------+-----+-----+---------+-------+\n",
            "|tailnum|year|                type|    manufacturer|   model|engines|seats|speed|   engine|qa_type|\n",
            "+-------+----+--------------------+----------------+--------+-------+-----+-----+---------+-------+\n",
            "| N102UW|1998|Fixed wing multi ...|AIRBUS INDUSTRIE|A320-214|      2|  182|   NA|Turbo-fan|      C|\n",
            "| N103US|1999|Fixed wing multi ...|AIRBUS INDUSTRIE|A320-214|      2|  182|   NA|Turbo-fan|      C|\n",
            "| N104UW|1999|Fixed wing multi ...|AIRBUS INDUSTRIE|A320-214|      2|  182|   NA|Turbo-fan|      C|\n",
            "| N105UW|1999|Fixed wing multi ...|AIRBUS INDUSTRIE|A320-214|      2|  182|   NA|Turbo-fan|      C|\n",
            "| N107US|1999|Fixed wing multi ...|AIRBUS INDUSTRIE|A320-214|      2|  182|   NA|Turbo-fan|      C|\n",
            "| N108UW|1999|Fixed wing multi ...|AIRBUS INDUSTRIE|A320-214|      2|  182|   NA|Turbo-fan|      C|\n",
            "| N109UW|1999|Fixed wing multi ...|AIRBUS INDUSTRIE|A320-214|      2|  182|   NA|Turbo-fan|      C|\n",
            "| N110UW|1999|Fixed wing multi ...|AIRBUS INDUSTRIE|A320-214|      2|  182|   NA|Turbo-fan|      C|\n",
            "| N111US|1999|Fixed wing multi ...|AIRBUS INDUSTRIE|A320-214|      2|  182|   NA|Turbo-fan|      C|\n",
            "| N11206|2000|Fixed wing multi ...|          BOEING| 737-824|      2|  149|   NA|Turbo-fan|      C|\n",
            "| N112US|1999|Fixed wing multi ...|AIRBUS INDUSTRIE|A320-214|      2|  182|   NA|Turbo-fan|      C|\n",
            "| N113UW|1999|Fixed wing multi ...|AIRBUS INDUSTRIE|A320-214|      2|  182|   NA|Turbo-fan|      C|\n",
            "| N114UW|1999|Fixed wing multi ...|AIRBUS INDUSTRIE|A320-214|      2|  182|   NA|Turbo-fan|      C|\n",
            "| N117UW|2000|Fixed wing multi ...|AIRBUS INDUSTRIE|A320-214|      2|  182|   NA|Turbo-fan|      C|\n",
            "| N118US|2000|Fixed wing multi ...|AIRBUS INDUSTRIE|A320-214|      2|  182|   NA|Turbo-fan|      C|\n",
            "| N119US|2000|Fixed wing multi ...|AIRBUS INDUSTRIE|A320-214|      2|  182|   NA|Turbo-fan|      C|\n",
            "| N1200K|1998|Fixed wing multi ...|          BOEING| 767-332|      2|  330|   NA|Turbo-fan|      C|\n",
            "| N1201P|1998|Fixed wing multi ...|          BOEING| 767-332|      2|  330|   NA|Turbo-fan|      C|\n",
            "| N12114|1995|Fixed wing multi ...|          BOEING| 757-224|      2|  178|   NA|Turbo-jet|      C|\n",
            "| N121DE|1987|Fixed wing multi ...|          BOEING| 767-332|      2|  330|   NA|Turbo-fan|      C|\n",
            "+-------+----+--------------------+----------------+--------+-------+-----+-----+---------+-------+\n",
            "only showing top 20 rows\n",
            "\n"
          ]
        }
      ]
    },
    {
      "cell_type": "markdown",
      "source": [
        "4 - Crie a coluna qa_manufacturer e aponte inconsistências da coluna manufacturer de acordo com\n",
        "as regras abaixo.<br>\n",
        "M : Indica que está com dado faltante.<br>\n",
        "C : Indica que o valor não pertence a nenhuma categoria esperada:<br>\n",
        "AIRBUS<br>\n",
        "BOEING<br>\n",
        "BOMBARDIER<br>\n",
        "CESSNA<br>\n",
        "EMBRAER<br>\n",
        "SIKORSKY<br>\n",
        "CANADAIR<br>\n",
        "PIPER<br>\n",
        "MCDONNELL DOUGLAS<br>\n",
        "CIRRUS<br>\n",
        "BELL<br>\n",
        "KILDALL GARY<br>\n",
        "LAMBERT RICHARD<br>\n",
        "BARKER JACK<br>\n",
        "ROBINSON HELICOPTER<br>\n",
        "GULFSTREAM<br>\n",
        "MARZ BARRY<br>"
      ],
      "metadata": {
        "application/vnd.databricks.v1+cell": {
          "title": "",
          "showTitle": false,
          "inputWidgets": {},
          "nuid": "20657935-1db9-44e5-a409-41d3019ae299"
        },
        "id": "9j04WGHILZXM"
      }
    },
    {
      "cell_type": "code",
      "source": [
        "df_planes_qa_manufacturer = df_planes.withColumn('qa_manufacturer',\n",
        "                                            expr(\"\"\"CASE \n",
        "                                                        WHEN manufacturer LIKE '' THEN 'M'\n",
        "                                                        WHEN manufacturer LIKE 'AIRBUS' THEN 'C'\n",
        "                                                        WHEN manufacturer LIKE 'BARKER JACK' THEN 'C'                                                        \n",
        "                                                        WHEN manufacturer LIKE 'BELL' THEN 'C'\n",
        "                                                        WHEN manufacturer LIKE 'BOEING' THEN 'C'\n",
        "                                                        WHEN manufacturer LIKE 'BOMBARDIER' THEN 'C'\n",
        "                                                        WHEN manufacturer LIKE 'CANADAIR' THEN 'C'                                                       \n",
        "                                                        WHEN manufacturer LIKE 'CESSNA' THEN 'C'\n",
        "                                                        WHEN manufacturer LIKE 'CIRRUS' THEN 'C'\n",
        "                                                        WHEN manufacturer LIKE 'EMBRAER' THEN 'C'\n",
        "                                                        WHEN manufacturer LIKE 'ULFSTREAM' THEN 'C'\n",
        "                                                        WHEN manufacturer LIKE 'KILDALL GARY' THEN 'C'\n",
        "                                                        WHEN manufacturer LIKE 'LAMBERT RICHARD' THEN 'C'\n",
        "                                                        WHEN manufacturer LIKE 'MARZ BARRY' THEN 'C'\n",
        "                                                        WHEN manufacturer LIKE 'MCDONNELL DOUGLAS' THEN 'C'\n",
        "                                                        WHEN manufacturer LIKE 'PIPER' THEN 'C'\n",
        "                                                        WHEN manufacturer LIKE 'ROBINSON HELICOPTER' THEN 'C'\n",
        "                                                        WHEN manufacturer LIKE 'SIKORSKY' THEN 'C'\n",
        "                                                        ELSE manufacturer\n",
        "                                                    END\"\"\"))\n",
        "df_planes_qa_manufacturer.show()\n"
      ],
      "metadata": {
        "id": "XH-95PuZl7XQ",
        "colab": {
          "base_uri": "https://localhost:8080/"
        },
        "outputId": "70dd9d41-1f03-413b-f779-52eca425cb3d"
      },
      "execution_count": 31,
      "outputs": [
        {
          "output_type": "stream",
          "name": "stdout",
          "text": [
            "+-------+----+--------------------+----------------+--------+-------+-----+-----+---------+----------------+\n",
            "|tailnum|year|                type|    manufacturer|   model|engines|seats|speed|   engine| qa_manufacturer|\n",
            "+-------+----+--------------------+----------------+--------+-------+-----+-----+---------+----------------+\n",
            "| N102UW|1998|Fixed wing multi ...|AIRBUS INDUSTRIE|A320-214|      2|  182|   NA|Turbo-fan|AIRBUS INDUSTRIE|\n",
            "| N103US|1999|Fixed wing multi ...|AIRBUS INDUSTRIE|A320-214|      2|  182|   NA|Turbo-fan|AIRBUS INDUSTRIE|\n",
            "| N104UW|1999|Fixed wing multi ...|AIRBUS INDUSTRIE|A320-214|      2|  182|   NA|Turbo-fan|AIRBUS INDUSTRIE|\n",
            "| N105UW|1999|Fixed wing multi ...|AIRBUS INDUSTRIE|A320-214|      2|  182|   NA|Turbo-fan|AIRBUS INDUSTRIE|\n",
            "| N107US|1999|Fixed wing multi ...|AIRBUS INDUSTRIE|A320-214|      2|  182|   NA|Turbo-fan|AIRBUS INDUSTRIE|\n",
            "| N108UW|1999|Fixed wing multi ...|AIRBUS INDUSTRIE|A320-214|      2|  182|   NA|Turbo-fan|AIRBUS INDUSTRIE|\n",
            "| N109UW|1999|Fixed wing multi ...|AIRBUS INDUSTRIE|A320-214|      2|  182|   NA|Turbo-fan|AIRBUS INDUSTRIE|\n",
            "| N110UW|1999|Fixed wing multi ...|AIRBUS INDUSTRIE|A320-214|      2|  182|   NA|Turbo-fan|AIRBUS INDUSTRIE|\n",
            "| N111US|1999|Fixed wing multi ...|AIRBUS INDUSTRIE|A320-214|      2|  182|   NA|Turbo-fan|AIRBUS INDUSTRIE|\n",
            "| N11206|2000|Fixed wing multi ...|          BOEING| 737-824|      2|  149|   NA|Turbo-fan|               C|\n",
            "| N112US|1999|Fixed wing multi ...|AIRBUS INDUSTRIE|A320-214|      2|  182|   NA|Turbo-fan|AIRBUS INDUSTRIE|\n",
            "| N113UW|1999|Fixed wing multi ...|AIRBUS INDUSTRIE|A320-214|      2|  182|   NA|Turbo-fan|AIRBUS INDUSTRIE|\n",
            "| N114UW|1999|Fixed wing multi ...|AIRBUS INDUSTRIE|A320-214|      2|  182|   NA|Turbo-fan|AIRBUS INDUSTRIE|\n",
            "| N117UW|2000|Fixed wing multi ...|AIRBUS INDUSTRIE|A320-214|      2|  182|   NA|Turbo-fan|AIRBUS INDUSTRIE|\n",
            "| N118US|2000|Fixed wing multi ...|AIRBUS INDUSTRIE|A320-214|      2|  182|   NA|Turbo-fan|AIRBUS INDUSTRIE|\n",
            "| N119US|2000|Fixed wing multi ...|AIRBUS INDUSTRIE|A320-214|      2|  182|   NA|Turbo-fan|AIRBUS INDUSTRIE|\n",
            "| N1200K|1998|Fixed wing multi ...|          BOEING| 767-332|      2|  330|   NA|Turbo-fan|               C|\n",
            "| N1201P|1998|Fixed wing multi ...|          BOEING| 767-332|      2|  330|   NA|Turbo-fan|               C|\n",
            "| N12114|1995|Fixed wing multi ...|          BOEING| 757-224|      2|  178|   NA|Turbo-jet|               C|\n",
            "| N121DE|1987|Fixed wing multi ...|          BOEING| 767-332|      2|  330|   NA|Turbo-fan|               C|\n",
            "+-------+----+--------------------+----------------+--------+-------+-----+-----+---------+----------------+\n",
            "only showing top 20 rows\n",
            "\n"
          ]
        }
      ]
    },
    {
      "cell_type": "markdown",
      "source": [
        "5 - Crie a coluna qa_model e aponte inconsistências da coluna model de acordo com as regras abaixo.<br>\n",
        "M : Indica que está com dado faltante.<br>\n",
        "F : Indica que não respeita o formato esperado<br>\n",
        "Modelos AIRBUS devem começar com \"A\"<br>\n",
        "Modelos BOEING devem começar com \"7\"<br>\n",
        "Modelos BOMBARDIER e CANADAIR devem começar com \"CL\"<br>\n",
        "Modelos MCDONNELL DOUGLAS devem começar com \"MD\" ou \"DC\""
      ],
      "metadata": {
        "application/vnd.databricks.v1+cell": {
          "title": "",
          "showTitle": false,
          "inputWidgets": {},
          "nuid": "2eda36ae-a6f2-4c31-8381-54e0004c57c1"
        },
        "id": "3qGdy7uGLZXN"
      }
    },
    {
      "cell_type": "code",
      "source": [
        "df_planes_qa_model = df_planes.withColumn('qa_model',\n",
        "                                            expr(\"\"\"CASE \n",
        "                                                        WHEN model LIKE '' THEN 'M'\n",
        "                                                        WHEN model RLIKE '[A]' THEN 'F'\n",
        "                                                        WHEN model RLIKE'[7]' THEN 'F'\n",
        "                                                        WHEN model RLIKE '[MD]' THEN 'F'\n",
        "                                                        WHEN model RLIKE '[DC]' THEN 'F'\n",
        "                                                        ELSE model\n",
        "                                                    END\"\"\"))\n",
        "df_planes_qa_model.show()\n"
      ],
      "metadata": {
        "id": "zkCZpr7Xkrcz",
        "colab": {
          "base_uri": "https://localhost:8080/"
        },
        "outputId": "f2ab972f-c787-4f76-b1a7-8e1a344063fd"
      },
      "execution_count": 32,
      "outputs": [
        {
          "output_type": "stream",
          "name": "stdout",
          "text": [
            "+-------+----+--------------------+----------------+--------+-------+-----+-----+---------+--------+\n",
            "|tailnum|year|                type|    manufacturer|   model|engines|seats|speed|   engine|qa_model|\n",
            "+-------+----+--------------------+----------------+--------+-------+-----+-----+---------+--------+\n",
            "| N102UW|1998|Fixed wing multi ...|AIRBUS INDUSTRIE|A320-214|      2|  182|   NA|Turbo-fan|       F|\n",
            "| N103US|1999|Fixed wing multi ...|AIRBUS INDUSTRIE|A320-214|      2|  182|   NA|Turbo-fan|       F|\n",
            "| N104UW|1999|Fixed wing multi ...|AIRBUS INDUSTRIE|A320-214|      2|  182|   NA|Turbo-fan|       F|\n",
            "| N105UW|1999|Fixed wing multi ...|AIRBUS INDUSTRIE|A320-214|      2|  182|   NA|Turbo-fan|       F|\n",
            "| N107US|1999|Fixed wing multi ...|AIRBUS INDUSTRIE|A320-214|      2|  182|   NA|Turbo-fan|       F|\n",
            "| N108UW|1999|Fixed wing multi ...|AIRBUS INDUSTRIE|A320-214|      2|  182|   NA|Turbo-fan|       F|\n",
            "| N109UW|1999|Fixed wing multi ...|AIRBUS INDUSTRIE|A320-214|      2|  182|   NA|Turbo-fan|       F|\n",
            "| N110UW|1999|Fixed wing multi ...|AIRBUS INDUSTRIE|A320-214|      2|  182|   NA|Turbo-fan|       F|\n",
            "| N111US|1999|Fixed wing multi ...|AIRBUS INDUSTRIE|A320-214|      2|  182|   NA|Turbo-fan|       F|\n",
            "| N11206|2000|Fixed wing multi ...|          BOEING| 737-824|      2|  149|   NA|Turbo-fan|       F|\n",
            "| N112US|1999|Fixed wing multi ...|AIRBUS INDUSTRIE|A320-214|      2|  182|   NA|Turbo-fan|       F|\n",
            "| N113UW|1999|Fixed wing multi ...|AIRBUS INDUSTRIE|A320-214|      2|  182|   NA|Turbo-fan|       F|\n",
            "| N114UW|1999|Fixed wing multi ...|AIRBUS INDUSTRIE|A320-214|      2|  182|   NA|Turbo-fan|       F|\n",
            "| N117UW|2000|Fixed wing multi ...|AIRBUS INDUSTRIE|A320-214|      2|  182|   NA|Turbo-fan|       F|\n",
            "| N118US|2000|Fixed wing multi ...|AIRBUS INDUSTRIE|A320-214|      2|  182|   NA|Turbo-fan|       F|\n",
            "| N119US|2000|Fixed wing multi ...|AIRBUS INDUSTRIE|A320-214|      2|  182|   NA|Turbo-fan|       F|\n",
            "| N1200K|1998|Fixed wing multi ...|          BOEING| 767-332|      2|  330|   NA|Turbo-fan|       F|\n",
            "| N1201P|1998|Fixed wing multi ...|          BOEING| 767-332|      2|  330|   NA|Turbo-fan|       F|\n",
            "| N12114|1995|Fixed wing multi ...|          BOEING| 757-224|      2|  178|   NA|Turbo-jet|       F|\n",
            "| N121DE|1987|Fixed wing multi ...|          BOEING| 767-332|      2|  330|   NA|Turbo-fan|       F|\n",
            "+-------+----+--------------------+----------------+--------+-------+-----+-----+---------+--------+\n",
            "only showing top 20 rows\n",
            "\n"
          ]
        }
      ]
    },
    {
      "cell_type": "markdown",
      "source": [
        "6 - Crie a coluna qa_engines e aponte inconsistências da coluna engines de acordo com as regras\n",
        "abaixo.<br>\n",
        "M : Indica que está com dado faltante.<br>\n",
        "I : Indica que o valor excede o intervalo [1, 4].<br>\n",
        "A : Indica que o valor é alfanumérico."
      ],
      "metadata": {
        "application/vnd.databricks.v1+cell": {
          "title": "",
          "showTitle": false,
          "inputWidgets": {},
          "nuid": "472e247e-3f58-4d38-9ca3-67105ad81216"
        },
        "id": "xSgA2Gz-LZXO"
      }
    },
    {
      "cell_type": "code",
      "source": [
        "df_planes_qa_engines = df_planes.withColumn('qa_engines',\n",
        "                                        expr(\"\"\"CASE \n",
        "                                                    WHEN engines LIKE '' THEN 'M'\n",
        "                                                    WHEN engines BETWEEN 1 AND 4 THEN 'I'\n",
        "                                                    WHEN engines RLIKE '[a-zA-Z0-9]' THEN 'A'\n",
        "                                                    ELSE engines\n",
        "                                                END\"\"\"))\n",
        "df_planes_qa_engines.show()\n"
      ],
      "metadata": {
        "id": "hbpxwNTKofGx",
        "colab": {
          "base_uri": "https://localhost:8080/"
        },
        "outputId": "abf2054a-6a4e-46d7-c259-6119fc67c7cd"
      },
      "execution_count": 33,
      "outputs": [
        {
          "output_type": "stream",
          "name": "stdout",
          "text": [
            "+-------+----+--------------------+----------------+--------+-------+-----+-----+---------+----------+\n",
            "|tailnum|year|                type|    manufacturer|   model|engines|seats|speed|   engine|qa_engines|\n",
            "+-------+----+--------------------+----------------+--------+-------+-----+-----+---------+----------+\n",
            "| N102UW|1998|Fixed wing multi ...|AIRBUS INDUSTRIE|A320-214|      2|  182|   NA|Turbo-fan|         I|\n",
            "| N103US|1999|Fixed wing multi ...|AIRBUS INDUSTRIE|A320-214|      2|  182|   NA|Turbo-fan|         I|\n",
            "| N104UW|1999|Fixed wing multi ...|AIRBUS INDUSTRIE|A320-214|      2|  182|   NA|Turbo-fan|         I|\n",
            "| N105UW|1999|Fixed wing multi ...|AIRBUS INDUSTRIE|A320-214|      2|  182|   NA|Turbo-fan|         I|\n",
            "| N107US|1999|Fixed wing multi ...|AIRBUS INDUSTRIE|A320-214|      2|  182|   NA|Turbo-fan|         I|\n",
            "| N108UW|1999|Fixed wing multi ...|AIRBUS INDUSTRIE|A320-214|      2|  182|   NA|Turbo-fan|         I|\n",
            "| N109UW|1999|Fixed wing multi ...|AIRBUS INDUSTRIE|A320-214|      2|  182|   NA|Turbo-fan|         I|\n",
            "| N110UW|1999|Fixed wing multi ...|AIRBUS INDUSTRIE|A320-214|      2|  182|   NA|Turbo-fan|         I|\n",
            "| N111US|1999|Fixed wing multi ...|AIRBUS INDUSTRIE|A320-214|      2|  182|   NA|Turbo-fan|         I|\n",
            "| N11206|2000|Fixed wing multi ...|          BOEING| 737-824|      2|  149|   NA|Turbo-fan|         I|\n",
            "| N112US|1999|Fixed wing multi ...|AIRBUS INDUSTRIE|A320-214|      2|  182|   NA|Turbo-fan|         I|\n",
            "| N113UW|1999|Fixed wing multi ...|AIRBUS INDUSTRIE|A320-214|      2|  182|   NA|Turbo-fan|         I|\n",
            "| N114UW|1999|Fixed wing multi ...|AIRBUS INDUSTRIE|A320-214|      2|  182|   NA|Turbo-fan|         I|\n",
            "| N117UW|2000|Fixed wing multi ...|AIRBUS INDUSTRIE|A320-214|      2|  182|   NA|Turbo-fan|         I|\n",
            "| N118US|2000|Fixed wing multi ...|AIRBUS INDUSTRIE|A320-214|      2|  182|   NA|Turbo-fan|         I|\n",
            "| N119US|2000|Fixed wing multi ...|AIRBUS INDUSTRIE|A320-214|      2|  182|   NA|Turbo-fan|         I|\n",
            "| N1200K|1998|Fixed wing multi ...|          BOEING| 767-332|      2|  330|   NA|Turbo-fan|         I|\n",
            "| N1201P|1998|Fixed wing multi ...|          BOEING| 767-332|      2|  330|   NA|Turbo-fan|         I|\n",
            "| N12114|1995|Fixed wing multi ...|          BOEING| 757-224|      2|  178|   NA|Turbo-jet|         I|\n",
            "| N121DE|1987|Fixed wing multi ...|          BOEING| 767-332|      2|  330|   NA|Turbo-fan|         I|\n",
            "+-------+----+--------------------+----------------+--------+-------+-----+-----+---------+----------+\n",
            "only showing top 20 rows\n",
            "\n"
          ]
        }
      ]
    },
    {
      "cell_type": "markdown",
      "source": [
        "7 - Crie a coluna qa_seats e aponte inconsistências da coluna seats de acordo com as regras abaixo.<br>\n",
        "M : Indica que está com dado faltante.<br><br>\n",
        "I : Indica que o valor excede o intervalo [2, 500].<br>\n",
        "A : Indica que o valor é alfanumérico."
      ],
      "metadata": {
        "application/vnd.databricks.v1+cell": {
          "title": "",
          "showTitle": false,
          "inputWidgets": {},
          "nuid": "e9bc4faf-5d21-459d-830e-5e72803dc686"
        },
        "id": "0LMkEEWJLZXO"
      }
    },
    {
      "cell_type": "code",
      "source": [
        "df_planes_qa_seats = df_planes.withColumn('qa_seats',\n",
        "                                        expr(\"\"\"CASE \n",
        "                                                    WHEN seats BETWEEN 2 AND 500 THEN 'I'\n",
        "                                                    WHEN seats RLIKE '[a-zA-Z0-9]' THEN 'A'\n",
        "                                                    ELSE seats\n",
        "                                                END\"\"\"))\n",
        "df_planes_qa_seats.show()\n"
      ],
      "metadata": {
        "id": "wIy2yobgpedU",
        "colab": {
          "base_uri": "https://localhost:8080/"
        },
        "outputId": "53835896-05da-4d4b-8a2b-3679c60b5eb4"
      },
      "execution_count": 34,
      "outputs": [
        {
          "output_type": "stream",
          "name": "stdout",
          "text": [
            "+-------+----+--------------------+----------------+--------+-------+-----+-----+---------+--------+\n",
            "|tailnum|year|                type|    manufacturer|   model|engines|seats|speed|   engine|qa_seats|\n",
            "+-------+----+--------------------+----------------+--------+-------+-----+-----+---------+--------+\n",
            "| N102UW|1998|Fixed wing multi ...|AIRBUS INDUSTRIE|A320-214|      2|  182|   NA|Turbo-fan|       I|\n",
            "| N103US|1999|Fixed wing multi ...|AIRBUS INDUSTRIE|A320-214|      2|  182|   NA|Turbo-fan|       I|\n",
            "| N104UW|1999|Fixed wing multi ...|AIRBUS INDUSTRIE|A320-214|      2|  182|   NA|Turbo-fan|       I|\n",
            "| N105UW|1999|Fixed wing multi ...|AIRBUS INDUSTRIE|A320-214|      2|  182|   NA|Turbo-fan|       I|\n",
            "| N107US|1999|Fixed wing multi ...|AIRBUS INDUSTRIE|A320-214|      2|  182|   NA|Turbo-fan|       I|\n",
            "| N108UW|1999|Fixed wing multi ...|AIRBUS INDUSTRIE|A320-214|      2|  182|   NA|Turbo-fan|       I|\n",
            "| N109UW|1999|Fixed wing multi ...|AIRBUS INDUSTRIE|A320-214|      2|  182|   NA|Turbo-fan|       I|\n",
            "| N110UW|1999|Fixed wing multi ...|AIRBUS INDUSTRIE|A320-214|      2|  182|   NA|Turbo-fan|       I|\n",
            "| N111US|1999|Fixed wing multi ...|AIRBUS INDUSTRIE|A320-214|      2|  182|   NA|Turbo-fan|       I|\n",
            "| N11206|2000|Fixed wing multi ...|          BOEING| 737-824|      2|  149|   NA|Turbo-fan|       I|\n",
            "| N112US|1999|Fixed wing multi ...|AIRBUS INDUSTRIE|A320-214|      2|  182|   NA|Turbo-fan|       I|\n",
            "| N113UW|1999|Fixed wing multi ...|AIRBUS INDUSTRIE|A320-214|      2|  182|   NA|Turbo-fan|       I|\n",
            "| N114UW|1999|Fixed wing multi ...|AIRBUS INDUSTRIE|A320-214|      2|  182|   NA|Turbo-fan|       I|\n",
            "| N117UW|2000|Fixed wing multi ...|AIRBUS INDUSTRIE|A320-214|      2|  182|   NA|Turbo-fan|       I|\n",
            "| N118US|2000|Fixed wing multi ...|AIRBUS INDUSTRIE|A320-214|      2|  182|   NA|Turbo-fan|       I|\n",
            "| N119US|2000|Fixed wing multi ...|AIRBUS INDUSTRIE|A320-214|      2|  182|   NA|Turbo-fan|       I|\n",
            "| N1200K|1998|Fixed wing multi ...|          BOEING| 767-332|      2|  330|   NA|Turbo-fan|       I|\n",
            "| N1201P|1998|Fixed wing multi ...|          BOEING| 767-332|      2|  330|   NA|Turbo-fan|       I|\n",
            "| N12114|1995|Fixed wing multi ...|          BOEING| 757-224|      2|  178|   NA|Turbo-jet|       I|\n",
            "| N121DE|1987|Fixed wing multi ...|          BOEING| 767-332|      2|  330|   NA|Turbo-fan|       I|\n",
            "+-------+----+--------------------+----------------+--------+-------+-----+-----+---------+--------+\n",
            "only showing top 20 rows\n",
            "\n"
          ]
        }
      ]
    },
    {
      "cell_type": "markdown",
      "source": [
        "8 - Crie a coluna qa_speed e aponte inconsistências da coluna speed de acordo com as regras abaixo.<br>\n",
        "M : Indica que está com dado faltante.<br>\n",
        "I : Indica que o valor excede o intervalo [50, 150].<br>\n",
        "A : Indica que o valor é alfanumérico.<br>"
      ],
      "metadata": {
        "application/vnd.databricks.v1+cell": {
          "title": "",
          "showTitle": false,
          "inputWidgets": {},
          "nuid": "06b8ca48-5f32-4baa-8507-917c06bf2154"
        },
        "id": "5zwhrHMlLZXP"
      }
    },
    {
      "cell_type": "code",
      "source": [
        "df_planes_qa_speed = df_planes.withColumn('qa_speed',\n",
        "                                        expr(\"\"\"CASE \n",
        "                                                    WHEN speed LIKE '' THEN 'M'\n",
        "                                                    WHEN speed LIKE 'NA' THEN 'M'\n",
        "                                                    WHEN speed BETWEEN 50 AND 150 THEN 'I'\n",
        "                                                    WHEN speed RLIKE '[a-zA-Z0-9]' THEN 'A'\n",
        "                                                    ELSE speed\n",
        "                                                END\"\"\"))\n",
        "df_planes_qa_speed.show()\n"
      ],
      "metadata": {
        "id": "MP8chNcopqSM",
        "colab": {
          "base_uri": "https://localhost:8080/"
        },
        "outputId": "9ed39b00-02cb-474f-8223-264f5d63cf0a"
      },
      "execution_count": 35,
      "outputs": [
        {
          "output_type": "stream",
          "name": "stdout",
          "text": [
            "+-------+----+--------------------+----------------+--------+-------+-----+-----+---------+--------+\n",
            "|tailnum|year|                type|    manufacturer|   model|engines|seats|speed|   engine|qa_speed|\n",
            "+-------+----+--------------------+----------------+--------+-------+-----+-----+---------+--------+\n",
            "| N102UW|1998|Fixed wing multi ...|AIRBUS INDUSTRIE|A320-214|      2|  182|   NA|Turbo-fan|       M|\n",
            "| N103US|1999|Fixed wing multi ...|AIRBUS INDUSTRIE|A320-214|      2|  182|   NA|Turbo-fan|       M|\n",
            "| N104UW|1999|Fixed wing multi ...|AIRBUS INDUSTRIE|A320-214|      2|  182|   NA|Turbo-fan|       M|\n",
            "| N105UW|1999|Fixed wing multi ...|AIRBUS INDUSTRIE|A320-214|      2|  182|   NA|Turbo-fan|       M|\n",
            "| N107US|1999|Fixed wing multi ...|AIRBUS INDUSTRIE|A320-214|      2|  182|   NA|Turbo-fan|       M|\n",
            "| N108UW|1999|Fixed wing multi ...|AIRBUS INDUSTRIE|A320-214|      2|  182|   NA|Turbo-fan|       M|\n",
            "| N109UW|1999|Fixed wing multi ...|AIRBUS INDUSTRIE|A320-214|      2|  182|   NA|Turbo-fan|       M|\n",
            "| N110UW|1999|Fixed wing multi ...|AIRBUS INDUSTRIE|A320-214|      2|  182|   NA|Turbo-fan|       M|\n",
            "| N111US|1999|Fixed wing multi ...|AIRBUS INDUSTRIE|A320-214|      2|  182|   NA|Turbo-fan|       M|\n",
            "| N11206|2000|Fixed wing multi ...|          BOEING| 737-824|      2|  149|   NA|Turbo-fan|       M|\n",
            "| N112US|1999|Fixed wing multi ...|AIRBUS INDUSTRIE|A320-214|      2|  182|   NA|Turbo-fan|       M|\n",
            "| N113UW|1999|Fixed wing multi ...|AIRBUS INDUSTRIE|A320-214|      2|  182|   NA|Turbo-fan|       M|\n",
            "| N114UW|1999|Fixed wing multi ...|AIRBUS INDUSTRIE|A320-214|      2|  182|   NA|Turbo-fan|       M|\n",
            "| N117UW|2000|Fixed wing multi ...|AIRBUS INDUSTRIE|A320-214|      2|  182|   NA|Turbo-fan|       M|\n",
            "| N118US|2000|Fixed wing multi ...|AIRBUS INDUSTRIE|A320-214|      2|  182|   NA|Turbo-fan|       M|\n",
            "| N119US|2000|Fixed wing multi ...|AIRBUS INDUSTRIE|A320-214|      2|  182|   NA|Turbo-fan|       M|\n",
            "| N1200K|1998|Fixed wing multi ...|          BOEING| 767-332|      2|  330|   NA|Turbo-fan|       M|\n",
            "| N1201P|1998|Fixed wing multi ...|          BOEING| 767-332|      2|  330|   NA|Turbo-fan|       M|\n",
            "| N12114|1995|Fixed wing multi ...|          BOEING| 757-224|      2|  178|   NA|Turbo-jet|       M|\n",
            "| N121DE|1987|Fixed wing multi ...|          BOEING| 767-332|      2|  330|   NA|Turbo-fan|       M|\n",
            "+-------+----+--------------------+----------------+--------+-------+-----+-----+---------+--------+\n",
            "only showing top 20 rows\n",
            "\n"
          ]
        }
      ]
    },
    {
      "cell_type": "markdown",
      "source": [
        "9 - Crie a coluna qa_engine e aponte inconsistências da coluna engine de acordo com as regras\n",
        "abaixo.<br>\n",
        "M : Indica que está com dado faltante.<br>\n",
        "C : Indica que o valor não pertence a nenhuma categoria esperada:<br>\n",
        "Turbo-fan<br>\n",
        "Turbo-jet<br>\n",
        "Turbo-prop<br>\n",
        "Turbo-shaft<br>\n",
        "4 Cycle"
      ],
      "metadata": {
        "application/vnd.databricks.v1+cell": {
          "title": "",
          "showTitle": false,
          "inputWidgets": {},
          "nuid": "d221fa8d-38b9-4e28-a8c7-b7b67ab933c2"
        },
        "id": "aeFXaBuMLZXP"
      }
    },
    {
      "cell_type": "code",
      "source": [
        "df_planes_qa_engine = df_planes.withColumn('qa_engine',\n",
        "                                            expr(\"\"\"CASE \n",
        "                                                        WHEN engine LIKE'' THEN 'M'\n",
        "                                                        WHEN engine LIKE 'Turbo-fan' THEN 'C'\n",
        "                                                        WHEN engine LIKE 'Turbo-jet' THEN 'C'\n",
        "                                                        WHEN engine LIKE 'Turbo-prop' THEN 'C'\n",
        "                                                        WHEN engine LIKE 'Turbo-shaft' THEN 'C'\n",
        "                                                        WHEN engine LIKE '4 Cycle' THEN 'C'\n",
        "                                                        ELSE engine\n",
        "                                                    END\"\"\"))\n",
        "df_planes_qa_engine.show()\n"
      ],
      "metadata": {
        "id": "3Iz4nEw6rAKn",
        "colab": {
          "base_uri": "https://localhost:8080/"
        },
        "outputId": "7e20df27-1077-4338-8276-2fddf0d1b948"
      },
      "execution_count": 36,
      "outputs": [
        {
          "output_type": "stream",
          "name": "stdout",
          "text": [
            "+-------+----+--------------------+----------------+--------+-------+-----+-----+---------+---------+\n",
            "|tailnum|year|                type|    manufacturer|   model|engines|seats|speed|   engine|qa_engine|\n",
            "+-------+----+--------------------+----------------+--------+-------+-----+-----+---------+---------+\n",
            "| N102UW|1998|Fixed wing multi ...|AIRBUS INDUSTRIE|A320-214|      2|  182|   NA|Turbo-fan|        C|\n",
            "| N103US|1999|Fixed wing multi ...|AIRBUS INDUSTRIE|A320-214|      2|  182|   NA|Turbo-fan|        C|\n",
            "| N104UW|1999|Fixed wing multi ...|AIRBUS INDUSTRIE|A320-214|      2|  182|   NA|Turbo-fan|        C|\n",
            "| N105UW|1999|Fixed wing multi ...|AIRBUS INDUSTRIE|A320-214|      2|  182|   NA|Turbo-fan|        C|\n",
            "| N107US|1999|Fixed wing multi ...|AIRBUS INDUSTRIE|A320-214|      2|  182|   NA|Turbo-fan|        C|\n",
            "| N108UW|1999|Fixed wing multi ...|AIRBUS INDUSTRIE|A320-214|      2|  182|   NA|Turbo-fan|        C|\n",
            "| N109UW|1999|Fixed wing multi ...|AIRBUS INDUSTRIE|A320-214|      2|  182|   NA|Turbo-fan|        C|\n",
            "| N110UW|1999|Fixed wing multi ...|AIRBUS INDUSTRIE|A320-214|      2|  182|   NA|Turbo-fan|        C|\n",
            "| N111US|1999|Fixed wing multi ...|AIRBUS INDUSTRIE|A320-214|      2|  182|   NA|Turbo-fan|        C|\n",
            "| N11206|2000|Fixed wing multi ...|          BOEING| 737-824|      2|  149|   NA|Turbo-fan|        C|\n",
            "| N112US|1999|Fixed wing multi ...|AIRBUS INDUSTRIE|A320-214|      2|  182|   NA|Turbo-fan|        C|\n",
            "| N113UW|1999|Fixed wing multi ...|AIRBUS INDUSTRIE|A320-214|      2|  182|   NA|Turbo-fan|        C|\n",
            "| N114UW|1999|Fixed wing multi ...|AIRBUS INDUSTRIE|A320-214|      2|  182|   NA|Turbo-fan|        C|\n",
            "| N117UW|2000|Fixed wing multi ...|AIRBUS INDUSTRIE|A320-214|      2|  182|   NA|Turbo-fan|        C|\n",
            "| N118US|2000|Fixed wing multi ...|AIRBUS INDUSTRIE|A320-214|      2|  182|   NA|Turbo-fan|        C|\n",
            "| N119US|2000|Fixed wing multi ...|AIRBUS INDUSTRIE|A320-214|      2|  182|   NA|Turbo-fan|        C|\n",
            "| N1200K|1998|Fixed wing multi ...|          BOEING| 767-332|      2|  330|   NA|Turbo-fan|        C|\n",
            "| N1201P|1998|Fixed wing multi ...|          BOEING| 767-332|      2|  330|   NA|Turbo-fan|        C|\n",
            "| N12114|1995|Fixed wing multi ...|          BOEING| 757-224|      2|  178|   NA|Turbo-jet|        C|\n",
            "| N121DE|1987|Fixed wing multi ...|          BOEING| 767-332|      2|  330|   NA|Turbo-fan|        C|\n",
            "+-------+----+--------------------+----------------+--------+-------+-----+-----+---------+---------+\n",
            "only showing top 20 rows\n",
            "\n"
          ]
        }
      ]
    },
    {
      "cell_type": "markdown",
      "source": [
        "# Flights Dataset:"
      ],
      "metadata": {
        "application/vnd.databricks.v1+cell": {
          "title": "",
          "showTitle": false,
          "inputWidgets": {},
          "nuid": "f63f2996-a8d3-4c1e-bd8a-a2100550a9ab"
        },
        "id": "kt70zVSyLZXQ"
      }
    },
    {
      "cell_type": "code",
      "source": [
        "# Importação dos dados para o PySpark:\n",
        "# Download do http para arquivo local:\n",
        "\n",
        "!wget --quiet --show-progress https://drive.google.com/file/d/1ggZ_dBMvAkILRh-YrozqsvsXc2XYUYeG/view?usp=sharing\n",
        "\n",
        "# Carregar dados do Flights:\n",
        "\n",
        "df_flights = spark.read.csv(\"./flights.csv\", inferSchema=True, header=True)\n",
        "\n",
        "# Ver algumas informações sobre os tipos de dados de cada coluna:\n",
        "\n",
        "df_flights.printSchema()\n"
      ],
      "metadata": {
        "application/vnd.databricks.v1+cell": {
          "title": "",
          "showTitle": false,
          "inputWidgets": {},
          "nuid": "049d0a0d-40be-4002-a3f5-3274049ec707"
        },
        "id": "rUvSWsUJLZXR",
        "colab": {
          "base_uri": "https://localhost:8080/"
        },
        "outputId": "befd8d66-be81-4bc6-9d6c-1781e7524d30"
      },
      "outputs": [
        {
          "output_type": "stream",
          "name": "stdout",
          "text": [
            "\rview?usp=sharing.14     [<=>                 ]       0  --.-KB/s               \rview?usp=sharing.14     [ <=>                ]  66.58K  --.-KB/s    in 0.1s    \n",
            "root\n",
            " |-- year: integer (nullable = true)\n",
            " |-- month: integer (nullable = true)\n",
            " |-- day: integer (nullable = true)\n",
            " |-- dep_time: string (nullable = true)\n",
            " |-- dep_delay: string (nullable = true)\n",
            " |-- arr_time: string (nullable = true)\n",
            " |-- arr_delay: string (nullable = true)\n",
            " |-- carrier: string (nullable = true)\n",
            " |-- tailnum: string (nullable = true)\n",
            " |-- flight: integer (nullable = true)\n",
            " |-- origin: string (nullable = true)\n",
            " |-- dest: string (nullable = true)\n",
            " |-- air_time: string (nullable = true)\n",
            " |-- distance: integer (nullable = true)\n",
            " |-- hour: string (nullable = true)\n",
            " |-- minute: string (nullable = true)\n",
            "\n"
          ]
        }
      ],
      "execution_count": 37
    },
    {
      "cell_type": "code",
      "source": [
        "df_flights.show()\n"
      ],
      "metadata": {
        "application/vnd.databricks.v1+cell": {
          "title": "",
          "showTitle": false,
          "inputWidgets": {},
          "nuid": "f342bc80-c27a-470f-b47b-a07fefb901c7"
        },
        "id": "3JR5euVQLZXS",
        "colab": {
          "base_uri": "https://localhost:8080/"
        },
        "outputId": "bb8ce4b8-5b79-4541-f746-9d5ddfd54061"
      },
      "outputs": [
        {
          "output_type": "stream",
          "name": "stdout",
          "text": [
            "+----+-----+---+--------+---------+--------+---------+-------+-------+------+------+----+--------+--------+----+------+\n",
            "|year|month|day|dep_time|dep_delay|arr_time|arr_delay|carrier|tailnum|flight|origin|dest|air_time|distance|hour|minute|\n",
            "+----+-----+---+--------+---------+--------+---------+-------+-------+------+------+----+--------+--------+----+------+\n",
            "|2014|   12|  8|     658|       -7|     935|       -5|     VX| N846VA|  1780|   SEA| LAX|     132|     954|   6|    58|\n",
            "|2014|    1| 22|    1040|        5|    1505|        5|     AS| N559AS|   851|   SEA| HNL|     360|    2677|  10|    40|\n",
            "|2014|    3|  9|    1443|       -2|    1652|        2|     VX| N847VA|   755|   SEA| SFO|     111|     679|  14|    43|\n",
            "|2014|    4|  9|    1705|       45|    1839|       34|     WN| N360SW|   344|   PDX| SJC|      83|     569|  17|     5|\n",
            "|2014|    3|  9|     754|       -1|    1015|        1|     AS| N612AS|   522|   SEA| BUR|     127|     937|   7|    54|\n",
            "|2014|    1| 15|    1037|        7|    1352|        2|     WN| N646SW|    48|   PDX| DEN|     121|     991|  10|    37|\n",
            "|2014|    7|  2|     847|       42|    1041|       51|     WN| N422WN|  1520|   PDX| OAK|      90|     543|   8|    47|\n",
            "|2014|    5| 12|    1655|       -5|    1842|      -18|     VX| N361VA|   755|   SEA| SFO|      98|     679|  16|    55|\n",
            "|2014|    4| 19|    1236|       -4|    1508|       -7|     AS| N309AS|   490|   SEA| SAN|     135|    1050|  12|    36|\n",
            "|2014|   11| 19|    1812|       -3|    2352|       -4|     AS| N564AS|    26|   SEA| ORD|     198|    1721|  18|    12|\n",
            "|2014|   11|  8|    1653|       -2|    1924|       -1|     AS| N323AS|   448|   SEA| LAX|     130|     954|  16|    53|\n",
            "|2014|    8|  3|    1120|        0|    1415|        2|     AS| N305AS|   656|   SEA| PHX|     154|    1107|  11|    20|\n",
            "|2014|   10| 30|     811|       21|    1038|       29|     AS| N433AS|   608|   SEA| LAS|     127|     867|   8|    11|\n",
            "|2014|   11| 12|    2346|       -4|     217|      -28|     AS| N765AS|   121|   SEA| ANC|     183|    1448|  23|    46|\n",
            "|2014|   10| 31|    1314|       89|    1544|      111|     AS| N713AS|   306|   SEA| SFO|     129|     679|  13|    14|\n",
            "|2014|    1| 29|    2009|        3|    2159|        9|     UA| N27205|  1458|   PDX| SFO|      90|     550|  20|     9|\n",
            "|2014|   12| 17|    2015|       50|    2150|       41|     AS| N626AS|   368|   SEA| SMF|      76|     605|  20|    15|\n",
            "|2014|    8| 11|    1017|       -3|    1613|       -7|     WN| N8634A|   827|   SEA| MDW|     216|    1733|  10|    17|\n",
            "|2014|    1| 13|    2156|       -9|     607|      -15|     AS| N597AS|    24|   SEA| BOS|     290|    2496|  21|    56|\n",
            "|2014|    6|  5|    1733|      -12|    1945|      -10|     OO| N215AG|  3488|   PDX| BUR|     111|     817|  17|    33|\n",
            "+----+-----+---+--------+---------+--------+---------+-------+-------+------+------+----+--------+--------+----+------+\n",
            "only showing top 20 rows\n",
            "\n"
          ]
        }
      ],
      "execution_count": 38
    },
    {
      "cell_type": "code",
      "source": [
        "df_flights.count()"
      ],
      "metadata": {
        "id": "benz8DnaqZWK",
        "colab": {
          "base_uri": "https://localhost:8080/"
        },
        "outputId": "4243cc63-4f0a-4d70-c287-55d4f31227f0"
      },
      "execution_count": 39,
      "outputs": [
        {
          "output_type": "execute_result",
          "data": {
            "text/plain": [
              "10000"
            ]
          },
          "metadata": {},
          "execution_count": 39
        }
      ]
    },
    {
      "cell_type": "code",
      "source": [
        "df_flights.fillna('').show()\n"
      ],
      "metadata": {
        "id": "J0LSRxWvkAaN",
        "colab": {
          "base_uri": "https://localhost:8080/"
        },
        "outputId": "9bd5212f-541c-4339-d85f-428a7d40460c"
      },
      "execution_count": 40,
      "outputs": [
        {
          "output_type": "stream",
          "name": "stdout",
          "text": [
            "+----+-----+---+--------+---------+--------+---------+-------+-------+------+------+----+--------+--------+----+------+\n",
            "|year|month|day|dep_time|dep_delay|arr_time|arr_delay|carrier|tailnum|flight|origin|dest|air_time|distance|hour|minute|\n",
            "+----+-----+---+--------+---------+--------+---------+-------+-------+------+------+----+--------+--------+----+------+\n",
            "|2014|   12|  8|     658|       -7|     935|       -5|     VX| N846VA|  1780|   SEA| LAX|     132|     954|   6|    58|\n",
            "|2014|    1| 22|    1040|        5|    1505|        5|     AS| N559AS|   851|   SEA| HNL|     360|    2677|  10|    40|\n",
            "|2014|    3|  9|    1443|       -2|    1652|        2|     VX| N847VA|   755|   SEA| SFO|     111|     679|  14|    43|\n",
            "|2014|    4|  9|    1705|       45|    1839|       34|     WN| N360SW|   344|   PDX| SJC|      83|     569|  17|     5|\n",
            "|2014|    3|  9|     754|       -1|    1015|        1|     AS| N612AS|   522|   SEA| BUR|     127|     937|   7|    54|\n",
            "|2014|    1| 15|    1037|        7|    1352|        2|     WN| N646SW|    48|   PDX| DEN|     121|     991|  10|    37|\n",
            "|2014|    7|  2|     847|       42|    1041|       51|     WN| N422WN|  1520|   PDX| OAK|      90|     543|   8|    47|\n",
            "|2014|    5| 12|    1655|       -5|    1842|      -18|     VX| N361VA|   755|   SEA| SFO|      98|     679|  16|    55|\n",
            "|2014|    4| 19|    1236|       -4|    1508|       -7|     AS| N309AS|   490|   SEA| SAN|     135|    1050|  12|    36|\n",
            "|2014|   11| 19|    1812|       -3|    2352|       -4|     AS| N564AS|    26|   SEA| ORD|     198|    1721|  18|    12|\n",
            "|2014|   11|  8|    1653|       -2|    1924|       -1|     AS| N323AS|   448|   SEA| LAX|     130|     954|  16|    53|\n",
            "|2014|    8|  3|    1120|        0|    1415|        2|     AS| N305AS|   656|   SEA| PHX|     154|    1107|  11|    20|\n",
            "|2014|   10| 30|     811|       21|    1038|       29|     AS| N433AS|   608|   SEA| LAS|     127|     867|   8|    11|\n",
            "|2014|   11| 12|    2346|       -4|     217|      -28|     AS| N765AS|   121|   SEA| ANC|     183|    1448|  23|    46|\n",
            "|2014|   10| 31|    1314|       89|    1544|      111|     AS| N713AS|   306|   SEA| SFO|     129|     679|  13|    14|\n",
            "|2014|    1| 29|    2009|        3|    2159|        9|     UA| N27205|  1458|   PDX| SFO|      90|     550|  20|     9|\n",
            "|2014|   12| 17|    2015|       50|    2150|       41|     AS| N626AS|   368|   SEA| SMF|      76|     605|  20|    15|\n",
            "|2014|    8| 11|    1017|       -3|    1613|       -7|     WN| N8634A|   827|   SEA| MDW|     216|    1733|  10|    17|\n",
            "|2014|    1| 13|    2156|       -9|     607|      -15|     AS| N597AS|    24|   SEA| BOS|     290|    2496|  21|    56|\n",
            "|2014|    6|  5|    1733|      -12|    1945|      -10|     OO| N215AG|  3488|   PDX| BUR|     111|     817|  17|    33|\n",
            "+----+-----+---+--------+---------+--------+---------+-------+-------+------+------+----+--------+--------+----+------+\n",
            "only showing top 20 rows\n",
            "\n"
          ]
        }
      ]
    },
    {
      "cell_type": "code",
      "source": [
        "df_flights.fillna('').show()"
      ],
      "metadata": {
        "id": "t3ICs0PpocAX",
        "colab": {
          "base_uri": "https://localhost:8080/"
        },
        "outputId": "6726512c-7edc-4d8a-9de6-201770c389ec"
      },
      "execution_count": 41,
      "outputs": [
        {
          "output_type": "stream",
          "name": "stdout",
          "text": [
            "+----+-----+---+--------+---------+--------+---------+-------+-------+------+------+----+--------+--------+----+------+\n",
            "|year|month|day|dep_time|dep_delay|arr_time|arr_delay|carrier|tailnum|flight|origin|dest|air_time|distance|hour|minute|\n",
            "+----+-----+---+--------+---------+--------+---------+-------+-------+------+------+----+--------+--------+----+------+\n",
            "|2014|   12|  8|     658|       -7|     935|       -5|     VX| N846VA|  1780|   SEA| LAX|     132|     954|   6|    58|\n",
            "|2014|    1| 22|    1040|        5|    1505|        5|     AS| N559AS|   851|   SEA| HNL|     360|    2677|  10|    40|\n",
            "|2014|    3|  9|    1443|       -2|    1652|        2|     VX| N847VA|   755|   SEA| SFO|     111|     679|  14|    43|\n",
            "|2014|    4|  9|    1705|       45|    1839|       34|     WN| N360SW|   344|   PDX| SJC|      83|     569|  17|     5|\n",
            "|2014|    3|  9|     754|       -1|    1015|        1|     AS| N612AS|   522|   SEA| BUR|     127|     937|   7|    54|\n",
            "|2014|    1| 15|    1037|        7|    1352|        2|     WN| N646SW|    48|   PDX| DEN|     121|     991|  10|    37|\n",
            "|2014|    7|  2|     847|       42|    1041|       51|     WN| N422WN|  1520|   PDX| OAK|      90|     543|   8|    47|\n",
            "|2014|    5| 12|    1655|       -5|    1842|      -18|     VX| N361VA|   755|   SEA| SFO|      98|     679|  16|    55|\n",
            "|2014|    4| 19|    1236|       -4|    1508|       -7|     AS| N309AS|   490|   SEA| SAN|     135|    1050|  12|    36|\n",
            "|2014|   11| 19|    1812|       -3|    2352|       -4|     AS| N564AS|    26|   SEA| ORD|     198|    1721|  18|    12|\n",
            "|2014|   11|  8|    1653|       -2|    1924|       -1|     AS| N323AS|   448|   SEA| LAX|     130|     954|  16|    53|\n",
            "|2014|    8|  3|    1120|        0|    1415|        2|     AS| N305AS|   656|   SEA| PHX|     154|    1107|  11|    20|\n",
            "|2014|   10| 30|     811|       21|    1038|       29|     AS| N433AS|   608|   SEA| LAS|     127|     867|   8|    11|\n",
            "|2014|   11| 12|    2346|       -4|     217|      -28|     AS| N765AS|   121|   SEA| ANC|     183|    1448|  23|    46|\n",
            "|2014|   10| 31|    1314|       89|    1544|      111|     AS| N713AS|   306|   SEA| SFO|     129|     679|  13|    14|\n",
            "|2014|    1| 29|    2009|        3|    2159|        9|     UA| N27205|  1458|   PDX| SFO|      90|     550|  20|     9|\n",
            "|2014|   12| 17|    2015|       50|    2150|       41|     AS| N626AS|   368|   SEA| SMF|      76|     605|  20|    15|\n",
            "|2014|    8| 11|    1017|       -3|    1613|       -7|     WN| N8634A|   827|   SEA| MDW|     216|    1733|  10|    17|\n",
            "|2014|    1| 13|    2156|       -9|     607|      -15|     AS| N597AS|    24|   SEA| BOS|     290|    2496|  21|    56|\n",
            "|2014|    6|  5|    1733|      -12|    1945|      -10|     OO| N215AG|  3488|   PDX| BUR|     111|     817|  17|    33|\n",
            "+----+-----+---+--------+---------+--------+---------+-------+-------+------+------+----+--------+--------+----+------+\n",
            "only showing top 20 rows\n",
            "\n"
          ]
        }
      ]
    },
    {
      "cell_type": "markdown",
      "source": [
        "Perguntas<br>\n",
        "Considere o dataset flights.csv para realizar as seguintes tarefas:"
      ],
      "metadata": {
        "application/vnd.databricks.v1+cell": {
          "title": "",
          "showTitle": false,
          "inputWidgets": {},
          "nuid": "23f3dd51-a226-4b86-9482-bd11587d6835"
        },
        "id": "E4pFuSjTLZXT"
      }
    },
    {
      "cell_type": "markdown",
      "source": [
        "1 - Crie a coluna qa_year_month_day e aponte inconsistências das colunas year , month , day de\n",
        "acordo com as regras abaixo.<br>\n",
        "MY : Indica que está com dado faltante no ano.<br>\n",
        "MM : Indica que está com dado faltante no mes.<br>\n",
        "MD : Indica que está com dado faltante no dia.<br>\n",
        "IY : Indica que o valor excede o intervalo [1950,+∞] no ano.<br>\n",
        "IM : Indica que o valor excede o intervalo [1, 12] no mês.<br>\n",
        "ID : Indica que o valor excede o intervalo [1, 31] no dia. No mês de Fevereiro o intervalo é [1, 29]."
      ],
      "metadata": {
        "application/vnd.databricks.v1+cell": {
          "title": "",
          "showTitle": false,
          "inputWidgets": {},
          "nuid": "af2199d7-7cdf-4d2b-93c0-aaa52efa4271"
        },
        "id": "ds0tgAfYLZXT"
      }
    },
    {
      "cell_type": "code",
      "source": [
        "df_flights_qa_year_month_day = df_flights.withColumn('qa_year_month_day',\n",
        "                                        expr(\"\"\"CASE \n",
        "                                                    WHEN year LIKE '' THEN 'MY'\n",
        "                                                    WHEN month LIKE '' THEN 'MM'\n",
        "                                                    WHEN day LIKE '' THEN 'MD'\n",
        "                                                    WHEN year BETWEEN 1950 AND 2022 THEN 'IY'\n",
        "                                                    WHEN year BETWEEN 1 AND 12 THEN 'IM'\n",
        "                                                    WHEN day < 1 OR month > 29 OR month > 31 THEN 'ID'\n",
        "                                                    ELSE year\n",
        "                                                END\"\"\")).show()\n"
      ],
      "metadata": {
        "id": "ZOBx8PrKo4n-",
        "colab": {
          "base_uri": "https://localhost:8080/"
        },
        "outputId": "4e31559a-3030-4a0c-e4f4-16cbccaa2608"
      },
      "execution_count": 42,
      "outputs": [
        {
          "output_type": "stream",
          "name": "stdout",
          "text": [
            "+----+-----+---+--------+---------+--------+---------+-------+-------+------+------+----+--------+--------+----+------+-----------------+\n",
            "|year|month|day|dep_time|dep_delay|arr_time|arr_delay|carrier|tailnum|flight|origin|dest|air_time|distance|hour|minute|qa_year_month_day|\n",
            "+----+-----+---+--------+---------+--------+---------+-------+-------+------+------+----+--------+--------+----+------+-----------------+\n",
            "|2014|   12|  8|     658|       -7|     935|       -5|     VX| N846VA|  1780|   SEA| LAX|     132|     954|   6|    58|               IY|\n",
            "|2014|    1| 22|    1040|        5|    1505|        5|     AS| N559AS|   851|   SEA| HNL|     360|    2677|  10|    40|               IY|\n",
            "|2014|    3|  9|    1443|       -2|    1652|        2|     VX| N847VA|   755|   SEA| SFO|     111|     679|  14|    43|               IY|\n",
            "|2014|    4|  9|    1705|       45|    1839|       34|     WN| N360SW|   344|   PDX| SJC|      83|     569|  17|     5|               IY|\n",
            "|2014|    3|  9|     754|       -1|    1015|        1|     AS| N612AS|   522|   SEA| BUR|     127|     937|   7|    54|               IY|\n",
            "|2014|    1| 15|    1037|        7|    1352|        2|     WN| N646SW|    48|   PDX| DEN|     121|     991|  10|    37|               IY|\n",
            "|2014|    7|  2|     847|       42|    1041|       51|     WN| N422WN|  1520|   PDX| OAK|      90|     543|   8|    47|               IY|\n",
            "|2014|    5| 12|    1655|       -5|    1842|      -18|     VX| N361VA|   755|   SEA| SFO|      98|     679|  16|    55|               IY|\n",
            "|2014|    4| 19|    1236|       -4|    1508|       -7|     AS| N309AS|   490|   SEA| SAN|     135|    1050|  12|    36|               IY|\n",
            "|2014|   11| 19|    1812|       -3|    2352|       -4|     AS| N564AS|    26|   SEA| ORD|     198|    1721|  18|    12|               IY|\n",
            "|2014|   11|  8|    1653|       -2|    1924|       -1|     AS| N323AS|   448|   SEA| LAX|     130|     954|  16|    53|               IY|\n",
            "|2014|    8|  3|    1120|        0|    1415|        2|     AS| N305AS|   656|   SEA| PHX|     154|    1107|  11|    20|               IY|\n",
            "|2014|   10| 30|     811|       21|    1038|       29|     AS| N433AS|   608|   SEA| LAS|     127|     867|   8|    11|               IY|\n",
            "|2014|   11| 12|    2346|       -4|     217|      -28|     AS| N765AS|   121|   SEA| ANC|     183|    1448|  23|    46|               IY|\n",
            "|2014|   10| 31|    1314|       89|    1544|      111|     AS| N713AS|   306|   SEA| SFO|     129|     679|  13|    14|               IY|\n",
            "|2014|    1| 29|    2009|        3|    2159|        9|     UA| N27205|  1458|   PDX| SFO|      90|     550|  20|     9|               IY|\n",
            "|2014|   12| 17|    2015|       50|    2150|       41|     AS| N626AS|   368|   SEA| SMF|      76|     605|  20|    15|               IY|\n",
            "|2014|    8| 11|    1017|       -3|    1613|       -7|     WN| N8634A|   827|   SEA| MDW|     216|    1733|  10|    17|               IY|\n",
            "|2014|    1| 13|    2156|       -9|     607|      -15|     AS| N597AS|    24|   SEA| BOS|     290|    2496|  21|    56|               IY|\n",
            "|2014|    6|  5|    1733|      -12|    1945|      -10|     OO| N215AG|  3488|   PDX| BUR|     111|     817|  17|    33|               IY|\n",
            "+----+-----+---+--------+---------+--------+---------+-------+-------+------+------+----+--------+--------+----+------+-----------------+\n",
            "only showing top 20 rows\n",
            "\n"
          ]
        }
      ]
    },
    {
      "cell_type": "markdown",
      "source": [
        "2 - Crie a coluna qa_hour_minute e aponte inconsistencias das colunas hour e minute de acordo\n",
        "com as regras abaixo.<br>\n",
        "MH : Indica que está com dado faltante na hora.<br>\n",
        "MM : Indica que está com dado faltante no minuto.<br>\n",
        "IH : Indica que o valor excede o intervalo na hora [0, 24].<br>\n",
        "IM : Indica que o valor excede o intervalo no minuto [0, 59].<br>"
      ],
      "metadata": {
        "application/vnd.databricks.v1+cell": {
          "title": "",
          "showTitle": false,
          "inputWidgets": {},
          "nuid": "c531772a-1aa3-473f-869c-d21d532c3f35"
        },
        "id": "nZXXDMwQLZXU"
      }
    },
    {
      "cell_type": "code",
      "source": [
        "df_flights_qa_hour_minute = df_flights.withColumn('qa_hour_minute',\n",
        "                                        expr(\"\"\"CASE \n",
        "                                                    WHEN hour LIKE '' THEN 'MH'\n",
        "                                                    WHEN minute LIKE '' THEN 'MM'\n",
        "                                                    WHEN hour BETWEEN 0 AND 24 THEN 'IH'\n",
        "                                                    WHEN minute BETWEEN 0 AND 59 THEN 'IM'                                                  \n",
        "                                                    ELSE hour\n",
        "                                                END\"\"\")).show()\n"
      ],
      "metadata": {
        "colab": {
          "base_uri": "https://localhost:8080/"
        },
        "id": "iUa1MmA5PgqI",
        "outputId": "a89d9211-a384-4265-fc14-5446a24b69b2"
      },
      "execution_count": 43,
      "outputs": [
        {
          "output_type": "stream",
          "name": "stdout",
          "text": [
            "+----+-----+---+--------+---------+--------+---------+-------+-------+------+------+----+--------+--------+----+------+--------------+\n",
            "|year|month|day|dep_time|dep_delay|arr_time|arr_delay|carrier|tailnum|flight|origin|dest|air_time|distance|hour|minute|qa_hour_minute|\n",
            "+----+-----+---+--------+---------+--------+---------+-------+-------+------+------+----+--------+--------+----+------+--------------+\n",
            "|2014|   12|  8|     658|       -7|     935|       -5|     VX| N846VA|  1780|   SEA| LAX|     132|     954|   6|    58|            IH|\n",
            "|2014|    1| 22|    1040|        5|    1505|        5|     AS| N559AS|   851|   SEA| HNL|     360|    2677|  10|    40|            IH|\n",
            "|2014|    3|  9|    1443|       -2|    1652|        2|     VX| N847VA|   755|   SEA| SFO|     111|     679|  14|    43|            IH|\n",
            "|2014|    4|  9|    1705|       45|    1839|       34|     WN| N360SW|   344|   PDX| SJC|      83|     569|  17|     5|            IH|\n",
            "|2014|    3|  9|     754|       -1|    1015|        1|     AS| N612AS|   522|   SEA| BUR|     127|     937|   7|    54|            IH|\n",
            "|2014|    1| 15|    1037|        7|    1352|        2|     WN| N646SW|    48|   PDX| DEN|     121|     991|  10|    37|            IH|\n",
            "|2014|    7|  2|     847|       42|    1041|       51|     WN| N422WN|  1520|   PDX| OAK|      90|     543|   8|    47|            IH|\n",
            "|2014|    5| 12|    1655|       -5|    1842|      -18|     VX| N361VA|   755|   SEA| SFO|      98|     679|  16|    55|            IH|\n",
            "|2014|    4| 19|    1236|       -4|    1508|       -7|     AS| N309AS|   490|   SEA| SAN|     135|    1050|  12|    36|            IH|\n",
            "|2014|   11| 19|    1812|       -3|    2352|       -4|     AS| N564AS|    26|   SEA| ORD|     198|    1721|  18|    12|            IH|\n",
            "|2014|   11|  8|    1653|       -2|    1924|       -1|     AS| N323AS|   448|   SEA| LAX|     130|     954|  16|    53|            IH|\n",
            "|2014|    8|  3|    1120|        0|    1415|        2|     AS| N305AS|   656|   SEA| PHX|     154|    1107|  11|    20|            IH|\n",
            "|2014|   10| 30|     811|       21|    1038|       29|     AS| N433AS|   608|   SEA| LAS|     127|     867|   8|    11|            IH|\n",
            "|2014|   11| 12|    2346|       -4|     217|      -28|     AS| N765AS|   121|   SEA| ANC|     183|    1448|  23|    46|            IH|\n",
            "|2014|   10| 31|    1314|       89|    1544|      111|     AS| N713AS|   306|   SEA| SFO|     129|     679|  13|    14|            IH|\n",
            "|2014|    1| 29|    2009|        3|    2159|        9|     UA| N27205|  1458|   PDX| SFO|      90|     550|  20|     9|            IH|\n",
            "|2014|   12| 17|    2015|       50|    2150|       41|     AS| N626AS|   368|   SEA| SMF|      76|     605|  20|    15|            IH|\n",
            "|2014|    8| 11|    1017|       -3|    1613|       -7|     WN| N8634A|   827|   SEA| MDW|     216|    1733|  10|    17|            IH|\n",
            "|2014|    1| 13|    2156|       -9|     607|      -15|     AS| N597AS|    24|   SEA| BOS|     290|    2496|  21|    56|            IH|\n",
            "|2014|    6|  5|    1733|      -12|    1945|      -10|     OO| N215AG|  3488|   PDX| BUR|     111|     817|  17|    33|            IH|\n",
            "+----+-----+---+--------+---------+--------+---------+-------+-------+------+------+----+--------+--------+----+------+--------------+\n",
            "only showing top 20 rows\n",
            "\n"
          ]
        }
      ]
    },
    {
      "cell_type": "markdown",
      "source": [
        "3 - Crie a coluna qa_dep_arr_time e aponte inconsistências da coluna dep_time e arr_time de\n",
        "acordo com as regras abaixo.<br>\n",
        "MD : Indica que está com dado faltante no dep_time .<br>\n",
        "MA : Indica que está com dado faltante no arr_time .<br>\n",
        "FD : Indica que não respeita o formato esperado (HHMM ou HMM) no dep_time .<br>\n",
        "FA : Indica que não respeita o formato esperado (HHMM ou HMM) no arr_time .<br>"
      ],
      "metadata": {
        "application/vnd.databricks.v1+cell": {
          "title": "",
          "showTitle": false,
          "inputWidgets": {},
          "nuid": "1f993d9c-a3ba-4cc7-a743-9ebd28a26ac6"
        },
        "id": "YJjyiXFOLZXV"
      }
    },
    {
      "cell_type": "code",
      "source": [
        "df_flights_qa_dep_arr_time = df_flights.withColumn('qa_dep_arr_time',\n",
        "                                        expr(\"\"\"CASE \n",
        "                                                    WHEN dep_time LIKE '' THEN 'MD'\n",
        "                                                    WHEN dep_time LIKE 'HHMM' THEN 'FD'\n",
        "                                                    WHEN dep_time LIKE 'HMM' THEN 'FD'\n",
        "                                                    WHEN arr_time LIKE '' THEN 'MA'\n",
        "                                                    WHEN arr_time LIKE 'HHMM' THEN 'FA'\n",
        "                                                    WHEN arr_time LIKE 'HMM' THEN 'FA'                                                   \n",
        "                                                    ELSE dep_time\n",
        "                                                END\"\"\")).show()\n"
      ],
      "metadata": {
        "colab": {
          "base_uri": "https://localhost:8080/"
        },
        "id": "wbly7WXmPqMr",
        "outputId": "b7586280-06a6-4377-b745-61b5e53cd27b"
      },
      "execution_count": 44,
      "outputs": [
        {
          "output_type": "stream",
          "name": "stdout",
          "text": [
            "+----+-----+---+--------+---------+--------+---------+-------+-------+------+------+----+--------+--------+----+------+---------------+\n",
            "|year|month|day|dep_time|dep_delay|arr_time|arr_delay|carrier|tailnum|flight|origin|dest|air_time|distance|hour|minute|qa_dep_arr_time|\n",
            "+----+-----+---+--------+---------+--------+---------+-------+-------+------+------+----+--------+--------+----+------+---------------+\n",
            "|2014|   12|  8|     658|       -7|     935|       -5|     VX| N846VA|  1780|   SEA| LAX|     132|     954|   6|    58|            658|\n",
            "|2014|    1| 22|    1040|        5|    1505|        5|     AS| N559AS|   851|   SEA| HNL|     360|    2677|  10|    40|           1040|\n",
            "|2014|    3|  9|    1443|       -2|    1652|        2|     VX| N847VA|   755|   SEA| SFO|     111|     679|  14|    43|           1443|\n",
            "|2014|    4|  9|    1705|       45|    1839|       34|     WN| N360SW|   344|   PDX| SJC|      83|     569|  17|     5|           1705|\n",
            "|2014|    3|  9|     754|       -1|    1015|        1|     AS| N612AS|   522|   SEA| BUR|     127|     937|   7|    54|            754|\n",
            "|2014|    1| 15|    1037|        7|    1352|        2|     WN| N646SW|    48|   PDX| DEN|     121|     991|  10|    37|           1037|\n",
            "|2014|    7|  2|     847|       42|    1041|       51|     WN| N422WN|  1520|   PDX| OAK|      90|     543|   8|    47|            847|\n",
            "|2014|    5| 12|    1655|       -5|    1842|      -18|     VX| N361VA|   755|   SEA| SFO|      98|     679|  16|    55|           1655|\n",
            "|2014|    4| 19|    1236|       -4|    1508|       -7|     AS| N309AS|   490|   SEA| SAN|     135|    1050|  12|    36|           1236|\n",
            "|2014|   11| 19|    1812|       -3|    2352|       -4|     AS| N564AS|    26|   SEA| ORD|     198|    1721|  18|    12|           1812|\n",
            "|2014|   11|  8|    1653|       -2|    1924|       -1|     AS| N323AS|   448|   SEA| LAX|     130|     954|  16|    53|           1653|\n",
            "|2014|    8|  3|    1120|        0|    1415|        2|     AS| N305AS|   656|   SEA| PHX|     154|    1107|  11|    20|           1120|\n",
            "|2014|   10| 30|     811|       21|    1038|       29|     AS| N433AS|   608|   SEA| LAS|     127|     867|   8|    11|            811|\n",
            "|2014|   11| 12|    2346|       -4|     217|      -28|     AS| N765AS|   121|   SEA| ANC|     183|    1448|  23|    46|           2346|\n",
            "|2014|   10| 31|    1314|       89|    1544|      111|     AS| N713AS|   306|   SEA| SFO|     129|     679|  13|    14|           1314|\n",
            "|2014|    1| 29|    2009|        3|    2159|        9|     UA| N27205|  1458|   PDX| SFO|      90|     550|  20|     9|           2009|\n",
            "|2014|   12| 17|    2015|       50|    2150|       41|     AS| N626AS|   368|   SEA| SMF|      76|     605|  20|    15|           2015|\n",
            "|2014|    8| 11|    1017|       -3|    1613|       -7|     WN| N8634A|   827|   SEA| MDW|     216|    1733|  10|    17|           1017|\n",
            "|2014|    1| 13|    2156|       -9|     607|      -15|     AS| N597AS|    24|   SEA| BOS|     290|    2496|  21|    56|           2156|\n",
            "|2014|    6|  5|    1733|      -12|    1945|      -10|     OO| N215AG|  3488|   PDX| BUR|     111|     817|  17|    33|           1733|\n",
            "+----+-----+---+--------+---------+--------+---------+-------+-------+------+------+----+--------+--------+----+------+---------------+\n",
            "only showing top 20 rows\n",
            "\n"
          ]
        }
      ]
    },
    {
      "cell_type": "markdown",
      "source": [
        "4 - Crie a coluna qa_dep_arr_delay e aponte inconsistências da coluna dep_delay e arr_delay de\n",
        "acordo com as regras abaixo.<br>\n",
        "MD : Indica que está com dado faltante no dep_delay .<br>\n",
        "MA : Indica que está com dado faltante no arr_delay .<br>"
      ],
      "metadata": {
        "application/vnd.databricks.v1+cell": {
          "title": "",
          "showTitle": false,
          "inputWidgets": {},
          "nuid": "80e2a6f8-cc92-4010-9671-27c35aebe440"
        },
        "id": "Vo-FNidtLZXV"
      }
    },
    {
      "cell_type": "code",
      "source": [
        "df_flights_qa_dep_arr_delay = df_flights.withColumn('qa_dep_arr_delay',\n",
        "                                        expr(\"\"\"CASE \n",
        "                                                    WHEN dep_delay LIKE '' THEN 'MD'\n",
        "                                                    WHEN arr_delay LIKE '' THEN 'MA'\n",
        "                                                    ELSE dep_delay\n",
        "                                                END\"\"\")).show()\n"
      ],
      "metadata": {
        "colab": {
          "base_uri": "https://localhost:8080/"
        },
        "id": "gE6UL5hwQrms",
        "outputId": "f9bfd936-52ea-45fb-91fa-7e19942c1347"
      },
      "execution_count": 45,
      "outputs": [
        {
          "output_type": "stream",
          "name": "stdout",
          "text": [
            "+----+-----+---+--------+---------+--------+---------+-------+-------+------+------+----+--------+--------+----+------+----------------+\n",
            "|year|month|day|dep_time|dep_delay|arr_time|arr_delay|carrier|tailnum|flight|origin|dest|air_time|distance|hour|minute|qa_dep_arr_delay|\n",
            "+----+-----+---+--------+---------+--------+---------+-------+-------+------+------+----+--------+--------+----+------+----------------+\n",
            "|2014|   12|  8|     658|       -7|     935|       -5|     VX| N846VA|  1780|   SEA| LAX|     132|     954|   6|    58|              -7|\n",
            "|2014|    1| 22|    1040|        5|    1505|        5|     AS| N559AS|   851|   SEA| HNL|     360|    2677|  10|    40|               5|\n",
            "|2014|    3|  9|    1443|       -2|    1652|        2|     VX| N847VA|   755|   SEA| SFO|     111|     679|  14|    43|              -2|\n",
            "|2014|    4|  9|    1705|       45|    1839|       34|     WN| N360SW|   344|   PDX| SJC|      83|     569|  17|     5|              45|\n",
            "|2014|    3|  9|     754|       -1|    1015|        1|     AS| N612AS|   522|   SEA| BUR|     127|     937|   7|    54|              -1|\n",
            "|2014|    1| 15|    1037|        7|    1352|        2|     WN| N646SW|    48|   PDX| DEN|     121|     991|  10|    37|               7|\n",
            "|2014|    7|  2|     847|       42|    1041|       51|     WN| N422WN|  1520|   PDX| OAK|      90|     543|   8|    47|              42|\n",
            "|2014|    5| 12|    1655|       -5|    1842|      -18|     VX| N361VA|   755|   SEA| SFO|      98|     679|  16|    55|              -5|\n",
            "|2014|    4| 19|    1236|       -4|    1508|       -7|     AS| N309AS|   490|   SEA| SAN|     135|    1050|  12|    36|              -4|\n",
            "|2014|   11| 19|    1812|       -3|    2352|       -4|     AS| N564AS|    26|   SEA| ORD|     198|    1721|  18|    12|              -3|\n",
            "|2014|   11|  8|    1653|       -2|    1924|       -1|     AS| N323AS|   448|   SEA| LAX|     130|     954|  16|    53|              -2|\n",
            "|2014|    8|  3|    1120|        0|    1415|        2|     AS| N305AS|   656|   SEA| PHX|     154|    1107|  11|    20|               0|\n",
            "|2014|   10| 30|     811|       21|    1038|       29|     AS| N433AS|   608|   SEA| LAS|     127|     867|   8|    11|              21|\n",
            "|2014|   11| 12|    2346|       -4|     217|      -28|     AS| N765AS|   121|   SEA| ANC|     183|    1448|  23|    46|              -4|\n",
            "|2014|   10| 31|    1314|       89|    1544|      111|     AS| N713AS|   306|   SEA| SFO|     129|     679|  13|    14|              89|\n",
            "|2014|    1| 29|    2009|        3|    2159|        9|     UA| N27205|  1458|   PDX| SFO|      90|     550|  20|     9|               3|\n",
            "|2014|   12| 17|    2015|       50|    2150|       41|     AS| N626AS|   368|   SEA| SMF|      76|     605|  20|    15|              50|\n",
            "|2014|    8| 11|    1017|       -3|    1613|       -7|     WN| N8634A|   827|   SEA| MDW|     216|    1733|  10|    17|              -3|\n",
            "|2014|    1| 13|    2156|       -9|     607|      -15|     AS| N597AS|    24|   SEA| BOS|     290|    2496|  21|    56|              -9|\n",
            "|2014|    6|  5|    1733|      -12|    1945|      -10|     OO| N215AG|  3488|   PDX| BUR|     111|     817|  17|    33|             -12|\n",
            "+----+-----+---+--------+---------+--------+---------+-------+-------+------+------+----+--------+--------+----+------+----------------+\n",
            "only showing top 20 rows\n",
            "\n"
          ]
        }
      ]
    },
    {
      "cell_type": "markdown",
      "source": [
        "5 - Crie a coluna qa_carrier e aponte inconsistências da coluna carrier de acordo com as regras\n",
        "abaixo.<br>\n",
        "M : Indica que está com dado faltante.<br>\n",
        "F : Indica que não respeita o formato esperado (2 caracteres alfanuméricos).<br>"
      ],
      "metadata": {
        "application/vnd.databricks.v1+cell": {
          "title": "",
          "showTitle": false,
          "inputWidgets": {},
          "nuid": "ff210613-286f-48a3-8d63-5368bf9f2462"
        },
        "id": "5YPELYglLZXW"
      }
    },
    {
      "cell_type": "code",
      "source": [
        "df_flights_qa_carrier = df_flights.withColumn('qa_dep_arr_delay',\n",
        "                                        expr(\"\"\"CASE\n",
        " \t\t\t\t\t\t                                        WHEN carrier LIKE '' THEN 'M'\n",
        "                                                    WHEN carrier RLIKE '[a-zA-Z0-9]' THEN 'F'\n",
        "                                                    WHEN carrier <= 2 THEN 'F'\n",
        "                                                    ELSE carrier\n",
        "                                                END\"\"\")).show()\n"
      ],
      "metadata": {
        "colab": {
          "base_uri": "https://localhost:8080/"
        },
        "id": "fYvpk9BRRDRq",
        "outputId": "310bf5b7-2b10-435f-d36b-bf857615217b"
      },
      "execution_count": 46,
      "outputs": [
        {
          "output_type": "stream",
          "name": "stdout",
          "text": [
            "+----+-----+---+--------+---------+--------+---------+-------+-------+------+------+----+--------+--------+----+------+----------------+\n",
            "|year|month|day|dep_time|dep_delay|arr_time|arr_delay|carrier|tailnum|flight|origin|dest|air_time|distance|hour|minute|qa_dep_arr_delay|\n",
            "+----+-----+---+--------+---------+--------+---------+-------+-------+------+------+----+--------+--------+----+------+----------------+\n",
            "|2014|   12|  8|     658|       -7|     935|       -5|     VX| N846VA|  1780|   SEA| LAX|     132|     954|   6|    58|               F|\n",
            "|2014|    1| 22|    1040|        5|    1505|        5|     AS| N559AS|   851|   SEA| HNL|     360|    2677|  10|    40|               F|\n",
            "|2014|    3|  9|    1443|       -2|    1652|        2|     VX| N847VA|   755|   SEA| SFO|     111|     679|  14|    43|               F|\n",
            "|2014|    4|  9|    1705|       45|    1839|       34|     WN| N360SW|   344|   PDX| SJC|      83|     569|  17|     5|               F|\n",
            "|2014|    3|  9|     754|       -1|    1015|        1|     AS| N612AS|   522|   SEA| BUR|     127|     937|   7|    54|               F|\n",
            "|2014|    1| 15|    1037|        7|    1352|        2|     WN| N646SW|    48|   PDX| DEN|     121|     991|  10|    37|               F|\n",
            "|2014|    7|  2|     847|       42|    1041|       51|     WN| N422WN|  1520|   PDX| OAK|      90|     543|   8|    47|               F|\n",
            "|2014|    5| 12|    1655|       -5|    1842|      -18|     VX| N361VA|   755|   SEA| SFO|      98|     679|  16|    55|               F|\n",
            "|2014|    4| 19|    1236|       -4|    1508|       -7|     AS| N309AS|   490|   SEA| SAN|     135|    1050|  12|    36|               F|\n",
            "|2014|   11| 19|    1812|       -3|    2352|       -4|     AS| N564AS|    26|   SEA| ORD|     198|    1721|  18|    12|               F|\n",
            "|2014|   11|  8|    1653|       -2|    1924|       -1|     AS| N323AS|   448|   SEA| LAX|     130|     954|  16|    53|               F|\n",
            "|2014|    8|  3|    1120|        0|    1415|        2|     AS| N305AS|   656|   SEA| PHX|     154|    1107|  11|    20|               F|\n",
            "|2014|   10| 30|     811|       21|    1038|       29|     AS| N433AS|   608|   SEA| LAS|     127|     867|   8|    11|               F|\n",
            "|2014|   11| 12|    2346|       -4|     217|      -28|     AS| N765AS|   121|   SEA| ANC|     183|    1448|  23|    46|               F|\n",
            "|2014|   10| 31|    1314|       89|    1544|      111|     AS| N713AS|   306|   SEA| SFO|     129|     679|  13|    14|               F|\n",
            "|2014|    1| 29|    2009|        3|    2159|        9|     UA| N27205|  1458|   PDX| SFO|      90|     550|  20|     9|               F|\n",
            "|2014|   12| 17|    2015|       50|    2150|       41|     AS| N626AS|   368|   SEA| SMF|      76|     605|  20|    15|               F|\n",
            "|2014|    8| 11|    1017|       -3|    1613|       -7|     WN| N8634A|   827|   SEA| MDW|     216|    1733|  10|    17|               F|\n",
            "|2014|    1| 13|    2156|       -9|     607|      -15|     AS| N597AS|    24|   SEA| BOS|     290|    2496|  21|    56|               F|\n",
            "|2014|    6|  5|    1733|      -12|    1945|      -10|     OO| N215AG|  3488|   PDX| BUR|     111|     817|  17|    33|               F|\n",
            "+----+-----+---+--------+---------+--------+---------+-------+-------+------+------+----+--------+--------+----+------+----------------+\n",
            "only showing top 20 rows\n",
            "\n"
          ]
        }
      ]
    },
    {
      "cell_type": "markdown",
      "source": [
        "6 - Crie a coluna qa_tailnum e aponte inconsistências da coluna tailnum de acordo com as regras\n",
        "abaixo.<br>\n",
        "M : Indica que está com dado faltante.<br>\n",
        "S : Indica que não tem o número de caracteres esperado.<br>\n",
        "F : Indica que não respeita o formato esperado (ex. N1234Z ou N123AZ).<br>\n",
        "FN : Indica que não inicia com a letra \"N\".<br>\n",
        "FE : Indica que contém caracteres inválidos (\"I\", \"O\", ou 0 como primeiro digito).<br>"
      ],
      "metadata": {
        "application/vnd.databricks.v1+cell": {
          "title": "",
          "showTitle": false,
          "inputWidgets": {},
          "nuid": "3e739a7a-7d6d-45fc-ba4d-e2ceaca25bab"
        },
        "id": "RxKSUGeyLZXW"
      }
    },
    {
      "cell_type": "code",
      "source": [
        "df_flights_qa_tailnum = df_flights.withColumn('qa_tailnum',\n",
        "                                            expr(\"\"\"CASE \n",
        "                                                        WHEN tailnum LIKE '' THEN 'M'\n",
        "                                                        WHEN tailnum <= 5 THEN 'S'\n",
        "                                                        WHEN tailnum LIKE 'N1234Z' THEN 'A'\n",
        "                                                        WHEN tailnum LIKE 'N123AZ' THEN 'A'\n",
        "                                                        WHEN tailnum LIKE 'N' THEN 'FN'\n",
        "                                                        WHEN tailnum LIKE 'I' THEN 'FE'\n",
        "                                                        WHEN tailnum LIKE 'O' THEN 'FE'\n",
        "                                                        WHEN tailnum LIKE '0' THEN 'FE'\n",
        "                                                        ELSE tailnum\n",
        "                                                    END\"\"\")).show()\n"
      ],
      "metadata": {
        "colab": {
          "base_uri": "https://localhost:8080/"
        },
        "id": "Pti0zP4PR4zH",
        "outputId": "570dfe20-74e9-47d9-b0d1-531d9cc9d9ff"
      },
      "execution_count": 47,
      "outputs": [
        {
          "output_type": "stream",
          "name": "stdout",
          "text": [
            "+----+-----+---+--------+---------+--------+---------+-------+-------+------+------+----+--------+--------+----+------+----------+\n",
            "|year|month|day|dep_time|dep_delay|arr_time|arr_delay|carrier|tailnum|flight|origin|dest|air_time|distance|hour|minute|qa_tailnum|\n",
            "+----+-----+---+--------+---------+--------+---------+-------+-------+------+------+----+--------+--------+----+------+----------+\n",
            "|2014|   12|  8|     658|       -7|     935|       -5|     VX| N846VA|  1780|   SEA| LAX|     132|     954|   6|    58|    N846VA|\n",
            "|2014|    1| 22|    1040|        5|    1505|        5|     AS| N559AS|   851|   SEA| HNL|     360|    2677|  10|    40|    N559AS|\n",
            "|2014|    3|  9|    1443|       -2|    1652|        2|     VX| N847VA|   755|   SEA| SFO|     111|     679|  14|    43|    N847VA|\n",
            "|2014|    4|  9|    1705|       45|    1839|       34|     WN| N360SW|   344|   PDX| SJC|      83|     569|  17|     5|    N360SW|\n",
            "|2014|    3|  9|     754|       -1|    1015|        1|     AS| N612AS|   522|   SEA| BUR|     127|     937|   7|    54|    N612AS|\n",
            "|2014|    1| 15|    1037|        7|    1352|        2|     WN| N646SW|    48|   PDX| DEN|     121|     991|  10|    37|    N646SW|\n",
            "|2014|    7|  2|     847|       42|    1041|       51|     WN| N422WN|  1520|   PDX| OAK|      90|     543|   8|    47|    N422WN|\n",
            "|2014|    5| 12|    1655|       -5|    1842|      -18|     VX| N361VA|   755|   SEA| SFO|      98|     679|  16|    55|    N361VA|\n",
            "|2014|    4| 19|    1236|       -4|    1508|       -7|     AS| N309AS|   490|   SEA| SAN|     135|    1050|  12|    36|    N309AS|\n",
            "|2014|   11| 19|    1812|       -3|    2352|       -4|     AS| N564AS|    26|   SEA| ORD|     198|    1721|  18|    12|    N564AS|\n",
            "|2014|   11|  8|    1653|       -2|    1924|       -1|     AS| N323AS|   448|   SEA| LAX|     130|     954|  16|    53|    N323AS|\n",
            "|2014|    8|  3|    1120|        0|    1415|        2|     AS| N305AS|   656|   SEA| PHX|     154|    1107|  11|    20|    N305AS|\n",
            "|2014|   10| 30|     811|       21|    1038|       29|     AS| N433AS|   608|   SEA| LAS|     127|     867|   8|    11|    N433AS|\n",
            "|2014|   11| 12|    2346|       -4|     217|      -28|     AS| N765AS|   121|   SEA| ANC|     183|    1448|  23|    46|    N765AS|\n",
            "|2014|   10| 31|    1314|       89|    1544|      111|     AS| N713AS|   306|   SEA| SFO|     129|     679|  13|    14|    N713AS|\n",
            "|2014|    1| 29|    2009|        3|    2159|        9|     UA| N27205|  1458|   PDX| SFO|      90|     550|  20|     9|    N27205|\n",
            "|2014|   12| 17|    2015|       50|    2150|       41|     AS| N626AS|   368|   SEA| SMF|      76|     605|  20|    15|    N626AS|\n",
            "|2014|    8| 11|    1017|       -3|    1613|       -7|     WN| N8634A|   827|   SEA| MDW|     216|    1733|  10|    17|    N8634A|\n",
            "|2014|    1| 13|    2156|       -9|     607|      -15|     AS| N597AS|    24|   SEA| BOS|     290|    2496|  21|    56|    N597AS|\n",
            "|2014|    6|  5|    1733|      -12|    1945|      -10|     OO| N215AG|  3488|   PDX| BUR|     111|     817|  17|    33|    N215AG|\n",
            "+----+-----+---+--------+---------+--------+---------+-------+-------+------+------+----+--------+--------+----+------+----------+\n",
            "only showing top 20 rows\n",
            "\n"
          ]
        }
      ]
    },
    {
      "cell_type": "markdown",
      "source": [
        "7 - Crie a coluna qa_flight e aponte inconsistências da coluna flight de acordo com as regras\n",
        "abaixo.<br>\n",
        "M : Indica que está com dado faltante.<br>\n",
        "F : Indica que não respeita o formato esperado (4 caracteres numéricos).<br>"
      ],
      "metadata": {
        "application/vnd.databricks.v1+cell": {
          "title": "",
          "showTitle": false,
          "inputWidgets": {},
          "nuid": "38ac0eab-227f-4304-b11c-bc08e54c159b"
        },
        "id": "XIr6jj3VLZXX"
      }
    },
    {
      "cell_type": "code",
      "source": [
        "df_flights_qa_flight = df_flights.withColumn('qa_dep_arr_delay',\n",
        "                                        expr(\"\"\"CASE \n",
        " \t\t\t\t\t\t                                        WHEN flight LIKE '' THEN 'M'\n",
        "                                                    WHEN flight RLIKE '[a-zA-Z0-9]' THEN 'F'\n",
        "                                                    WHEN flight <= 4 THEN 'F'\n",
        "                                                    ELSE flight\n",
        "                                                END\"\"\")).show()\n"
      ],
      "metadata": {
        "colab": {
          "base_uri": "https://localhost:8080/"
        },
        "id": "Yi_dnA1PT_5M",
        "outputId": "6e4fa07b-7ed9-4878-82e8-38c678326ea8"
      },
      "execution_count": 48,
      "outputs": [
        {
          "output_type": "stream",
          "name": "stdout",
          "text": [
            "+----+-----+---+--------+---------+--------+---------+-------+-------+------+------+----+--------+--------+----+------+----------------+\n",
            "|year|month|day|dep_time|dep_delay|arr_time|arr_delay|carrier|tailnum|flight|origin|dest|air_time|distance|hour|minute|qa_dep_arr_delay|\n",
            "+----+-----+---+--------+---------+--------+---------+-------+-------+------+------+----+--------+--------+----+------+----------------+\n",
            "|2014|   12|  8|     658|       -7|     935|       -5|     VX| N846VA|  1780|   SEA| LAX|     132|     954|   6|    58|               F|\n",
            "|2014|    1| 22|    1040|        5|    1505|        5|     AS| N559AS|   851|   SEA| HNL|     360|    2677|  10|    40|               F|\n",
            "|2014|    3|  9|    1443|       -2|    1652|        2|     VX| N847VA|   755|   SEA| SFO|     111|     679|  14|    43|               F|\n",
            "|2014|    4|  9|    1705|       45|    1839|       34|     WN| N360SW|   344|   PDX| SJC|      83|     569|  17|     5|               F|\n",
            "|2014|    3|  9|     754|       -1|    1015|        1|     AS| N612AS|   522|   SEA| BUR|     127|     937|   7|    54|               F|\n",
            "|2014|    1| 15|    1037|        7|    1352|        2|     WN| N646SW|    48|   PDX| DEN|     121|     991|  10|    37|               F|\n",
            "|2014|    7|  2|     847|       42|    1041|       51|     WN| N422WN|  1520|   PDX| OAK|      90|     543|   8|    47|               F|\n",
            "|2014|    5| 12|    1655|       -5|    1842|      -18|     VX| N361VA|   755|   SEA| SFO|      98|     679|  16|    55|               F|\n",
            "|2014|    4| 19|    1236|       -4|    1508|       -7|     AS| N309AS|   490|   SEA| SAN|     135|    1050|  12|    36|               F|\n",
            "|2014|   11| 19|    1812|       -3|    2352|       -4|     AS| N564AS|    26|   SEA| ORD|     198|    1721|  18|    12|               F|\n",
            "|2014|   11|  8|    1653|       -2|    1924|       -1|     AS| N323AS|   448|   SEA| LAX|     130|     954|  16|    53|               F|\n",
            "|2014|    8|  3|    1120|        0|    1415|        2|     AS| N305AS|   656|   SEA| PHX|     154|    1107|  11|    20|               F|\n",
            "|2014|   10| 30|     811|       21|    1038|       29|     AS| N433AS|   608|   SEA| LAS|     127|     867|   8|    11|               F|\n",
            "|2014|   11| 12|    2346|       -4|     217|      -28|     AS| N765AS|   121|   SEA| ANC|     183|    1448|  23|    46|               F|\n",
            "|2014|   10| 31|    1314|       89|    1544|      111|     AS| N713AS|   306|   SEA| SFO|     129|     679|  13|    14|               F|\n",
            "|2014|    1| 29|    2009|        3|    2159|        9|     UA| N27205|  1458|   PDX| SFO|      90|     550|  20|     9|               F|\n",
            "|2014|   12| 17|    2015|       50|    2150|       41|     AS| N626AS|   368|   SEA| SMF|      76|     605|  20|    15|               F|\n",
            "|2014|    8| 11|    1017|       -3|    1613|       -7|     WN| N8634A|   827|   SEA| MDW|     216|    1733|  10|    17|               F|\n",
            "|2014|    1| 13|    2156|       -9|     607|      -15|     AS| N597AS|    24|   SEA| BOS|     290|    2496|  21|    56|               F|\n",
            "|2014|    6|  5|    1733|      -12|    1945|      -10|     OO| N215AG|  3488|   PDX| BUR|     111|     817|  17|    33|               F|\n",
            "+----+-----+---+--------+---------+--------+---------+-------+-------+------+------+----+--------+--------+----+------+----------------+\n",
            "only showing top 20 rows\n",
            "\n"
          ]
        }
      ]
    },
    {
      "cell_type": "markdown",
      "source": [
        "8 - Crie a coluna qa_origin_dest e aponte inconsistências da coluna origin , dest de acordo com\n",
        "as regras abaixo.<br>\n",
        "MO : Indica que está com dado faltante no origin .<br>\n",
        "MD : Indica que está com dado faltante no dest .<br>\n",
        "FO : Indica que não respeita o formato esperado (3 caracteres alfanuméricos) no origin .<br>\n",
        "FD : Indica que não respeita o formato esperado (3 caracteres alfanuméricos) no dest .<br>"
      ],
      "metadata": {
        "application/vnd.databricks.v1+cell": {
          "title": "",
          "showTitle": false,
          "inputWidgets": {},
          "nuid": "c3953a2d-80bc-41be-add1-3d06d58fac41"
        },
        "id": "thaBGASHLZXX"
      }
    },
    {
      "cell_type": "code",
      "source": [
        "df_flights_qa_origin_dest = df_flights.withColumn('qa_origin_dest',\n",
        "                                            expr(\"\"\"CASE \n",
        "                                                        WHEN origin LIKE '' THEN 'MO'\n",
        "                                                        WHEN origin RLIKE '[a-zA-Z0-9]' THEN 'FO'\n",
        "                                                        WHEN origin BETWEEN 1 AND 3 THEN 'FO'\n",
        "                                                        WHEN dest LIKE '' THEN 'MD'\n",
        "                                                        WHEN dest RLIKE '[a-zA-Z0-9]' THEN 'FD'\n",
        "                                                        WHEN dest BETWEEN 1 AND 3 THEN 'FD'\n",
        "                                                        ELSE origin\n",
        "                                                    END\"\"\")).show()\n"
      ],
      "metadata": {
        "colab": {
          "base_uri": "https://localhost:8080/"
        },
        "id": "Oj6j1PkgW5iA",
        "outputId": "b06c8c4b-7b45-4e6c-9a01-205991e44182"
      },
      "execution_count": 49,
      "outputs": [
        {
          "output_type": "stream",
          "name": "stdout",
          "text": [
            "+----+-----+---+--------+---------+--------+---------+-------+-------+------+------+----+--------+--------+----+------+--------------+\n",
            "|year|month|day|dep_time|dep_delay|arr_time|arr_delay|carrier|tailnum|flight|origin|dest|air_time|distance|hour|minute|qa_origin_dest|\n",
            "+----+-----+---+--------+---------+--------+---------+-------+-------+------+------+----+--------+--------+----+------+--------------+\n",
            "|2014|   12|  8|     658|       -7|     935|       -5|     VX| N846VA|  1780|   SEA| LAX|     132|     954|   6|    58|            FO|\n",
            "|2014|    1| 22|    1040|        5|    1505|        5|     AS| N559AS|   851|   SEA| HNL|     360|    2677|  10|    40|            FO|\n",
            "|2014|    3|  9|    1443|       -2|    1652|        2|     VX| N847VA|   755|   SEA| SFO|     111|     679|  14|    43|            FO|\n",
            "|2014|    4|  9|    1705|       45|    1839|       34|     WN| N360SW|   344|   PDX| SJC|      83|     569|  17|     5|            FO|\n",
            "|2014|    3|  9|     754|       -1|    1015|        1|     AS| N612AS|   522|   SEA| BUR|     127|     937|   7|    54|            FO|\n",
            "|2014|    1| 15|    1037|        7|    1352|        2|     WN| N646SW|    48|   PDX| DEN|     121|     991|  10|    37|            FO|\n",
            "|2014|    7|  2|     847|       42|    1041|       51|     WN| N422WN|  1520|   PDX| OAK|      90|     543|   8|    47|            FO|\n",
            "|2014|    5| 12|    1655|       -5|    1842|      -18|     VX| N361VA|   755|   SEA| SFO|      98|     679|  16|    55|            FO|\n",
            "|2014|    4| 19|    1236|       -4|    1508|       -7|     AS| N309AS|   490|   SEA| SAN|     135|    1050|  12|    36|            FO|\n",
            "|2014|   11| 19|    1812|       -3|    2352|       -4|     AS| N564AS|    26|   SEA| ORD|     198|    1721|  18|    12|            FO|\n",
            "|2014|   11|  8|    1653|       -2|    1924|       -1|     AS| N323AS|   448|   SEA| LAX|     130|     954|  16|    53|            FO|\n",
            "|2014|    8|  3|    1120|        0|    1415|        2|     AS| N305AS|   656|   SEA| PHX|     154|    1107|  11|    20|            FO|\n",
            "|2014|   10| 30|     811|       21|    1038|       29|     AS| N433AS|   608|   SEA| LAS|     127|     867|   8|    11|            FO|\n",
            "|2014|   11| 12|    2346|       -4|     217|      -28|     AS| N765AS|   121|   SEA| ANC|     183|    1448|  23|    46|            FO|\n",
            "|2014|   10| 31|    1314|       89|    1544|      111|     AS| N713AS|   306|   SEA| SFO|     129|     679|  13|    14|            FO|\n",
            "|2014|    1| 29|    2009|        3|    2159|        9|     UA| N27205|  1458|   PDX| SFO|      90|     550|  20|     9|            FO|\n",
            "|2014|   12| 17|    2015|       50|    2150|       41|     AS| N626AS|   368|   SEA| SMF|      76|     605|  20|    15|            FO|\n",
            "|2014|    8| 11|    1017|       -3|    1613|       -7|     WN| N8634A|   827|   SEA| MDW|     216|    1733|  10|    17|            FO|\n",
            "|2014|    1| 13|    2156|       -9|     607|      -15|     AS| N597AS|    24|   SEA| BOS|     290|    2496|  21|    56|            FO|\n",
            "|2014|    6|  5|    1733|      -12|    1945|      -10|     OO| N215AG|  3488|   PDX| BUR|     111|     817|  17|    33|            FO|\n",
            "+----+-----+---+--------+---------+--------+---------+-------+-------+------+------+----+--------+--------+----+------+--------------+\n",
            "only showing top 20 rows\n",
            "\n"
          ]
        }
      ]
    },
    {
      "cell_type": "markdown",
      "source": [
        "9 - Crie a coluna qa_air_time e aponte inconsistencias da coluna air_time de acordo com as regras\n",
        "abaixo.<br>\n",
        "M : Indica que está com dado faltante.<br>\n",
        "I : Indica que o valor excede o intervalo [20, 500].<br>"
      ],
      "metadata": {
        "application/vnd.databricks.v1+cell": {
          "title": "",
          "showTitle": false,
          "inputWidgets": {},
          "nuid": "25ef53fc-d274-4b41-8cbc-8f21258e5b42"
        },
        "id": "WA51m7EKLZXX"
      }
    },
    {
      "cell_type": "code",
      "source": [
        "df_flights_qa_air_time = df_flights.withColumn('qa_hour_minute',\n",
        "                                        expr(\"\"\"CASE \n",
        "                                                    WHEN air_time LIKE '' THEN 'M'\n",
        "                                                    WHEN air_time BETWEEN 20 AND 500 THEN 'I'                                       \n",
        "                                                    ELSE air_time\n",
        "                                                END\"\"\")).show()\n"
      ],
      "metadata": {
        "colab": {
          "base_uri": "https://localhost:8080/"
        },
        "id": "v25qjti-W6eu",
        "outputId": "ff1a89b7-f2ba-4fbd-dae7-d110cde564a8"
      },
      "execution_count": 50,
      "outputs": [
        {
          "output_type": "stream",
          "name": "stdout",
          "text": [
            "+----+-----+---+--------+---------+--------+---------+-------+-------+------+------+----+--------+--------+----+------+--------------+\n",
            "|year|month|day|dep_time|dep_delay|arr_time|arr_delay|carrier|tailnum|flight|origin|dest|air_time|distance|hour|minute|qa_hour_minute|\n",
            "+----+-----+---+--------+---------+--------+---------+-------+-------+------+------+----+--------+--------+----+------+--------------+\n",
            "|2014|   12|  8|     658|       -7|     935|       -5|     VX| N846VA|  1780|   SEA| LAX|     132|     954|   6|    58|             I|\n",
            "|2014|    1| 22|    1040|        5|    1505|        5|     AS| N559AS|   851|   SEA| HNL|     360|    2677|  10|    40|             I|\n",
            "|2014|    3|  9|    1443|       -2|    1652|        2|     VX| N847VA|   755|   SEA| SFO|     111|     679|  14|    43|             I|\n",
            "|2014|    4|  9|    1705|       45|    1839|       34|     WN| N360SW|   344|   PDX| SJC|      83|     569|  17|     5|             I|\n",
            "|2014|    3|  9|     754|       -1|    1015|        1|     AS| N612AS|   522|   SEA| BUR|     127|     937|   7|    54|             I|\n",
            "|2014|    1| 15|    1037|        7|    1352|        2|     WN| N646SW|    48|   PDX| DEN|     121|     991|  10|    37|             I|\n",
            "|2014|    7|  2|     847|       42|    1041|       51|     WN| N422WN|  1520|   PDX| OAK|      90|     543|   8|    47|             I|\n",
            "|2014|    5| 12|    1655|       -5|    1842|      -18|     VX| N361VA|   755|   SEA| SFO|      98|     679|  16|    55|             I|\n",
            "|2014|    4| 19|    1236|       -4|    1508|       -7|     AS| N309AS|   490|   SEA| SAN|     135|    1050|  12|    36|             I|\n",
            "|2014|   11| 19|    1812|       -3|    2352|       -4|     AS| N564AS|    26|   SEA| ORD|     198|    1721|  18|    12|             I|\n",
            "|2014|   11|  8|    1653|       -2|    1924|       -1|     AS| N323AS|   448|   SEA| LAX|     130|     954|  16|    53|             I|\n",
            "|2014|    8|  3|    1120|        0|    1415|        2|     AS| N305AS|   656|   SEA| PHX|     154|    1107|  11|    20|             I|\n",
            "|2014|   10| 30|     811|       21|    1038|       29|     AS| N433AS|   608|   SEA| LAS|     127|     867|   8|    11|             I|\n",
            "|2014|   11| 12|    2346|       -4|     217|      -28|     AS| N765AS|   121|   SEA| ANC|     183|    1448|  23|    46|             I|\n",
            "|2014|   10| 31|    1314|       89|    1544|      111|     AS| N713AS|   306|   SEA| SFO|     129|     679|  13|    14|             I|\n",
            "|2014|    1| 29|    2009|        3|    2159|        9|     UA| N27205|  1458|   PDX| SFO|      90|     550|  20|     9|             I|\n",
            "|2014|   12| 17|    2015|       50|    2150|       41|     AS| N626AS|   368|   SEA| SMF|      76|     605|  20|    15|             I|\n",
            "|2014|    8| 11|    1017|       -3|    1613|       -7|     WN| N8634A|   827|   SEA| MDW|     216|    1733|  10|    17|             I|\n",
            "|2014|    1| 13|    2156|       -9|     607|      -15|     AS| N597AS|    24|   SEA| BOS|     290|    2496|  21|    56|             I|\n",
            "|2014|    6|  5|    1733|      -12|    1945|      -10|     OO| N215AG|  3488|   PDX| BUR|     111|     817|  17|    33|             I|\n",
            "+----+-----+---+--------+---------+--------+---------+-------+-------+------+------+----+--------+--------+----+------+--------------+\n",
            "only showing top 20 rows\n",
            "\n"
          ]
        }
      ]
    },
    {
      "cell_type": "markdown",
      "source": [
        "10 - Crie a coluna qa_distance e aponte inconsistências da coluna distance de acordo com as regras\n",
        "abaixo.<br>\n",
        "M : Indica que está com dado faltante.<br>\n",
        "I : Indica que o valor excede o intervalo [50, 3000].<br>"
      ],
      "metadata": {
        "application/vnd.databricks.v1+cell": {
          "title": "",
          "showTitle": false,
          "inputWidgets": {},
          "nuid": "190335f3-a190-4f30-bce4-a321d67ed456"
        },
        "id": "qCnoIU5qLZXY"
      }
    },
    {
      "cell_type": "code",
      "source": [
        "df_flights_qa_distance = df_flights.withColumn('qa_distance',\n",
        "                                        expr(\"\"\"CASE \n",
        "                                                    WHEN distance LIKE '' THEN 'M'\n",
        "                                                    WHEN distance BETWEEN 50 AND 3000 THEN 'I'                                       \n",
        "                                                    ELSE distance\n",
        "                                                END\"\"\")).show()\n"
      ],
      "metadata": {
        "colab": {
          "base_uri": "https://localhost:8080/"
        },
        "id": "plQEpFpaW-pO",
        "outputId": "213b38d6-7138-4c45-c416-e929da7c3a2e"
      },
      "execution_count": 51,
      "outputs": [
        {
          "output_type": "stream",
          "name": "stdout",
          "text": [
            "+----+-----+---+--------+---------+--------+---------+-------+-------+------+------+----+--------+--------+----+------+-----------+\n",
            "|year|month|day|dep_time|dep_delay|arr_time|arr_delay|carrier|tailnum|flight|origin|dest|air_time|distance|hour|minute|qa_distance|\n",
            "+----+-----+---+--------+---------+--------+---------+-------+-------+------+------+----+--------+--------+----+------+-----------+\n",
            "|2014|   12|  8|     658|       -7|     935|       -5|     VX| N846VA|  1780|   SEA| LAX|     132|     954|   6|    58|          I|\n",
            "|2014|    1| 22|    1040|        5|    1505|        5|     AS| N559AS|   851|   SEA| HNL|     360|    2677|  10|    40|          I|\n",
            "|2014|    3|  9|    1443|       -2|    1652|        2|     VX| N847VA|   755|   SEA| SFO|     111|     679|  14|    43|          I|\n",
            "|2014|    4|  9|    1705|       45|    1839|       34|     WN| N360SW|   344|   PDX| SJC|      83|     569|  17|     5|          I|\n",
            "|2014|    3|  9|     754|       -1|    1015|        1|     AS| N612AS|   522|   SEA| BUR|     127|     937|   7|    54|          I|\n",
            "|2014|    1| 15|    1037|        7|    1352|        2|     WN| N646SW|    48|   PDX| DEN|     121|     991|  10|    37|          I|\n",
            "|2014|    7|  2|     847|       42|    1041|       51|     WN| N422WN|  1520|   PDX| OAK|      90|     543|   8|    47|          I|\n",
            "|2014|    5| 12|    1655|       -5|    1842|      -18|     VX| N361VA|   755|   SEA| SFO|      98|     679|  16|    55|          I|\n",
            "|2014|    4| 19|    1236|       -4|    1508|       -7|     AS| N309AS|   490|   SEA| SAN|     135|    1050|  12|    36|          I|\n",
            "|2014|   11| 19|    1812|       -3|    2352|       -4|     AS| N564AS|    26|   SEA| ORD|     198|    1721|  18|    12|          I|\n",
            "|2014|   11|  8|    1653|       -2|    1924|       -1|     AS| N323AS|   448|   SEA| LAX|     130|     954|  16|    53|          I|\n",
            "|2014|    8|  3|    1120|        0|    1415|        2|     AS| N305AS|   656|   SEA| PHX|     154|    1107|  11|    20|          I|\n",
            "|2014|   10| 30|     811|       21|    1038|       29|     AS| N433AS|   608|   SEA| LAS|     127|     867|   8|    11|          I|\n",
            "|2014|   11| 12|    2346|       -4|     217|      -28|     AS| N765AS|   121|   SEA| ANC|     183|    1448|  23|    46|          I|\n",
            "|2014|   10| 31|    1314|       89|    1544|      111|     AS| N713AS|   306|   SEA| SFO|     129|     679|  13|    14|          I|\n",
            "|2014|    1| 29|    2009|        3|    2159|        9|     UA| N27205|  1458|   PDX| SFO|      90|     550|  20|     9|          I|\n",
            "|2014|   12| 17|    2015|       50|    2150|       41|     AS| N626AS|   368|   SEA| SMF|      76|     605|  20|    15|          I|\n",
            "|2014|    8| 11|    1017|       -3|    1613|       -7|     WN| N8634A|   827|   SEA| MDW|     216|    1733|  10|    17|          I|\n",
            "|2014|    1| 13|    2156|       -9|     607|      -15|     AS| N597AS|    24|   SEA| BOS|     290|    2496|  21|    56|          I|\n",
            "|2014|    6|  5|    1733|      -12|    1945|      -10|     OO| N215AG|  3488|   PDX| BUR|     111|     817|  17|    33|          I|\n",
            "+----+-----+---+--------+---------+--------+---------+-------+-------+------+------+----+--------+--------+----+------+-----------+\n",
            "only showing top 20 rows\n",
            "\n"
          ]
        }
      ]
    },
    {
      "cell_type": "markdown",
      "source": [
        "11 - Crie a coluna qa_distance_airtime e aponte inconsistências entre as colunas distance e\n",
        "air_time de acordo com as regras abaixo.<br>\n",
        "M : Indica que está com distance ou air_time faltante.<br>\n",
        "TL : Indica que a viagem é longa de acordo com a condição:<br>\n",
        "air_time >= distance × 0.1 + 30.<br>\n",
        "TS : Indica que a viagem é curta de acordo com a condição:<br>\n",
        "air_time <= distance × 0.1 + 10.<br>\n",
        "TR : Indica que a viagem é normal caso as duas anteriores não sejam verdade.<br>"
      ],
      "metadata": {
        "application/vnd.databricks.v1+cell": {
          "title": "",
          "showTitle": false,
          "inputWidgets": {},
          "nuid": "a95a56da-4efd-43ae-b283-8f833ca2c9c9"
        },
        "id": "kWh6vblHLZXY"
      }
    },
    {
      "cell_type": "code",
      "source": [
        "df_flights_qa_distance_airtime = df_flights.withColumn('qa_distance_airtime',\n",
        "                                        expr(\"\"\"CASE \n",
        "                                                    WHEN distance LIKE '' THEN 'M'\n",
        "                                                    WHEN air_time LIKE '' THEN 'M'\n",
        "                                                    WHEN air_time >= distance * 0.1 + 30 THEN 'TL'\n",
        "                                                    WHEN air_time <= distance * 0.1 + 10 THEN 'TS'\n",
        "                                                    WHEN NOT (air_time >= distance * 0.1 + 30) = (air_time <= distance * 0.1 + 10) THEN 'TR'  \n",
        "                                                    ELSE distance\n",
        "                                                END\"\"\")).show()\n"
      ],
      "metadata": {
        "application/vnd.databricks.v1+cell": {
          "title": "",
          "showTitle": false,
          "inputWidgets": {},
          "nuid": "5269b504-d3a7-4d48-a7fb-08082bb08bf8"
        },
        "id": "ePEswCVzLZXZ",
        "colab": {
          "base_uri": "https://localhost:8080/"
        },
        "outputId": "1213268c-f590-491d-dbd9-18b7225f5c2b"
      },
      "outputs": [
        {
          "output_type": "stream",
          "name": "stdout",
          "text": [
            "+----+-----+---+--------+---------+--------+---------+-------+-------+------+------+----+--------+--------+----+------+-------------------+\n",
            "|year|month|day|dep_time|dep_delay|arr_time|arr_delay|carrier|tailnum|flight|origin|dest|air_time|distance|hour|minute|qa_distance_airtime|\n",
            "+----+-----+---+--------+---------+--------+---------+-------+-------+------+------+----+--------+--------+----+------+-------------------+\n",
            "|2014|   12|  8|     658|       -7|     935|       -5|     VX| N846VA|  1780|   SEA| LAX|     132|     954|   6|    58|                 TL|\n",
            "|2014|    1| 22|    1040|        5|    1505|        5|     AS| N559AS|   851|   SEA| HNL|     360|    2677|  10|    40|                 TL|\n",
            "|2014|    3|  9|    1443|       -2|    1652|        2|     VX| N847VA|   755|   SEA| SFO|     111|     679|  14|    43|                 TL|\n",
            "|2014|    4|  9|    1705|       45|    1839|       34|     WN| N360SW|   344|   PDX| SJC|      83|     569|  17|     5|                569|\n",
            "|2014|    3|  9|     754|       -1|    1015|        1|     AS| N612AS|   522|   SEA| BUR|     127|     937|   7|    54|                 TL|\n",
            "|2014|    1| 15|    1037|        7|    1352|        2|     WN| N646SW|    48|   PDX| DEN|     121|     991|  10|    37|                991|\n",
            "|2014|    7|  2|     847|       42|    1041|       51|     WN| N422WN|  1520|   PDX| OAK|      90|     543|   8|    47|                 TL|\n",
            "|2014|    5| 12|    1655|       -5|    1842|      -18|     VX| N361VA|   755|   SEA| SFO|      98|     679|  16|    55|                 TL|\n",
            "|2014|    4| 19|    1236|       -4|    1508|       -7|     AS| N309AS|   490|   SEA| SAN|     135|    1050|  12|    36|                 TL|\n",
            "|2014|   11| 19|    1812|       -3|    2352|       -4|     AS| N564AS|    26|   SEA| ORD|     198|    1721|  18|    12|               1721|\n",
            "|2014|   11|  8|    1653|       -2|    1924|       -1|     AS| N323AS|   448|   SEA| LAX|     130|     954|  16|    53|                 TL|\n",
            "|2014|    8|  3|    1120|        0|    1415|        2|     AS| N305AS|   656|   SEA| PHX|     154|    1107|  11|    20|                 TL|\n",
            "|2014|   10| 30|     811|       21|    1038|       29|     AS| N433AS|   608|   SEA| LAS|     127|     867|   8|    11|                 TL|\n",
            "|2014|   11| 12|    2346|       -4|     217|      -28|     AS| N765AS|   121|   SEA| ANC|     183|    1448|  23|    46|                 TL|\n",
            "|2014|   10| 31|    1314|       89|    1544|      111|     AS| N713AS|   306|   SEA| SFO|     129|     679|  13|    14|                 TL|\n",
            "|2014|    1| 29|    2009|        3|    2159|        9|     UA| N27205|  1458|   PDX| SFO|      90|     550|  20|     9|                 TL|\n",
            "|2014|   12| 17|    2015|       50|    2150|       41|     AS| N626AS|   368|   SEA| SMF|      76|     605|  20|    15|                605|\n",
            "|2014|    8| 11|    1017|       -3|    1613|       -7|     WN| N8634A|   827|   SEA| MDW|     216|    1733|  10|    17|                 TL|\n",
            "|2014|    1| 13|    2156|       -9|     607|      -15|     AS| N597AS|    24|   SEA| BOS|     290|    2496|  21|    56|                 TL|\n",
            "|2014|    6|  5|    1733|      -12|    1945|      -10|     OO| N215AG|  3488|   PDX| BUR|     111|     817|  17|    33|                817|\n",
            "+----+-----+---+--------+---------+--------+---------+-------+-------+------+------+----+--------+--------+----+------+-------------------+\n",
            "only showing top 20 rows\n",
            "\n"
          ]
        }
      ],
      "execution_count": 52
    }
  ],
  "metadata": {
    "application/vnd.databricks.v1+notebook": {
      "notebookName": "Airports",
      "dashboards": [],
      "notebookMetadata": {
        "pythonIndentUnit": 4
      },
      "language": "python",
      "widgets": {},
      "notebookOrigID": 3630559490240670
    },
    "colab": {
      "name": "pyspark_sql.ipynb",
      "provenance": [],
      "collapsed_sections": [],
      "include_colab_link": true
    },
    "language_info": {
      "name": "python"
    },
    "kernelspec": {
      "name": "python3",
      "display_name": "Python 3"
    },
    "gpuClass": "standard"
  },
  "nbformat": 4,
  "nbformat_minor": 0
}