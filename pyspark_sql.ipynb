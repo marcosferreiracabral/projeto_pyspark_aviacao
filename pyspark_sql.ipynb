{
  "cells": [
    {
      "cell_type": "markdown",
      "metadata": {
        "id": "view-in-github",
        "colab_type": "text"
      },
      "source": [
        "<a href=\"https://colab.research.google.com/github/marcosferreiracabral/projeto_pyspark_aviacao/blob/main/pyspark_sql.ipynb\" target=\"_parent\"><img src=\"https://colab.research.google.com/assets/colab-badge.svg\" alt=\"Open In Colab\"/></a>"
      ]
    },
    {
      "cell_type": "code",
      "source": [
        "from google.colab import drive\n",
        "\n",
        "drive.mount('/content/drive')\n"
      ],
      "metadata": {
        "colab": {
          "base_uri": "https://localhost:8080/"
        },
        "id": "6kX5VysCLe-H",
        "outputId": "0ec821c5-0a3e-4ae6-8608-c2d69325aed6"
      },
      "execution_count": 1,
      "outputs": [
        {
          "output_type": "stream",
          "name": "stdout",
          "text": [
            "Mounted at /content/drive\n"
          ]
        }
      ]
    },
    {
      "cell_type": "code",
      "source": [
        "# Instalação das dependências:\n",
        "\n",
        "!sudo apt update\n",
        "!apt-get install openjdk-8-jdk-headless -qq > /dev/null\n",
        "\n",
        "# Fazendo download:\n",
        "!wget -q https://dlcdn.apache.org/spark/spark-3.3.0/spark-3.3.0-bin-hadoop3.tgz\n",
        "\n",
        "# Descompactando os arquivos:\n",
        "!tar xf spark-3.3.0-bin-hadoop3.tgz\n",
        "\n",
        "# instalando a findspark:\n",
        "!pip install -q findspark\n",
        "\n",
        "# instalando o pyspark:\n",
        "!pip install -q pyspark\n"
      ],
      "metadata": {
        "id": "MTHP8zjROMv0",
        "colab": {
          "base_uri": "https://localhost:8080/"
        },
        "outputId": "85bbc06c-67a5-45c6-a416-cc129e13d0ba"
      },
      "execution_count": 2,
      "outputs": [
        {
          "output_type": "stream",
          "name": "stdout",
          "text": [
            "\u001b[33m\r0% [Working]\u001b[0m\r            \rGet:1 https://cloud.r-project.org/bin/linux/ubuntu bionic-cran40/ InRelease [3,626 B]\n",
            "\u001b[33m\r0% [Connecting to archive.ubuntu.com (185.125.190.36)] [Waiting for headers] [1\u001b[0m\u001b[33m\r0% [Connecting to archive.ubuntu.com (185.125.190.36)] [Waiting for headers] [W\u001b[0m\u001b[33m\r0% [1 InRelease gpgv 3,626 B] [Connecting to archive.ubuntu.com (185.125.190.36\u001b[0m\r                                                                               \rGet:2 http://security.ubuntu.com/ubuntu bionic-security InRelease [88.7 kB]\n",
            "\u001b[33m\r0% [1 InRelease gpgv 3,626 B] [Waiting for headers] [2 InRelease 14.2 kB/88.7 k\u001b[0m\r                                                                               \rIgn:3 https://developer.download.nvidia.com/compute/machine-learning/repos/ubuntu1804/x86_64  InRelease\n",
            "\u001b[33m\r0% [1 InRelease gpgv 3,626 B] [Waiting for headers] [2 InRelease 14.2 kB/88.7 k\u001b[0m\r                                                                               \rGet:4 http://ppa.launchpad.net/c2d4u.team/c2d4u4.0+/ubuntu bionic InRelease [15.9 kB]\n",
            "\u001b[33m\r0% [1 InRelease gpgv 3,626 B] [Waiting for headers] [2 InRelease 14.2 kB/88.7 k\u001b[0m\r                                                                               \rGet:5 https://developer.download.nvidia.com/compute/cuda/repos/ubuntu1804/x86_64  InRelease [1,581 B]\n",
            "\u001b[33m\r0% [1 InRelease gpgv 3,626 B] [Waiting for headers] [2 InRelease 14.2 kB/88.7 k\u001b[0m\u001b[33m\r0% [1 InRelease gpgv 3,626 B] [Waiting for headers] [2 InRelease 14.2 kB/88.7 k\u001b[0m\r                                                                               \rHit:6 https://developer.download.nvidia.com/compute/machine-learning/repos/ubuntu1804/x86_64  Release\n",
            "Hit:7 http://archive.ubuntu.com/ubuntu bionic InRelease\n",
            "Get:8 http://archive.ubuntu.com/ubuntu bionic-updates InRelease [88.7 kB]\n",
            "Get:9 https://developer.download.nvidia.com/compute/cuda/repos/ubuntu1804/x86_64  Packages [910 kB]\n",
            "Hit:11 http://ppa.launchpad.net/cran/libgit2/ubuntu bionic InRelease\n",
            "Hit:12 http://ppa.launchpad.net/deadsnakes/ppa/ubuntu bionic InRelease\n",
            "Get:13 http://archive.ubuntu.com/ubuntu bionic-backports InRelease [74.6 kB]\n",
            "Hit:14 http://ppa.launchpad.net/graphics-drivers/ppa/ubuntu bionic InRelease\n",
            "Get:15 http://security.ubuntu.com/ubuntu bionic-security/universe amd64 Packages [1,533 kB]\n",
            "Get:16 http://ppa.launchpad.net/c2d4u.team/c2d4u4.0+/ubuntu bionic/main Sources [2,095 kB]\n",
            "Get:17 http://archive.ubuntu.com/ubuntu bionic-updates/universe amd64 Packages [2,311 kB]\n",
            "Get:18 http://security.ubuntu.com/ubuntu bionic-security/main amd64 Packages [2,937 kB]\n",
            "Get:19 http://archive.ubuntu.com/ubuntu bionic-updates/main amd64 Packages [3,369 kB]\n",
            "Get:20 http://ppa.launchpad.net/c2d4u.team/c2d4u4.0+/ubuntu bionic/main amd64 Packages [1,073 kB]\n",
            "Fetched 14.5 MB in 3s (5,534 kB/s)\n",
            "Reading package lists... Done\n",
            "Building dependency tree       \n",
            "Reading state information... Done\n",
            "26 packages can be upgraded. Run 'apt list --upgradable' to see them.\n",
            "\u001b[K     |████████████████████████████████| 281.3 MB 50 kB/s \n",
            "\u001b[K     |████████████████████████████████| 199 kB 44.8 MB/s \n",
            "\u001b[?25h  Building wheel for pyspark (setup.py) ... \u001b[?25l\u001b[?25hdone\n"
          ]
        }
      ]
    },
    {
      "cell_type": "code",
      "source": [
        "# Configuração das variáveis de ambiente:\n",
        "\n",
        "import os\n",
        "\n",
        "os.environ[\"JAVA_HOME\"] = \"/usr/lib/jvm/java-8-openjdk-amd64\"\n",
        "\n",
        "os.environ[\"SPARK_HOME\"] = \"/content/spark-3.3.0-bin-hadoop3\"\n",
        "\n",
        "# Tornar o pyspark \"importável\":\n",
        "\n",
        "import findspark\n",
        "\n",
        "findspark.init('spark-3.3.0-bin-hadoop3')\n"
      ],
      "metadata": {
        "id": "yqxFXbIwNjSv"
      },
      "execution_count": 3,
      "outputs": []
    },
    {
      "cell_type": "code",
      "source": [
        "# Iniciar uma sessão local:\n",
        "\n",
        "import pyspark\n",
        "import findspark\n",
        "\n",
        "findspark.init()\n",
        "\n",
        "from pyspark.sql import SparkSession\n",
        "\n",
        "spark = SparkSession.builder.master('local[*]').getOrCreate()\n"
      ],
      "metadata": {
        "id": "avxIxHA_Nz7n"
      },
      "execution_count": 4,
      "outputs": []
    },
    {
      "cell_type": "code",
      "source": [
        "# Importação das bibliotecas para o notebook:\n",
        "\n",
        "from pyspark.sql.functions import col, expr\n"
      ],
      "metadata": {
        "id": "H2pm4dH8LRLQ"
      },
      "execution_count": 5,
      "outputs": []
    },
    {
      "cell_type": "markdown",
      "source": [
        "# Airports Dataset:"
      ],
      "metadata": {
        "application/vnd.databricks.v1+cell": {
          "title": "",
          "showTitle": false,
          "inputWidgets": {},
          "nuid": "9d056a1f-cc41-4fe3-9a35-08c8946f995f"
        },
        "id": "8tpIn9QuLZWw"
      }
    },
    {
      "cell_type": "code",
      "source": [
        "# Importação dos dados para o PySpark:\n",
        "# Download do http para arquivo local:\n",
        "\n",
        "!wget --quiet --show-progress https://drive.google.com/file/d/1cpygs-tfjUqAYqbBAkt3zcVP1h4J_3W_/view?usp=sharing\n",
        "\n",
        "# Carregar dados do Airports:\n",
        "\n",
        "df_airports = spark.read.csv(\"./airports.csv\", inferSchema=True, header=True)\n",
        "\n",
        "# Ver algumas informações sobre os tipos de dados de cada coluna:\n",
        "\n",
        "df_airports.printSchema()\n"
      ],
      "metadata": {
        "id": "tKk66mzuPem_",
        "colab": {
          "base_uri": "https://localhost:8080/"
        },
        "outputId": "7bedc50f-005e-458f-dac3-e111d39caec6"
      },
      "execution_count": 6,
      "outputs": [
        {
          "output_type": "stream",
          "name": "stdout",
          "text": [
            "\rview?usp=sharing        [<=>                 ]       0  --.-KB/s               \rview?usp=sharing        [ <=>                ]  66.58K  --.-KB/s    in 0.002s  \n",
            "root\n",
            " |-- faa: string (nullable = true)\n",
            " |-- name: string (nullable = true)\n",
            " |-- lat: double (nullable = true)\n",
            " |-- lon: double (nullable = true)\n",
            " |-- alt: integer (nullable = true)\n",
            " |-- tz: integer (nullable = true)\n",
            " |-- dst: string (nullable = true)\n",
            "\n"
          ]
        }
      ]
    },
    {
      "cell_type": "markdown",
      "source": [
        "# Data Discovery:"
      ],
      "metadata": {
        "id": "6TuGbOmWFVzs"
      }
    },
    {
      "cell_type": "code",
      "source": [
        "# Tipo do dado:\n",
        "\n",
        "type(df_airports)\n"
      ],
      "metadata": {
        "colab": {
          "base_uri": "https://localhost:8080/"
        },
        "id": "7ATVPgA73r9o",
        "outputId": "0ad0e13c-b18a-484b-a826-4cbcbb532129"
      },
      "execution_count": 7,
      "outputs": [
        {
          "output_type": "execute_result",
          "data": {
            "text/plain": [
              "pyspark.sql.dataframe.DataFrame"
            ]
          },
          "metadata": {},
          "execution_count": 7
        }
      ]
    },
    {
      "cell_type": "code",
      "source": [
        "# Lendo o dataframe e impimindo as colunas e linhas:\n",
        "\n",
        "df_airports.show()\n"
      ],
      "metadata": {
        "application/vnd.databricks.v1+cell": {
          "title": "",
          "showTitle": false,
          "inputWidgets": {},
          "nuid": "eb31806e-0f44-4ca6-bf90-d6e933bcc926"
        },
        "id": "vmJ4h8lwLZW5",
        "colab": {
          "base_uri": "https://localhost:8080/"
        },
        "outputId": "396016f0-2cfc-411d-cbca-1c595527c5cf"
      },
      "outputs": [
        {
          "output_type": "stream",
          "name": "stdout",
          "text": [
            "+---+--------------------+----------------+-----------------+----+---+---+\n",
            "|faa|                name|             lat|              lon| alt| tz|dst|\n",
            "+---+--------------------+----------------+-----------------+----+---+---+\n",
            "|04G|   Lansdowne Airport|      41.1304722|      -80.6195833|1044| -5|  A|\n",
            "|06A|Moton Field Munic...|      32.4605722|      -85.6800278| 264| -5|  A|\n",
            "|06C| Schaumburg Regional|      41.9893408|      -88.1012428| 801| -6|  A|\n",
            "|06N|     Randall Airport|       41.431912|      -74.3915611| 523| -5|  A|\n",
            "|09J|Jekyll Island Air...|      31.0744722|      -81.4277778|  11| -4|  A|\n",
            "|0A9|Elizabethton Muni...|      36.3712222|      -82.1734167|1593| -4|  A|\n",
            "|0G6|Williams County A...|      41.4673056|      -84.5067778| 730| -5|  A|\n",
            "|0G7|Finger Lakes Regi...|      42.8835647|      -76.7812318| 492| -5|  A|\n",
            "|0P2|Shoestring Aviati...|      39.7948244|      -76.6471914|1000| -5|  U|\n",
            "|0S9|Jefferson County ...|      48.0538086|     -122.8106436| 108| -8|  A|\n",
            "|0W3|Harford County Ai...|      39.5668378|      -76.2024028| 409| -5|  A|\n",
            "|10C|  Galt Field Airport|      42.4028889|      -88.3751111| 875| -6|  U|\n",
            "|17G|Port Bucyrus-Craw...|      40.7815556|      -82.9748056|1003| -5|  A|\n",
            "|19A|Jackson County Ai...|      34.1758638|      -83.5615972| 951| -4|  U|\n",
            "|1A3|Martin Campbell F...|      35.0158056|      -84.3468333|1789| -4|  A|\n",
            "|1B9| Mansfield Municipal|      42.0001331|      -71.1967714| 122| -5|  A|\n",
            "|1C9|Frazier Lake Airpark|54.0133333333333|-124.768333333333| 152| -8|  A|\n",
            "|1CS|Clow Internationa...|      41.6959744|      -88.1292306| 670| -6|  U|\n",
            "|1G3|  Kent State Airport|      41.1513889|      -81.4151111|1134| -4|  A|\n",
            "|1OH|     Fortman Airport|      40.5553253|      -84.3866186| 885| -5|  U|\n",
            "+---+--------------------+----------------+-----------------+----+---+---+\n",
            "only showing top 20 rows\n",
            "\n"
          ]
        }
      ],
      "execution_count": 8
    },
    {
      "cell_type": "code",
      "source": [
        "# Lendo o dataframe e impimindo o cabeçalho:\n",
        "\n",
        "df_airports.head(10) # 10 primeiras linhas.\n"
      ],
      "metadata": {
        "application/vnd.databricks.v1+cell": {
          "title": "",
          "showTitle": false,
          "inputWidgets": {},
          "nuid": "5bdd2088-fd83-4ce7-b34d-e6fe0f361b09"
        },
        "id": "8f0t1bYGLZW8",
        "colab": {
          "base_uri": "https://localhost:8080/"
        },
        "outputId": "eb491ccc-6dc7-48a3-e209-595703d4940d"
      },
      "outputs": [
        {
          "output_type": "execute_result",
          "data": {
            "text/plain": [
              "[Row(faa='04G', name='Lansdowne Airport', lat=41.1304722, lon=-80.6195833, alt=1044, tz=-5, dst='A'),\n",
              " Row(faa='06A', name='Moton Field Municipal Airport', lat=32.4605722, lon=-85.6800278, alt=264, tz=-5, dst='A'),\n",
              " Row(faa='06C', name='Schaumburg Regional', lat=41.9893408, lon=-88.1012428, alt=801, tz=-6, dst='A'),\n",
              " Row(faa='06N', name='Randall Airport', lat=41.431912, lon=-74.3915611, alt=523, tz=-5, dst='A'),\n",
              " Row(faa='09J', name='Jekyll Island Airport', lat=31.0744722, lon=-81.4277778, alt=11, tz=-4, dst='A'),\n",
              " Row(faa='0A9', name='Elizabethton Municipal Airport', lat=36.3712222, lon=-82.1734167, alt=1593, tz=-4, dst='A'),\n",
              " Row(faa='0G6', name='Williams County Airport', lat=41.4673056, lon=-84.5067778, alt=730, tz=-5, dst='A'),\n",
              " Row(faa='0G7', name='Finger Lakes Regional Airport', lat=42.8835647, lon=-76.7812318, alt=492, tz=-5, dst='A'),\n",
              " Row(faa='0P2', name='Shoestring Aviation Airfield', lat=39.7948244, lon=-76.6471914, alt=1000, tz=-5, dst='U'),\n",
              " Row(faa='0S9', name='Jefferson County Intl', lat=48.0538086, lon=-122.8106436, alt=108, tz=-8, dst='A')]"
            ]
          },
          "metadata": {},
          "execution_count": 9
        }
      ],
      "execution_count": 9
    },
    {
      "cell_type": "code",
      "source": [
        "# Contagem das linhas da coluna faa:\n",
        "\n",
        "df_airports.select(col('faa')).count()\n"
      ],
      "metadata": {
        "application/vnd.databricks.v1+cell": {
          "title": "",
          "showTitle": false,
          "inputWidgets": {},
          "nuid": "bfa1c448-7fe2-4ed3-b06c-59d332e4736f"
        },
        "id": "du4CuxyTLZW9",
        "colab": {
          "base_uri": "https://localhost:8080/"
        },
        "outputId": "d3015a88-fb9f-41dc-da5e-ce56d734bee6"
      },
      "outputs": [
        {
          "output_type": "execute_result",
          "data": {
            "text/plain": [
              "1397"
            ]
          },
          "metadata": {},
          "execution_count": 10
        }
      ],
      "execution_count": 10
    },
    {
      "cell_type": "code",
      "source": [
        "# Tipo da coluna faa:\n",
        "\n",
        "df_airports.select(col('faa')).dtypes\n"
      ],
      "metadata": {
        "application/vnd.databricks.v1+cell": {
          "title": "",
          "showTitle": false,
          "inputWidgets": {},
          "nuid": "2db21a89-e11a-4400-9da2-572f9a5f27ab"
        },
        "id": "j0e_DNQhLZW9",
        "colab": {
          "base_uri": "https://localhost:8080/"
        },
        "outputId": "0842cd64-3892-4fa2-d1b0-34866852da6c"
      },
      "outputs": [
        {
          "output_type": "execute_result",
          "data": {
            "text/plain": [
              "[('faa', 'string')]"
            ]
          },
          "metadata": {},
          "execution_count": 11
        }
      ],
      "execution_count": 11
    },
    {
      "cell_type": "code",
      "source": [
        "# Retorna os dados em um Array:\n",
        "# df_airports.select(col('faa')).collect()\n"
      ],
      "metadata": {
        "id": "OMn8K2qILwQU"
      },
      "execution_count": 12,
      "outputs": []
    },
    {
      "cell_type": "code",
      "source": [
        "# Retorna um novo DataFramecontendo as linhas distintas neste DataFrame:\n",
        "\n",
        "df_airports.select(col('faa')).distinct().count()\n"
      ],
      "metadata": {
        "application/vnd.databricks.v1+cell": {
          "title": "",
          "showTitle": false,
          "inputWidgets": {},
          "nuid": "6ca65ff5-9872-47ba-99e8-69be680dc21c"
        },
        "id": "N54djxwCLZW-",
        "colab": {
          "base_uri": "https://localhost:8080/"
        },
        "outputId": "0660308a-28ae-4187-cbb3-57c7fb00ce7f"
      },
      "outputs": [
        {
          "output_type": "execute_result",
          "data": {
            "text/plain": [
              "1396"
            ]
          },
          "metadata": {},
          "execution_count": 13
        }
      ],
      "execution_count": 13
    },
    {
      "cell_type": "code",
      "source": [
        "# Retorna um novo DataFrame contendo as linhas distintas neste DataFrame:\n",
        "\n",
        "df_airports.select(col('faa')).explain()\n"
      ],
      "metadata": {
        "id": "xsJv1i1xbB7N",
        "colab": {
          "base_uri": "https://localhost:8080/"
        },
        "outputId": "8b364406-881c-4d1e-98bf-06a5e0d79fb8"
      },
      "execution_count": 14,
      "outputs": [
        {
          "output_type": "stream",
          "name": "stdout",
          "text": [
            "== Physical Plan ==\n",
            "FileScan csv [faa#17] Batched: false, DataFilters: [], Format: CSV, Location: InMemoryFileIndex(1 paths)[file:/content/airports.csv], PartitionFilters: [], PushedFilters: [], ReadSchema: struct<faa:string>\n",
            "\n",
            "\n"
          ]
        }
      ]
    },
    {
      "cell_type": "code",
      "source": [
        "# Substitui os valores nulos:\n",
        "\n",
        "df_airports.fillna('').show()\n"
      ],
      "metadata": {
        "id": "d2MlVuDeiZRW",
        "colab": {
          "base_uri": "https://localhost:8080/"
        },
        "outputId": "f8341ece-3956-45c3-fc5a-3f849b8e680a"
      },
      "execution_count": 15,
      "outputs": [
        {
          "output_type": "stream",
          "name": "stdout",
          "text": [
            "+---+--------------------+----------------+-----------------+----+---+---+\n",
            "|faa|                name|             lat|              lon| alt| tz|dst|\n",
            "+---+--------------------+----------------+-----------------+----+---+---+\n",
            "|04G|   Lansdowne Airport|      41.1304722|      -80.6195833|1044| -5|  A|\n",
            "|06A|Moton Field Munic...|      32.4605722|      -85.6800278| 264| -5|  A|\n",
            "|06C| Schaumburg Regional|      41.9893408|      -88.1012428| 801| -6|  A|\n",
            "|06N|     Randall Airport|       41.431912|      -74.3915611| 523| -5|  A|\n",
            "|09J|Jekyll Island Air...|      31.0744722|      -81.4277778|  11| -4|  A|\n",
            "|0A9|Elizabethton Muni...|      36.3712222|      -82.1734167|1593| -4|  A|\n",
            "|0G6|Williams County A...|      41.4673056|      -84.5067778| 730| -5|  A|\n",
            "|0G7|Finger Lakes Regi...|      42.8835647|      -76.7812318| 492| -5|  A|\n",
            "|0P2|Shoestring Aviati...|      39.7948244|      -76.6471914|1000| -5|  U|\n",
            "|0S9|Jefferson County ...|      48.0538086|     -122.8106436| 108| -8|  A|\n",
            "|0W3|Harford County Ai...|      39.5668378|      -76.2024028| 409| -5|  A|\n",
            "|10C|  Galt Field Airport|      42.4028889|      -88.3751111| 875| -6|  U|\n",
            "|17G|Port Bucyrus-Craw...|      40.7815556|      -82.9748056|1003| -5|  A|\n",
            "|19A|Jackson County Ai...|      34.1758638|      -83.5615972| 951| -4|  U|\n",
            "|1A3|Martin Campbell F...|      35.0158056|      -84.3468333|1789| -4|  A|\n",
            "|1B9| Mansfield Municipal|      42.0001331|      -71.1967714| 122| -5|  A|\n",
            "|1C9|Frazier Lake Airpark|54.0133333333333|-124.768333333333| 152| -8|  A|\n",
            "|1CS|Clow Internationa...|      41.6959744|      -88.1292306| 670| -6|  U|\n",
            "|1G3|  Kent State Airport|      41.1513889|      -81.4151111|1134| -4|  A|\n",
            "|1OH|     Fortman Airport|      40.5553253|      -84.3866186| 885| -5|  U|\n",
            "+---+--------------------+----------------+-----------------+----+---+---+\n",
            "only showing top 20 rows\n",
            "\n"
          ]
        }
      ]
    },
    {
      "cell_type": "code",
      "source": [
        "# Retorna um novo DataFrame omitindo linhas com valores nulos:\n",
        "\n",
        "df_airports.dropna().show()\n"
      ],
      "metadata": {
        "id": "DRJdPqKpQz3f",
        "colab": {
          "base_uri": "https://localhost:8080/"
        },
        "outputId": "27e67f70-ba25-428e-bd17-3fd17a096361"
      },
      "execution_count": 16,
      "outputs": [
        {
          "output_type": "stream",
          "name": "stdout",
          "text": [
            "+---+--------------------+----------------+-----------------+----+---+---+\n",
            "|faa|                name|             lat|              lon| alt| tz|dst|\n",
            "+---+--------------------+----------------+-----------------+----+---+---+\n",
            "|04G|   Lansdowne Airport|      41.1304722|      -80.6195833|1044| -5|  A|\n",
            "|06A|Moton Field Munic...|      32.4605722|      -85.6800278| 264| -5|  A|\n",
            "|06C| Schaumburg Regional|      41.9893408|      -88.1012428| 801| -6|  A|\n",
            "|06N|     Randall Airport|       41.431912|      -74.3915611| 523| -5|  A|\n",
            "|09J|Jekyll Island Air...|      31.0744722|      -81.4277778|  11| -4|  A|\n",
            "|0A9|Elizabethton Muni...|      36.3712222|      -82.1734167|1593| -4|  A|\n",
            "|0G6|Williams County A...|      41.4673056|      -84.5067778| 730| -5|  A|\n",
            "|0G7|Finger Lakes Regi...|      42.8835647|      -76.7812318| 492| -5|  A|\n",
            "|0P2|Shoestring Aviati...|      39.7948244|      -76.6471914|1000| -5|  U|\n",
            "|0S9|Jefferson County ...|      48.0538086|     -122.8106436| 108| -8|  A|\n",
            "|0W3|Harford County Ai...|      39.5668378|      -76.2024028| 409| -5|  A|\n",
            "|10C|  Galt Field Airport|      42.4028889|      -88.3751111| 875| -6|  U|\n",
            "|17G|Port Bucyrus-Craw...|      40.7815556|      -82.9748056|1003| -5|  A|\n",
            "|19A|Jackson County Ai...|      34.1758638|      -83.5615972| 951| -4|  U|\n",
            "|1A3|Martin Campbell F...|      35.0158056|      -84.3468333|1789| -4|  A|\n",
            "|1B9| Mansfield Municipal|      42.0001331|      -71.1967714| 122| -5|  A|\n",
            "|1C9|Frazier Lake Airpark|54.0133333333333|-124.768333333333| 152| -8|  A|\n",
            "|1CS|Clow Internationa...|      41.6959744|      -88.1292306| 670| -6|  U|\n",
            "|1G3|  Kent State Airport|      41.1513889|      -81.4151111|1134| -4|  A|\n",
            "|1OH|     Fortman Airport|      40.5553253|      -84.3866186| 885| -5|  U|\n",
            "+---+--------------------+----------------+-----------------+----+---+---+\n",
            "only showing top 20 rows\n",
            "\n"
          ]
        }
      ]
    },
    {
      "cell_type": "code",
      "source": [
        "# Função inclui contagem, média, stddev, min e max.\n",
        "# Se nenhuma coluna for fornecida, esta função calcula estatísticas para todas as colunas numéricas ou de string:\n",
        "\n",
        "df_airports.describe().show()\n"
      ],
      "metadata": {
        "id": "vsguv5HSavXe",
        "colab": {
          "base_uri": "https://localhost:8080/"
        },
        "outputId": "5540acea-8f54-4fe8-d21e-0c536d7fb3d2"
      },
      "execution_count": 17,
      "outputs": [
        {
          "output_type": "stream",
          "name": "stdout",
          "text": [
            "+-------+------------------+--------------------+------------------+------------------+------------------+------------------+----+\n",
            "|summary|               faa|                name|               lat|               lon|               alt|                tz| dst|\n",
            "+-------+------------------+--------------------+------------------+------------------+------------------+------------------+----+\n",
            "|  count|              1397|                1397|              1397|              1397|              1397|              1397|1397|\n",
            "|   mean|             141.0|                null| 41.75029635989892|-103.6891285724532|1005.9169649248389|-6.420901932712956|null|\n",
            "| stddev|197.46392075515973|                null|10.549872185047212|30.125313702028542|1521.2701426664623|1.8244027290430729|null|\n",
            "|    min|               04G|Aberdeen Regional...|         19.721375|          -176.646|               -54|               -11|   A|\n",
            "|    max|               ZYP|Zamperini Field A...|         72.270833|         174.11362|              9078|                 8|   U|\n",
            "+-------+------------------+--------------------+------------------+------------------+------------------+------------------+----+\n",
            "\n"
          ]
        }
      ]
    },
    {
      "cell_type": "markdown",
      "source": [
        "Perguntas<br>\n",
        "Considere o dataset airports.csv para realizar as seguintes tarefas:"
      ],
      "metadata": {
        "application/vnd.databricks.v1+cell": {
          "title": "",
          "showTitle": false,
          "inputWidgets": {},
          "nuid": "e097a9c0-4869-4530-b3a0-c6d1e6a5c6ee"
        },
        "id": "Kx_JVSwZLZW6"
      }
    },
    {
      "cell_type": "markdown",
      "source": [
        "1 - Crie a coluna qa_faa e aponte inconsistências da coluna faa de acordo com as regras abaixo.<br>\n",
        "M : Indica que está com dado faltante.<br>\n",
        "F : Indica que não respeita o formator de 3-5 caracteres alfanuméricos.<br>"
      ],
      "metadata": {
        "application/vnd.databricks.v1+cell": {
          "title": "",
          "showTitle": false,
          "inputWidgets": {},
          "nuid": "8d65add6-72e6-454e-b8a2-0b73fb34c665"
        },
        "id": "tTHER_JZLZW7"
      }
    },
    {
      "cell_type": "code",
      "source": [
        "df_airports_qa_faa = df_airports.withColumn('qa_faa',\n",
        "                                            expr(\"\"\"CASE \n",
        "                                                        WHEN faa LIKE '' THEN 'M'\n",
        "                                                        WHEN ((faa >= 3) OR (faa <= 5)) AND faa RLIKE '[a-zA-Z0-9]' THEN 'F'\n",
        "                                                        ELSE faa\n",
        "                                                    END\"\"\"))\n"
      ],
      "metadata": {
        "id": "OxOK3HYzNNZF"
      },
      "execution_count": 18,
      "outputs": []
    },
    {
      "cell_type": "code",
      "source": [
        "# Consulta df_airports:\n",
        "\n",
        "con_faa = df_airports.filter(df_airports.faa == '')\n",
        "con_faa.show(truncate=False)\n"
      ],
      "metadata": {
        "colab": {
          "base_uri": "https://localhost:8080/"
        },
        "id": "LZipF8rI0kHN",
        "outputId": "02f45a36-94c0-4db4-e62e-f805157cb131"
      },
      "execution_count": 19,
      "outputs": [
        {
          "output_type": "stream",
          "name": "stdout",
          "text": [
            "+---+----+---+---+---+---+---+\n",
            "|faa|name|lat|lon|alt|tz |dst|\n",
            "+---+----+---+---+---+---+---+\n",
            "+---+----+---+---+---+---+---+\n",
            "\n"
          ]
        }
      ]
    },
    {
      "cell_type": "code",
      "source": [
        "# Consulta df_airports_qa_faa:\n",
        "\n",
        "con_qa_faa = df_airports_qa_faa.filter(df_airports_qa_faa.qa_faa == \"F\")\n",
        "con_qa_faa.show(truncate=False)\n"
      ],
      "metadata": {
        "colab": {
          "base_uri": "https://localhost:8080/"
        },
        "id": "3Boi9Bx6Lzsw",
        "outputId": "c98ef134-f3fe-4f69-9c37-62c59aad5436"
      },
      "execution_count": 20,
      "outputs": [
        {
          "output_type": "stream",
          "name": "stdout",
          "text": [
            "+---+------------------+---------+-----------+---+---+---+------+\n",
            "|faa|name              |lat      |lon        |alt|tz |dst|qa_faa|\n",
            "+---+------------------+---------+-----------+---+---+---+------+\n",
            "|369|Atmautluak Airport|60.866667|-162.273056|18 |-10|A  |F     |\n",
            "+---+------------------+---------+-----------+---+---+---+------+\n",
            "\n"
          ]
        }
      ]
    },
    {
      "cell_type": "code",
      "source": [
        "# Impressão em tela:\n",
        "\n",
        "df_airports_qa_faa.show()\n"
      ],
      "metadata": {
        "colab": {
          "base_uri": "https://localhost:8080/"
        },
        "id": "-A6CF-YgL6bo",
        "outputId": "45ca5d24-aa9f-4d2e-8675-ea940cdc9531"
      },
      "execution_count": 21,
      "outputs": [
        {
          "output_type": "stream",
          "name": "stdout",
          "text": [
            "+---+--------------------+----------------+-----------------+----+---+---+------+\n",
            "|faa|                name|             lat|              lon| alt| tz|dst|qa_faa|\n",
            "+---+--------------------+----------------+-----------------+----+---+---+------+\n",
            "|04G|   Lansdowne Airport|      41.1304722|      -80.6195833|1044| -5|  A|   04G|\n",
            "|06A|Moton Field Munic...|      32.4605722|      -85.6800278| 264| -5|  A|   06A|\n",
            "|06C| Schaumburg Regional|      41.9893408|      -88.1012428| 801| -6|  A|   06C|\n",
            "|06N|     Randall Airport|       41.431912|      -74.3915611| 523| -5|  A|   06N|\n",
            "|09J|Jekyll Island Air...|      31.0744722|      -81.4277778|  11| -4|  A|   09J|\n",
            "|0A9|Elizabethton Muni...|      36.3712222|      -82.1734167|1593| -4|  A|   0A9|\n",
            "|0G6|Williams County A...|      41.4673056|      -84.5067778| 730| -5|  A|   0G6|\n",
            "|0G7|Finger Lakes Regi...|      42.8835647|      -76.7812318| 492| -5|  A|   0G7|\n",
            "|0P2|Shoestring Aviati...|      39.7948244|      -76.6471914|1000| -5|  U|   0P2|\n",
            "|0S9|Jefferson County ...|      48.0538086|     -122.8106436| 108| -8|  A|   0S9|\n",
            "|0W3|Harford County Ai...|      39.5668378|      -76.2024028| 409| -5|  A|   0W3|\n",
            "|10C|  Galt Field Airport|      42.4028889|      -88.3751111| 875| -6|  U|   10C|\n",
            "|17G|Port Bucyrus-Craw...|      40.7815556|      -82.9748056|1003| -5|  A|   17G|\n",
            "|19A|Jackson County Ai...|      34.1758638|      -83.5615972| 951| -4|  U|   19A|\n",
            "|1A3|Martin Campbell F...|      35.0158056|      -84.3468333|1789| -4|  A|   1A3|\n",
            "|1B9| Mansfield Municipal|      42.0001331|      -71.1967714| 122| -5|  A|   1B9|\n",
            "|1C9|Frazier Lake Airpark|54.0133333333333|-124.768333333333| 152| -8|  A|   1C9|\n",
            "|1CS|Clow Internationa...|      41.6959744|      -88.1292306| 670| -6|  U|   1CS|\n",
            "|1G3|  Kent State Airport|      41.1513889|      -81.4151111|1134| -4|  A|   1G3|\n",
            "|1OH|     Fortman Airport|      40.5553253|      -84.3866186| 885| -5|  U|   1OH|\n",
            "+---+--------------------+----------------+-----------------+----+---+---+------+\n",
            "only showing top 20 rows\n",
            "\n"
          ]
        }
      ]
    },
    {
      "cell_type": "markdown",
      "source": [
        "2 - Crie a coluna qa_name e aponte inconsistências da coluna name de acordo com as regras abaixo.<br>\n",
        "M : Indica que está com dado faltante."
      ],
      "metadata": {
        "application/vnd.databricks.v1+cell": {
          "title": "",
          "showTitle": false,
          "inputWidgets": {},
          "nuid": "e3aa2467-9a3f-44e4-b8e3-3dcd8c0e982b"
        },
        "id": "rsEfUnfsLZXA"
      }
    },
    {
      "cell_type": "code",
      "source": [
        "df_airports_qa_name = df_airports.withColumn('qa_name',\n",
        "                                            expr(\"\"\"CASE \n",
        "                                                        WHEN name LIKE '' THEN 'M'\n",
        "                                                        ELSE name\n",
        "                                                    END\"\"\"))\n"
      ],
      "metadata": {
        "id": "z8wyMpZxiI6M"
      },
      "execution_count": 22,
      "outputs": []
    },
    {
      "cell_type": "code",
      "source": [
        "# Consulta df_airports:\n",
        "\n",
        "con_name = df_airports.filter(df_airports.name == '')\n",
        "con_name.show(truncate=False)\n"
      ],
      "metadata": {
        "colab": {
          "base_uri": "https://localhost:8080/"
        },
        "id": "scc85SDD1NXJ",
        "outputId": "acf4056f-c03c-4ea1-e4d1-ab38ce3f7a2e"
      },
      "execution_count": 23,
      "outputs": [
        {
          "output_type": "stream",
          "name": "stdout",
          "text": [
            "+---+----+---+---+---+---+---+\n",
            "|faa|name|lat|lon|alt|tz |dst|\n",
            "+---+----+---+---+---+---+---+\n",
            "+---+----+---+---+---+---+---+\n",
            "\n"
          ]
        }
      ]
    },
    {
      "cell_type": "code",
      "source": [
        "# Consulta df_airports_qa_name:\n",
        "\n",
        "con_qa_name = df_airports_qa_name.filter(df_airports_qa_name.qa_name == \"M\")\n",
        "con_qa_name.show(truncate=False)\n"
      ],
      "metadata": {
        "colab": {
          "base_uri": "https://localhost:8080/"
        },
        "id": "iQza6DDtMGyD",
        "outputId": "5a5d5858-8786-403c-c658-0a09dcf902f7"
      },
      "execution_count": 24,
      "outputs": [
        {
          "output_type": "stream",
          "name": "stdout",
          "text": [
            "+---+----+---+---+---+---+---+-------+\n",
            "|faa|name|lat|lon|alt|tz |dst|qa_name|\n",
            "+---+----+---+---+---+---+---+-------+\n",
            "+---+----+---+---+---+---+---+-------+\n",
            "\n"
          ]
        }
      ]
    },
    {
      "cell_type": "code",
      "source": [
        "# Impressão em tela:\n",
        "\n",
        "df_airports_qa_name.show()\n"
      ],
      "metadata": {
        "colab": {
          "base_uri": "https://localhost:8080/"
        },
        "id": "ldZTCy4vMKyZ",
        "outputId": "1792321d-6a0b-400c-c0b8-035512379f92"
      },
      "execution_count": 25,
      "outputs": [
        {
          "output_type": "stream",
          "name": "stdout",
          "text": [
            "+---+--------------------+----------------+-----------------+----+---+---+--------------------+\n",
            "|faa|                name|             lat|              lon| alt| tz|dst|             qa_name|\n",
            "+---+--------------------+----------------+-----------------+----+---+---+--------------------+\n",
            "|04G|   Lansdowne Airport|      41.1304722|      -80.6195833|1044| -5|  A|   Lansdowne Airport|\n",
            "|06A|Moton Field Munic...|      32.4605722|      -85.6800278| 264| -5|  A|Moton Field Munic...|\n",
            "|06C| Schaumburg Regional|      41.9893408|      -88.1012428| 801| -6|  A| Schaumburg Regional|\n",
            "|06N|     Randall Airport|       41.431912|      -74.3915611| 523| -5|  A|     Randall Airport|\n",
            "|09J|Jekyll Island Air...|      31.0744722|      -81.4277778|  11| -4|  A|Jekyll Island Air...|\n",
            "|0A9|Elizabethton Muni...|      36.3712222|      -82.1734167|1593| -4|  A|Elizabethton Muni...|\n",
            "|0G6|Williams County A...|      41.4673056|      -84.5067778| 730| -5|  A|Williams County A...|\n",
            "|0G7|Finger Lakes Regi...|      42.8835647|      -76.7812318| 492| -5|  A|Finger Lakes Regi...|\n",
            "|0P2|Shoestring Aviati...|      39.7948244|      -76.6471914|1000| -5|  U|Shoestring Aviati...|\n",
            "|0S9|Jefferson County ...|      48.0538086|     -122.8106436| 108| -8|  A|Jefferson County ...|\n",
            "|0W3|Harford County Ai...|      39.5668378|      -76.2024028| 409| -5|  A|Harford County Ai...|\n",
            "|10C|  Galt Field Airport|      42.4028889|      -88.3751111| 875| -6|  U|  Galt Field Airport|\n",
            "|17G|Port Bucyrus-Craw...|      40.7815556|      -82.9748056|1003| -5|  A|Port Bucyrus-Craw...|\n",
            "|19A|Jackson County Ai...|      34.1758638|      -83.5615972| 951| -4|  U|Jackson County Ai...|\n",
            "|1A3|Martin Campbell F...|      35.0158056|      -84.3468333|1789| -4|  A|Martin Campbell F...|\n",
            "|1B9| Mansfield Municipal|      42.0001331|      -71.1967714| 122| -5|  A| Mansfield Municipal|\n",
            "|1C9|Frazier Lake Airpark|54.0133333333333|-124.768333333333| 152| -8|  A|Frazier Lake Airpark|\n",
            "|1CS|Clow Internationa...|      41.6959744|      -88.1292306| 670| -6|  U|Clow Internationa...|\n",
            "|1G3|  Kent State Airport|      41.1513889|      -81.4151111|1134| -4|  A|  Kent State Airport|\n",
            "|1OH|     Fortman Airport|      40.5553253|      -84.3866186| 885| -5|  U|     Fortman Airport|\n",
            "+---+--------------------+----------------+-----------------+----+---+---+--------------------+\n",
            "only showing top 20 rows\n",
            "\n"
          ]
        }
      ]
    },
    {
      "cell_type": "markdown",
      "source": [
        "3 - Crie a coluna qa_lat e aponte inconsistências da coluna lat de acordo com as regras abaixo.<br>\n",
        "M : Indica que está com dado faltante.<br>\n",
        "I : Indica que o valor excede o intervalo [-180, 180].<br>\n",
        "A : Indica que o valor é alfanumérico."
      ],
      "metadata": {
        "application/vnd.databricks.v1+cell": {
          "title": "",
          "showTitle": false,
          "inputWidgets": {},
          "nuid": "b0655bbd-536c-491b-8ce1-66ca322efbb7"
        },
        "id": "fr-p_RORLZXB"
      }
    },
    {
      "cell_type": "code",
      "source": [
        "df_airports_qa_lat = df_airports.withColumn('qa_lat',\n",
        "                                            expr(\"\"\"CASE\n",
        "                                                  WHEN lat LIKE '' THEN 'M'\n",
        "                                                  WHEN (lat <= -180) OR (lat >= 180) THEN 'I'\n",
        "                                                  WHEN lat RLIKE '[a-zA-Z0-9]' THEN 'A'\n",
        "                                                  ELSE lat\n",
        "                                                END\"\"\"))\n"
      ],
      "metadata": {
        "id": "jiqw7SZXltTj"
      },
      "execution_count": 26,
      "outputs": []
    },
    {
      "cell_type": "code",
      "source": [
        "# Consulta df_airports:\n",
        "\n",
        "con_lat = df_airports.filter((df_airports.lat <= -180) | (df_airports.lat >= 180))\n",
        "con_lat.show(truncate=False)\n"
      ],
      "metadata": {
        "colab": {
          "base_uri": "https://localhost:8080/"
        },
        "id": "mthpj_051nH0",
        "outputId": "34506fdb-cf6b-4f6f-e9d1-a824d57f1570"
      },
      "execution_count": 27,
      "outputs": [
        {
          "output_type": "stream",
          "name": "stdout",
          "text": [
            "+---+----+---+---+---+---+---+\n",
            "|faa|name|lat|lon|alt|tz |dst|\n",
            "+---+----+---+---+---+---+---+\n",
            "+---+----+---+---+---+---+---+\n",
            "\n"
          ]
        }
      ]
    },
    {
      "cell_type": "code",
      "source": [
        "# Consulta df_airports_qa_lat:\n",
        "\n",
        "com_qa_lat = df_airports_qa_lat.filter(df_airports_qa_lat.qa_lat == \"A\")\n",
        "com_qa_lat.show(truncate=False)\n"
      ],
      "metadata": {
        "colab": {
          "base_uri": "https://localhost:8080/"
        },
        "id": "Zq9ehc_GMabR",
        "outputId": "02310de3-59c0-4459-9330-e123f7201cfb"
      },
      "execution_count": 28,
      "outputs": [
        {
          "output_type": "stream",
          "name": "stdout",
          "text": [
            "+---+------------------------------------+----------------+-----------------+----+---+---+------+\n",
            "|faa|name                                |lat             |lon              |alt |tz |dst|qa_lat|\n",
            "+---+------------------------------------+----------------+-----------------+----+---+---+------+\n",
            "|04G|Lansdowne Airport                   |41.1304722      |-80.6195833      |1044|-5 |A  |A     |\n",
            "|06A|Moton Field Municipal Airport       |32.4605722      |-85.6800278      |264 |-5 |A  |A     |\n",
            "|06C|Schaumburg Regional                 |41.9893408      |-88.1012428      |801 |-6 |A  |A     |\n",
            "|06N|Randall Airport                     |41.431912       |-74.3915611      |523 |-5 |A  |A     |\n",
            "|09J|Jekyll Island Airport               |31.0744722      |-81.4277778      |11  |-4 |A  |A     |\n",
            "|0A9|Elizabethton Municipal Airport      |36.3712222      |-82.1734167      |1593|-4 |A  |A     |\n",
            "|0G6|Williams County Airport             |41.4673056      |-84.5067778      |730 |-5 |A  |A     |\n",
            "|0G7|Finger Lakes Regional Airport       |42.8835647      |-76.7812318      |492 |-5 |A  |A     |\n",
            "|0P2|Shoestring Aviation Airfield        |39.7948244      |-76.6471914      |1000|-5 |U  |A     |\n",
            "|0S9|Jefferson County Intl               |48.0538086      |-122.8106436     |108 |-8 |A  |A     |\n",
            "|0W3|Harford County Airport              |39.5668378      |-76.2024028      |409 |-5 |A  |A     |\n",
            "|10C|Galt Field Airport                  |42.4028889      |-88.3751111      |875 |-6 |U  |A     |\n",
            "|17G|Port Bucyrus-Crawford County Airport|40.7815556      |-82.9748056      |1003|-5 |A  |A     |\n",
            "|19A|Jackson County Airport              |34.1758638      |-83.5615972      |951 |-4 |U  |A     |\n",
            "|1A3|Martin Campbell Field Airport       |35.0158056      |-84.3468333      |1789|-4 |A  |A     |\n",
            "|1B9|Mansfield Municipal                 |42.0001331      |-71.1967714      |122 |-5 |A  |A     |\n",
            "|1C9|Frazier Lake Airpark                |54.0133333333333|-124.768333333333|152 |-8 |A  |A     |\n",
            "|1CS|Clow International Airport          |41.6959744      |-88.1292306      |670 |-6 |U  |A     |\n",
            "|1G3|Kent State Airport                  |41.1513889      |-81.4151111      |1134|-4 |A  |A     |\n",
            "|1OH|Fortman Airport                     |40.5553253      |-84.3866186      |885 |-5 |U  |A     |\n",
            "+---+------------------------------------+----------------+-----------------+----+---+---+------+\n",
            "only showing top 20 rows\n",
            "\n"
          ]
        }
      ]
    },
    {
      "cell_type": "code",
      "source": [
        "# Impressão em tela:\n",
        "\n",
        "df_airports_qa_lat.show()\n"
      ],
      "metadata": {
        "colab": {
          "base_uri": "https://localhost:8080/"
        },
        "id": "Iev05EAsMa3Z",
        "outputId": "a3e2cf16-80d7-4e0d-f5a3-6d259782ae2c"
      },
      "execution_count": 29,
      "outputs": [
        {
          "output_type": "stream",
          "name": "stdout",
          "text": [
            "+---+--------------------+----------------+-----------------+----+---+---+------+\n",
            "|faa|                name|             lat|              lon| alt| tz|dst|qa_lat|\n",
            "+---+--------------------+----------------+-----------------+----+---+---+------+\n",
            "|04G|   Lansdowne Airport|      41.1304722|      -80.6195833|1044| -5|  A|     A|\n",
            "|06A|Moton Field Munic...|      32.4605722|      -85.6800278| 264| -5|  A|     A|\n",
            "|06C| Schaumburg Regional|      41.9893408|      -88.1012428| 801| -6|  A|     A|\n",
            "|06N|     Randall Airport|       41.431912|      -74.3915611| 523| -5|  A|     A|\n",
            "|09J|Jekyll Island Air...|      31.0744722|      -81.4277778|  11| -4|  A|     A|\n",
            "|0A9|Elizabethton Muni...|      36.3712222|      -82.1734167|1593| -4|  A|     A|\n",
            "|0G6|Williams County A...|      41.4673056|      -84.5067778| 730| -5|  A|     A|\n",
            "|0G7|Finger Lakes Regi...|      42.8835647|      -76.7812318| 492| -5|  A|     A|\n",
            "|0P2|Shoestring Aviati...|      39.7948244|      -76.6471914|1000| -5|  U|     A|\n",
            "|0S9|Jefferson County ...|      48.0538086|     -122.8106436| 108| -8|  A|     A|\n",
            "|0W3|Harford County Ai...|      39.5668378|      -76.2024028| 409| -5|  A|     A|\n",
            "|10C|  Galt Field Airport|      42.4028889|      -88.3751111| 875| -6|  U|     A|\n",
            "|17G|Port Bucyrus-Craw...|      40.7815556|      -82.9748056|1003| -5|  A|     A|\n",
            "|19A|Jackson County Ai...|      34.1758638|      -83.5615972| 951| -4|  U|     A|\n",
            "|1A3|Martin Campbell F...|      35.0158056|      -84.3468333|1789| -4|  A|     A|\n",
            "|1B9| Mansfield Municipal|      42.0001331|      -71.1967714| 122| -5|  A|     A|\n",
            "|1C9|Frazier Lake Airpark|54.0133333333333|-124.768333333333| 152| -8|  A|     A|\n",
            "|1CS|Clow Internationa...|      41.6959744|      -88.1292306| 670| -6|  U|     A|\n",
            "|1G3|  Kent State Airport|      41.1513889|      -81.4151111|1134| -4|  A|     A|\n",
            "|1OH|     Fortman Airport|      40.5553253|      -84.3866186| 885| -5|  U|     A|\n",
            "+---+--------------------+----------------+-----------------+----+---+---+------+\n",
            "only showing top 20 rows\n",
            "\n"
          ]
        }
      ]
    },
    {
      "cell_type": "markdown",
      "source": [
        "4 - Crie a coluna qa_lon e aponte inconsistências da coluna lon de acordo com as regras abaixo.<br>\n",
        "M : Indica que está com dado faltante.<br>\n",
        "I : Indica que o valor excede o intervalo [-180, 180].<br>\n",
        "A : Indica que o valor é alfanumérico."
      ],
      "metadata": {
        "application/vnd.databricks.v1+cell": {
          "title": "",
          "showTitle": false,
          "inputWidgets": {},
          "nuid": "655a6c26-1f63-478f-b596-f79bfde6d07d"
        },
        "id": "IFESP0LALZXC"
      }
    },
    {
      "cell_type": "code",
      "source": [
        "df_airports_qa_lon = df_airports.withColumn('qa_lon',\n",
        "                                            expr(\"\"\"CASE \n",
        "                                                        WHEN lon LIKE '' THEN 'M'\n",
        "                                                        WHEN (lon <= -180) OR (lon >= 180) THEN 'I'\n",
        "                                                        WHEN lon RLIKE '[a-zA-Z0-9]' THEN 'A'\n",
        "                                                        ELSE lon\n",
        "                                                    END\"\"\"))\n"
      ],
      "metadata": {
        "id": "8ZKbOLVxmUCr"
      },
      "execution_count": 30,
      "outputs": []
    },
    {
      "cell_type": "code",
      "source": [
        "# Consulta df_airports:\n",
        "\n",
        "con_lon = df_airports.filter(df_airports.lon == df_airports.lon.rlike('a-zA-Z0-9'))\n",
        "con_lon.show(truncate=False)\n"
      ],
      "metadata": {
        "colab": {
          "base_uri": "https://localhost:8080/"
        },
        "id": "mStOuy0L19i_",
        "outputId": "d7a67715-6fd9-4361-ad7a-dcdaa06020aa"
      },
      "execution_count": 31,
      "outputs": [
        {
          "output_type": "stream",
          "name": "stdout",
          "text": [
            "+---+----+---+---+---+---+---+\n",
            "|faa|name|lat|lon|alt|tz |dst|\n",
            "+---+----+---+---+---+---+---+\n",
            "+---+----+---+---+---+---+---+\n",
            "\n"
          ]
        }
      ]
    },
    {
      "cell_type": "code",
      "source": [
        "# Consulta df_airports_qa_lon:\n",
        "\n",
        "con_qa_lon = df_airports_qa_lon.filter(df_airports_qa_lon.qa_lon == \"M\")\n",
        "con_qa_lon.show(truncate=False)\n"
      ],
      "metadata": {
        "colab": {
          "base_uri": "https://localhost:8080/"
        },
        "id": "lWGKoZueMnj-",
        "outputId": "ad62c41c-242a-4c5c-dcf7-57dcd09f6680"
      },
      "execution_count": 32,
      "outputs": [
        {
          "output_type": "stream",
          "name": "stdout",
          "text": [
            "+---+----+---+---+---+---+---+------+\n",
            "|faa|name|lat|lon|alt|tz |dst|qa_lon|\n",
            "+---+----+---+---+---+---+---+------+\n",
            "+---+----+---+---+---+---+---+------+\n",
            "\n"
          ]
        }
      ]
    },
    {
      "cell_type": "code",
      "source": [
        "# Impressão em tela:\n",
        "\n",
        "df_airports_qa_lon.show()\n"
      ],
      "metadata": {
        "colab": {
          "base_uri": "https://localhost:8080/"
        },
        "id": "OeZi399yMo3I",
        "outputId": "1210593c-9e95-4721-8578-2049ddee2cd5"
      },
      "execution_count": 33,
      "outputs": [
        {
          "output_type": "stream",
          "name": "stdout",
          "text": [
            "+---+--------------------+----------------+-----------------+----+---+---+------+\n",
            "|faa|                name|             lat|              lon| alt| tz|dst|qa_lon|\n",
            "+---+--------------------+----------------+-----------------+----+---+---+------+\n",
            "|04G|   Lansdowne Airport|      41.1304722|      -80.6195833|1044| -5|  A|     A|\n",
            "|06A|Moton Field Munic...|      32.4605722|      -85.6800278| 264| -5|  A|     A|\n",
            "|06C| Schaumburg Regional|      41.9893408|      -88.1012428| 801| -6|  A|     A|\n",
            "|06N|     Randall Airport|       41.431912|      -74.3915611| 523| -5|  A|     A|\n",
            "|09J|Jekyll Island Air...|      31.0744722|      -81.4277778|  11| -4|  A|     A|\n",
            "|0A9|Elizabethton Muni...|      36.3712222|      -82.1734167|1593| -4|  A|     A|\n",
            "|0G6|Williams County A...|      41.4673056|      -84.5067778| 730| -5|  A|     A|\n",
            "|0G7|Finger Lakes Regi...|      42.8835647|      -76.7812318| 492| -5|  A|     A|\n",
            "|0P2|Shoestring Aviati...|      39.7948244|      -76.6471914|1000| -5|  U|     A|\n",
            "|0S9|Jefferson County ...|      48.0538086|     -122.8106436| 108| -8|  A|     A|\n",
            "|0W3|Harford County Ai...|      39.5668378|      -76.2024028| 409| -5|  A|     A|\n",
            "|10C|  Galt Field Airport|      42.4028889|      -88.3751111| 875| -6|  U|     A|\n",
            "|17G|Port Bucyrus-Craw...|      40.7815556|      -82.9748056|1003| -5|  A|     A|\n",
            "|19A|Jackson County Ai...|      34.1758638|      -83.5615972| 951| -4|  U|     A|\n",
            "|1A3|Martin Campbell F...|      35.0158056|      -84.3468333|1789| -4|  A|     A|\n",
            "|1B9| Mansfield Municipal|      42.0001331|      -71.1967714| 122| -5|  A|     A|\n",
            "|1C9|Frazier Lake Airpark|54.0133333333333|-124.768333333333| 152| -8|  A|     A|\n",
            "|1CS|Clow Internationa...|      41.6959744|      -88.1292306| 670| -6|  U|     A|\n",
            "|1G3|  Kent State Airport|      41.1513889|      -81.4151111|1134| -4|  A|     A|\n",
            "|1OH|     Fortman Airport|      40.5553253|      -84.3866186| 885| -5|  U|     A|\n",
            "+---+--------------------+----------------+-----------------+----+---+---+------+\n",
            "only showing top 20 rows\n",
            "\n"
          ]
        }
      ]
    },
    {
      "cell_type": "markdown",
      "source": [
        "5 - Crie a coluna qa_alt e aponte inconsistências da coluna alt de acordo com as regras abaixo.<br>\n",
        "M : Indica que está com dado faltante.<br>\n",
        "I : Indica que o valor excede o intervalo [0,+∞).<br>\n",
        "A : Indica que o valor é alfanumérico.<br>"
      ],
      "metadata": {
        "application/vnd.databricks.v1+cell": {
          "title": "",
          "showTitle": false,
          "inputWidgets": {},
          "nuid": "fddab5d8-c319-4cec-bf42-8492c65a1d90"
        },
        "id": "W058IVN3LZXD"
      }
    },
    {
      "cell_type": "code",
      "source": [
        "df_airports_qa_alt = df_airports.withColumn('qa_alt',\n",
        "                                            expr(\"\"\"CASE\n",
        "                                                  WHEN alt LIKE '' THEN 'M'\n",
        "                                                  WHEN (alt > 0) THEN 'I'\n",
        "                                                  WHEN alt RLIKE '[a-zA-Z0-9]' THEN 'A'\n",
        "                                                  ELSE alt\n",
        "                                                END\"\"\"))\n"
      ],
      "metadata": {
        "id": "VsMzDnZ3pONe"
      },
      "execution_count": 34,
      "outputs": []
    },
    {
      "cell_type": "code",
      "source": [
        "# Consulta df_airports:\n",
        "\n",
        "con_alt = df_airports.filter(df_airports.alt > 0)\n",
        "con_alt.show(truncate=False)\n"
      ],
      "metadata": {
        "colab": {
          "base_uri": "https://localhost:8080/"
        },
        "id": "qoSYyjnK3lq9",
        "outputId": "10a5a5eb-9e9a-415d-c25c-05b93fd58bfe"
      },
      "execution_count": 35,
      "outputs": [
        {
          "output_type": "stream",
          "name": "stdout",
          "text": [
            "+---+------------------------------------+----------------+-----------------+----+---+---+\n",
            "|faa|name                                |lat             |lon              |alt |tz |dst|\n",
            "+---+------------------------------------+----------------+-----------------+----+---+---+\n",
            "|04G|Lansdowne Airport                   |41.1304722      |-80.6195833      |1044|-5 |A  |\n",
            "|06A|Moton Field Municipal Airport       |32.4605722      |-85.6800278      |264 |-5 |A  |\n",
            "|06C|Schaumburg Regional                 |41.9893408      |-88.1012428      |801 |-6 |A  |\n",
            "|06N|Randall Airport                     |41.431912       |-74.3915611      |523 |-5 |A  |\n",
            "|09J|Jekyll Island Airport               |31.0744722      |-81.4277778      |11  |-4 |A  |\n",
            "|0A9|Elizabethton Municipal Airport      |36.3712222      |-82.1734167      |1593|-4 |A  |\n",
            "|0G6|Williams County Airport             |41.4673056      |-84.5067778      |730 |-5 |A  |\n",
            "|0G7|Finger Lakes Regional Airport       |42.8835647      |-76.7812318      |492 |-5 |A  |\n",
            "|0P2|Shoestring Aviation Airfield        |39.7948244      |-76.6471914      |1000|-5 |U  |\n",
            "|0S9|Jefferson County Intl               |48.0538086      |-122.8106436     |108 |-8 |A  |\n",
            "|0W3|Harford County Airport              |39.5668378      |-76.2024028      |409 |-5 |A  |\n",
            "|10C|Galt Field Airport                  |42.4028889      |-88.3751111      |875 |-6 |U  |\n",
            "|17G|Port Bucyrus-Crawford County Airport|40.7815556      |-82.9748056      |1003|-5 |A  |\n",
            "|19A|Jackson County Airport              |34.1758638      |-83.5615972      |951 |-4 |U  |\n",
            "|1A3|Martin Campbell Field Airport       |35.0158056      |-84.3468333      |1789|-4 |A  |\n",
            "|1B9|Mansfield Municipal                 |42.0001331      |-71.1967714      |122 |-5 |A  |\n",
            "|1C9|Frazier Lake Airpark                |54.0133333333333|-124.768333333333|152 |-8 |A  |\n",
            "|1CS|Clow International Airport          |41.6959744      |-88.1292306      |670 |-6 |U  |\n",
            "|1G3|Kent State Airport                  |41.1513889      |-81.4151111      |1134|-4 |A  |\n",
            "|1OH|Fortman Airport                     |40.5553253      |-84.3866186      |885 |-5 |U  |\n",
            "+---+------------------------------------+----------------+-----------------+----+---+---+\n",
            "only showing top 20 rows\n",
            "\n"
          ]
        }
      ]
    },
    {
      "cell_type": "code",
      "source": [
        "# Consulta df_airports_qa_alt:\n",
        "\n",
        "con_qa_alt = df_airports_qa_alt.filter(df_airports_qa_alt.qa_alt == \"I\")\n",
        "con_qa_alt.show(truncate=False)\n"
      ],
      "metadata": {
        "colab": {
          "base_uri": "https://localhost:8080/"
        },
        "id": "K2B4WrgiM18T",
        "outputId": "1d959bcb-8a1c-4c94-a067-9c258733cee5"
      },
      "execution_count": 36,
      "outputs": [
        {
          "output_type": "stream",
          "name": "stdout",
          "text": [
            "+---+------------------------------------+----------------+-----------------+----+---+---+------+\n",
            "|faa|name                                |lat             |lon              |alt |tz |dst|qa_alt|\n",
            "+---+------------------------------------+----------------+-----------------+----+---+---+------+\n",
            "|04G|Lansdowne Airport                   |41.1304722      |-80.6195833      |1044|-5 |A  |I     |\n",
            "|06A|Moton Field Municipal Airport       |32.4605722      |-85.6800278      |264 |-5 |A  |I     |\n",
            "|06C|Schaumburg Regional                 |41.9893408      |-88.1012428      |801 |-6 |A  |I     |\n",
            "|06N|Randall Airport                     |41.431912       |-74.3915611      |523 |-5 |A  |I     |\n",
            "|09J|Jekyll Island Airport               |31.0744722      |-81.4277778      |11  |-4 |A  |I     |\n",
            "|0A9|Elizabethton Municipal Airport      |36.3712222      |-82.1734167      |1593|-4 |A  |I     |\n",
            "|0G6|Williams County Airport             |41.4673056      |-84.5067778      |730 |-5 |A  |I     |\n",
            "|0G7|Finger Lakes Regional Airport       |42.8835647      |-76.7812318      |492 |-5 |A  |I     |\n",
            "|0P2|Shoestring Aviation Airfield        |39.7948244      |-76.6471914      |1000|-5 |U  |I     |\n",
            "|0S9|Jefferson County Intl               |48.0538086      |-122.8106436     |108 |-8 |A  |I     |\n",
            "|0W3|Harford County Airport              |39.5668378      |-76.2024028      |409 |-5 |A  |I     |\n",
            "|10C|Galt Field Airport                  |42.4028889      |-88.3751111      |875 |-6 |U  |I     |\n",
            "|17G|Port Bucyrus-Crawford County Airport|40.7815556      |-82.9748056      |1003|-5 |A  |I     |\n",
            "|19A|Jackson County Airport              |34.1758638      |-83.5615972      |951 |-4 |U  |I     |\n",
            "|1A3|Martin Campbell Field Airport       |35.0158056      |-84.3468333      |1789|-4 |A  |I     |\n",
            "|1B9|Mansfield Municipal                 |42.0001331      |-71.1967714      |122 |-5 |A  |I     |\n",
            "|1C9|Frazier Lake Airpark                |54.0133333333333|-124.768333333333|152 |-8 |A  |I     |\n",
            "|1CS|Clow International Airport          |41.6959744      |-88.1292306      |670 |-6 |U  |I     |\n",
            "|1G3|Kent State Airport                  |41.1513889      |-81.4151111      |1134|-4 |A  |I     |\n",
            "|1OH|Fortman Airport                     |40.5553253      |-84.3866186      |885 |-5 |U  |I     |\n",
            "+---+------------------------------------+----------------+-----------------+----+---+---+------+\n",
            "only showing top 20 rows\n",
            "\n"
          ]
        }
      ]
    },
    {
      "cell_type": "code",
      "source": [
        "# Impressão em tela:\n",
        "\n",
        "df_airports_qa_alt.show()\n"
      ],
      "metadata": {
        "colab": {
          "base_uri": "https://localhost:8080/"
        },
        "id": "myR1BrXIM2yx",
        "outputId": "7b20fd14-7491-4d81-fd74-4f91fe5fec6d"
      },
      "execution_count": 37,
      "outputs": [
        {
          "output_type": "stream",
          "name": "stdout",
          "text": [
            "+---+--------------------+----------------+-----------------+----+---+---+------+\n",
            "|faa|                name|             lat|              lon| alt| tz|dst|qa_alt|\n",
            "+---+--------------------+----------------+-----------------+----+---+---+------+\n",
            "|04G|   Lansdowne Airport|      41.1304722|      -80.6195833|1044| -5|  A|     I|\n",
            "|06A|Moton Field Munic...|      32.4605722|      -85.6800278| 264| -5|  A|     I|\n",
            "|06C| Schaumburg Regional|      41.9893408|      -88.1012428| 801| -6|  A|     I|\n",
            "|06N|     Randall Airport|       41.431912|      -74.3915611| 523| -5|  A|     I|\n",
            "|09J|Jekyll Island Air...|      31.0744722|      -81.4277778|  11| -4|  A|     I|\n",
            "|0A9|Elizabethton Muni...|      36.3712222|      -82.1734167|1593| -4|  A|     I|\n",
            "|0G6|Williams County A...|      41.4673056|      -84.5067778| 730| -5|  A|     I|\n",
            "|0G7|Finger Lakes Regi...|      42.8835647|      -76.7812318| 492| -5|  A|     I|\n",
            "|0P2|Shoestring Aviati...|      39.7948244|      -76.6471914|1000| -5|  U|     I|\n",
            "|0S9|Jefferson County ...|      48.0538086|     -122.8106436| 108| -8|  A|     I|\n",
            "|0W3|Harford County Ai...|      39.5668378|      -76.2024028| 409| -5|  A|     I|\n",
            "|10C|  Galt Field Airport|      42.4028889|      -88.3751111| 875| -6|  U|     I|\n",
            "|17G|Port Bucyrus-Craw...|      40.7815556|      -82.9748056|1003| -5|  A|     I|\n",
            "|19A|Jackson County Ai...|      34.1758638|      -83.5615972| 951| -4|  U|     I|\n",
            "|1A3|Martin Campbell F...|      35.0158056|      -84.3468333|1789| -4|  A|     I|\n",
            "|1B9| Mansfield Municipal|      42.0001331|      -71.1967714| 122| -5|  A|     I|\n",
            "|1C9|Frazier Lake Airpark|54.0133333333333|-124.768333333333| 152| -8|  A|     I|\n",
            "|1CS|Clow Internationa...|      41.6959744|      -88.1292306| 670| -6|  U|     I|\n",
            "|1G3|  Kent State Airport|      41.1513889|      -81.4151111|1134| -4|  A|     I|\n",
            "|1OH|     Fortman Airport|      40.5553253|      -84.3866186| 885| -5|  U|     I|\n",
            "+---+--------------------+----------------+-----------------+----+---+---+------+\n",
            "only showing top 20 rows\n",
            "\n"
          ]
        }
      ]
    },
    {
      "cell_type": "markdown",
      "source": [
        "6 - Crie a coluna qa_tz e aponte inconsistências da coluna tz de acordo com as regras abaixo.<br>\n",
        "M : Indica que está com dado faltante.<br>\n",
        "I : Indica que o valor excede o intervalo [-11, +14].<br>\n",
        "A : Indica que o valor é alfanumérico."
      ],
      "metadata": {
        "application/vnd.databricks.v1+cell": {
          "title": "",
          "showTitle": false,
          "inputWidgets": {},
          "nuid": "19b9f23f-9ba4-43e2-88d3-63123c38163a"
        },
        "id": "YMII4B2bLZXE"
      }
    },
    {
      "cell_type": "code",
      "source": [
        "df_airports_qa_tz = df_airports.withColumn('qa_tz',\n",
        "                                            expr(\"\"\"CASE \n",
        "                                                        WHEN tz LIKE '' THEN 'M'\n",
        "                                                        WHEN (tz <= -11) OR (tz >= 14) THEN 'I'\n",
        "                                                        WHEN tz RLIKE '[a-zA-Z0-9]' THEN 'A'\n",
        "                                                        ELSE tz\n",
        "                                                    END\"\"\"))\n"
      ],
      "metadata": {
        "id": "vC7LDIXcpSL0"
      },
      "execution_count": 38,
      "outputs": []
    },
    {
      "cell_type": "code",
      "source": [
        "# Consulta df_airports:\n",
        "\n",
        "con_tz = df_airports.filter((df_airports.tz <= -11) | (df_airports.tz >= 14))\n",
        "con_tz.show(truncate=False)\n"
      ],
      "metadata": {
        "colab": {
          "base_uri": "https://localhost:8080/"
        },
        "id": "H5_IA2UU4OLu",
        "outputId": "bdea9f53-3562-4a0e-f36b-3ccd6754fd0e"
      },
      "execution_count": 39,
      "outputs": [
        {
          "output_type": "stream",
          "name": "stdout",
          "text": [
            "+---+--------------+---------+-----------+---+---+---+\n",
            "|faa|name          |lat      |lon        |alt|tz |dst|\n",
            "+---+--------------+---------+-----------+---+---+---+\n",
            "|PBV|St George     |56.578344|-169.661611|125|-11|A  |\n",
            "|SNP|St Paul Island|57.167333|-170.220444|63 |-11|A  |\n",
            "+---+--------------+---------+-----------+---+---+---+\n",
            "\n"
          ]
        }
      ]
    },
    {
      "cell_type": "code",
      "source": [
        "# Consulta df_airports_qa_tz:\n",
        "\n",
        "con_qa_tz = df_airports_qa_tz.filter(df_airports_qa_tz.qa_tz == \"A\")\n",
        "con_qa_tz.show(truncate=False)\n"
      ],
      "metadata": {
        "colab": {
          "base_uri": "https://localhost:8080/"
        },
        "id": "zN37-LvdND67",
        "outputId": "a3998748-7cae-4b9a-f37c-ede1e3f45c91"
      },
      "execution_count": 40,
      "outputs": [
        {
          "output_type": "stream",
          "name": "stdout",
          "text": [
            "+---+------------------------------------+----------------+-----------------+----+---+---+-----+\n",
            "|faa|name                                |lat             |lon              |alt |tz |dst|qa_tz|\n",
            "+---+------------------------------------+----------------+-----------------+----+---+---+-----+\n",
            "|04G|Lansdowne Airport                   |41.1304722      |-80.6195833      |1044|-5 |A  |A    |\n",
            "|06A|Moton Field Municipal Airport       |32.4605722      |-85.6800278      |264 |-5 |A  |A    |\n",
            "|06C|Schaumburg Regional                 |41.9893408      |-88.1012428      |801 |-6 |A  |A    |\n",
            "|06N|Randall Airport                     |41.431912       |-74.3915611      |523 |-5 |A  |A    |\n",
            "|09J|Jekyll Island Airport               |31.0744722      |-81.4277778      |11  |-4 |A  |A    |\n",
            "|0A9|Elizabethton Municipal Airport      |36.3712222      |-82.1734167      |1593|-4 |A  |A    |\n",
            "|0G6|Williams County Airport             |41.4673056      |-84.5067778      |730 |-5 |A  |A    |\n",
            "|0G7|Finger Lakes Regional Airport       |42.8835647      |-76.7812318      |492 |-5 |A  |A    |\n",
            "|0P2|Shoestring Aviation Airfield        |39.7948244      |-76.6471914      |1000|-5 |U  |A    |\n",
            "|0S9|Jefferson County Intl               |48.0538086      |-122.8106436     |108 |-8 |A  |A    |\n",
            "|0W3|Harford County Airport              |39.5668378      |-76.2024028      |409 |-5 |A  |A    |\n",
            "|10C|Galt Field Airport                  |42.4028889      |-88.3751111      |875 |-6 |U  |A    |\n",
            "|17G|Port Bucyrus-Crawford County Airport|40.7815556      |-82.9748056      |1003|-5 |A  |A    |\n",
            "|19A|Jackson County Airport              |34.1758638      |-83.5615972      |951 |-4 |U  |A    |\n",
            "|1A3|Martin Campbell Field Airport       |35.0158056      |-84.3468333      |1789|-4 |A  |A    |\n",
            "|1B9|Mansfield Municipal                 |42.0001331      |-71.1967714      |122 |-5 |A  |A    |\n",
            "|1C9|Frazier Lake Airpark                |54.0133333333333|-124.768333333333|152 |-8 |A  |A    |\n",
            "|1CS|Clow International Airport          |41.6959744      |-88.1292306      |670 |-6 |U  |A    |\n",
            "|1G3|Kent State Airport                  |41.1513889      |-81.4151111      |1134|-4 |A  |A    |\n",
            "|1OH|Fortman Airport                     |40.5553253      |-84.3866186      |885 |-5 |U  |A    |\n",
            "+---+------------------------------------+----------------+-----------------+----+---+---+-----+\n",
            "only showing top 20 rows\n",
            "\n"
          ]
        }
      ]
    },
    {
      "cell_type": "code",
      "source": [
        "# Impressão em tela:\n",
        "\n",
        "df_airports_qa_tz.show()\n"
      ],
      "metadata": {
        "colab": {
          "base_uri": "https://localhost:8080/"
        },
        "id": "5raAN0PzNEsr",
        "outputId": "94dc5f21-3879-40ac-c956-2b4db842f4bc"
      },
      "execution_count": 41,
      "outputs": [
        {
          "output_type": "stream",
          "name": "stdout",
          "text": [
            "+---+--------------------+----------------+-----------------+----+---+---+-----+\n",
            "|faa|                name|             lat|              lon| alt| tz|dst|qa_tz|\n",
            "+---+--------------------+----------------+-----------------+----+---+---+-----+\n",
            "|04G|   Lansdowne Airport|      41.1304722|      -80.6195833|1044| -5|  A|    A|\n",
            "|06A|Moton Field Munic...|      32.4605722|      -85.6800278| 264| -5|  A|    A|\n",
            "|06C| Schaumburg Regional|      41.9893408|      -88.1012428| 801| -6|  A|    A|\n",
            "|06N|     Randall Airport|       41.431912|      -74.3915611| 523| -5|  A|    A|\n",
            "|09J|Jekyll Island Air...|      31.0744722|      -81.4277778|  11| -4|  A|    A|\n",
            "|0A9|Elizabethton Muni...|      36.3712222|      -82.1734167|1593| -4|  A|    A|\n",
            "|0G6|Williams County A...|      41.4673056|      -84.5067778| 730| -5|  A|    A|\n",
            "|0G7|Finger Lakes Regi...|      42.8835647|      -76.7812318| 492| -5|  A|    A|\n",
            "|0P2|Shoestring Aviati...|      39.7948244|      -76.6471914|1000| -5|  U|    A|\n",
            "|0S9|Jefferson County ...|      48.0538086|     -122.8106436| 108| -8|  A|    A|\n",
            "|0W3|Harford County Ai...|      39.5668378|      -76.2024028| 409| -5|  A|    A|\n",
            "|10C|  Galt Field Airport|      42.4028889|      -88.3751111| 875| -6|  U|    A|\n",
            "|17G|Port Bucyrus-Craw...|      40.7815556|      -82.9748056|1003| -5|  A|    A|\n",
            "|19A|Jackson County Ai...|      34.1758638|      -83.5615972| 951| -4|  U|    A|\n",
            "|1A3|Martin Campbell F...|      35.0158056|      -84.3468333|1789| -4|  A|    A|\n",
            "|1B9| Mansfield Municipal|      42.0001331|      -71.1967714| 122| -5|  A|    A|\n",
            "|1C9|Frazier Lake Airpark|54.0133333333333|-124.768333333333| 152| -8|  A|    A|\n",
            "|1CS|Clow Internationa...|      41.6959744|      -88.1292306| 670| -6|  U|    A|\n",
            "|1G3|  Kent State Airport|      41.1513889|      -81.4151111|1134| -4|  A|    A|\n",
            "|1OH|     Fortman Airport|      40.5553253|      -84.3866186| 885| -5|  U|    A|\n",
            "+---+--------------------+----------------+-----------------+----+---+---+-----+\n",
            "only showing top 20 rows\n",
            "\n"
          ]
        }
      ]
    },
    {
      "cell_type": "markdown",
      "source": [
        "7 - Crie a coluna qa_dst e aponte inconsistências da coluna dst de acordo com as regras abaixo.<br>\n",
        "M : Indica que está com dado faltante.<br>\n",
        "C : Indica que o valor não pertence a nenhuma das categorias esperadas: E, A, S, O, Z, N, U<br>\n",
        "N : Indica que o valor é numérico."
      ],
      "metadata": {
        "application/vnd.databricks.v1+cell": {
          "title": "",
          "showTitle": false,
          "inputWidgets": {},
          "nuid": "860bad8a-21f5-4e24-815c-5cc24b2e969d"
        },
        "id": "MfW-rQE5LZXF"
      }
    },
    {
      "cell_type": "code",
      "source": [
        "df_airports_qa_dst = df_airports.withColumn('qa_dst',\n",
        "                                            expr(\"\"\"CASE\n",
        "                                                        WHEN dst LIKE ''  THEN 'M'\n",
        "                                                        WHEN dst NOT IN ('E', 'A', 'S', 'O', 'Z', 'N', 'U') THEN 'C'\n",
        "                                                        WHEN dst RLIKE '[0-9]' THEN 'N'\n",
        "                                                        ELSE dst\n",
        "                                            END\"\"\"))\n"
      ],
      "metadata": {
        "id": "q9uWgIfXp23v"
      },
      "execution_count": 42,
      "outputs": []
    },
    {
      "cell_type": "code",
      "source": [
        "# Consulta df_airports:\n",
        "\n",
        "con_dst = df_airports.filter(\"dst NOT IN ('E', 'A', 'S', 'O', 'Z', 'N', 'U')\")\n",
        "con_dst.show(truncate=False)\n"
      ],
      "metadata": {
        "colab": {
          "base_uri": "https://localhost:8080/"
        },
        "id": "uNGuYap24kJj",
        "outputId": "613670c0-250e-4c0a-e48a-64dbc4fb0032"
      },
      "execution_count": 43,
      "outputs": [
        {
          "output_type": "stream",
          "name": "stdout",
          "text": [
            "+---+----+---+---+---+---+---+\n",
            "|faa|name|lat|lon|alt|tz |dst|\n",
            "+---+----+---+---+---+---+---+\n",
            "+---+----+---+---+---+---+---+\n",
            "\n"
          ]
        }
      ]
    },
    {
      "cell_type": "code",
      "source": [
        "# Consulta df_airports_qa_dst:\n",
        "\n",
        "con_qa_dst = df_airports_qa_dst.filter(df_airports_qa_dst.qa_dst == \"C\")\n",
        "con_qa_dst.show(truncate=False)\n"
      ],
      "metadata": {
        "colab": {
          "base_uri": "https://localhost:8080/"
        },
        "id": "JZAEbRNkNQIk",
        "outputId": "4b40a272-55aa-4296-8899-fb520809ba52"
      },
      "execution_count": 44,
      "outputs": [
        {
          "output_type": "stream",
          "name": "stdout",
          "text": [
            "+---+----+---+---+---+---+---+------+\n",
            "|faa|name|lat|lon|alt|tz |dst|qa_dst|\n",
            "+---+----+---+---+---+---+---+------+\n",
            "+---+----+---+---+---+---+---+------+\n",
            "\n"
          ]
        }
      ]
    },
    {
      "cell_type": "code",
      "source": [
        "# Impressão em tela:\n",
        "\n",
        "df_airports_qa_dst.show()\n"
      ],
      "metadata": {
        "colab": {
          "base_uri": "https://localhost:8080/"
        },
        "id": "y0braK9eNRBj",
        "outputId": "88ddb040-a440-4283-8290-28414d7d344b"
      },
      "execution_count": 45,
      "outputs": [
        {
          "output_type": "stream",
          "name": "stdout",
          "text": [
            "+---+--------------------+----------------+-----------------+----+---+---+------+\n",
            "|faa|                name|             lat|              lon| alt| tz|dst|qa_dst|\n",
            "+---+--------------------+----------------+-----------------+----+---+---+------+\n",
            "|04G|   Lansdowne Airport|      41.1304722|      -80.6195833|1044| -5|  A|     A|\n",
            "|06A|Moton Field Munic...|      32.4605722|      -85.6800278| 264| -5|  A|     A|\n",
            "|06C| Schaumburg Regional|      41.9893408|      -88.1012428| 801| -6|  A|     A|\n",
            "|06N|     Randall Airport|       41.431912|      -74.3915611| 523| -5|  A|     A|\n",
            "|09J|Jekyll Island Air...|      31.0744722|      -81.4277778|  11| -4|  A|     A|\n",
            "|0A9|Elizabethton Muni...|      36.3712222|      -82.1734167|1593| -4|  A|     A|\n",
            "|0G6|Williams County A...|      41.4673056|      -84.5067778| 730| -5|  A|     A|\n",
            "|0G7|Finger Lakes Regi...|      42.8835647|      -76.7812318| 492| -5|  A|     A|\n",
            "|0P2|Shoestring Aviati...|      39.7948244|      -76.6471914|1000| -5|  U|     U|\n",
            "|0S9|Jefferson County ...|      48.0538086|     -122.8106436| 108| -8|  A|     A|\n",
            "|0W3|Harford County Ai...|      39.5668378|      -76.2024028| 409| -5|  A|     A|\n",
            "|10C|  Galt Field Airport|      42.4028889|      -88.3751111| 875| -6|  U|     U|\n",
            "|17G|Port Bucyrus-Craw...|      40.7815556|      -82.9748056|1003| -5|  A|     A|\n",
            "|19A|Jackson County Ai...|      34.1758638|      -83.5615972| 951| -4|  U|     U|\n",
            "|1A3|Martin Campbell F...|      35.0158056|      -84.3468333|1789| -4|  A|     A|\n",
            "|1B9| Mansfield Municipal|      42.0001331|      -71.1967714| 122| -5|  A|     A|\n",
            "|1C9|Frazier Lake Airpark|54.0133333333333|-124.768333333333| 152| -8|  A|     A|\n",
            "|1CS|Clow Internationa...|      41.6959744|      -88.1292306| 670| -6|  U|     U|\n",
            "|1G3|  Kent State Airport|      41.1513889|      -81.4151111|1134| -4|  A|     A|\n",
            "|1OH|     Fortman Airport|      40.5553253|      -84.3866186| 885| -5|  U|     U|\n",
            "+---+--------------------+----------------+-----------------+----+---+---+------+\n",
            "only showing top 20 rows\n",
            "\n"
          ]
        }
      ]
    },
    {
      "cell_type": "markdown",
      "source": [
        "# Planes Dataset:"
      ],
      "metadata": {
        "application/vnd.databricks.v1+cell": {
          "title": "",
          "showTitle": false,
          "inputWidgets": {},
          "nuid": "e3c09a43-5e7d-4205-a87e-ee03b2762f34"
        },
        "id": "ZZ9fMRX_LZXG"
      }
    },
    {
      "cell_type": "code",
      "source": [
        "# Importação dos dados para o PySpark:\n",
        "# Download do http para arquivo local:\n",
        "\n",
        "!wget --quiet --show-progress https://drive.google.com/file/d/18Ru1UuLHv9d6nPBWj5-T_ikyJAHhaDI2/view?usp=sharing\n",
        "\n",
        "# Carregar dados do Planes:\n",
        "\n",
        "df_planes = spark.read.csv(\"./planes.csv\", inferSchema=True, header=True)\n",
        "\n",
        "# Ver algumas informações sobre os tipos de dados de cada coluna:\n",
        "\n",
        "df_planes.printSchema()\n"
      ],
      "metadata": {
        "application/vnd.databricks.v1+cell": {
          "title": "",
          "showTitle": false,
          "inputWidgets": {},
          "nuid": "d6260bad-2671-49b4-be2d-3030dea38c38"
        },
        "id": "WiTrkeyQLZXG",
        "colab": {
          "base_uri": "https://localhost:8080/"
        },
        "outputId": "8397a6a4-8305-4d64-b82c-193d30add09c"
      },
      "outputs": [
        {
          "output_type": "stream",
          "name": "stdout",
          "text": [
            "\rview?usp=sharing.1      [<=>                 ]       0  --.-KB/s               \rview?usp=sharing.1      [ <=>                ]  66.57K  --.-KB/s    in 0.003s  \n",
            "root\n",
            " |-- tailnum: string (nullable = true)\n",
            " |-- year: string (nullable = true)\n",
            " |-- type: string (nullable = true)\n",
            " |-- manufacturer: string (nullable = true)\n",
            " |-- model: string (nullable = true)\n",
            " |-- engines: integer (nullable = true)\n",
            " |-- seats: integer (nullable = true)\n",
            " |-- speed: string (nullable = true)\n",
            " |-- engine: string (nullable = true)\n",
            "\n"
          ]
        }
      ],
      "execution_count": 46
    },
    {
      "cell_type": "code",
      "source": [
        "df_planes.show()\n"
      ],
      "metadata": {
        "application/vnd.databricks.v1+cell": {
          "title": "",
          "showTitle": false,
          "inputWidgets": {},
          "nuid": "f7dbdadb-a113-4813-b1c4-7c453c5abe69"
        },
        "id": "OAoIh3ILLZXH",
        "colab": {
          "base_uri": "https://localhost:8080/"
        },
        "outputId": "a6c629a7-73ee-4d8f-f9d8-5398f5cc1f39"
      },
      "outputs": [
        {
          "output_type": "stream",
          "name": "stdout",
          "text": [
            "+-------+----+--------------------+----------------+--------+-------+-----+-----+---------+\n",
            "|tailnum|year|                type|    manufacturer|   model|engines|seats|speed|   engine|\n",
            "+-------+----+--------------------+----------------+--------+-------+-----+-----+---------+\n",
            "| N102UW|1998|Fixed wing multi ...|AIRBUS INDUSTRIE|A320-214|      2|  182|   NA|Turbo-fan|\n",
            "| N103US|1999|Fixed wing multi ...|AIRBUS INDUSTRIE|A320-214|      2|  182|   NA|Turbo-fan|\n",
            "| N104UW|1999|Fixed wing multi ...|AIRBUS INDUSTRIE|A320-214|      2|  182|   NA|Turbo-fan|\n",
            "| N105UW|1999|Fixed wing multi ...|AIRBUS INDUSTRIE|A320-214|      2|  182|   NA|Turbo-fan|\n",
            "| N107US|1999|Fixed wing multi ...|AIRBUS INDUSTRIE|A320-214|      2|  182|   NA|Turbo-fan|\n",
            "| N108UW|1999|Fixed wing multi ...|AIRBUS INDUSTRIE|A320-214|      2|  182|   NA|Turbo-fan|\n",
            "| N109UW|1999|Fixed wing multi ...|AIRBUS INDUSTRIE|A320-214|      2|  182|   NA|Turbo-fan|\n",
            "| N110UW|1999|Fixed wing multi ...|AIRBUS INDUSTRIE|A320-214|      2|  182|   NA|Turbo-fan|\n",
            "| N111US|1999|Fixed wing multi ...|AIRBUS INDUSTRIE|A320-214|      2|  182|   NA|Turbo-fan|\n",
            "| N11206|2000|Fixed wing multi ...|          BOEING| 737-824|      2|  149|   NA|Turbo-fan|\n",
            "| N112US|1999|Fixed wing multi ...|AIRBUS INDUSTRIE|A320-214|      2|  182|   NA|Turbo-fan|\n",
            "| N113UW|1999|Fixed wing multi ...|AIRBUS INDUSTRIE|A320-214|      2|  182|   NA|Turbo-fan|\n",
            "| N114UW|1999|Fixed wing multi ...|AIRBUS INDUSTRIE|A320-214|      2|  182|   NA|Turbo-fan|\n",
            "| N117UW|2000|Fixed wing multi ...|AIRBUS INDUSTRIE|A320-214|      2|  182|   NA|Turbo-fan|\n",
            "| N118US|2000|Fixed wing multi ...|AIRBUS INDUSTRIE|A320-214|      2|  182|   NA|Turbo-fan|\n",
            "| N119US|2000|Fixed wing multi ...|AIRBUS INDUSTRIE|A320-214|      2|  182|   NA|Turbo-fan|\n",
            "| N1200K|1998|Fixed wing multi ...|          BOEING| 767-332|      2|  330|   NA|Turbo-fan|\n",
            "| N1201P|1998|Fixed wing multi ...|          BOEING| 767-332|      2|  330|   NA|Turbo-fan|\n",
            "| N12114|1995|Fixed wing multi ...|          BOEING| 757-224|      2|  178|   NA|Turbo-jet|\n",
            "| N121DE|1987|Fixed wing multi ...|          BOEING| 767-332|      2|  330|   NA|Turbo-fan|\n",
            "+-------+----+--------------------+----------------+--------+-------+-----+-----+---------+\n",
            "only showing top 20 rows\n",
            "\n"
          ]
        }
      ],
      "execution_count": 47
    },
    {
      "cell_type": "code",
      "source": [
        "df_planes.fillna('NA').show()\n"
      ],
      "metadata": {
        "id": "0BaYhH3qjHaA",
        "colab": {
          "base_uri": "https://localhost:8080/"
        },
        "outputId": "5f3c8d9c-4231-405b-ef48-e4ddb5cacf53"
      },
      "execution_count": 48,
      "outputs": [
        {
          "output_type": "stream",
          "name": "stdout",
          "text": [
            "+-------+----+--------------------+----------------+--------+-------+-----+-----+---------+\n",
            "|tailnum|year|                type|    manufacturer|   model|engines|seats|speed|   engine|\n",
            "+-------+----+--------------------+----------------+--------+-------+-----+-----+---------+\n",
            "| N102UW|1998|Fixed wing multi ...|AIRBUS INDUSTRIE|A320-214|      2|  182|   NA|Turbo-fan|\n",
            "| N103US|1999|Fixed wing multi ...|AIRBUS INDUSTRIE|A320-214|      2|  182|   NA|Turbo-fan|\n",
            "| N104UW|1999|Fixed wing multi ...|AIRBUS INDUSTRIE|A320-214|      2|  182|   NA|Turbo-fan|\n",
            "| N105UW|1999|Fixed wing multi ...|AIRBUS INDUSTRIE|A320-214|      2|  182|   NA|Turbo-fan|\n",
            "| N107US|1999|Fixed wing multi ...|AIRBUS INDUSTRIE|A320-214|      2|  182|   NA|Turbo-fan|\n",
            "| N108UW|1999|Fixed wing multi ...|AIRBUS INDUSTRIE|A320-214|      2|  182|   NA|Turbo-fan|\n",
            "| N109UW|1999|Fixed wing multi ...|AIRBUS INDUSTRIE|A320-214|      2|  182|   NA|Turbo-fan|\n",
            "| N110UW|1999|Fixed wing multi ...|AIRBUS INDUSTRIE|A320-214|      2|  182|   NA|Turbo-fan|\n",
            "| N111US|1999|Fixed wing multi ...|AIRBUS INDUSTRIE|A320-214|      2|  182|   NA|Turbo-fan|\n",
            "| N11206|2000|Fixed wing multi ...|          BOEING| 737-824|      2|  149|   NA|Turbo-fan|\n",
            "| N112US|1999|Fixed wing multi ...|AIRBUS INDUSTRIE|A320-214|      2|  182|   NA|Turbo-fan|\n",
            "| N113UW|1999|Fixed wing multi ...|AIRBUS INDUSTRIE|A320-214|      2|  182|   NA|Turbo-fan|\n",
            "| N114UW|1999|Fixed wing multi ...|AIRBUS INDUSTRIE|A320-214|      2|  182|   NA|Turbo-fan|\n",
            "| N117UW|2000|Fixed wing multi ...|AIRBUS INDUSTRIE|A320-214|      2|  182|   NA|Turbo-fan|\n",
            "| N118US|2000|Fixed wing multi ...|AIRBUS INDUSTRIE|A320-214|      2|  182|   NA|Turbo-fan|\n",
            "| N119US|2000|Fixed wing multi ...|AIRBUS INDUSTRIE|A320-214|      2|  182|   NA|Turbo-fan|\n",
            "| N1200K|1998|Fixed wing multi ...|          BOEING| 767-332|      2|  330|   NA|Turbo-fan|\n",
            "| N1201P|1998|Fixed wing multi ...|          BOEING| 767-332|      2|  330|   NA|Turbo-fan|\n",
            "| N12114|1995|Fixed wing multi ...|          BOEING| 757-224|      2|  178|   NA|Turbo-jet|\n",
            "| N121DE|1987|Fixed wing multi ...|          BOEING| 767-332|      2|  330|   NA|Turbo-fan|\n",
            "+-------+----+--------------------+----------------+--------+-------+-----+-----+---------+\n",
            "only showing top 20 rows\n",
            "\n"
          ]
        }
      ]
    },
    {
      "cell_type": "code",
      "source": [
        "# Função inclui contagem, média, stddev, min e max.\n",
        "# Se nenhuma coluna for fornecida, esta função calcula estatísticas para todas as colunas numéricas ou de string:\n",
        "\n",
        "df_planes.describe().show()\n"
      ],
      "metadata": {
        "colab": {
          "base_uri": "https://localhost:8080/"
        },
        "id": "IqvG6j_P8QIp",
        "outputId": "bc9b689e-cdb1-4760-e47e-d16d90993f66"
      },
      "execution_count": 49,
      "outputs": [
        {
          "output_type": "stream",
          "name": "stdout",
          "text": [
            "+-------+-------+-----------------+--------------------+------------+-------------+------------------+------------------+------------------+-----------+\n",
            "|summary|tailnum|             year|                type|manufacturer|        model|           engines|             seats|             speed|     engine|\n",
            "+-------+-------+-----------------+--------------------+------------+-------------+------------------+------------------+------------------+-----------+\n",
            "|  count|   2628|             2628|                2628|        2628|         2628|              2628|              2628|              2628|       2628|\n",
            "|   mean|   null|2001.119937694704|                null|        null|        150.0|               2.0|171.09703196347033|             105.5|       null|\n",
            "| stddev|   null|40.11347878270668|                null|        null|         null|0.0994847785584648| 67.80422639058219|13.794926603646719|       null|\n",
            "|    min| N102UW|                0|Fixed wing multi ...|      AIRBUS|          150|                 1|                 2|               107|    4 Cycle|\n",
            "|    max| N988CA|               NA|          Rotorcraft|    SIKORSKY|ZODIAC 601HDS|                 4|               450|                NA|Turbo-shaft|\n",
            "+-------+-------+-----------------+--------------------+------------+-------------+------------------+------------------+------------------+-----------+\n",
            "\n"
          ]
        }
      ]
    },
    {
      "cell_type": "markdown",
      "source": [
        "Perguntas<br>\n",
        "Considere o dataset planes.csv para realizar as seguintes tarefas:"
      ],
      "metadata": {
        "application/vnd.databricks.v1+cell": {
          "title": "",
          "showTitle": false,
          "inputWidgets": {},
          "nuid": "fb3b2a37-06e5-4976-a3f7-728e74d5c9bd"
        },
        "id": "zeA0zaZgLZXJ"
      }
    },
    {
      "cell_type": "markdown",
      "source": [
        "1 - Crie a coluna qa_tailnum e aponte inconsistências da coluna tailnum de acordo com as regras\n",
        "abaixo.<br>\n",
        "M : Indica que está com dado faltante.<br>\n",
        "S : Indica que não tem exatamente 5 caracteres.<br>\n",
        "F : Indica que não respeita o formato esperado (ex. N1234Z ou N123AZ).<br>\n",
        "FN : Indica que não inicia com a letra \"N\".<br>\n",
        "FE : Indica que contém caracteres inválidos (\"I\", \"O\", ou 0 como primeiro digito).<br>"
      ],
      "metadata": {
        "application/vnd.databricks.v1+cell": {
          "title": "",
          "showTitle": false,
          "inputWidgets": {},
          "nuid": "91ba35b6-0d95-44e5-800b-9a54e3e1a468"
        },
        "id": "tUbtr7-8LZXJ"
      }
    },
    {
      "cell_type": "code",
      "source": [
        "df_planes_qa_tailnum = df_planes.withColumn('qa_tailnum',\n",
        "                                            expr(\"\"\"CASE \n",
        "                                                        WHEN tailnum LIKE '' THEN 'M'\n",
        "                                                        WHEN tailnum != 5 THEN 'S'\n",
        "                                                        WHEN tailnum LIKE 'N_%_%_%_%Z' THEN 'FM'\n",
        "                                                        WHEN tailnum LIKE 'N_%_%_%AZ' THEN 'FM'\n",
        "                                                        WHEN tailnum NOT LIKE 'N%' THEN 'FN'\n",
        "                                                        WHEN tailnum IN ('I', 'O', 0) THEN 'FE'\n",
        "\n",
        "                                                        ELSE tailnum\n",
        "                                                    END\"\"\"))\n"
      ],
      "metadata": {
        "id": "0gm95ArsowI2"
      },
      "execution_count": 50,
      "outputs": []
    },
    {
      "cell_type": "code",
      "source": [
        "# Consulta df_planes:\n",
        "\n",
        "con_tailnum = df_planes.filter(\"tailnum NOT LIKE 'N%'\")\n",
        "con_tailnum.show(truncate=False)\n"
      ],
      "metadata": {
        "colab": {
          "base_uri": "https://localhost:8080/"
        },
        "id": "haXBhgfv49kf",
        "outputId": "9d5999c1-c4d6-48b2-a01e-5368f19a4f8e"
      },
      "execution_count": 51,
      "outputs": [
        {
          "output_type": "stream",
          "name": "stdout",
          "text": [
            "+-------+----+----+------------+-----+-------+-----+-----+------+\n",
            "|tailnum|year|type|manufacturer|model|engines|seats|speed|engine|\n",
            "+-------+----+----+------------+-----+-------+-----+-----+------+\n",
            "+-------+----+----+------------+-----+-------+-----+-----+------+\n",
            "\n"
          ]
        }
      ]
    },
    {
      "cell_type": "code",
      "source": [
        "# Consulta df_planes_qa_tailnum:\n",
        "\n",
        "con_qa_tailnum = df_planes_qa_tailnum.filter(df_planes_qa_tailnum.qa_tailnum == \"M\")\n",
        "con_qa_tailnum.show(truncate=False)\n"
      ],
      "metadata": {
        "colab": {
          "base_uri": "https://localhost:8080/"
        },
        "id": "v3ODbvp0NdiU",
        "outputId": "2e0f9599-8099-42d4-f410-9bb914c0489e"
      },
      "execution_count": 52,
      "outputs": [
        {
          "output_type": "stream",
          "name": "stdout",
          "text": [
            "+-------+----+----+------------+-----+-------+-----+-----+------+----------+\n",
            "|tailnum|year|type|manufacturer|model|engines|seats|speed|engine|qa_tailnum|\n",
            "+-------+----+----+------------+-----+-------+-----+-----+------+----------+\n",
            "+-------+----+----+------------+-----+-------+-----+-----+------+----------+\n",
            "\n"
          ]
        }
      ]
    },
    {
      "cell_type": "code",
      "source": [
        "# Impressão em tela:\n",
        "\n",
        "df_planes_qa_tailnum.show()\n"
      ],
      "metadata": {
        "colab": {
          "base_uri": "https://localhost:8080/"
        },
        "id": "8GPyd-I4NeE3",
        "outputId": "3da5ed31-5c8b-4020-ba2f-a6af1e065fed"
      },
      "execution_count": 53,
      "outputs": [
        {
          "output_type": "stream",
          "name": "stdout",
          "text": [
            "+-------+----+--------------------+----------------+--------+-------+-----+-----+---------+----------+\n",
            "|tailnum|year|                type|    manufacturer|   model|engines|seats|speed|   engine|qa_tailnum|\n",
            "+-------+----+--------------------+----------------+--------+-------+-----+-----+---------+----------+\n",
            "| N102UW|1998|Fixed wing multi ...|AIRBUS INDUSTRIE|A320-214|      2|  182|   NA|Turbo-fan|    N102UW|\n",
            "| N103US|1999|Fixed wing multi ...|AIRBUS INDUSTRIE|A320-214|      2|  182|   NA|Turbo-fan|    N103US|\n",
            "| N104UW|1999|Fixed wing multi ...|AIRBUS INDUSTRIE|A320-214|      2|  182|   NA|Turbo-fan|    N104UW|\n",
            "| N105UW|1999|Fixed wing multi ...|AIRBUS INDUSTRIE|A320-214|      2|  182|   NA|Turbo-fan|    N105UW|\n",
            "| N107US|1999|Fixed wing multi ...|AIRBUS INDUSTRIE|A320-214|      2|  182|   NA|Turbo-fan|    N107US|\n",
            "| N108UW|1999|Fixed wing multi ...|AIRBUS INDUSTRIE|A320-214|      2|  182|   NA|Turbo-fan|    N108UW|\n",
            "| N109UW|1999|Fixed wing multi ...|AIRBUS INDUSTRIE|A320-214|      2|  182|   NA|Turbo-fan|    N109UW|\n",
            "| N110UW|1999|Fixed wing multi ...|AIRBUS INDUSTRIE|A320-214|      2|  182|   NA|Turbo-fan|    N110UW|\n",
            "| N111US|1999|Fixed wing multi ...|AIRBUS INDUSTRIE|A320-214|      2|  182|   NA|Turbo-fan|    N111US|\n",
            "| N11206|2000|Fixed wing multi ...|          BOEING| 737-824|      2|  149|   NA|Turbo-fan|    N11206|\n",
            "| N112US|1999|Fixed wing multi ...|AIRBUS INDUSTRIE|A320-214|      2|  182|   NA|Turbo-fan|    N112US|\n",
            "| N113UW|1999|Fixed wing multi ...|AIRBUS INDUSTRIE|A320-214|      2|  182|   NA|Turbo-fan|    N113UW|\n",
            "| N114UW|1999|Fixed wing multi ...|AIRBUS INDUSTRIE|A320-214|      2|  182|   NA|Turbo-fan|    N114UW|\n",
            "| N117UW|2000|Fixed wing multi ...|AIRBUS INDUSTRIE|A320-214|      2|  182|   NA|Turbo-fan|    N117UW|\n",
            "| N118US|2000|Fixed wing multi ...|AIRBUS INDUSTRIE|A320-214|      2|  182|   NA|Turbo-fan|    N118US|\n",
            "| N119US|2000|Fixed wing multi ...|AIRBUS INDUSTRIE|A320-214|      2|  182|   NA|Turbo-fan|    N119US|\n",
            "| N1200K|1998|Fixed wing multi ...|          BOEING| 767-332|      2|  330|   NA|Turbo-fan|    N1200K|\n",
            "| N1201P|1998|Fixed wing multi ...|          BOEING| 767-332|      2|  330|   NA|Turbo-fan|    N1201P|\n",
            "| N12114|1995|Fixed wing multi ...|          BOEING| 757-224|      2|  178|   NA|Turbo-jet|    N12114|\n",
            "| N121DE|1987|Fixed wing multi ...|          BOEING| 767-332|      2|  330|   NA|Turbo-fan|    N121DE|\n",
            "+-------+----+--------------------+----------------+--------+-------+-----+-----+---------+----------+\n",
            "only showing top 20 rows\n",
            "\n"
          ]
        }
      ]
    },
    {
      "cell_type": "markdown",
      "source": [
        "2 - Crie a coluna qa_year e aponte inconsistências da coluna year de acordo com as regras abaixo.<br>\n",
        "M : Indica que está com dado faltante.<br>\n",
        "I : Indica que o valor excede o intervalo [1950,+∞)."
      ],
      "metadata": {
        "application/vnd.databricks.v1+cell": {
          "title": "",
          "showTitle": false,
          "inputWidgets": {},
          "nuid": "52984aac-98a1-45f1-8e4e-be30ac095ba5"
        },
        "id": "6RhtUz69LZXL"
      }
    },
    {
      "cell_type": "code",
      "source": [
        "df_planes_qa_year = df_planes.withColumn('qa_year',\n",
        "                                        expr(\"\"\"CASE \n",
        "                                                    WHEN year LIKE '' THEN 'M'\n",
        "                                                    WHEN (year >= 1950) OR (year <= 2022) THEN 'I'\n",
        "                                                    ELSE year\n",
        "                                                END\"\"\"))\n"
      ],
      "metadata": {
        "id": "CBQEDxTqYLtQ"
      },
      "execution_count": 54,
      "outputs": []
    },
    {
      "cell_type": "code",
      "source": [
        "# Consulta df_planes:\n",
        "\n",
        "con_year = df_planes.filter((df_planes.year >= 1950) | (df_planes.year <= 2022))\n",
        "con_year.show(truncate=False)\n"
      ],
      "metadata": {
        "colab": {
          "base_uri": "https://localhost:8080/"
        },
        "id": "qi-Hp-d55QUI",
        "outputId": "33e11e42-c06e-4199-b9d9-780dc74a195f"
      },
      "execution_count": 55,
      "outputs": [
        {
          "output_type": "stream",
          "name": "stdout",
          "text": [
            "+-------+----+-----------------------+----------------+--------+-------+-----+-----+---------+\n",
            "|tailnum|year|type                   |manufacturer    |model   |engines|seats|speed|engine   |\n",
            "+-------+----+-----------------------+----------------+--------+-------+-----+-----+---------+\n",
            "|N102UW |1998|Fixed wing multi engine|AIRBUS INDUSTRIE|A320-214|2      |182  |NA   |Turbo-fan|\n",
            "|N103US |1999|Fixed wing multi engine|AIRBUS INDUSTRIE|A320-214|2      |182  |NA   |Turbo-fan|\n",
            "|N104UW |1999|Fixed wing multi engine|AIRBUS INDUSTRIE|A320-214|2      |182  |NA   |Turbo-fan|\n",
            "|N105UW |1999|Fixed wing multi engine|AIRBUS INDUSTRIE|A320-214|2      |182  |NA   |Turbo-fan|\n",
            "|N107US |1999|Fixed wing multi engine|AIRBUS INDUSTRIE|A320-214|2      |182  |NA   |Turbo-fan|\n",
            "|N108UW |1999|Fixed wing multi engine|AIRBUS INDUSTRIE|A320-214|2      |182  |NA   |Turbo-fan|\n",
            "|N109UW |1999|Fixed wing multi engine|AIRBUS INDUSTRIE|A320-214|2      |182  |NA   |Turbo-fan|\n",
            "|N110UW |1999|Fixed wing multi engine|AIRBUS INDUSTRIE|A320-214|2      |182  |NA   |Turbo-fan|\n",
            "|N111US |1999|Fixed wing multi engine|AIRBUS INDUSTRIE|A320-214|2      |182  |NA   |Turbo-fan|\n",
            "|N11206 |2000|Fixed wing multi engine|BOEING          |737-824 |2      |149  |NA   |Turbo-fan|\n",
            "|N112US |1999|Fixed wing multi engine|AIRBUS INDUSTRIE|A320-214|2      |182  |NA   |Turbo-fan|\n",
            "|N113UW |1999|Fixed wing multi engine|AIRBUS INDUSTRIE|A320-214|2      |182  |NA   |Turbo-fan|\n",
            "|N114UW |1999|Fixed wing multi engine|AIRBUS INDUSTRIE|A320-214|2      |182  |NA   |Turbo-fan|\n",
            "|N117UW |2000|Fixed wing multi engine|AIRBUS INDUSTRIE|A320-214|2      |182  |NA   |Turbo-fan|\n",
            "|N118US |2000|Fixed wing multi engine|AIRBUS INDUSTRIE|A320-214|2      |182  |NA   |Turbo-fan|\n",
            "|N119US |2000|Fixed wing multi engine|AIRBUS INDUSTRIE|A320-214|2      |182  |NA   |Turbo-fan|\n",
            "|N1200K |1998|Fixed wing multi engine|BOEING          |767-332 |2      |330  |NA   |Turbo-fan|\n",
            "|N1201P |1998|Fixed wing multi engine|BOEING          |767-332 |2      |330  |NA   |Turbo-fan|\n",
            "|N12114 |1995|Fixed wing multi engine|BOEING          |757-224 |2      |178  |NA   |Turbo-jet|\n",
            "|N121DE |1987|Fixed wing multi engine|BOEING          |767-332 |2      |330  |NA   |Turbo-fan|\n",
            "+-------+----+-----------------------+----------------+--------+-------+-----+-----+---------+\n",
            "only showing top 20 rows\n",
            "\n"
          ]
        }
      ]
    },
    {
      "cell_type": "code",
      "source": [
        "# Consulta df_planes_qa_year:\n",
        "\n",
        "con_qa_year = df_planes_qa_year.filter(df_planes_qa_year.qa_year == \"M\")\n",
        "con_qa_year.show(truncate=False)\n"
      ],
      "metadata": {
        "colab": {
          "base_uri": "https://localhost:8080/"
        },
        "id": "_ozTufv4RVJC",
        "outputId": "546d4c05-2c4b-4f2b-9675-c1dec94f6cbc"
      },
      "execution_count": 56,
      "outputs": [
        {
          "output_type": "stream",
          "name": "stdout",
          "text": [
            "+-------+----+----+------------+-----+-------+-----+-----+------+-------+\n",
            "|tailnum|year|type|manufacturer|model|engines|seats|speed|engine|qa_year|\n",
            "+-------+----+----+------------+-----+-------+-----+-----+------+-------+\n",
            "+-------+----+----+------------+-----+-------+-----+-----+------+-------+\n",
            "\n"
          ]
        }
      ]
    },
    {
      "cell_type": "code",
      "source": [
        "# Impressão em tela:\n",
        "\n",
        "df_planes_qa_year.show()\n"
      ],
      "metadata": {
        "colab": {
          "base_uri": "https://localhost:8080/"
        },
        "id": "Jhj7gWqGRVx1",
        "outputId": "5d669e01-4fb2-41bf-ab22-dea20377315c"
      },
      "execution_count": 57,
      "outputs": [
        {
          "output_type": "stream",
          "name": "stdout",
          "text": [
            "+-------+----+--------------------+----------------+--------+-------+-----+-----+---------+-------+\n",
            "|tailnum|year|                type|    manufacturer|   model|engines|seats|speed|   engine|qa_year|\n",
            "+-------+----+--------------------+----------------+--------+-------+-----+-----+---------+-------+\n",
            "| N102UW|1998|Fixed wing multi ...|AIRBUS INDUSTRIE|A320-214|      2|  182|   NA|Turbo-fan|      I|\n",
            "| N103US|1999|Fixed wing multi ...|AIRBUS INDUSTRIE|A320-214|      2|  182|   NA|Turbo-fan|      I|\n",
            "| N104UW|1999|Fixed wing multi ...|AIRBUS INDUSTRIE|A320-214|      2|  182|   NA|Turbo-fan|      I|\n",
            "| N105UW|1999|Fixed wing multi ...|AIRBUS INDUSTRIE|A320-214|      2|  182|   NA|Turbo-fan|      I|\n",
            "| N107US|1999|Fixed wing multi ...|AIRBUS INDUSTRIE|A320-214|      2|  182|   NA|Turbo-fan|      I|\n",
            "| N108UW|1999|Fixed wing multi ...|AIRBUS INDUSTRIE|A320-214|      2|  182|   NA|Turbo-fan|      I|\n",
            "| N109UW|1999|Fixed wing multi ...|AIRBUS INDUSTRIE|A320-214|      2|  182|   NA|Turbo-fan|      I|\n",
            "| N110UW|1999|Fixed wing multi ...|AIRBUS INDUSTRIE|A320-214|      2|  182|   NA|Turbo-fan|      I|\n",
            "| N111US|1999|Fixed wing multi ...|AIRBUS INDUSTRIE|A320-214|      2|  182|   NA|Turbo-fan|      I|\n",
            "| N11206|2000|Fixed wing multi ...|          BOEING| 737-824|      2|  149|   NA|Turbo-fan|      I|\n",
            "| N112US|1999|Fixed wing multi ...|AIRBUS INDUSTRIE|A320-214|      2|  182|   NA|Turbo-fan|      I|\n",
            "| N113UW|1999|Fixed wing multi ...|AIRBUS INDUSTRIE|A320-214|      2|  182|   NA|Turbo-fan|      I|\n",
            "| N114UW|1999|Fixed wing multi ...|AIRBUS INDUSTRIE|A320-214|      2|  182|   NA|Turbo-fan|      I|\n",
            "| N117UW|2000|Fixed wing multi ...|AIRBUS INDUSTRIE|A320-214|      2|  182|   NA|Turbo-fan|      I|\n",
            "| N118US|2000|Fixed wing multi ...|AIRBUS INDUSTRIE|A320-214|      2|  182|   NA|Turbo-fan|      I|\n",
            "| N119US|2000|Fixed wing multi ...|AIRBUS INDUSTRIE|A320-214|      2|  182|   NA|Turbo-fan|      I|\n",
            "| N1200K|1998|Fixed wing multi ...|          BOEING| 767-332|      2|  330|   NA|Turbo-fan|      I|\n",
            "| N1201P|1998|Fixed wing multi ...|          BOEING| 767-332|      2|  330|   NA|Turbo-fan|      I|\n",
            "| N12114|1995|Fixed wing multi ...|          BOEING| 757-224|      2|  178|   NA|Turbo-jet|      I|\n",
            "| N121DE|1987|Fixed wing multi ...|          BOEING| 767-332|      2|  330|   NA|Turbo-fan|      I|\n",
            "+-------+----+--------------------+----------------+--------+-------+-----+-----+---------+-------+\n",
            "only showing top 20 rows\n",
            "\n"
          ]
        }
      ]
    },
    {
      "cell_type": "markdown",
      "source": [
        "3 - Crie a coluna qa_type e aponte inconsistências da coluna type de acordo com as regras abaixo.<br>\n",
        "M : Indica que está com dado faltante.<br>\n",
        "C : Indica que o valor não pertence a nenhuma categoria esperada:<br>\n",
        "Fixed wing multi engine<br>\n",
        "Fixed wing single engine<br>\n",
        "Rotorcraft"
      ],
      "metadata": {
        "application/vnd.databricks.v1+cell": {
          "title": "",
          "showTitle": false,
          "inputWidgets": {},
          "nuid": "836ff85c-a51c-4dd2-aab4-e6c761b6f54d"
        },
        "id": "U9T_2QyeLZXL"
      }
    },
    {
      "cell_type": "code",
      "source": [
        "df_planes_qa_type = df_planes.withColumn('qa_type',\n",
        "                                            expr(\"\"\"CASE \n",
        "                                                        WHEN type LIKE '' THEN 'M'\n",
        "                                                        WHEN type NOT IN ('Fixed wing multi engine',\n",
        "                                                        'Fixed wing single engine', 'Rotorcraft') THEN 'C'\n",
        "                                                        ELSE type\n",
        "                                                    END\"\"\"))\n"
      ],
      "metadata": {
        "id": "vK5gpTbbYiDO"
      },
      "execution_count": 58,
      "outputs": []
    },
    {
      "cell_type": "code",
      "source": [
        "# Consulta df_planes:\n",
        "\n",
        "con_type = df_planes.filter(\"type NOT IN ('Fixed wing multi engine', 'Fixed wing single engine', 'Rotorcraft')\")\n",
        "con_type.show(truncate=False)\n"
      ],
      "metadata": {
        "colab": {
          "base_uri": "https://localhost:8080/"
        },
        "id": "WDCI8taw5vrk",
        "outputId": "57a0cc86-bebe-4203-9f98-aafbac8e5ff5"
      },
      "execution_count": 59,
      "outputs": [
        {
          "output_type": "stream",
          "name": "stdout",
          "text": [
            "+-------+----+----+------------+-----+-------+-----+-----+------+\n",
            "|tailnum|year|type|manufacturer|model|engines|seats|speed|engine|\n",
            "+-------+----+----+------------+-----+-------+-----+-----+------+\n",
            "+-------+----+----+------------+-----+-------+-----+-----+------+\n",
            "\n"
          ]
        }
      ]
    },
    {
      "cell_type": "code",
      "source": [
        "# Consulta df_planes_qa_type:\n",
        "\n",
        "df_planes_qa_type.filter(df_planes_qa_type.qa_type == \"M\").show(truncate=False)\n"
      ],
      "metadata": {
        "colab": {
          "base_uri": "https://localhost:8080/"
        },
        "id": "GeqFioWvR0Mu",
        "outputId": "f618a131-1093-4be4-c9c0-67e5fe0b793e"
      },
      "execution_count": 60,
      "outputs": [
        {
          "output_type": "stream",
          "name": "stdout",
          "text": [
            "+-------+----+----+------------+-----+-------+-----+-----+------+-------+\n",
            "|tailnum|year|type|manufacturer|model|engines|seats|speed|engine|qa_type|\n",
            "+-------+----+----+------------+-----+-------+-----+-----+------+-------+\n",
            "+-------+----+----+------------+-----+-------+-----+-----+------+-------+\n",
            "\n"
          ]
        }
      ]
    },
    {
      "cell_type": "code",
      "source": [
        "# Impressão em tela:\n",
        "\n",
        "df_planes_qa_type.show()\n"
      ],
      "metadata": {
        "colab": {
          "base_uri": "https://localhost:8080/"
        },
        "id": "HG-04__TR0zx",
        "outputId": "3f681d44-7c56-4395-dc3f-f42d22fc239f"
      },
      "execution_count": 61,
      "outputs": [
        {
          "output_type": "stream",
          "name": "stdout",
          "text": [
            "+-------+----+--------------------+----------------+--------+-------+-----+-----+---------+--------------------+\n",
            "|tailnum|year|                type|    manufacturer|   model|engines|seats|speed|   engine|             qa_type|\n",
            "+-------+----+--------------------+----------------+--------+-------+-----+-----+---------+--------------------+\n",
            "| N102UW|1998|Fixed wing multi ...|AIRBUS INDUSTRIE|A320-214|      2|  182|   NA|Turbo-fan|Fixed wing multi ...|\n",
            "| N103US|1999|Fixed wing multi ...|AIRBUS INDUSTRIE|A320-214|      2|  182|   NA|Turbo-fan|Fixed wing multi ...|\n",
            "| N104UW|1999|Fixed wing multi ...|AIRBUS INDUSTRIE|A320-214|      2|  182|   NA|Turbo-fan|Fixed wing multi ...|\n",
            "| N105UW|1999|Fixed wing multi ...|AIRBUS INDUSTRIE|A320-214|      2|  182|   NA|Turbo-fan|Fixed wing multi ...|\n",
            "| N107US|1999|Fixed wing multi ...|AIRBUS INDUSTRIE|A320-214|      2|  182|   NA|Turbo-fan|Fixed wing multi ...|\n",
            "| N108UW|1999|Fixed wing multi ...|AIRBUS INDUSTRIE|A320-214|      2|  182|   NA|Turbo-fan|Fixed wing multi ...|\n",
            "| N109UW|1999|Fixed wing multi ...|AIRBUS INDUSTRIE|A320-214|      2|  182|   NA|Turbo-fan|Fixed wing multi ...|\n",
            "| N110UW|1999|Fixed wing multi ...|AIRBUS INDUSTRIE|A320-214|      2|  182|   NA|Turbo-fan|Fixed wing multi ...|\n",
            "| N111US|1999|Fixed wing multi ...|AIRBUS INDUSTRIE|A320-214|      2|  182|   NA|Turbo-fan|Fixed wing multi ...|\n",
            "| N11206|2000|Fixed wing multi ...|          BOEING| 737-824|      2|  149|   NA|Turbo-fan|Fixed wing multi ...|\n",
            "| N112US|1999|Fixed wing multi ...|AIRBUS INDUSTRIE|A320-214|      2|  182|   NA|Turbo-fan|Fixed wing multi ...|\n",
            "| N113UW|1999|Fixed wing multi ...|AIRBUS INDUSTRIE|A320-214|      2|  182|   NA|Turbo-fan|Fixed wing multi ...|\n",
            "| N114UW|1999|Fixed wing multi ...|AIRBUS INDUSTRIE|A320-214|      2|  182|   NA|Turbo-fan|Fixed wing multi ...|\n",
            "| N117UW|2000|Fixed wing multi ...|AIRBUS INDUSTRIE|A320-214|      2|  182|   NA|Turbo-fan|Fixed wing multi ...|\n",
            "| N118US|2000|Fixed wing multi ...|AIRBUS INDUSTRIE|A320-214|      2|  182|   NA|Turbo-fan|Fixed wing multi ...|\n",
            "| N119US|2000|Fixed wing multi ...|AIRBUS INDUSTRIE|A320-214|      2|  182|   NA|Turbo-fan|Fixed wing multi ...|\n",
            "| N1200K|1998|Fixed wing multi ...|          BOEING| 767-332|      2|  330|   NA|Turbo-fan|Fixed wing multi ...|\n",
            "| N1201P|1998|Fixed wing multi ...|          BOEING| 767-332|      2|  330|   NA|Turbo-fan|Fixed wing multi ...|\n",
            "| N12114|1995|Fixed wing multi ...|          BOEING| 757-224|      2|  178|   NA|Turbo-jet|Fixed wing multi ...|\n",
            "| N121DE|1987|Fixed wing multi ...|          BOEING| 767-332|      2|  330|   NA|Turbo-fan|Fixed wing multi ...|\n",
            "+-------+----+--------------------+----------------+--------+-------+-----+-----+---------+--------------------+\n",
            "only showing top 20 rows\n",
            "\n"
          ]
        }
      ]
    },
    {
      "cell_type": "markdown",
      "source": [
        "4 - Crie a coluna qa_manufacturer e aponte inconsistências da coluna manufacturer de acordo com\n",
        "as regras abaixo.<br>\n",
        "M : Indica que está com dado faltante.<br>\n",
        "C : Indica que o valor não pertence a nenhuma categoria esperada:<br>\n",
        "AIRBUS<br>\n",
        "BOEING<br>\n",
        "BOMBARDIER<br>\n",
        "CESSNA<br>\n",
        "EMBRAER<br>\n",
        "SIKORSKY<br>\n",
        "CANADAIR<br>\n",
        "PIPER<br>\n",
        "MCDONNELL DOUGLAS<br>\n",
        "CIRRUS<br>\n",
        "BELL<br>\n",
        "KILDALL GARY<br>\n",
        "LAMBERT RICHARD<br>\n",
        "BARKER JACK<br>\n",
        "ROBINSON HELICOPTER<br>\n",
        "GULFSTREAM<br>\n",
        "MARZ BARRY<br>"
      ],
      "metadata": {
        "application/vnd.databricks.v1+cell": {
          "title": "",
          "showTitle": false,
          "inputWidgets": {},
          "nuid": "20657935-1db9-44e5-a409-41d3019ae299"
        },
        "id": "9j04WGHILZXM"
      }
    },
    {
      "cell_type": "code",
      "source": [
        "\n",
        "df_planes_qa_manufacturer = df_planes.withColumn('qa_manufacturer',\n",
        "                                            expr(\"\"\"CASE \n",
        "                                                        WHEN manufacturer LIKE '' THEN 'M'\n",
        "                                                        WHEN manufacturer NOT IN ('AIRBUS',\n",
        "                                                        'BOEING', 'BOMBARDIER','CESSNA',\n",
        "                                                        'EMBRAER', 'SIKORSKY', 'CANADAIR',\n",
        "                                                        'PIPER', 'MCDONNELL DOUGLAS', 'CIRRUS',\n",
        "                                                        'BELL', 'KILDALL GARY', 'LAMBERT RICHARD',\n",
        "                                                        'BARKER JACK', 'ROBINSON HELICOPTER',\n",
        "                                                        'GULFSTREAM', 'MARZ BARRY') THEN 'C'\n",
        "                                                        ELSE manufacturer\n",
        "                                                    END\"\"\"))\n"
      ],
      "metadata": {
        "id": "XH-95PuZl7XQ"
      },
      "execution_count": 62,
      "outputs": []
    },
    {
      "cell_type": "code",
      "source": [
        "# Consulta df_planes:\n",
        "\n",
        "con_manufacturer = df_planes.filter(\"manufacturer NOT IN ('AIRBUS', 'BOEING', 'BOMBARDIER','CESSNA', 'EMBRAER', 'SIKORSKY', 'CANADAIR', 'PIPER', 'MCDONNELL DOUGLAS', 'CIRRUS', 'BELL', 'KILDALL GARY', 'LAMBERT RICHARD', 'BARKER JACK', 'ROBINSON HELICOPTER', 'GULFSTREAM', 'MARZ BARRY')\")\n",
        "con_manufacturer.show(truncate=False)\n"
      ],
      "metadata": {
        "colab": {
          "base_uri": "https://localhost:8080/"
        },
        "id": "XEfxl6Uq5-dP",
        "outputId": "93644769-5b8f-4dfc-ca18-7ea8ba4d68ba"
      },
      "execution_count": 63,
      "outputs": [
        {
          "output_type": "stream",
          "name": "stdout",
          "text": [
            "+-------+----+-----------------------+----------------+-----------+-------+-----+-----+---------+\n",
            "|tailnum|year|type                   |manufacturer    |model      |engines|seats|speed|engine   |\n",
            "+-------+----+-----------------------+----------------+-----------+-------+-----+-----+---------+\n",
            "|N102UW |1998|Fixed wing multi engine|AIRBUS INDUSTRIE|A320-214   |2      |182  |NA   |Turbo-fan|\n",
            "|N103US |1999|Fixed wing multi engine|AIRBUS INDUSTRIE|A320-214   |2      |182  |NA   |Turbo-fan|\n",
            "|N104UW |1999|Fixed wing multi engine|AIRBUS INDUSTRIE|A320-214   |2      |182  |NA   |Turbo-fan|\n",
            "|N105UW |1999|Fixed wing multi engine|AIRBUS INDUSTRIE|A320-214   |2      |182  |NA   |Turbo-fan|\n",
            "|N107US |1999|Fixed wing multi engine|AIRBUS INDUSTRIE|A320-214   |2      |182  |NA   |Turbo-fan|\n",
            "|N108UW |1999|Fixed wing multi engine|AIRBUS INDUSTRIE|A320-214   |2      |182  |NA   |Turbo-fan|\n",
            "|N109UW |1999|Fixed wing multi engine|AIRBUS INDUSTRIE|A320-214   |2      |182  |NA   |Turbo-fan|\n",
            "|N110UW |1999|Fixed wing multi engine|AIRBUS INDUSTRIE|A320-214   |2      |182  |NA   |Turbo-fan|\n",
            "|N111US |1999|Fixed wing multi engine|AIRBUS INDUSTRIE|A320-214   |2      |182  |NA   |Turbo-fan|\n",
            "|N112US |1999|Fixed wing multi engine|AIRBUS INDUSTRIE|A320-214   |2      |182  |NA   |Turbo-fan|\n",
            "|N113UW |1999|Fixed wing multi engine|AIRBUS INDUSTRIE|A320-214   |2      |182  |NA   |Turbo-fan|\n",
            "|N114UW |1999|Fixed wing multi engine|AIRBUS INDUSTRIE|A320-214   |2      |182  |NA   |Turbo-fan|\n",
            "|N117UW |2000|Fixed wing multi engine|AIRBUS INDUSTRIE|A320-214   |2      |182  |NA   |Turbo-fan|\n",
            "|N118US |2000|Fixed wing multi engine|AIRBUS INDUSTRIE|A320-214   |2      |182  |NA   |Turbo-fan|\n",
            "|N119US |2000|Fixed wing multi engine|AIRBUS INDUSTRIE|A320-214   |2      |182  |NA   |Turbo-fan|\n",
            "|N121UW |2000|Fixed wing multi engine|AIRBUS INDUSTRIE|A320-214   |2      |182  |NA   |Turbo-fan|\n",
            "|N122US |2000|Fixed wing multi engine|AIRBUS INDUSTRIE|A320-214   |2      |182  |NA   |Turbo-fan|\n",
            "|N123UW |2000|Fixed wing multi engine|AIRBUS INDUSTRIE|A320-214   |2      |182  |NA   |Turbo-fan|\n",
            "|N124US |2000|Fixed wing multi engine|AIRBUS INDUSTRIE|A320-214   |2      |182  |NA   |Turbo-fan|\n",
            "|N161PQ |2008|Fixed wing multi engine|BOMBARDIER INC  |CL-600-2D24|2      |95   |NA   |Turbo-fan|\n",
            "+-------+----+-----------------------+----------------+-----------+-------+-----+-----+---------+\n",
            "only showing top 20 rows\n",
            "\n"
          ]
        }
      ]
    },
    {
      "cell_type": "code",
      "source": [
        "# Consulta df_planes_qa_manufacturer:\n",
        "\n",
        "con_qa_manufacturer = df_planes_qa_manufacturer.filter(df_planes_qa_manufacturer.qa_manufacturer == \"\")\n",
        "con_qa_manufacturer.show(truncate=False)\n"
      ],
      "metadata": {
        "colab": {
          "base_uri": "https://localhost:8080/"
        },
        "id": "9yth-Gh_S9ew",
        "outputId": "e983c6c4-4a31-45ef-b343-229961de9816"
      },
      "execution_count": 64,
      "outputs": [
        {
          "output_type": "stream",
          "name": "stdout",
          "text": [
            "+-------+----+----+------------+-----+-------+-----+-----+------+---------------+\n",
            "|tailnum|year|type|manufacturer|model|engines|seats|speed|engine|qa_manufacturer|\n",
            "+-------+----+----+------------+-----+-------+-----+-----+------+---------------+\n",
            "+-------+----+----+------------+-----+-------+-----+-----+------+---------------+\n",
            "\n"
          ]
        }
      ]
    },
    {
      "cell_type": "code",
      "source": [
        "# Impressão em tela:\n",
        "\n",
        "df_planes_qa_manufacturer.show()\n"
      ],
      "metadata": {
        "colab": {
          "base_uri": "https://localhost:8080/"
        },
        "id": "olLGShIaS9ql",
        "outputId": "b8104d0b-24c5-4755-a1c2-8056dd30609e"
      },
      "execution_count": 65,
      "outputs": [
        {
          "output_type": "stream",
          "name": "stdout",
          "text": [
            "+-------+----+--------------------+----------------+--------+-------+-----+-----+---------+---------------+\n",
            "|tailnum|year|                type|    manufacturer|   model|engines|seats|speed|   engine|qa_manufacturer|\n",
            "+-------+----+--------------------+----------------+--------+-------+-----+-----+---------+---------------+\n",
            "| N102UW|1998|Fixed wing multi ...|AIRBUS INDUSTRIE|A320-214|      2|  182|   NA|Turbo-fan|              C|\n",
            "| N103US|1999|Fixed wing multi ...|AIRBUS INDUSTRIE|A320-214|      2|  182|   NA|Turbo-fan|              C|\n",
            "| N104UW|1999|Fixed wing multi ...|AIRBUS INDUSTRIE|A320-214|      2|  182|   NA|Turbo-fan|              C|\n",
            "| N105UW|1999|Fixed wing multi ...|AIRBUS INDUSTRIE|A320-214|      2|  182|   NA|Turbo-fan|              C|\n",
            "| N107US|1999|Fixed wing multi ...|AIRBUS INDUSTRIE|A320-214|      2|  182|   NA|Turbo-fan|              C|\n",
            "| N108UW|1999|Fixed wing multi ...|AIRBUS INDUSTRIE|A320-214|      2|  182|   NA|Turbo-fan|              C|\n",
            "| N109UW|1999|Fixed wing multi ...|AIRBUS INDUSTRIE|A320-214|      2|  182|   NA|Turbo-fan|              C|\n",
            "| N110UW|1999|Fixed wing multi ...|AIRBUS INDUSTRIE|A320-214|      2|  182|   NA|Turbo-fan|              C|\n",
            "| N111US|1999|Fixed wing multi ...|AIRBUS INDUSTRIE|A320-214|      2|  182|   NA|Turbo-fan|              C|\n",
            "| N11206|2000|Fixed wing multi ...|          BOEING| 737-824|      2|  149|   NA|Turbo-fan|         BOEING|\n",
            "| N112US|1999|Fixed wing multi ...|AIRBUS INDUSTRIE|A320-214|      2|  182|   NA|Turbo-fan|              C|\n",
            "| N113UW|1999|Fixed wing multi ...|AIRBUS INDUSTRIE|A320-214|      2|  182|   NA|Turbo-fan|              C|\n",
            "| N114UW|1999|Fixed wing multi ...|AIRBUS INDUSTRIE|A320-214|      2|  182|   NA|Turbo-fan|              C|\n",
            "| N117UW|2000|Fixed wing multi ...|AIRBUS INDUSTRIE|A320-214|      2|  182|   NA|Turbo-fan|              C|\n",
            "| N118US|2000|Fixed wing multi ...|AIRBUS INDUSTRIE|A320-214|      2|  182|   NA|Turbo-fan|              C|\n",
            "| N119US|2000|Fixed wing multi ...|AIRBUS INDUSTRIE|A320-214|      2|  182|   NA|Turbo-fan|              C|\n",
            "| N1200K|1998|Fixed wing multi ...|          BOEING| 767-332|      2|  330|   NA|Turbo-fan|         BOEING|\n",
            "| N1201P|1998|Fixed wing multi ...|          BOEING| 767-332|      2|  330|   NA|Turbo-fan|         BOEING|\n",
            "| N12114|1995|Fixed wing multi ...|          BOEING| 757-224|      2|  178|   NA|Turbo-jet|         BOEING|\n",
            "| N121DE|1987|Fixed wing multi ...|          BOEING| 767-332|      2|  330|   NA|Turbo-fan|         BOEING|\n",
            "+-------+----+--------------------+----------------+--------+-------+-----+-----+---------+---------------+\n",
            "only showing top 20 rows\n",
            "\n"
          ]
        }
      ]
    },
    {
      "cell_type": "markdown",
      "source": [
        "5 - Crie a coluna qa_model e aponte inconsistências da coluna model de acordo com as regras abaixo.<br>\n",
        "M : Indica que está com dado faltante.<br>\n",
        "F : Indica que não respeita o formato esperado<br>\n",
        "Modelos AIRBUS devem começar com \"A\"<br>\n",
        "Modelos BOEING devem começar com \"7\"<br>\n",
        "Modelos BOMBARDIER e CANADAIR devem começar com \"CL\"<br>\n",
        "Modelos MCDONNELL DOUGLAS devem começar com \"MD\" ou \"DC\""
      ],
      "metadata": {
        "application/vnd.databricks.v1+cell": {
          "title": "",
          "showTitle": false,
          "inputWidgets": {},
          "nuid": "2eda36ae-a6f2-4c31-8381-54e0004c57c1"
        },
        "id": "3qGdy7uGLZXN"
      }
    },
    {
      "cell_type": "code",
      "source": [
        "df_planes_qa_model = df_planes.withColumn('qa_model',\n",
        "                                            expr(\"\"\"CASE \n",
        "                                                        WHEN model LIKE '' THEN 'M'\n",
        "                                                        WHEN (model = 'AIRBUS') AND  (model LIKE 'A%') THEN 'F'\n",
        "                                                        WHEN (model = 'BOEING') AND (model LIKE '7%') THEN 'F'\n",
        "                                                        WHEN (model = 'BOMBARDIER') AND (model LIKE 'MD%') THEN 'F'\n",
        "                                                        WHEN (model = 'CANADAIR') AND (model LIKE 'MD%') THEN 'F'\n",
        "                                                        WHEN (model = 'MCDONNELL DOUGLAS') AND (model LIKE 'MD%')THEN 'F'\n",
        "                                                        WHEN (model = 'MCDONNELL DOUGLAS') AND (model LIKE 'DC%' )THEN 'F'\n",
        "                                                        ELSE model\n",
        "                                                    END\"\"\"))\n"
      ],
      "metadata": {
        "id": "zkCZpr7Xkrcz"
      },
      "execution_count": 66,
      "outputs": []
    },
    {
      "cell_type": "code",
      "source": [
        "# Consulta df_planes:\n",
        "\n",
        "con_model = df_planes.filter(df_planes.model == '')\n",
        "con_model.show(truncate=False)\n"
      ],
      "metadata": {
        "colab": {
          "base_uri": "https://localhost:8080/"
        },
        "id": "ETiCU28t6kgD",
        "outputId": "b14db8e1-8d9c-4cd9-ea78-0857d2074049"
      },
      "execution_count": 67,
      "outputs": [
        {
          "output_type": "stream",
          "name": "stdout",
          "text": [
            "+-------+----+----+------------+-----+-------+-----+-----+------+\n",
            "|tailnum|year|type|manufacturer|model|engines|seats|speed|engine|\n",
            "+-------+----+----+------------+-----+-------+-----+-----+------+\n",
            "+-------+----+----+------------+-----+-------+-----+-----+------+\n",
            "\n"
          ]
        }
      ]
    },
    {
      "cell_type": "code",
      "source": [
        "# Consulta df_planes_qa_model:\n",
        "\n",
        "con_qa_model = df_planes_qa_model.filter(df_planes_qa_model.qa_model == \"M\")\n",
        "con_qa_model.show(truncate=False)\n"
      ],
      "metadata": {
        "colab": {
          "base_uri": "https://localhost:8080/"
        },
        "id": "laN99woJ6a8p",
        "outputId": "7ef1fd51-3e63-472f-d20d-71051258bf44"
      },
      "execution_count": 68,
      "outputs": [
        {
          "output_type": "stream",
          "name": "stdout",
          "text": [
            "+-------+----+----+------------+-----+-------+-----+-----+------+--------+\n",
            "|tailnum|year|type|manufacturer|model|engines|seats|speed|engine|qa_model|\n",
            "+-------+----+----+------------+-----+-------+-----+-----+------+--------+\n",
            "+-------+----+----+------------+-----+-------+-----+-----+------+--------+\n",
            "\n"
          ]
        }
      ]
    },
    {
      "cell_type": "code",
      "source": [
        "# Impressão em tela:\n",
        "\n",
        "df_planes_qa_model.show()\n"
      ],
      "metadata": {
        "colab": {
          "base_uri": "https://localhost:8080/"
        },
        "id": "lRDC7rm-6bb4",
        "outputId": "be26d5e5-6827-4f20-fd87-4052f2e98eb8"
      },
      "execution_count": 69,
      "outputs": [
        {
          "output_type": "stream",
          "name": "stdout",
          "text": [
            "+-------+----+--------------------+----------------+--------+-------+-----+-----+---------+--------+\n",
            "|tailnum|year|                type|    manufacturer|   model|engines|seats|speed|   engine|qa_model|\n",
            "+-------+----+--------------------+----------------+--------+-------+-----+-----+---------+--------+\n",
            "| N102UW|1998|Fixed wing multi ...|AIRBUS INDUSTRIE|A320-214|      2|  182|   NA|Turbo-fan|A320-214|\n",
            "| N103US|1999|Fixed wing multi ...|AIRBUS INDUSTRIE|A320-214|      2|  182|   NA|Turbo-fan|A320-214|\n",
            "| N104UW|1999|Fixed wing multi ...|AIRBUS INDUSTRIE|A320-214|      2|  182|   NA|Turbo-fan|A320-214|\n",
            "| N105UW|1999|Fixed wing multi ...|AIRBUS INDUSTRIE|A320-214|      2|  182|   NA|Turbo-fan|A320-214|\n",
            "| N107US|1999|Fixed wing multi ...|AIRBUS INDUSTRIE|A320-214|      2|  182|   NA|Turbo-fan|A320-214|\n",
            "| N108UW|1999|Fixed wing multi ...|AIRBUS INDUSTRIE|A320-214|      2|  182|   NA|Turbo-fan|A320-214|\n",
            "| N109UW|1999|Fixed wing multi ...|AIRBUS INDUSTRIE|A320-214|      2|  182|   NA|Turbo-fan|A320-214|\n",
            "| N110UW|1999|Fixed wing multi ...|AIRBUS INDUSTRIE|A320-214|      2|  182|   NA|Turbo-fan|A320-214|\n",
            "| N111US|1999|Fixed wing multi ...|AIRBUS INDUSTRIE|A320-214|      2|  182|   NA|Turbo-fan|A320-214|\n",
            "| N11206|2000|Fixed wing multi ...|          BOEING| 737-824|      2|  149|   NA|Turbo-fan| 737-824|\n",
            "| N112US|1999|Fixed wing multi ...|AIRBUS INDUSTRIE|A320-214|      2|  182|   NA|Turbo-fan|A320-214|\n",
            "| N113UW|1999|Fixed wing multi ...|AIRBUS INDUSTRIE|A320-214|      2|  182|   NA|Turbo-fan|A320-214|\n",
            "| N114UW|1999|Fixed wing multi ...|AIRBUS INDUSTRIE|A320-214|      2|  182|   NA|Turbo-fan|A320-214|\n",
            "| N117UW|2000|Fixed wing multi ...|AIRBUS INDUSTRIE|A320-214|      2|  182|   NA|Turbo-fan|A320-214|\n",
            "| N118US|2000|Fixed wing multi ...|AIRBUS INDUSTRIE|A320-214|      2|  182|   NA|Turbo-fan|A320-214|\n",
            "| N119US|2000|Fixed wing multi ...|AIRBUS INDUSTRIE|A320-214|      2|  182|   NA|Turbo-fan|A320-214|\n",
            "| N1200K|1998|Fixed wing multi ...|          BOEING| 767-332|      2|  330|   NA|Turbo-fan| 767-332|\n",
            "| N1201P|1998|Fixed wing multi ...|          BOEING| 767-332|      2|  330|   NA|Turbo-fan| 767-332|\n",
            "| N12114|1995|Fixed wing multi ...|          BOEING| 757-224|      2|  178|   NA|Turbo-jet| 757-224|\n",
            "| N121DE|1987|Fixed wing multi ...|          BOEING| 767-332|      2|  330|   NA|Turbo-fan| 767-332|\n",
            "+-------+----+--------------------+----------------+--------+-------+-----+-----+---------+--------+\n",
            "only showing top 20 rows\n",
            "\n"
          ]
        }
      ]
    },
    {
      "cell_type": "markdown",
      "source": [
        "6 - Crie a coluna qa_engines e aponte inconsistências da coluna engines de acordo com as regras\n",
        "abaixo.<br>\n",
        "M : Indica que está com dado faltante.<br>\n",
        "I : Indica que o valor excede o intervalo [1, 4].<br>\n",
        "A : Indica que o valor é alfanumérico."
      ],
      "metadata": {
        "application/vnd.databricks.v1+cell": {
          "title": "",
          "showTitle": false,
          "inputWidgets": {},
          "nuid": "472e247e-3f58-4d38-9ca3-67105ad81216"
        },
        "id": "xSgA2Gz-LZXO"
      }
    },
    {
      "cell_type": "code",
      "source": [
        "df_planes_qa_engines = df_planes.withColumn('qa_engines',\n",
        "                                        expr(\"\"\"CASE \n",
        "                                                    WHEN engines LIKE '' THEN 'M'\n",
        "                                                    WHEN (engines >= 1) OR (engines <= 4) THEN 'I'\n",
        "                                                    WHEN engines RLIKE '[a-zA-Z0-9]' THEN 'A'\n",
        "                                                    ELSE engines\n",
        "                                                END\"\"\"))\n"
      ],
      "metadata": {
        "id": "hbpxwNTKofGx"
      },
      "execution_count": 70,
      "outputs": []
    },
    {
      "cell_type": "code",
      "source": [
        "# Consulta df_planes:\n",
        "\n",
        "con_engines = df_planes.filter(df_planes.engines == '')\n",
        "con_engines.show(truncate=False)\n"
      ],
      "metadata": {
        "colab": {
          "base_uri": "https://localhost:8080/"
        },
        "id": "ywL4hpLe7Mhe",
        "outputId": "dd977f26-9252-44d7-a3f9-da5cff262c17"
      },
      "execution_count": 71,
      "outputs": [
        {
          "output_type": "stream",
          "name": "stdout",
          "text": [
            "+-------+----+----+------------+-----+-------+-----+-----+------+\n",
            "|tailnum|year|type|manufacturer|model|engines|seats|speed|engine|\n",
            "+-------+----+----+------------+-----+-------+-----+-----+------+\n",
            "+-------+----+----+------------+-----+-------+-----+-----+------+\n",
            "\n"
          ]
        }
      ]
    },
    {
      "cell_type": "code",
      "source": [
        "# Consulta df_planes_qa_engines:\n",
        "\n",
        "con_qa_engines = df_planes_qa_engines.filter(df_planes_qa_engines.qa_engines == \"M\")\n",
        "con_qa_engines.show(truncate=False)\n"
      ],
      "metadata": {
        "colab": {
          "base_uri": "https://localhost:8080/"
        },
        "id": "gZ2FVVm2oB2u",
        "outputId": "bd60e68b-ada4-4c1c-fa62-7d856e0a209c"
      },
      "execution_count": 72,
      "outputs": [
        {
          "output_type": "stream",
          "name": "stdout",
          "text": [
            "+-------+----+----+------------+-----+-------+-----+-----+------+----------+\n",
            "|tailnum|year|type|manufacturer|model|engines|seats|speed|engine|qa_engines|\n",
            "+-------+----+----+------------+-----+-------+-----+-----+------+----------+\n",
            "+-------+----+----+------------+-----+-------+-----+-----+------+----------+\n",
            "\n"
          ]
        }
      ]
    },
    {
      "cell_type": "code",
      "source": [
        "# Impressão em tela:\n",
        "\n",
        "df_planes_qa_engines.show()\n"
      ],
      "metadata": {
        "colab": {
          "base_uri": "https://localhost:8080/"
        },
        "id": "8QBMWS8noCJp",
        "outputId": "f3de5c8c-b37f-4556-8b05-77564902f771"
      },
      "execution_count": 73,
      "outputs": [
        {
          "output_type": "stream",
          "name": "stdout",
          "text": [
            "+-------+----+--------------------+----------------+--------+-------+-----+-----+---------+----------+\n",
            "|tailnum|year|                type|    manufacturer|   model|engines|seats|speed|   engine|qa_engines|\n",
            "+-------+----+--------------------+----------------+--------+-------+-----+-----+---------+----------+\n",
            "| N102UW|1998|Fixed wing multi ...|AIRBUS INDUSTRIE|A320-214|      2|  182|   NA|Turbo-fan|         I|\n",
            "| N103US|1999|Fixed wing multi ...|AIRBUS INDUSTRIE|A320-214|      2|  182|   NA|Turbo-fan|         I|\n",
            "| N104UW|1999|Fixed wing multi ...|AIRBUS INDUSTRIE|A320-214|      2|  182|   NA|Turbo-fan|         I|\n",
            "| N105UW|1999|Fixed wing multi ...|AIRBUS INDUSTRIE|A320-214|      2|  182|   NA|Turbo-fan|         I|\n",
            "| N107US|1999|Fixed wing multi ...|AIRBUS INDUSTRIE|A320-214|      2|  182|   NA|Turbo-fan|         I|\n",
            "| N108UW|1999|Fixed wing multi ...|AIRBUS INDUSTRIE|A320-214|      2|  182|   NA|Turbo-fan|         I|\n",
            "| N109UW|1999|Fixed wing multi ...|AIRBUS INDUSTRIE|A320-214|      2|  182|   NA|Turbo-fan|         I|\n",
            "| N110UW|1999|Fixed wing multi ...|AIRBUS INDUSTRIE|A320-214|      2|  182|   NA|Turbo-fan|         I|\n",
            "| N111US|1999|Fixed wing multi ...|AIRBUS INDUSTRIE|A320-214|      2|  182|   NA|Turbo-fan|         I|\n",
            "| N11206|2000|Fixed wing multi ...|          BOEING| 737-824|      2|  149|   NA|Turbo-fan|         I|\n",
            "| N112US|1999|Fixed wing multi ...|AIRBUS INDUSTRIE|A320-214|      2|  182|   NA|Turbo-fan|         I|\n",
            "| N113UW|1999|Fixed wing multi ...|AIRBUS INDUSTRIE|A320-214|      2|  182|   NA|Turbo-fan|         I|\n",
            "| N114UW|1999|Fixed wing multi ...|AIRBUS INDUSTRIE|A320-214|      2|  182|   NA|Turbo-fan|         I|\n",
            "| N117UW|2000|Fixed wing multi ...|AIRBUS INDUSTRIE|A320-214|      2|  182|   NA|Turbo-fan|         I|\n",
            "| N118US|2000|Fixed wing multi ...|AIRBUS INDUSTRIE|A320-214|      2|  182|   NA|Turbo-fan|         I|\n",
            "| N119US|2000|Fixed wing multi ...|AIRBUS INDUSTRIE|A320-214|      2|  182|   NA|Turbo-fan|         I|\n",
            "| N1200K|1998|Fixed wing multi ...|          BOEING| 767-332|      2|  330|   NA|Turbo-fan|         I|\n",
            "| N1201P|1998|Fixed wing multi ...|          BOEING| 767-332|      2|  330|   NA|Turbo-fan|         I|\n",
            "| N12114|1995|Fixed wing multi ...|          BOEING| 757-224|      2|  178|   NA|Turbo-jet|         I|\n",
            "| N121DE|1987|Fixed wing multi ...|          BOEING| 767-332|      2|  330|   NA|Turbo-fan|         I|\n",
            "+-------+----+--------------------+----------------+--------+-------+-----+-----+---------+----------+\n",
            "only showing top 20 rows\n",
            "\n"
          ]
        }
      ]
    },
    {
      "cell_type": "markdown",
      "source": [
        "7 - Crie a coluna qa_seats e aponte inconsistências da coluna seats de acordo com as regras abaixo.<br>\n",
        "M : Indica que está com dado faltante.<br><br>\n",
        "I : Indica que o valor excede o intervalo [2, 500].<br>\n",
        "A : Indica que o valor é alfanumérico."
      ],
      "metadata": {
        "application/vnd.databricks.v1+cell": {
          "title": "",
          "showTitle": false,
          "inputWidgets": {},
          "nuid": "e9bc4faf-5d21-459d-830e-5e72803dc686"
        },
        "id": "0LMkEEWJLZXO"
      }
    },
    {
      "cell_type": "code",
      "source": [
        "df_planes_qa_seats = df_planes.withColumn('qa_seats',\n",
        "                                        expr(\"\"\"CASE \n",
        "                                                    WHEN (seats >= 2) OR (seats <= 500) THEN 'I'\n",
        "                                                    WHEN seats RLIKE '[a-zA-Z0-9]' THEN 'A'\n",
        "                                                    ELSE seats\n",
        "                                                END\"\"\"))\n"
      ],
      "metadata": {
        "id": "wIy2yobgpedU"
      },
      "execution_count": 74,
      "outputs": []
    },
    {
      "cell_type": "code",
      "source": [
        "# Consulta df_planes:\n",
        "\n",
        "con_seats = df_planes.filter((df_planes.seats >= 2) | (df_planes.seats <= 500))\n",
        "con_seats.show(truncate=False)\n"
      ],
      "metadata": {
        "colab": {
          "base_uri": "https://localhost:8080/"
        },
        "id": "Aew15YBy7YsW",
        "outputId": "36dfd20a-fb2b-4b67-873d-7b89ea8a8fc2"
      },
      "execution_count": 75,
      "outputs": [
        {
          "output_type": "stream",
          "name": "stdout",
          "text": [
            "+-------+----+-----------------------+----------------+--------+-------+-----+-----+---------+\n",
            "|tailnum|year|type                   |manufacturer    |model   |engines|seats|speed|engine   |\n",
            "+-------+----+-----------------------+----------------+--------+-------+-----+-----+---------+\n",
            "|N102UW |1998|Fixed wing multi engine|AIRBUS INDUSTRIE|A320-214|2      |182  |NA   |Turbo-fan|\n",
            "|N103US |1999|Fixed wing multi engine|AIRBUS INDUSTRIE|A320-214|2      |182  |NA   |Turbo-fan|\n",
            "|N104UW |1999|Fixed wing multi engine|AIRBUS INDUSTRIE|A320-214|2      |182  |NA   |Turbo-fan|\n",
            "|N105UW |1999|Fixed wing multi engine|AIRBUS INDUSTRIE|A320-214|2      |182  |NA   |Turbo-fan|\n",
            "|N107US |1999|Fixed wing multi engine|AIRBUS INDUSTRIE|A320-214|2      |182  |NA   |Turbo-fan|\n",
            "|N108UW |1999|Fixed wing multi engine|AIRBUS INDUSTRIE|A320-214|2      |182  |NA   |Turbo-fan|\n",
            "|N109UW |1999|Fixed wing multi engine|AIRBUS INDUSTRIE|A320-214|2      |182  |NA   |Turbo-fan|\n",
            "|N110UW |1999|Fixed wing multi engine|AIRBUS INDUSTRIE|A320-214|2      |182  |NA   |Turbo-fan|\n",
            "|N111US |1999|Fixed wing multi engine|AIRBUS INDUSTRIE|A320-214|2      |182  |NA   |Turbo-fan|\n",
            "|N11206 |2000|Fixed wing multi engine|BOEING          |737-824 |2      |149  |NA   |Turbo-fan|\n",
            "|N112US |1999|Fixed wing multi engine|AIRBUS INDUSTRIE|A320-214|2      |182  |NA   |Turbo-fan|\n",
            "|N113UW |1999|Fixed wing multi engine|AIRBUS INDUSTRIE|A320-214|2      |182  |NA   |Turbo-fan|\n",
            "|N114UW |1999|Fixed wing multi engine|AIRBUS INDUSTRIE|A320-214|2      |182  |NA   |Turbo-fan|\n",
            "|N117UW |2000|Fixed wing multi engine|AIRBUS INDUSTRIE|A320-214|2      |182  |NA   |Turbo-fan|\n",
            "|N118US |2000|Fixed wing multi engine|AIRBUS INDUSTRIE|A320-214|2      |182  |NA   |Turbo-fan|\n",
            "|N119US |2000|Fixed wing multi engine|AIRBUS INDUSTRIE|A320-214|2      |182  |NA   |Turbo-fan|\n",
            "|N1200K |1998|Fixed wing multi engine|BOEING          |767-332 |2      |330  |NA   |Turbo-fan|\n",
            "|N1201P |1998|Fixed wing multi engine|BOEING          |767-332 |2      |330  |NA   |Turbo-fan|\n",
            "|N12114 |1995|Fixed wing multi engine|BOEING          |757-224 |2      |178  |NA   |Turbo-jet|\n",
            "|N121DE |1987|Fixed wing multi engine|BOEING          |767-332 |2      |330  |NA   |Turbo-fan|\n",
            "+-------+----+-----------------------+----------------+--------+-------+-----+-----+---------+\n",
            "only showing top 20 rows\n",
            "\n"
          ]
        }
      ]
    },
    {
      "cell_type": "code",
      "source": [
        "# Consulta df_planes_qa_seats:\n",
        "\n",
        "con_qa_seats = df_planes_qa_seats.filter(df_planes_qa_seats.qa_seats == \"M\")\n",
        "con_qa_seats.show(truncate=False)\n"
      ],
      "metadata": {
        "colab": {
          "base_uri": "https://localhost:8080/"
        },
        "id": "FJi9HX30olhc",
        "outputId": "0bb67e9f-29e0-4ce2-807e-a206f0387a08"
      },
      "execution_count": 76,
      "outputs": [
        {
          "output_type": "stream",
          "name": "stdout",
          "text": [
            "+-------+----+----+------------+-----+-------+-----+-----+------+--------+\n",
            "|tailnum|year|type|manufacturer|model|engines|seats|speed|engine|qa_seats|\n",
            "+-------+----+----+------------+-----+-------+-----+-----+------+--------+\n",
            "+-------+----+----+------------+-----+-------+-----+-----+------+--------+\n",
            "\n"
          ]
        }
      ]
    },
    {
      "cell_type": "code",
      "source": [
        "# Impressão em tela:\n",
        "\n",
        "df_planes_qa_seats.show()\n"
      ],
      "metadata": {
        "colab": {
          "base_uri": "https://localhost:8080/"
        },
        "id": "0-z9uQjbolsK",
        "outputId": "b75a290a-2a50-4099-8eef-121e6e976ae3"
      },
      "execution_count": 77,
      "outputs": [
        {
          "output_type": "stream",
          "name": "stdout",
          "text": [
            "+-------+----+--------------------+----------------+--------+-------+-----+-----+---------+--------+\n",
            "|tailnum|year|                type|    manufacturer|   model|engines|seats|speed|   engine|qa_seats|\n",
            "+-------+----+--------------------+----------------+--------+-------+-----+-----+---------+--------+\n",
            "| N102UW|1998|Fixed wing multi ...|AIRBUS INDUSTRIE|A320-214|      2|  182|   NA|Turbo-fan|       I|\n",
            "| N103US|1999|Fixed wing multi ...|AIRBUS INDUSTRIE|A320-214|      2|  182|   NA|Turbo-fan|       I|\n",
            "| N104UW|1999|Fixed wing multi ...|AIRBUS INDUSTRIE|A320-214|      2|  182|   NA|Turbo-fan|       I|\n",
            "| N105UW|1999|Fixed wing multi ...|AIRBUS INDUSTRIE|A320-214|      2|  182|   NA|Turbo-fan|       I|\n",
            "| N107US|1999|Fixed wing multi ...|AIRBUS INDUSTRIE|A320-214|      2|  182|   NA|Turbo-fan|       I|\n",
            "| N108UW|1999|Fixed wing multi ...|AIRBUS INDUSTRIE|A320-214|      2|  182|   NA|Turbo-fan|       I|\n",
            "| N109UW|1999|Fixed wing multi ...|AIRBUS INDUSTRIE|A320-214|      2|  182|   NA|Turbo-fan|       I|\n",
            "| N110UW|1999|Fixed wing multi ...|AIRBUS INDUSTRIE|A320-214|      2|  182|   NA|Turbo-fan|       I|\n",
            "| N111US|1999|Fixed wing multi ...|AIRBUS INDUSTRIE|A320-214|      2|  182|   NA|Turbo-fan|       I|\n",
            "| N11206|2000|Fixed wing multi ...|          BOEING| 737-824|      2|  149|   NA|Turbo-fan|       I|\n",
            "| N112US|1999|Fixed wing multi ...|AIRBUS INDUSTRIE|A320-214|      2|  182|   NA|Turbo-fan|       I|\n",
            "| N113UW|1999|Fixed wing multi ...|AIRBUS INDUSTRIE|A320-214|      2|  182|   NA|Turbo-fan|       I|\n",
            "| N114UW|1999|Fixed wing multi ...|AIRBUS INDUSTRIE|A320-214|      2|  182|   NA|Turbo-fan|       I|\n",
            "| N117UW|2000|Fixed wing multi ...|AIRBUS INDUSTRIE|A320-214|      2|  182|   NA|Turbo-fan|       I|\n",
            "| N118US|2000|Fixed wing multi ...|AIRBUS INDUSTRIE|A320-214|      2|  182|   NA|Turbo-fan|       I|\n",
            "| N119US|2000|Fixed wing multi ...|AIRBUS INDUSTRIE|A320-214|      2|  182|   NA|Turbo-fan|       I|\n",
            "| N1200K|1998|Fixed wing multi ...|          BOEING| 767-332|      2|  330|   NA|Turbo-fan|       I|\n",
            "| N1201P|1998|Fixed wing multi ...|          BOEING| 767-332|      2|  330|   NA|Turbo-fan|       I|\n",
            "| N12114|1995|Fixed wing multi ...|          BOEING| 757-224|      2|  178|   NA|Turbo-jet|       I|\n",
            "| N121DE|1987|Fixed wing multi ...|          BOEING| 767-332|      2|  330|   NA|Turbo-fan|       I|\n",
            "+-------+----+--------------------+----------------+--------+-------+-----+-----+---------+--------+\n",
            "only showing top 20 rows\n",
            "\n"
          ]
        }
      ]
    },
    {
      "cell_type": "markdown",
      "source": [
        "8 - Crie a coluna qa_speed e aponte inconsistências da coluna speed de acordo com as regras abaixo.<br>\n",
        "M : Indica que está com dado faltante.<br>\n",
        "I : Indica que o valor excede o intervalo [50, 150].<br>\n",
        "A : Indica que o valor é alfanumérico.<br>"
      ],
      "metadata": {
        "application/vnd.databricks.v1+cell": {
          "title": "",
          "showTitle": false,
          "inputWidgets": {},
          "nuid": "06b8ca48-5f32-4baa-8507-917c06bf2154"
        },
        "id": "5zwhrHMlLZXP"
      }
    },
    {
      "cell_type": "code",
      "source": [
        "df_planes_qa_speed = df_planes.withColumn('qa_speed',\n",
        "                                        expr(\"\"\"CASE \n",
        "                                                    WHEN speed LIKE '' THEN 'M'\n",
        "                                                    WHEN speed LIKE 'NA' THEN 'M'\n",
        "                                                    WHEN (speed >= 50) OR (speed <= 150) THEN 'I'\n",
        "                                                    WHEN speed RLIKE '[a-zA-Z0-9]' THEN 'A'\n",
        "                                                    ELSE speed\n",
        "                                                END\"\"\"))\n"
      ],
      "metadata": {
        "id": "MP8chNcopqSM"
      },
      "execution_count": 78,
      "outputs": []
    },
    {
      "cell_type": "code",
      "source": [
        "# Consulta df_planes:\n",
        "\n",
        "con_speed = df_planes.filter((df_planes.speed >= 50) | (df_planes.speed <= 150))\n",
        "con_speed.show(truncate=False)\n"
      ],
      "metadata": {
        "colab": {
          "base_uri": "https://localhost:8080/"
        },
        "id": "Hf3PC-qt7qr-",
        "outputId": "aa22fe6c-c259-433e-ef4e-cbbf806033ea"
      },
      "execution_count": 79,
      "outputs": [
        {
          "output_type": "stream",
          "name": "stdout",
          "text": [
            "+-------+----+------------------------+------------+----------+-------+-----+-----+-------------+\n",
            "|tailnum|year|type                    |manufacturer|model     |engines|seats|speed|engine       |\n",
            "+-------+----+------------------------+------------+----------+-------+-----+-----+-------------+\n",
            "|N201AA |1959|Fixed wing single engine|CESSNA      |150       |1      |2    |90   |Reciprocating|\n",
            "|N202AA |1980|Fixed wing multi engine |CESSNA      |421C      |2      |8    |90   |Reciprocating|\n",
            "|N425AA |1968|Fixed wing single engine|PIPER       |PA-28-180 |1      |4    |107  |Reciprocating|\n",
            "|N508AA |1975|Rotorcraft              |BELL        |206B      |1      |5    |112  |Turbo-shaft  |\n",
            "|N545AA |1976|Fixed wing single engine|PIPER       |PA-32R-300|1      |7    |126  |Reciprocating|\n",
            "|N621AA |1975|Fixed wing single engine|CESSNA      |172M      |1      |4    |108  |4 Cycle      |\n",
            "+-------+----+------------------------+------------+----------+-------+-----+-----+-------------+\n",
            "\n"
          ]
        }
      ]
    },
    {
      "cell_type": "code",
      "source": [
        "# Consulta df_planes_qa_speed:\n",
        "\n",
        "con_qa_speed = df_planes_qa_speed.filter(df_planes_qa_speed.qa_speed == \"M\")\n",
        "con_qa_speed.show(truncate=False)\n"
      ],
      "metadata": {
        "colab": {
          "base_uri": "https://localhost:8080/"
        },
        "id": "Bh6G4aXoo-zO",
        "outputId": "a37ac145-6cca-4ce2-844c-0a697bf48611"
      },
      "execution_count": 80,
      "outputs": [
        {
          "output_type": "stream",
          "name": "stdout",
          "text": [
            "+-------+----+-----------------------+----------------+--------+-------+-----+-----+---------+--------+\n",
            "|tailnum|year|type                   |manufacturer    |model   |engines|seats|speed|engine   |qa_speed|\n",
            "+-------+----+-----------------------+----------------+--------+-------+-----+-----+---------+--------+\n",
            "|N102UW |1998|Fixed wing multi engine|AIRBUS INDUSTRIE|A320-214|2      |182  |NA   |Turbo-fan|M       |\n",
            "|N103US |1999|Fixed wing multi engine|AIRBUS INDUSTRIE|A320-214|2      |182  |NA   |Turbo-fan|M       |\n",
            "|N104UW |1999|Fixed wing multi engine|AIRBUS INDUSTRIE|A320-214|2      |182  |NA   |Turbo-fan|M       |\n",
            "|N105UW |1999|Fixed wing multi engine|AIRBUS INDUSTRIE|A320-214|2      |182  |NA   |Turbo-fan|M       |\n",
            "|N107US |1999|Fixed wing multi engine|AIRBUS INDUSTRIE|A320-214|2      |182  |NA   |Turbo-fan|M       |\n",
            "|N108UW |1999|Fixed wing multi engine|AIRBUS INDUSTRIE|A320-214|2      |182  |NA   |Turbo-fan|M       |\n",
            "|N109UW |1999|Fixed wing multi engine|AIRBUS INDUSTRIE|A320-214|2      |182  |NA   |Turbo-fan|M       |\n",
            "|N110UW |1999|Fixed wing multi engine|AIRBUS INDUSTRIE|A320-214|2      |182  |NA   |Turbo-fan|M       |\n",
            "|N111US |1999|Fixed wing multi engine|AIRBUS INDUSTRIE|A320-214|2      |182  |NA   |Turbo-fan|M       |\n",
            "|N11206 |2000|Fixed wing multi engine|BOEING          |737-824 |2      |149  |NA   |Turbo-fan|M       |\n",
            "|N112US |1999|Fixed wing multi engine|AIRBUS INDUSTRIE|A320-214|2      |182  |NA   |Turbo-fan|M       |\n",
            "|N113UW |1999|Fixed wing multi engine|AIRBUS INDUSTRIE|A320-214|2      |182  |NA   |Turbo-fan|M       |\n",
            "|N114UW |1999|Fixed wing multi engine|AIRBUS INDUSTRIE|A320-214|2      |182  |NA   |Turbo-fan|M       |\n",
            "|N117UW |2000|Fixed wing multi engine|AIRBUS INDUSTRIE|A320-214|2      |182  |NA   |Turbo-fan|M       |\n",
            "|N118US |2000|Fixed wing multi engine|AIRBUS INDUSTRIE|A320-214|2      |182  |NA   |Turbo-fan|M       |\n",
            "|N119US |2000|Fixed wing multi engine|AIRBUS INDUSTRIE|A320-214|2      |182  |NA   |Turbo-fan|M       |\n",
            "|N1200K |1998|Fixed wing multi engine|BOEING          |767-332 |2      |330  |NA   |Turbo-fan|M       |\n",
            "|N1201P |1998|Fixed wing multi engine|BOEING          |767-332 |2      |330  |NA   |Turbo-fan|M       |\n",
            "|N12114 |1995|Fixed wing multi engine|BOEING          |757-224 |2      |178  |NA   |Turbo-jet|M       |\n",
            "|N121DE |1987|Fixed wing multi engine|BOEING          |767-332 |2      |330  |NA   |Turbo-fan|M       |\n",
            "+-------+----+-----------------------+----------------+--------+-------+-----+-----+---------+--------+\n",
            "only showing top 20 rows\n",
            "\n"
          ]
        }
      ]
    },
    {
      "cell_type": "code",
      "source": [
        "# Impressão em tela:\n",
        "\n",
        "df_planes_qa_speed.show()\n"
      ],
      "metadata": {
        "colab": {
          "base_uri": "https://localhost:8080/"
        },
        "id": "2Nd9RWS9o-3k",
        "outputId": "945e14c5-45a0-434c-d287-c351fe848ccc"
      },
      "execution_count": 81,
      "outputs": [
        {
          "output_type": "stream",
          "name": "stdout",
          "text": [
            "+-------+----+--------------------+----------------+--------+-------+-----+-----+---------+--------+\n",
            "|tailnum|year|                type|    manufacturer|   model|engines|seats|speed|   engine|qa_speed|\n",
            "+-------+----+--------------------+----------------+--------+-------+-----+-----+---------+--------+\n",
            "| N102UW|1998|Fixed wing multi ...|AIRBUS INDUSTRIE|A320-214|      2|  182|   NA|Turbo-fan|       M|\n",
            "| N103US|1999|Fixed wing multi ...|AIRBUS INDUSTRIE|A320-214|      2|  182|   NA|Turbo-fan|       M|\n",
            "| N104UW|1999|Fixed wing multi ...|AIRBUS INDUSTRIE|A320-214|      2|  182|   NA|Turbo-fan|       M|\n",
            "| N105UW|1999|Fixed wing multi ...|AIRBUS INDUSTRIE|A320-214|      2|  182|   NA|Turbo-fan|       M|\n",
            "| N107US|1999|Fixed wing multi ...|AIRBUS INDUSTRIE|A320-214|      2|  182|   NA|Turbo-fan|       M|\n",
            "| N108UW|1999|Fixed wing multi ...|AIRBUS INDUSTRIE|A320-214|      2|  182|   NA|Turbo-fan|       M|\n",
            "| N109UW|1999|Fixed wing multi ...|AIRBUS INDUSTRIE|A320-214|      2|  182|   NA|Turbo-fan|       M|\n",
            "| N110UW|1999|Fixed wing multi ...|AIRBUS INDUSTRIE|A320-214|      2|  182|   NA|Turbo-fan|       M|\n",
            "| N111US|1999|Fixed wing multi ...|AIRBUS INDUSTRIE|A320-214|      2|  182|   NA|Turbo-fan|       M|\n",
            "| N11206|2000|Fixed wing multi ...|          BOEING| 737-824|      2|  149|   NA|Turbo-fan|       M|\n",
            "| N112US|1999|Fixed wing multi ...|AIRBUS INDUSTRIE|A320-214|      2|  182|   NA|Turbo-fan|       M|\n",
            "| N113UW|1999|Fixed wing multi ...|AIRBUS INDUSTRIE|A320-214|      2|  182|   NA|Turbo-fan|       M|\n",
            "| N114UW|1999|Fixed wing multi ...|AIRBUS INDUSTRIE|A320-214|      2|  182|   NA|Turbo-fan|       M|\n",
            "| N117UW|2000|Fixed wing multi ...|AIRBUS INDUSTRIE|A320-214|      2|  182|   NA|Turbo-fan|       M|\n",
            "| N118US|2000|Fixed wing multi ...|AIRBUS INDUSTRIE|A320-214|      2|  182|   NA|Turbo-fan|       M|\n",
            "| N119US|2000|Fixed wing multi ...|AIRBUS INDUSTRIE|A320-214|      2|  182|   NA|Turbo-fan|       M|\n",
            "| N1200K|1998|Fixed wing multi ...|          BOEING| 767-332|      2|  330|   NA|Turbo-fan|       M|\n",
            "| N1201P|1998|Fixed wing multi ...|          BOEING| 767-332|      2|  330|   NA|Turbo-fan|       M|\n",
            "| N12114|1995|Fixed wing multi ...|          BOEING| 757-224|      2|  178|   NA|Turbo-jet|       M|\n",
            "| N121DE|1987|Fixed wing multi ...|          BOEING| 767-332|      2|  330|   NA|Turbo-fan|       M|\n",
            "+-------+----+--------------------+----------------+--------+-------+-----+-----+---------+--------+\n",
            "only showing top 20 rows\n",
            "\n"
          ]
        }
      ]
    },
    {
      "cell_type": "markdown",
      "source": [
        "9 - Crie a coluna qa_engine e aponte inconsistências da coluna engine de acordo com as regras\n",
        "abaixo.<br>\n",
        "M : Indica que está com dado faltante.<br>\n",
        "C : Indica que o valor não pertence a nenhuma categoria esperada:<br>\n",
        "Turbo-fan<br>\n",
        "Turbo-jet<br>\n",
        "Turbo-prop<br>\n",
        "Turbo-shaft<br>\n",
        "4 Cycle"
      ],
      "metadata": {
        "application/vnd.databricks.v1+cell": {
          "title": "",
          "showTitle": false,
          "inputWidgets": {},
          "nuid": "d221fa8d-38b9-4e28-a8c7-b7b67ab933c2"
        },
        "id": "aeFXaBuMLZXP"
      }
    },
    {
      "cell_type": "code",
      "source": [
        "df_planes_qa_engine = df_planes.withColumn('qa_engine',\n",
        "                                            expr(\"\"\"CASE \n",
        "                                                        WHEN engine LIKE'' THEN 'M'\n",
        "                                                        WHEN engine NOT IN ('Turbo-fan', 'Turbo-jet',\n",
        "                                                        'Turbo-prop', 'Turbo-shaft', '4 Cycle') THEN 'C'\n",
        "                                                        ELSE engine\n",
        "                                                    END\"\"\"))\n"
      ],
      "metadata": {
        "id": "3Iz4nEw6rAKn"
      },
      "execution_count": 82,
      "outputs": []
    },
    {
      "cell_type": "code",
      "source": [
        "# Consulta df_planes:\n",
        "\n",
        "con_engine = df_planes.filter(\"engine NOT IN ('Turbo-fan', 'Turbo-jet', 'Turbo-prop', 'Turbo-shaft', '4 Cycle')\")\n",
        "con_engine.show(truncate=False)\n"
      ],
      "metadata": {
        "colab": {
          "base_uri": "https://localhost:8080/"
        },
        "id": "EqPgA1u88KE3",
        "outputId": "c6db8d16-e27f-4339-fa15-dda9d6f030f4"
      },
      "execution_count": 83,
      "outputs": [
        {
          "output_type": "stream",
          "name": "stdout",
          "text": [
            "+-------+----+------------------------+------------------+-------------+-------+-----+-----+-------------+\n",
            "|tailnum|year|type                    |manufacturer      |model        |engines|seats|speed|engine       |\n",
            "+-------+----+------------------------+------------------+-------------+-------+-----+-----+-------------+\n",
            "|N201AA |1959|Fixed wing single engine|CESSNA            |150          |1      |2    |90   |Reciprocating|\n",
            "|N202AA |1980|Fixed wing multi engine |CESSNA            |421C         |2      |8    |90   |Reciprocating|\n",
            "|N425AA |1968|Fixed wing single engine|PIPER             |PA-28-180    |1      |4    |107  |Reciprocating|\n",
            "|N508JB |2007|Fixed wing single engine|CIRRUS DESIGN CORP|SR22         |1      |4    |NA   |Reciprocating|\n",
            "|N520AA |1985|Fixed wing single engine|KILDALL GARY      |FALCON-XP    |1      |2    |NA   |Reciprocating|\n",
            "|N528AA |NA  |Fixed wing single engine|LAMBERT RICHARD   |FALCON XP    |1      |2    |NA   |Reciprocating|\n",
            "|N531JB |NA  |Fixed wing single engine|BARKER JACK L     |ZODIAC 601HDS|1      |2    |NA   |Reciprocating|\n",
            "|N545AA |1976|Fixed wing single engine|PIPER             |PA-32R-300   |1      |7    |126  |Reciprocating|\n",
            "|N557AA |1993|Fixed wing single engine|MARZ BARRY        |KITFOX IV    |1      |2    |NA   |Reciprocating|\n",
            "|N575AA |1963|Fixed wing single engine|CESSNA            |210-5(205)   |1      |6    |NA   |Reciprocating|\n",
            "+-------+----+------------------------+------------------+-------------+-------+-----+-----+-------------+\n",
            "\n"
          ]
        }
      ]
    },
    {
      "cell_type": "code",
      "source": [
        "# Consulta df_planes_qa_engine:\n",
        "\n",
        "con_a_engine = df_planes_qa_engine.filter(df_planes_qa_engine.qa_engine == \"M\")\n",
        "con_a_engine.show(truncate=False)\n"
      ],
      "metadata": {
        "colab": {
          "base_uri": "https://localhost:8080/"
        },
        "id": "bs1bGfidqLpl",
        "outputId": "b13e45c2-949b-4ba9-b62c-b5a027cd5ac9"
      },
      "execution_count": 84,
      "outputs": [
        {
          "output_type": "stream",
          "name": "stdout",
          "text": [
            "+-------+----+----+------------+-----+-------+-----+-----+------+---------+\n",
            "|tailnum|year|type|manufacturer|model|engines|seats|speed|engine|qa_engine|\n",
            "+-------+----+----+------------+-----+-------+-----+-----+------+---------+\n",
            "+-------+----+----+------------+-----+-------+-----+-----+------+---------+\n",
            "\n"
          ]
        }
      ]
    },
    {
      "cell_type": "code",
      "source": [
        "# Impressão em tela:\n",
        "\n",
        "df_planes_qa_engine.show()\n"
      ],
      "metadata": {
        "colab": {
          "base_uri": "https://localhost:8080/"
        },
        "id": "5QI8g9bSqLv7",
        "outputId": "92e0b65f-7a26-4f8b-8156-2670352662eb"
      },
      "execution_count": 85,
      "outputs": [
        {
          "output_type": "stream",
          "name": "stdout",
          "text": [
            "+-------+----+--------------------+----------------+--------+-------+-----+-----+---------+---------+\n",
            "|tailnum|year|                type|    manufacturer|   model|engines|seats|speed|   engine|qa_engine|\n",
            "+-------+----+--------------------+----------------+--------+-------+-----+-----+---------+---------+\n",
            "| N102UW|1998|Fixed wing multi ...|AIRBUS INDUSTRIE|A320-214|      2|  182|   NA|Turbo-fan|Turbo-fan|\n",
            "| N103US|1999|Fixed wing multi ...|AIRBUS INDUSTRIE|A320-214|      2|  182|   NA|Turbo-fan|Turbo-fan|\n",
            "| N104UW|1999|Fixed wing multi ...|AIRBUS INDUSTRIE|A320-214|      2|  182|   NA|Turbo-fan|Turbo-fan|\n",
            "| N105UW|1999|Fixed wing multi ...|AIRBUS INDUSTRIE|A320-214|      2|  182|   NA|Turbo-fan|Turbo-fan|\n",
            "| N107US|1999|Fixed wing multi ...|AIRBUS INDUSTRIE|A320-214|      2|  182|   NA|Turbo-fan|Turbo-fan|\n",
            "| N108UW|1999|Fixed wing multi ...|AIRBUS INDUSTRIE|A320-214|      2|  182|   NA|Turbo-fan|Turbo-fan|\n",
            "| N109UW|1999|Fixed wing multi ...|AIRBUS INDUSTRIE|A320-214|      2|  182|   NA|Turbo-fan|Turbo-fan|\n",
            "| N110UW|1999|Fixed wing multi ...|AIRBUS INDUSTRIE|A320-214|      2|  182|   NA|Turbo-fan|Turbo-fan|\n",
            "| N111US|1999|Fixed wing multi ...|AIRBUS INDUSTRIE|A320-214|      2|  182|   NA|Turbo-fan|Turbo-fan|\n",
            "| N11206|2000|Fixed wing multi ...|          BOEING| 737-824|      2|  149|   NA|Turbo-fan|Turbo-fan|\n",
            "| N112US|1999|Fixed wing multi ...|AIRBUS INDUSTRIE|A320-214|      2|  182|   NA|Turbo-fan|Turbo-fan|\n",
            "| N113UW|1999|Fixed wing multi ...|AIRBUS INDUSTRIE|A320-214|      2|  182|   NA|Turbo-fan|Turbo-fan|\n",
            "| N114UW|1999|Fixed wing multi ...|AIRBUS INDUSTRIE|A320-214|      2|  182|   NA|Turbo-fan|Turbo-fan|\n",
            "| N117UW|2000|Fixed wing multi ...|AIRBUS INDUSTRIE|A320-214|      2|  182|   NA|Turbo-fan|Turbo-fan|\n",
            "| N118US|2000|Fixed wing multi ...|AIRBUS INDUSTRIE|A320-214|      2|  182|   NA|Turbo-fan|Turbo-fan|\n",
            "| N119US|2000|Fixed wing multi ...|AIRBUS INDUSTRIE|A320-214|      2|  182|   NA|Turbo-fan|Turbo-fan|\n",
            "| N1200K|1998|Fixed wing multi ...|          BOEING| 767-332|      2|  330|   NA|Turbo-fan|Turbo-fan|\n",
            "| N1201P|1998|Fixed wing multi ...|          BOEING| 767-332|      2|  330|   NA|Turbo-fan|Turbo-fan|\n",
            "| N12114|1995|Fixed wing multi ...|          BOEING| 757-224|      2|  178|   NA|Turbo-jet|Turbo-jet|\n",
            "| N121DE|1987|Fixed wing multi ...|          BOEING| 767-332|      2|  330|   NA|Turbo-fan|Turbo-fan|\n",
            "+-------+----+--------------------+----------------+--------+-------+-----+-----+---------+---------+\n",
            "only showing top 20 rows\n",
            "\n"
          ]
        }
      ]
    },
    {
      "cell_type": "markdown",
      "source": [
        "# Flights Dataset:"
      ],
      "metadata": {
        "application/vnd.databricks.v1+cell": {
          "title": "",
          "showTitle": false,
          "inputWidgets": {},
          "nuid": "f63f2996-a8d3-4c1e-bd8a-a2100550a9ab"
        },
        "id": "kt70zVSyLZXQ"
      }
    },
    {
      "cell_type": "code",
      "source": [
        "# Importação dos dados para o PySpark:\n",
        "# Download do http para arquivo local:\n",
        "\n",
        "!wget --quiet --show-progress https://drive.google.com/file/d/1ggZ_dBMvAkILRh-YrozqsvsXc2XYUYeG/view?usp=sharing\n",
        "\n",
        "# Carregar dados do Flights:\n",
        "\n",
        "df_flights = spark.read.csv(\"./flights.csv\", inferSchema=True, header=True)\n",
        "\n",
        "# Ver algumas informações sobre os tipos de dados de cada coluna:\n",
        "\n",
        "df_flights.printSchema()\n"
      ],
      "metadata": {
        "application/vnd.databricks.v1+cell": {
          "title": "",
          "showTitle": false,
          "inputWidgets": {},
          "nuid": "049d0a0d-40be-4002-a3f5-3274049ec707"
        },
        "id": "rUvSWsUJLZXR",
        "colab": {
          "base_uri": "https://localhost:8080/"
        },
        "outputId": "19ce1a75-f54f-4ff8-964c-1a9f6d5d2ca8"
      },
      "outputs": [
        {
          "output_type": "stream",
          "name": "stdout",
          "text": [
            "\rview?usp=sharing.2      [<=>                 ]       0  --.-KB/s               \rview?usp=sharing.2      [ <=>                ]  66.57K  --.-KB/s    in 0.003s  \n",
            "root\n",
            " |-- year: integer (nullable = true)\n",
            " |-- month: integer (nullable = true)\n",
            " |-- day: integer (nullable = true)\n",
            " |-- dep_time: string (nullable = true)\n",
            " |-- dep_delay: string (nullable = true)\n",
            " |-- arr_time: string (nullable = true)\n",
            " |-- arr_delay: string (nullable = true)\n",
            " |-- carrier: string (nullable = true)\n",
            " |-- tailnum: string (nullable = true)\n",
            " |-- flight: integer (nullable = true)\n",
            " |-- origin: string (nullable = true)\n",
            " |-- dest: string (nullable = true)\n",
            " |-- air_time: string (nullable = true)\n",
            " |-- distance: integer (nullable = true)\n",
            " |-- hour: string (nullable = true)\n",
            " |-- minute: string (nullable = true)\n",
            "\n"
          ]
        }
      ],
      "execution_count": 86
    },
    {
      "cell_type": "code",
      "source": [
        "df_flights.show()\n"
      ],
      "metadata": {
        "application/vnd.databricks.v1+cell": {
          "title": "",
          "showTitle": false,
          "inputWidgets": {},
          "nuid": "f342bc80-c27a-470f-b47b-a07fefb901c7"
        },
        "id": "3JR5euVQLZXS",
        "colab": {
          "base_uri": "https://localhost:8080/"
        },
        "outputId": "c580e77b-d2a9-4006-ccb2-bdde77241b61"
      },
      "outputs": [
        {
          "output_type": "stream",
          "name": "stdout",
          "text": [
            "+----+-----+---+--------+---------+--------+---------+-------+-------+------+------+----+--------+--------+----+------+\n",
            "|year|month|day|dep_time|dep_delay|arr_time|arr_delay|carrier|tailnum|flight|origin|dest|air_time|distance|hour|minute|\n",
            "+----+-----+---+--------+---------+--------+---------+-------+-------+------+------+----+--------+--------+----+------+\n",
            "|2014|   12|  8|     658|       -7|     935|       -5|     VX| N846VA|  1780|   SEA| LAX|     132|     954|   6|    58|\n",
            "|2014|    1| 22|    1040|        5|    1505|        5|     AS| N559AS|   851|   SEA| HNL|     360|    2677|  10|    40|\n",
            "|2014|    3|  9|    1443|       -2|    1652|        2|     VX| N847VA|   755|   SEA| SFO|     111|     679|  14|    43|\n",
            "|2014|    4|  9|    1705|       45|    1839|       34|     WN| N360SW|   344|   PDX| SJC|      83|     569|  17|     5|\n",
            "|2014|    3|  9|     754|       -1|    1015|        1|     AS| N612AS|   522|   SEA| BUR|     127|     937|   7|    54|\n",
            "|2014|    1| 15|    1037|        7|    1352|        2|     WN| N646SW|    48|   PDX| DEN|     121|     991|  10|    37|\n",
            "|2014|    7|  2|     847|       42|    1041|       51|     WN| N422WN|  1520|   PDX| OAK|      90|     543|   8|    47|\n",
            "|2014|    5| 12|    1655|       -5|    1842|      -18|     VX| N361VA|   755|   SEA| SFO|      98|     679|  16|    55|\n",
            "|2014|    4| 19|    1236|       -4|    1508|       -7|     AS| N309AS|   490|   SEA| SAN|     135|    1050|  12|    36|\n",
            "|2014|   11| 19|    1812|       -3|    2352|       -4|     AS| N564AS|    26|   SEA| ORD|     198|    1721|  18|    12|\n",
            "|2014|   11|  8|    1653|       -2|    1924|       -1|     AS| N323AS|   448|   SEA| LAX|     130|     954|  16|    53|\n",
            "|2014|    8|  3|    1120|        0|    1415|        2|     AS| N305AS|   656|   SEA| PHX|     154|    1107|  11|    20|\n",
            "|2014|   10| 30|     811|       21|    1038|       29|     AS| N433AS|   608|   SEA| LAS|     127|     867|   8|    11|\n",
            "|2014|   11| 12|    2346|       -4|     217|      -28|     AS| N765AS|   121|   SEA| ANC|     183|    1448|  23|    46|\n",
            "|2014|   10| 31|    1314|       89|    1544|      111|     AS| N713AS|   306|   SEA| SFO|     129|     679|  13|    14|\n",
            "|2014|    1| 29|    2009|        3|    2159|        9|     UA| N27205|  1458|   PDX| SFO|      90|     550|  20|     9|\n",
            "|2014|   12| 17|    2015|       50|    2150|       41|     AS| N626AS|   368|   SEA| SMF|      76|     605|  20|    15|\n",
            "|2014|    8| 11|    1017|       -3|    1613|       -7|     WN| N8634A|   827|   SEA| MDW|     216|    1733|  10|    17|\n",
            "|2014|    1| 13|    2156|       -9|     607|      -15|     AS| N597AS|    24|   SEA| BOS|     290|    2496|  21|    56|\n",
            "|2014|    6|  5|    1733|      -12|    1945|      -10|     OO| N215AG|  3488|   PDX| BUR|     111|     817|  17|    33|\n",
            "+----+-----+---+--------+---------+--------+---------+-------+-------+------+------+----+--------+--------+----+------+\n",
            "only showing top 20 rows\n",
            "\n"
          ]
        }
      ],
      "execution_count": 87
    },
    {
      "cell_type": "code",
      "source": [
        "df_flights.count()\n"
      ],
      "metadata": {
        "id": "benz8DnaqZWK",
        "colab": {
          "base_uri": "https://localhost:8080/"
        },
        "outputId": "16314be6-0a08-47fa-8c61-2bd2c696a00a"
      },
      "execution_count": 88,
      "outputs": [
        {
          "output_type": "execute_result",
          "data": {
            "text/plain": [
              "10000"
            ]
          },
          "metadata": {},
          "execution_count": 88
        }
      ]
    },
    {
      "cell_type": "code",
      "source": [
        "df_flights.fillna('').show()\n"
      ],
      "metadata": {
        "id": "J0LSRxWvkAaN",
        "colab": {
          "base_uri": "https://localhost:8080/"
        },
        "outputId": "b308d3c7-c9ba-4c29-b8e6-9fb49124efa9"
      },
      "execution_count": 89,
      "outputs": [
        {
          "output_type": "stream",
          "name": "stdout",
          "text": [
            "+----+-----+---+--------+---------+--------+---------+-------+-------+------+------+----+--------+--------+----+------+\n",
            "|year|month|day|dep_time|dep_delay|arr_time|arr_delay|carrier|tailnum|flight|origin|dest|air_time|distance|hour|minute|\n",
            "+----+-----+---+--------+---------+--------+---------+-------+-------+------+------+----+--------+--------+----+------+\n",
            "|2014|   12|  8|     658|       -7|     935|       -5|     VX| N846VA|  1780|   SEA| LAX|     132|     954|   6|    58|\n",
            "|2014|    1| 22|    1040|        5|    1505|        5|     AS| N559AS|   851|   SEA| HNL|     360|    2677|  10|    40|\n",
            "|2014|    3|  9|    1443|       -2|    1652|        2|     VX| N847VA|   755|   SEA| SFO|     111|     679|  14|    43|\n",
            "|2014|    4|  9|    1705|       45|    1839|       34|     WN| N360SW|   344|   PDX| SJC|      83|     569|  17|     5|\n",
            "|2014|    3|  9|     754|       -1|    1015|        1|     AS| N612AS|   522|   SEA| BUR|     127|     937|   7|    54|\n",
            "|2014|    1| 15|    1037|        7|    1352|        2|     WN| N646SW|    48|   PDX| DEN|     121|     991|  10|    37|\n",
            "|2014|    7|  2|     847|       42|    1041|       51|     WN| N422WN|  1520|   PDX| OAK|      90|     543|   8|    47|\n",
            "|2014|    5| 12|    1655|       -5|    1842|      -18|     VX| N361VA|   755|   SEA| SFO|      98|     679|  16|    55|\n",
            "|2014|    4| 19|    1236|       -4|    1508|       -7|     AS| N309AS|   490|   SEA| SAN|     135|    1050|  12|    36|\n",
            "|2014|   11| 19|    1812|       -3|    2352|       -4|     AS| N564AS|    26|   SEA| ORD|     198|    1721|  18|    12|\n",
            "|2014|   11|  8|    1653|       -2|    1924|       -1|     AS| N323AS|   448|   SEA| LAX|     130|     954|  16|    53|\n",
            "|2014|    8|  3|    1120|        0|    1415|        2|     AS| N305AS|   656|   SEA| PHX|     154|    1107|  11|    20|\n",
            "|2014|   10| 30|     811|       21|    1038|       29|     AS| N433AS|   608|   SEA| LAS|     127|     867|   8|    11|\n",
            "|2014|   11| 12|    2346|       -4|     217|      -28|     AS| N765AS|   121|   SEA| ANC|     183|    1448|  23|    46|\n",
            "|2014|   10| 31|    1314|       89|    1544|      111|     AS| N713AS|   306|   SEA| SFO|     129|     679|  13|    14|\n",
            "|2014|    1| 29|    2009|        3|    2159|        9|     UA| N27205|  1458|   PDX| SFO|      90|     550|  20|     9|\n",
            "|2014|   12| 17|    2015|       50|    2150|       41|     AS| N626AS|   368|   SEA| SMF|      76|     605|  20|    15|\n",
            "|2014|    8| 11|    1017|       -3|    1613|       -7|     WN| N8634A|   827|   SEA| MDW|     216|    1733|  10|    17|\n",
            "|2014|    1| 13|    2156|       -9|     607|      -15|     AS| N597AS|    24|   SEA| BOS|     290|    2496|  21|    56|\n",
            "|2014|    6|  5|    1733|      -12|    1945|      -10|     OO| N215AG|  3488|   PDX| BUR|     111|     817|  17|    33|\n",
            "+----+-----+---+--------+---------+--------+---------+-------+-------+------+------+----+--------+--------+----+------+\n",
            "only showing top 20 rows\n",
            "\n"
          ]
        }
      ]
    },
    {
      "cell_type": "code",
      "source": [
        "df_flights.fillna('').show()\n"
      ],
      "metadata": {
        "id": "t3ICs0PpocAX",
        "colab": {
          "base_uri": "https://localhost:8080/"
        },
        "outputId": "18d3927f-405f-481c-fd06-cdd245e852f5"
      },
      "execution_count": 90,
      "outputs": [
        {
          "output_type": "stream",
          "name": "stdout",
          "text": [
            "+----+-----+---+--------+---------+--------+---------+-------+-------+------+------+----+--------+--------+----+------+\n",
            "|year|month|day|dep_time|dep_delay|arr_time|arr_delay|carrier|tailnum|flight|origin|dest|air_time|distance|hour|minute|\n",
            "+----+-----+---+--------+---------+--------+---------+-------+-------+------+------+----+--------+--------+----+------+\n",
            "|2014|   12|  8|     658|       -7|     935|       -5|     VX| N846VA|  1780|   SEA| LAX|     132|     954|   6|    58|\n",
            "|2014|    1| 22|    1040|        5|    1505|        5|     AS| N559AS|   851|   SEA| HNL|     360|    2677|  10|    40|\n",
            "|2014|    3|  9|    1443|       -2|    1652|        2|     VX| N847VA|   755|   SEA| SFO|     111|     679|  14|    43|\n",
            "|2014|    4|  9|    1705|       45|    1839|       34|     WN| N360SW|   344|   PDX| SJC|      83|     569|  17|     5|\n",
            "|2014|    3|  9|     754|       -1|    1015|        1|     AS| N612AS|   522|   SEA| BUR|     127|     937|   7|    54|\n",
            "|2014|    1| 15|    1037|        7|    1352|        2|     WN| N646SW|    48|   PDX| DEN|     121|     991|  10|    37|\n",
            "|2014|    7|  2|     847|       42|    1041|       51|     WN| N422WN|  1520|   PDX| OAK|      90|     543|   8|    47|\n",
            "|2014|    5| 12|    1655|       -5|    1842|      -18|     VX| N361VA|   755|   SEA| SFO|      98|     679|  16|    55|\n",
            "|2014|    4| 19|    1236|       -4|    1508|       -7|     AS| N309AS|   490|   SEA| SAN|     135|    1050|  12|    36|\n",
            "|2014|   11| 19|    1812|       -3|    2352|       -4|     AS| N564AS|    26|   SEA| ORD|     198|    1721|  18|    12|\n",
            "|2014|   11|  8|    1653|       -2|    1924|       -1|     AS| N323AS|   448|   SEA| LAX|     130|     954|  16|    53|\n",
            "|2014|    8|  3|    1120|        0|    1415|        2|     AS| N305AS|   656|   SEA| PHX|     154|    1107|  11|    20|\n",
            "|2014|   10| 30|     811|       21|    1038|       29|     AS| N433AS|   608|   SEA| LAS|     127|     867|   8|    11|\n",
            "|2014|   11| 12|    2346|       -4|     217|      -28|     AS| N765AS|   121|   SEA| ANC|     183|    1448|  23|    46|\n",
            "|2014|   10| 31|    1314|       89|    1544|      111|     AS| N713AS|   306|   SEA| SFO|     129|     679|  13|    14|\n",
            "|2014|    1| 29|    2009|        3|    2159|        9|     UA| N27205|  1458|   PDX| SFO|      90|     550|  20|     9|\n",
            "|2014|   12| 17|    2015|       50|    2150|       41|     AS| N626AS|   368|   SEA| SMF|      76|     605|  20|    15|\n",
            "|2014|    8| 11|    1017|       -3|    1613|       -7|     WN| N8634A|   827|   SEA| MDW|     216|    1733|  10|    17|\n",
            "|2014|    1| 13|    2156|       -9|     607|      -15|     AS| N597AS|    24|   SEA| BOS|     290|    2496|  21|    56|\n",
            "|2014|    6|  5|    1733|      -12|    1945|      -10|     OO| N215AG|  3488|   PDX| BUR|     111|     817|  17|    33|\n",
            "+----+-----+---+--------+---------+--------+---------+-------+-------+------+------+----+--------+--------+----+------+\n",
            "only showing top 20 rows\n",
            "\n"
          ]
        }
      ]
    },
    {
      "cell_type": "code",
      "source": [
        "# Função inclui contagem, média, stddev, min e max.\n",
        "# Se nenhuma coluna for fornecida, esta função calcula estatísticas para todas as colunas numéricas ou de string:\n",
        "\n",
        "df_flights.describe().show()\n"
      ],
      "metadata": {
        "colab": {
          "base_uri": "https://localhost:8080/"
        },
        "id": "m0uVFDEBBlHV",
        "outputId": "02987703-f35f-4f04-ed54-6d305c93d456"
      },
      "execution_count": 91,
      "outputs": [
        {
          "output_type": "stream",
          "name": "stdout",
          "text": [
            "+-------+------+------------------+-----------------+------------------+------------------+------------------+------------------+-------+-------+-----------------+------+-----+------------------+-----------------+------------------+-----------------+\n",
            "|summary|  year|             month|              day|          dep_time|         dep_delay|          arr_time|         arr_delay|carrier|tailnum|           flight|origin| dest|          air_time|         distance|              hour|           minute|\n",
            "+-------+------+------------------+-----------------+------------------+------------------+------------------+------------------+-------+-------+-----------------+------+-----+------------------+-----------------+------------------+-----------------+\n",
            "|  count| 10000|             10000|            10000|             10000|             10000|             10000|             10000|  10000|  10000|            10000| 10000|10000|             10000|            10000|             10000|            10000|\n",
            "|   mean|2014.0|            6.6438|          15.7009|1277.1158561093248| 6.068629421221865|1477.7236802413272|2.2530982367758186|   null|   null|        1369.1011|  null| null|152.88423173803525|        1208.1516|12.465434083601286|30.57244774919614|\n",
            "| stddev|   0.0|3.3191600205962097|8.895142019392079| 524.1142951055886|28.808608062751805| 526.5936522261665|31.074918600451877|   null|   null|1498.714573831908|  null| null|  72.8656286392139|656.8599023464376| 5.246262953748826|17.98533264217002|\n",
            "|    min|  2014|                 1|                1|                 1|                -1|                 1|                -1|     AA| D942DN|                2|   PDX|  ABQ|               100|               93|                 0|                0|\n",
            "|    max|  2014|                12|               31|                NA|                NA|                NA|                NA|     WN|     NA|             6527|   SEA|  TUS|                NA|             2724|                NA|               NA|\n",
            "+-------+------+------------------+-----------------+------------------+------------------+------------------+------------------+-------+-------+-----------------+------+-----+------------------+-----------------+------------------+-----------------+\n",
            "\n"
          ]
        }
      ]
    },
    {
      "cell_type": "markdown",
      "source": [
        "Perguntas<br>\n",
        "Considere o dataset flights.csv para realizar as seguintes tarefas:"
      ],
      "metadata": {
        "application/vnd.databricks.v1+cell": {
          "title": "",
          "showTitle": false,
          "inputWidgets": {},
          "nuid": "23f3dd51-a226-4b86-9482-bd11587d6835"
        },
        "id": "E4pFuSjTLZXT"
      }
    },
    {
      "cell_type": "markdown",
      "source": [
        "1 - Crie a coluna qa_year_month_day e aponte inconsistências das colunas year , month , day de\n",
        "acordo com as regras abaixo.<br>\n",
        "MY : Indica que está com dado faltante no ano.<br>\n",
        "MM : Indica que está com dado faltante no mes.<br>\n",
        "MD : Indica que está com dado faltante no dia.<br>\n",
        "IY : Indica que o valor excede o intervalo [1950,+∞] no ano.<br>\n",
        "IM : Indica que o valor excede o intervalo [1, 12] no mês.<br>\n",
        "ID : Indica que o valor excede o intervalo [1, 31] no dia. No mês de Fevereiro o intervalo é [1, 29]."
      ],
      "metadata": {
        "application/vnd.databricks.v1+cell": {
          "title": "",
          "showTitle": false,
          "inputWidgets": {},
          "nuid": "af2199d7-7cdf-4d2b-93c0-aaa52efa4271"
        },
        "id": "ds0tgAfYLZXT"
      }
    },
    {
      "cell_type": "code",
      "source": [
        "df_flights_qa_year_month_day = df_flights.withColumn('qa_year_month_day',\n",
        "                                        expr(\"\"\"CASE \n",
        "                                                    WHEN year LIKE '' THEN 'MY'\n",
        "                                                    WHEN month LIKE '' THEN 'MM'\n",
        "                                                    WHEN day LIKE '' THEN 'MD'\n",
        "                                                    WHEN (year >= 1950) OR (year <= 2022) THEN 'IY'\n",
        "                                                    WHEN (month <= 1) or (month >= 12) THEN 'IM'\n",
        "                                                    WHEN (day <= 1) OR ((day >= 31) AND (day >= 29)) THEN 'ID'\n",
        "                                                    ELSE year\n",
        "                                                END\"\"\"))\n"
      ],
      "metadata": {
        "id": "ZOBx8PrKo4n-"
      },
      "execution_count": 92,
      "outputs": []
    },
    {
      "cell_type": "code",
      "source": [
        "# Consulta df_flights:\n",
        "\n",
        "con_year_month_day = df_flights.filter(df_flights.month == \"\")\n",
        "con_year_month_day.show(truncate=False)\n"
      ],
      "metadata": {
        "colab": {
          "base_uri": "https://localhost:8080/"
        },
        "id": "r-tYxb6S8mQF",
        "outputId": "7fc1a99b-fa31-428b-e5a1-cd64ba14f4d3"
      },
      "execution_count": 93,
      "outputs": [
        {
          "output_type": "stream",
          "name": "stdout",
          "text": [
            "+----+-----+---+--------+---------+--------+---------+-------+-------+------+------+----+--------+--------+----+------+\n",
            "|year|month|day|dep_time|dep_delay|arr_time|arr_delay|carrier|tailnum|flight|origin|dest|air_time|distance|hour|minute|\n",
            "+----+-----+---+--------+---------+--------+---------+-------+-------+------+------+----+--------+--------+----+------+\n",
            "+----+-----+---+--------+---------+--------+---------+-------+-------+------+------+----+--------+--------+----+------+\n",
            "\n"
          ]
        }
      ]
    },
    {
      "cell_type": "code",
      "source": [
        "# Consulta df_flights_qa_year_month_day:\n",
        "\n",
        "con_qa_year_month_day = df_flights_qa_year_month_day.filter(df_flights_qa_year_month_day.qa_year_month_day == \"MM\")\n",
        "con_qa_year_month_day.show(truncate=False)\n"
      ],
      "metadata": {
        "colab": {
          "base_uri": "https://localhost:8080/"
        },
        "id": "MH1jxTzlrGEL",
        "outputId": "9f7fe71f-ffce-4530-e5e4-1176fea194d0"
      },
      "execution_count": 94,
      "outputs": [
        {
          "output_type": "stream",
          "name": "stdout",
          "text": [
            "+----+-----+---+--------+---------+--------+---------+-------+-------+------+------+----+--------+--------+----+------+-----------------+\n",
            "|year|month|day|dep_time|dep_delay|arr_time|arr_delay|carrier|tailnum|flight|origin|dest|air_time|distance|hour|minute|qa_year_month_day|\n",
            "+----+-----+---+--------+---------+--------+---------+-------+-------+------+------+----+--------+--------+----+------+-----------------+\n",
            "+----+-----+---+--------+---------+--------+---------+-------+-------+------+------+----+--------+--------+----+------+-----------------+\n",
            "\n"
          ]
        }
      ]
    },
    {
      "cell_type": "code",
      "source": [
        "# Impressão em tela:\n",
        "\n",
        "df_flights_qa_year_month_day.show()\n"
      ],
      "metadata": {
        "colab": {
          "base_uri": "https://localhost:8080/"
        },
        "id": "oX02Rd09rGMJ",
        "outputId": "c5b3d341-c49a-4d3a-ca2d-1e2d629493d1"
      },
      "execution_count": 95,
      "outputs": [
        {
          "output_type": "stream",
          "name": "stdout",
          "text": [
            "+----+-----+---+--------+---------+--------+---------+-------+-------+------+------+----+--------+--------+----+------+-----------------+\n",
            "|year|month|day|dep_time|dep_delay|arr_time|arr_delay|carrier|tailnum|flight|origin|dest|air_time|distance|hour|minute|qa_year_month_day|\n",
            "+----+-----+---+--------+---------+--------+---------+-------+-------+------+------+----+--------+--------+----+------+-----------------+\n",
            "|2014|   12|  8|     658|       -7|     935|       -5|     VX| N846VA|  1780|   SEA| LAX|     132|     954|   6|    58|               IY|\n",
            "|2014|    1| 22|    1040|        5|    1505|        5|     AS| N559AS|   851|   SEA| HNL|     360|    2677|  10|    40|               IY|\n",
            "|2014|    3|  9|    1443|       -2|    1652|        2|     VX| N847VA|   755|   SEA| SFO|     111|     679|  14|    43|               IY|\n",
            "|2014|    4|  9|    1705|       45|    1839|       34|     WN| N360SW|   344|   PDX| SJC|      83|     569|  17|     5|               IY|\n",
            "|2014|    3|  9|     754|       -1|    1015|        1|     AS| N612AS|   522|   SEA| BUR|     127|     937|   7|    54|               IY|\n",
            "|2014|    1| 15|    1037|        7|    1352|        2|     WN| N646SW|    48|   PDX| DEN|     121|     991|  10|    37|               IY|\n",
            "|2014|    7|  2|     847|       42|    1041|       51|     WN| N422WN|  1520|   PDX| OAK|      90|     543|   8|    47|               IY|\n",
            "|2014|    5| 12|    1655|       -5|    1842|      -18|     VX| N361VA|   755|   SEA| SFO|      98|     679|  16|    55|               IY|\n",
            "|2014|    4| 19|    1236|       -4|    1508|       -7|     AS| N309AS|   490|   SEA| SAN|     135|    1050|  12|    36|               IY|\n",
            "|2014|   11| 19|    1812|       -3|    2352|       -4|     AS| N564AS|    26|   SEA| ORD|     198|    1721|  18|    12|               IY|\n",
            "|2014|   11|  8|    1653|       -2|    1924|       -1|     AS| N323AS|   448|   SEA| LAX|     130|     954|  16|    53|               IY|\n",
            "|2014|    8|  3|    1120|        0|    1415|        2|     AS| N305AS|   656|   SEA| PHX|     154|    1107|  11|    20|               IY|\n",
            "|2014|   10| 30|     811|       21|    1038|       29|     AS| N433AS|   608|   SEA| LAS|     127|     867|   8|    11|               IY|\n",
            "|2014|   11| 12|    2346|       -4|     217|      -28|     AS| N765AS|   121|   SEA| ANC|     183|    1448|  23|    46|               IY|\n",
            "|2014|   10| 31|    1314|       89|    1544|      111|     AS| N713AS|   306|   SEA| SFO|     129|     679|  13|    14|               IY|\n",
            "|2014|    1| 29|    2009|        3|    2159|        9|     UA| N27205|  1458|   PDX| SFO|      90|     550|  20|     9|               IY|\n",
            "|2014|   12| 17|    2015|       50|    2150|       41|     AS| N626AS|   368|   SEA| SMF|      76|     605|  20|    15|               IY|\n",
            "|2014|    8| 11|    1017|       -3|    1613|       -7|     WN| N8634A|   827|   SEA| MDW|     216|    1733|  10|    17|               IY|\n",
            "|2014|    1| 13|    2156|       -9|     607|      -15|     AS| N597AS|    24|   SEA| BOS|     290|    2496|  21|    56|               IY|\n",
            "|2014|    6|  5|    1733|      -12|    1945|      -10|     OO| N215AG|  3488|   PDX| BUR|     111|     817|  17|    33|               IY|\n",
            "+----+-----+---+--------+---------+--------+---------+-------+-------+------+------+----+--------+--------+----+------+-----------------+\n",
            "only showing top 20 rows\n",
            "\n"
          ]
        }
      ]
    },
    {
      "cell_type": "markdown",
      "source": [
        "2 - Crie a coluna qa_hour_minute e aponte inconsistencias das colunas hour e minute de acordo\n",
        "com as regras abaixo.<br>\n",
        "MH : Indica que está com dado faltante na hora.<br>\n",
        "MM : Indica que está com dado faltante no minuto.<br>\n",
        "IH : Indica que o valor excede o intervalo na hora [0, 24].<br>\n",
        "IM : Indica que o valor excede o intervalo no minuto [0, 59].<br>"
      ],
      "metadata": {
        "application/vnd.databricks.v1+cell": {
          "title": "",
          "showTitle": false,
          "inputWidgets": {},
          "nuid": "c531772a-1aa3-473f-869c-d21d532c3f35"
        },
        "id": "nZXXDMwQLZXU"
      }
    },
    {
      "cell_type": "code",
      "source": [
        "df_flights_qa_hour_minute = df_flights.withColumn('qa_hour_minute',\n",
        "                                        expr(\"\"\"CASE \n",
        "                                                    WHEN hour LIKE '' THEN 'MH'\n",
        "                                                    WHEN minute LIKE '' THEN 'MM'\n",
        "                                                    WHEN (hour <= 0) OR (hour >= 24) THEN 'IH'\n",
        "                                                    WHEN (minute <= 0) OR (minute >= 59) THEN 'IM'                                                  \n",
        "                                                    ELSE hour\n",
        "                                                END\"\"\"))\n"
      ],
      "metadata": {
        "id": "iUa1MmA5PgqI"
      },
      "execution_count": 96,
      "outputs": []
    },
    {
      "cell_type": "code",
      "source": [
        "# Consulta df_flights:\n",
        "\n",
        "con_hour_minute = df_flights.filter(df_flights.hour == \"\")\n",
        "con_hour_minute.show(truncate=False)\n"
      ],
      "metadata": {
        "colab": {
          "base_uri": "https://localhost:8080/"
        },
        "id": "ofVFTfzC8zJP",
        "outputId": "388f0b7b-36ec-4593-ac60-f33a3beb180a"
      },
      "execution_count": 97,
      "outputs": [
        {
          "output_type": "stream",
          "name": "stdout",
          "text": [
            "+----+-----+---+--------+---------+--------+---------+-------+-------+------+------+----+--------+--------+----+------+\n",
            "|year|month|day|dep_time|dep_delay|arr_time|arr_delay|carrier|tailnum|flight|origin|dest|air_time|distance|hour|minute|\n",
            "+----+-----+---+--------+---------+--------+---------+-------+-------+------+------+----+--------+--------+----+------+\n",
            "+----+-----+---+--------+---------+--------+---------+-------+-------+------+------+----+--------+--------+----+------+\n",
            "\n"
          ]
        }
      ]
    },
    {
      "cell_type": "code",
      "source": [
        "# Consulta df_flights_qa_hour_minute:\n",
        "\n",
        "con_qa_hour_minute = df_flights_qa_hour_minute.filter(df_flights_qa_hour_minute.qa_hour_minute == \"MM\")\n",
        "con_qa_hour_minute.show(truncate=False)\n"
      ],
      "metadata": {
        "colab": {
          "base_uri": "https://localhost:8080/"
        },
        "id": "BQ391VFErtXw",
        "outputId": "ed675c51-07f4-4de5-a1c6-3313c5606e9f"
      },
      "execution_count": 98,
      "outputs": [
        {
          "output_type": "stream",
          "name": "stdout",
          "text": [
            "+----+-----+---+--------+---------+--------+---------+-------+-------+------+------+----+--------+--------+----+------+--------------+\n",
            "|year|month|day|dep_time|dep_delay|arr_time|arr_delay|carrier|tailnum|flight|origin|dest|air_time|distance|hour|minute|qa_hour_minute|\n",
            "+----+-----+---+--------+---------+--------+---------+-------+-------+------+------+----+--------+--------+----+------+--------------+\n",
            "+----+-----+---+--------+---------+--------+---------+-------+-------+------+------+----+--------+--------+----+------+--------------+\n",
            "\n"
          ]
        }
      ]
    },
    {
      "cell_type": "code",
      "source": [
        "# Impressão em tela:\n",
        "\n",
        "df_flights_qa_hour_minute.show()\n"
      ],
      "metadata": {
        "colab": {
          "base_uri": "https://localhost:8080/"
        },
        "id": "2zy_q6u_rtn3",
        "outputId": "6b72242e-c168-4597-e247-a9992ffcda6d"
      },
      "execution_count": 99,
      "outputs": [
        {
          "output_type": "stream",
          "name": "stdout",
          "text": [
            "+----+-----+---+--------+---------+--------+---------+-------+-------+------+------+----+--------+--------+----+------+--------------+\n",
            "|year|month|day|dep_time|dep_delay|arr_time|arr_delay|carrier|tailnum|flight|origin|dest|air_time|distance|hour|minute|qa_hour_minute|\n",
            "+----+-----+---+--------+---------+--------+---------+-------+-------+------+------+----+--------+--------+----+------+--------------+\n",
            "|2014|   12|  8|     658|       -7|     935|       -5|     VX| N846VA|  1780|   SEA| LAX|     132|     954|   6|    58|             6|\n",
            "|2014|    1| 22|    1040|        5|    1505|        5|     AS| N559AS|   851|   SEA| HNL|     360|    2677|  10|    40|            10|\n",
            "|2014|    3|  9|    1443|       -2|    1652|        2|     VX| N847VA|   755|   SEA| SFO|     111|     679|  14|    43|            14|\n",
            "|2014|    4|  9|    1705|       45|    1839|       34|     WN| N360SW|   344|   PDX| SJC|      83|     569|  17|     5|            17|\n",
            "|2014|    3|  9|     754|       -1|    1015|        1|     AS| N612AS|   522|   SEA| BUR|     127|     937|   7|    54|             7|\n",
            "|2014|    1| 15|    1037|        7|    1352|        2|     WN| N646SW|    48|   PDX| DEN|     121|     991|  10|    37|            10|\n",
            "|2014|    7|  2|     847|       42|    1041|       51|     WN| N422WN|  1520|   PDX| OAK|      90|     543|   8|    47|             8|\n",
            "|2014|    5| 12|    1655|       -5|    1842|      -18|     VX| N361VA|   755|   SEA| SFO|      98|     679|  16|    55|            16|\n",
            "|2014|    4| 19|    1236|       -4|    1508|       -7|     AS| N309AS|   490|   SEA| SAN|     135|    1050|  12|    36|            12|\n",
            "|2014|   11| 19|    1812|       -3|    2352|       -4|     AS| N564AS|    26|   SEA| ORD|     198|    1721|  18|    12|            18|\n",
            "|2014|   11|  8|    1653|       -2|    1924|       -1|     AS| N323AS|   448|   SEA| LAX|     130|     954|  16|    53|            16|\n",
            "|2014|    8|  3|    1120|        0|    1415|        2|     AS| N305AS|   656|   SEA| PHX|     154|    1107|  11|    20|            11|\n",
            "|2014|   10| 30|     811|       21|    1038|       29|     AS| N433AS|   608|   SEA| LAS|     127|     867|   8|    11|             8|\n",
            "|2014|   11| 12|    2346|       -4|     217|      -28|     AS| N765AS|   121|   SEA| ANC|     183|    1448|  23|    46|            23|\n",
            "|2014|   10| 31|    1314|       89|    1544|      111|     AS| N713AS|   306|   SEA| SFO|     129|     679|  13|    14|            13|\n",
            "|2014|    1| 29|    2009|        3|    2159|        9|     UA| N27205|  1458|   PDX| SFO|      90|     550|  20|     9|            20|\n",
            "|2014|   12| 17|    2015|       50|    2150|       41|     AS| N626AS|   368|   SEA| SMF|      76|     605|  20|    15|            20|\n",
            "|2014|    8| 11|    1017|       -3|    1613|       -7|     WN| N8634A|   827|   SEA| MDW|     216|    1733|  10|    17|            10|\n",
            "|2014|    1| 13|    2156|       -9|     607|      -15|     AS| N597AS|    24|   SEA| BOS|     290|    2496|  21|    56|            21|\n",
            "|2014|    6|  5|    1733|      -12|    1945|      -10|     OO| N215AG|  3488|   PDX| BUR|     111|     817|  17|    33|            17|\n",
            "+----+-----+---+--------+---------+--------+---------+-------+-------+------+------+----+--------+--------+----+------+--------------+\n",
            "only showing top 20 rows\n",
            "\n"
          ]
        }
      ]
    },
    {
      "cell_type": "markdown",
      "source": [
        "3 - Crie a coluna qa_dep_arr_time e aponte inconsistências da coluna dep_time e arr_time de\n",
        "acordo com as regras abaixo.<br>\n",
        "MD : Indica que está com dado faltante no dep_time .<br>\n",
        "MA : Indica que está com dado faltante no arr_time .<br>\n",
        "FD : Indica que não respeita o formato esperado (HHMM ou HMM) no dep_time .<br>\n",
        "FA : Indica que não respeita o formato esperado (HHMM ou HMM) no arr_time .<br>"
      ],
      "metadata": {
        "application/vnd.databricks.v1+cell": {
          "title": "",
          "showTitle": false,
          "inputWidgets": {},
          "nuid": "1f993d9c-a3ba-4cc7-a743-9ebd28a26ac6"
        },
        "id": "YJjyiXFOLZXV"
      }
    },
    {
      "cell_type": "code",
      "source": [
        "df_flights_qa_dep_arr_time = df_flights.withColumn('qa_dep_arr_time',\n",
        "                                        expr(\"\"\"CASE \n",
        "                                                    WHEN dep_time LIKE '' THEN 'MD'\n",
        "                                                    WHEN dep_time NOT LIKE '%H_%_%M%' THEN 'FD'\n",
        "                                                    WHEN dep_time NOT LIKE '%H_%M%' THEN 'FD'\n",
        "                                                    WHEN arr_time LIKE '' THEN 'MA'\n",
        "                                                    WHEN arr_time NOT LIKE '%H_%_%M%' THEN 'FA'\n",
        "                                                    WHEN arr_time NOT LIKE '%H_%M%' THEN 'FA'                                                   \n",
        "                                                    ELSE dep_time\n",
        "                                                END\"\"\"))\n"
      ],
      "metadata": {
        "id": "wbly7WXmPqMr"
      },
      "execution_count": 100,
      "outputs": []
    },
    {
      "cell_type": "code",
      "source": [
        "# Consulta df_flights:\n",
        "\n",
        "con_dep_arr_time = df_flights.filter(df_flights.dep_time == \"\")\n",
        "con_dep_arr_time.show(truncate=False)\n"
      ],
      "metadata": {
        "colab": {
          "base_uri": "https://localhost:8080/"
        },
        "id": "XCftkoSx9D9P",
        "outputId": "c8cd7777-bd43-435d-e940-6ff865aa5d7b"
      },
      "execution_count": 101,
      "outputs": [
        {
          "output_type": "stream",
          "name": "stdout",
          "text": [
            "+----+-----+---+--------+---------+--------+---------+-------+-------+------+------+----+--------+--------+----+------+\n",
            "|year|month|day|dep_time|dep_delay|arr_time|arr_delay|carrier|tailnum|flight|origin|dest|air_time|distance|hour|minute|\n",
            "+----+-----+---+--------+---------+--------+---------+-------+-------+------+------+----+--------+--------+----+------+\n",
            "+----+-----+---+--------+---------+--------+---------+-------+-------+------+------+----+--------+--------+----+------+\n",
            "\n"
          ]
        }
      ]
    },
    {
      "cell_type": "code",
      "source": [
        "# Consulta df_flights_qa_dep_arr_time:\n",
        "\n",
        "con_qa_dep_arr_time = df_flights_qa_dep_arr_time.filter(df_flights_qa_dep_arr_time.qa_dep_arr_time == \"MD\")\n",
        "con_qa_dep_arr_time.show(truncate=False)\n"
      ],
      "metadata": {
        "colab": {
          "base_uri": "https://localhost:8080/"
        },
        "id": "TUUpx6HjsxkP",
        "outputId": "5e5285ac-fa63-4f2e-d469-7d3fde1b32d0"
      },
      "execution_count": 102,
      "outputs": [
        {
          "output_type": "stream",
          "name": "stdout",
          "text": [
            "+----+-----+---+--------+---------+--------+---------+-------+-------+------+------+----+--------+--------+----+------+---------------+\n",
            "|year|month|day|dep_time|dep_delay|arr_time|arr_delay|carrier|tailnum|flight|origin|dest|air_time|distance|hour|minute|qa_dep_arr_time|\n",
            "+----+-----+---+--------+---------+--------+---------+-------+-------+------+------+----+--------+--------+----+------+---------------+\n",
            "+----+-----+---+--------+---------+--------+---------+-------+-------+------+------+----+--------+--------+----+------+---------------+\n",
            "\n"
          ]
        }
      ]
    },
    {
      "cell_type": "code",
      "source": [
        "# Impressão em tela:\n",
        "\n",
        "df_flights_qa_dep_arr_time.show()\n"
      ],
      "metadata": {
        "colab": {
          "base_uri": "https://localhost:8080/"
        },
        "id": "gJc6cMwksxqV",
        "outputId": "2cde8995-4826-457f-98f6-a2fff275b201"
      },
      "execution_count": 103,
      "outputs": [
        {
          "output_type": "stream",
          "name": "stdout",
          "text": [
            "+----+-----+---+--------+---------+--------+---------+-------+-------+------+------+----+--------+--------+----+------+---------------+\n",
            "|year|month|day|dep_time|dep_delay|arr_time|arr_delay|carrier|tailnum|flight|origin|dest|air_time|distance|hour|minute|qa_dep_arr_time|\n",
            "+----+-----+---+--------+---------+--------+---------+-------+-------+------+------+----+--------+--------+----+------+---------------+\n",
            "|2014|   12|  8|     658|       -7|     935|       -5|     VX| N846VA|  1780|   SEA| LAX|     132|     954|   6|    58|             FD|\n",
            "|2014|    1| 22|    1040|        5|    1505|        5|     AS| N559AS|   851|   SEA| HNL|     360|    2677|  10|    40|             FD|\n",
            "|2014|    3|  9|    1443|       -2|    1652|        2|     VX| N847VA|   755|   SEA| SFO|     111|     679|  14|    43|             FD|\n",
            "|2014|    4|  9|    1705|       45|    1839|       34|     WN| N360SW|   344|   PDX| SJC|      83|     569|  17|     5|             FD|\n",
            "|2014|    3|  9|     754|       -1|    1015|        1|     AS| N612AS|   522|   SEA| BUR|     127|     937|   7|    54|             FD|\n",
            "|2014|    1| 15|    1037|        7|    1352|        2|     WN| N646SW|    48|   PDX| DEN|     121|     991|  10|    37|             FD|\n",
            "|2014|    7|  2|     847|       42|    1041|       51|     WN| N422WN|  1520|   PDX| OAK|      90|     543|   8|    47|             FD|\n",
            "|2014|    5| 12|    1655|       -5|    1842|      -18|     VX| N361VA|   755|   SEA| SFO|      98|     679|  16|    55|             FD|\n",
            "|2014|    4| 19|    1236|       -4|    1508|       -7|     AS| N309AS|   490|   SEA| SAN|     135|    1050|  12|    36|             FD|\n",
            "|2014|   11| 19|    1812|       -3|    2352|       -4|     AS| N564AS|    26|   SEA| ORD|     198|    1721|  18|    12|             FD|\n",
            "|2014|   11|  8|    1653|       -2|    1924|       -1|     AS| N323AS|   448|   SEA| LAX|     130|     954|  16|    53|             FD|\n",
            "|2014|    8|  3|    1120|        0|    1415|        2|     AS| N305AS|   656|   SEA| PHX|     154|    1107|  11|    20|             FD|\n",
            "|2014|   10| 30|     811|       21|    1038|       29|     AS| N433AS|   608|   SEA| LAS|     127|     867|   8|    11|             FD|\n",
            "|2014|   11| 12|    2346|       -4|     217|      -28|     AS| N765AS|   121|   SEA| ANC|     183|    1448|  23|    46|             FD|\n",
            "|2014|   10| 31|    1314|       89|    1544|      111|     AS| N713AS|   306|   SEA| SFO|     129|     679|  13|    14|             FD|\n",
            "|2014|    1| 29|    2009|        3|    2159|        9|     UA| N27205|  1458|   PDX| SFO|      90|     550|  20|     9|             FD|\n",
            "|2014|   12| 17|    2015|       50|    2150|       41|     AS| N626AS|   368|   SEA| SMF|      76|     605|  20|    15|             FD|\n",
            "|2014|    8| 11|    1017|       -3|    1613|       -7|     WN| N8634A|   827|   SEA| MDW|     216|    1733|  10|    17|             FD|\n",
            "|2014|    1| 13|    2156|       -9|     607|      -15|     AS| N597AS|    24|   SEA| BOS|     290|    2496|  21|    56|             FD|\n",
            "|2014|    6|  5|    1733|      -12|    1945|      -10|     OO| N215AG|  3488|   PDX| BUR|     111|     817|  17|    33|             FD|\n",
            "+----+-----+---+--------+---------+--------+---------+-------+-------+------+------+----+--------+--------+----+------+---------------+\n",
            "only showing top 20 rows\n",
            "\n"
          ]
        }
      ]
    },
    {
      "cell_type": "markdown",
      "source": [
        "4 - Crie a coluna qa_dep_arr_delay e aponte inconsistências da coluna dep_delay e arr_delay de\n",
        "acordo com as regras abaixo.<br>\n",
        "MD : Indica que está com dado faltante no dep_delay .<br>\n",
        "MA : Indica que está com dado faltante no arr_delay .<br>"
      ],
      "metadata": {
        "application/vnd.databricks.v1+cell": {
          "title": "",
          "showTitle": false,
          "inputWidgets": {},
          "nuid": "80e2a6f8-cc92-4010-9671-27c35aebe440"
        },
        "id": "Vo-FNidtLZXV"
      }
    },
    {
      "cell_type": "code",
      "source": [
        "df_flights_qa_dep_arr_delay = df_flights.withColumn('qa_dep_arr_delay',\n",
        "                                        expr(\"\"\"CASE \n",
        "                                                    WHEN dep_delay LIKE '' THEN 'MD'\n",
        "                                                    WHEN arr_delay LIKE '' THEN 'MA'\n",
        "                                                    ELSE dep_delay\n",
        "                                                END\"\"\"))\n"
      ],
      "metadata": {
        "id": "gE6UL5hwQrms"
      },
      "execution_count": 104,
      "outputs": []
    },
    {
      "cell_type": "code",
      "source": [
        "# Consulta df_flights:\n",
        "\n",
        "con_dep_arr_delay = df_flights.filter(df_flights.dep_delay == \"\")\n",
        "con_dep_arr_delay.show(truncate=False)\n"
      ],
      "metadata": {
        "colab": {
          "base_uri": "https://localhost:8080/"
        },
        "id": "xQ0TSpAU9OJV",
        "outputId": "ab8247c9-914c-405f-d6ce-dd93f66017b1"
      },
      "execution_count": 105,
      "outputs": [
        {
          "output_type": "stream",
          "name": "stdout",
          "text": [
            "+----+-----+---+--------+---------+--------+---------+-------+-------+------+------+----+--------+--------+----+------+\n",
            "|year|month|day|dep_time|dep_delay|arr_time|arr_delay|carrier|tailnum|flight|origin|dest|air_time|distance|hour|minute|\n",
            "+----+-----+---+--------+---------+--------+---------+-------+-------+------+------+----+--------+--------+----+------+\n",
            "+----+-----+---+--------+---------+--------+---------+-------+-------+------+------+----+--------+--------+----+------+\n",
            "\n"
          ]
        }
      ]
    },
    {
      "cell_type": "code",
      "source": [
        "# Consulta df_flights_qa_dep_arr_delay:\n",
        "\n",
        "con_qa_dep_arr_delay = df_flights_qa_dep_arr_delay.filter(df_flights_qa_dep_arr_delay.qa_dep_arr_delay == \"MD\")\n",
        "con_qa_dep_arr_delay.show(truncate=False)\n"
      ],
      "metadata": {
        "colab": {
          "base_uri": "https://localhost:8080/"
        },
        "id": "K6h7GYIbtIul",
        "outputId": "c25c39fc-5200-43d2-fb39-41dae504cb8e"
      },
      "execution_count": 106,
      "outputs": [
        {
          "output_type": "stream",
          "name": "stdout",
          "text": [
            "+----+-----+---+--------+---------+--------+---------+-------+-------+------+------+----+--------+--------+----+------+----------------+\n",
            "|year|month|day|dep_time|dep_delay|arr_time|arr_delay|carrier|tailnum|flight|origin|dest|air_time|distance|hour|minute|qa_dep_arr_delay|\n",
            "+----+-----+---+--------+---------+--------+---------+-------+-------+------+------+----+--------+--------+----+------+----------------+\n",
            "+----+-----+---+--------+---------+--------+---------+-------+-------+------+------+----+--------+--------+----+------+----------------+\n",
            "\n"
          ]
        }
      ]
    },
    {
      "cell_type": "code",
      "source": [
        "# Impressão em tela:\n",
        "\n",
        "df_flights_qa_dep_arr_delay.show()\n"
      ],
      "metadata": {
        "colab": {
          "base_uri": "https://localhost:8080/"
        },
        "id": "7_2VcVcLtI16",
        "outputId": "6eed4360-b02b-4c63-8c19-8ee892e052f1"
      },
      "execution_count": 107,
      "outputs": [
        {
          "output_type": "stream",
          "name": "stdout",
          "text": [
            "+----+-----+---+--------+---------+--------+---------+-------+-------+------+------+----+--------+--------+----+------+----------------+\n",
            "|year|month|day|dep_time|dep_delay|arr_time|arr_delay|carrier|tailnum|flight|origin|dest|air_time|distance|hour|minute|qa_dep_arr_delay|\n",
            "+----+-----+---+--------+---------+--------+---------+-------+-------+------+------+----+--------+--------+----+------+----------------+\n",
            "|2014|   12|  8|     658|       -7|     935|       -5|     VX| N846VA|  1780|   SEA| LAX|     132|     954|   6|    58|              -7|\n",
            "|2014|    1| 22|    1040|        5|    1505|        5|     AS| N559AS|   851|   SEA| HNL|     360|    2677|  10|    40|               5|\n",
            "|2014|    3|  9|    1443|       -2|    1652|        2|     VX| N847VA|   755|   SEA| SFO|     111|     679|  14|    43|              -2|\n",
            "|2014|    4|  9|    1705|       45|    1839|       34|     WN| N360SW|   344|   PDX| SJC|      83|     569|  17|     5|              45|\n",
            "|2014|    3|  9|     754|       -1|    1015|        1|     AS| N612AS|   522|   SEA| BUR|     127|     937|   7|    54|              -1|\n",
            "|2014|    1| 15|    1037|        7|    1352|        2|     WN| N646SW|    48|   PDX| DEN|     121|     991|  10|    37|               7|\n",
            "|2014|    7|  2|     847|       42|    1041|       51|     WN| N422WN|  1520|   PDX| OAK|      90|     543|   8|    47|              42|\n",
            "|2014|    5| 12|    1655|       -5|    1842|      -18|     VX| N361VA|   755|   SEA| SFO|      98|     679|  16|    55|              -5|\n",
            "|2014|    4| 19|    1236|       -4|    1508|       -7|     AS| N309AS|   490|   SEA| SAN|     135|    1050|  12|    36|              -4|\n",
            "|2014|   11| 19|    1812|       -3|    2352|       -4|     AS| N564AS|    26|   SEA| ORD|     198|    1721|  18|    12|              -3|\n",
            "|2014|   11|  8|    1653|       -2|    1924|       -1|     AS| N323AS|   448|   SEA| LAX|     130|     954|  16|    53|              -2|\n",
            "|2014|    8|  3|    1120|        0|    1415|        2|     AS| N305AS|   656|   SEA| PHX|     154|    1107|  11|    20|               0|\n",
            "|2014|   10| 30|     811|       21|    1038|       29|     AS| N433AS|   608|   SEA| LAS|     127|     867|   8|    11|              21|\n",
            "|2014|   11| 12|    2346|       -4|     217|      -28|     AS| N765AS|   121|   SEA| ANC|     183|    1448|  23|    46|              -4|\n",
            "|2014|   10| 31|    1314|       89|    1544|      111|     AS| N713AS|   306|   SEA| SFO|     129|     679|  13|    14|              89|\n",
            "|2014|    1| 29|    2009|        3|    2159|        9|     UA| N27205|  1458|   PDX| SFO|      90|     550|  20|     9|               3|\n",
            "|2014|   12| 17|    2015|       50|    2150|       41|     AS| N626AS|   368|   SEA| SMF|      76|     605|  20|    15|              50|\n",
            "|2014|    8| 11|    1017|       -3|    1613|       -7|     WN| N8634A|   827|   SEA| MDW|     216|    1733|  10|    17|              -3|\n",
            "|2014|    1| 13|    2156|       -9|     607|      -15|     AS| N597AS|    24|   SEA| BOS|     290|    2496|  21|    56|              -9|\n",
            "|2014|    6|  5|    1733|      -12|    1945|      -10|     OO| N215AG|  3488|   PDX| BUR|     111|     817|  17|    33|             -12|\n",
            "+----+-----+---+--------+---------+--------+---------+-------+-------+------+------+----+--------+--------+----+------+----------------+\n",
            "only showing top 20 rows\n",
            "\n"
          ]
        }
      ]
    },
    {
      "cell_type": "markdown",
      "source": [
        "5 - Crie a coluna qa_carrier e aponte inconsistências da coluna carrier de acordo com as regras\n",
        "abaixo.<br>\n",
        "M : Indica que está com dado faltante.<br>\n",
        "F : Indica que não respeita o formato esperado (2 caracteres alfanuméricos).<br>"
      ],
      "metadata": {
        "application/vnd.databricks.v1+cell": {
          "title": "",
          "showTitle": false,
          "inputWidgets": {},
          "nuid": "ff210613-286f-48a3-8d63-5368bf9f2462"
        },
        "id": "5YPELYglLZXW"
      }
    },
    {
      "cell_type": "code",
      "source": [
        "df_flights_qa_carrier = df_flights.withColumn('qa_carrier',\n",
        "                                        expr(\"\"\"CASE\n",
        " \t\t\t\t\t\t                                        WHEN carrier LIKE '' THEN 'M'\n",
        "                                                    WHEN (carrier != 2 ) AND (carrier RLIKE '[a-zA-Z0-9]') THEN 'F'\n",
        "                                                    ELSE carrier\n",
        "                                                END\"\"\"))\n"
      ],
      "metadata": {
        "id": "fYvpk9BRRDRq"
      },
      "execution_count": 108,
      "outputs": []
    },
    {
      "cell_type": "code",
      "source": [
        "# Consulta df_flights:\n",
        "\n",
        "con_carrier = df_flights.filter(df_flights.carrier != 2)\n",
        "con_carrier.show(truncate=False)"
      ],
      "metadata": {
        "colab": {
          "base_uri": "https://localhost:8080/"
        },
        "id": "9T3MDpxn9YQL",
        "outputId": "6547d941-5cac-4d3d-dc46-14d90d5aa0df"
      },
      "execution_count": 109,
      "outputs": [
        {
          "output_type": "stream",
          "name": "stdout",
          "text": [
            "+----+-----+---+--------+---------+--------+---------+-------+-------+------+------+----+--------+--------+----+------+\n",
            "|year|month|day|dep_time|dep_delay|arr_time|arr_delay|carrier|tailnum|flight|origin|dest|air_time|distance|hour|minute|\n",
            "+----+-----+---+--------+---------+--------+---------+-------+-------+------+------+----+--------+--------+----+------+\n",
            "+----+-----+---+--------+---------+--------+---------+-------+-------+------+------+----+--------+--------+----+------+\n",
            "\n"
          ]
        }
      ]
    },
    {
      "cell_type": "code",
      "source": [
        "# Consulta df_flights_qa_carrier:\n",
        "\n",
        "con_qa_carrier = df_flights_qa_carrier.filter(df_flights_qa_carrier.qa_carrier == \"M\")\n",
        "con_qa_carrier.show(truncate=False)\n"
      ],
      "metadata": {
        "colab": {
          "base_uri": "https://localhost:8080/"
        },
        "id": "Sx9kfS31tbn1",
        "outputId": "3bb862b5-ef7e-4b5e-eff3-adaed27b37f1"
      },
      "execution_count": 110,
      "outputs": [
        {
          "output_type": "stream",
          "name": "stdout",
          "text": [
            "+----+-----+---+--------+---------+--------+---------+-------+-------+------+------+----+--------+--------+----+------+----------+\n",
            "|year|month|day|dep_time|dep_delay|arr_time|arr_delay|carrier|tailnum|flight|origin|dest|air_time|distance|hour|minute|qa_carrier|\n",
            "+----+-----+---+--------+---------+--------+---------+-------+-------+------+------+----+--------+--------+----+------+----------+\n",
            "+----+-----+---+--------+---------+--------+---------+-------+-------+------+------+----+--------+--------+----+------+----------+\n",
            "\n"
          ]
        }
      ]
    },
    {
      "cell_type": "code",
      "source": [
        "# Impressão em tela:\n",
        "\n",
        "df_flights_qa_carrier.show()\n"
      ],
      "metadata": {
        "colab": {
          "base_uri": "https://localhost:8080/"
        },
        "id": "OcMmdLzAtbrr",
        "outputId": "0b11b0bb-20ae-4c70-9013-4bb7d66616c3"
      },
      "execution_count": 111,
      "outputs": [
        {
          "output_type": "stream",
          "name": "stdout",
          "text": [
            "+----+-----+---+--------+---------+--------+---------+-------+-------+------+------+----+--------+--------+----+------+----------+\n",
            "|year|month|day|dep_time|dep_delay|arr_time|arr_delay|carrier|tailnum|flight|origin|dest|air_time|distance|hour|minute|qa_carrier|\n",
            "+----+-----+---+--------+---------+--------+---------+-------+-------+------+------+----+--------+--------+----+------+----------+\n",
            "|2014|   12|  8|     658|       -7|     935|       -5|     VX| N846VA|  1780|   SEA| LAX|     132|     954|   6|    58|        VX|\n",
            "|2014|    1| 22|    1040|        5|    1505|        5|     AS| N559AS|   851|   SEA| HNL|     360|    2677|  10|    40|        AS|\n",
            "|2014|    3|  9|    1443|       -2|    1652|        2|     VX| N847VA|   755|   SEA| SFO|     111|     679|  14|    43|        VX|\n",
            "|2014|    4|  9|    1705|       45|    1839|       34|     WN| N360SW|   344|   PDX| SJC|      83|     569|  17|     5|        WN|\n",
            "|2014|    3|  9|     754|       -1|    1015|        1|     AS| N612AS|   522|   SEA| BUR|     127|     937|   7|    54|        AS|\n",
            "|2014|    1| 15|    1037|        7|    1352|        2|     WN| N646SW|    48|   PDX| DEN|     121|     991|  10|    37|        WN|\n",
            "|2014|    7|  2|     847|       42|    1041|       51|     WN| N422WN|  1520|   PDX| OAK|      90|     543|   8|    47|        WN|\n",
            "|2014|    5| 12|    1655|       -5|    1842|      -18|     VX| N361VA|   755|   SEA| SFO|      98|     679|  16|    55|        VX|\n",
            "|2014|    4| 19|    1236|       -4|    1508|       -7|     AS| N309AS|   490|   SEA| SAN|     135|    1050|  12|    36|        AS|\n",
            "|2014|   11| 19|    1812|       -3|    2352|       -4|     AS| N564AS|    26|   SEA| ORD|     198|    1721|  18|    12|        AS|\n",
            "|2014|   11|  8|    1653|       -2|    1924|       -1|     AS| N323AS|   448|   SEA| LAX|     130|     954|  16|    53|        AS|\n",
            "|2014|    8|  3|    1120|        0|    1415|        2|     AS| N305AS|   656|   SEA| PHX|     154|    1107|  11|    20|        AS|\n",
            "|2014|   10| 30|     811|       21|    1038|       29|     AS| N433AS|   608|   SEA| LAS|     127|     867|   8|    11|        AS|\n",
            "|2014|   11| 12|    2346|       -4|     217|      -28|     AS| N765AS|   121|   SEA| ANC|     183|    1448|  23|    46|        AS|\n",
            "|2014|   10| 31|    1314|       89|    1544|      111|     AS| N713AS|   306|   SEA| SFO|     129|     679|  13|    14|        AS|\n",
            "|2014|    1| 29|    2009|        3|    2159|        9|     UA| N27205|  1458|   PDX| SFO|      90|     550|  20|     9|        UA|\n",
            "|2014|   12| 17|    2015|       50|    2150|       41|     AS| N626AS|   368|   SEA| SMF|      76|     605|  20|    15|        AS|\n",
            "|2014|    8| 11|    1017|       -3|    1613|       -7|     WN| N8634A|   827|   SEA| MDW|     216|    1733|  10|    17|        WN|\n",
            "|2014|    1| 13|    2156|       -9|     607|      -15|     AS| N597AS|    24|   SEA| BOS|     290|    2496|  21|    56|        AS|\n",
            "|2014|    6|  5|    1733|      -12|    1945|      -10|     OO| N215AG|  3488|   PDX| BUR|     111|     817|  17|    33|        OO|\n",
            "+----+-----+---+--------+---------+--------+---------+-------+-------+------+------+----+--------+--------+----+------+----------+\n",
            "only showing top 20 rows\n",
            "\n"
          ]
        }
      ]
    },
    {
      "cell_type": "markdown",
      "source": [
        "6 - Crie a coluna qa_tailnum e aponte inconsistências da coluna tailnum de acordo com as regras\n",
        "abaixo.<br>\n",
        "M : Indica que está com dado faltante.<br>\n",
        "S : Indica que não tem o número de caracteres esperado.<br>\n",
        "F : Indica que não respeita o formato esperado (ex. N1234Z ou N123AZ).<br>\n",
        "FN : Indica que não inicia com a letra \"N\".<br>\n",
        "FE : Indica que contém caracteres inválidos (\"I\", \"O\", ou 0 como primeiro digito).<br>"
      ],
      "metadata": {
        "application/vnd.databricks.v1+cell": {
          "title": "",
          "showTitle": false,
          "inputWidgets": {},
          "nuid": "3e739a7a-7d6d-45fc-ba4d-e2ceaca25bab"
        },
        "id": "RxKSUGeyLZXW"
      }
    },
    {
      "cell_type": "code",
      "source": [
        "df_flights_qa_tailnum = df_flights.withColumn('qa_tailnum',\n",
        "                                            expr(\"\"\"CASE \n",
        "                                                        WHEN tailnum LIKE '' THEN 'M'\n",
        "                                                        WHEN tailnum != 5 THEN 'S'\n",
        "                                                        WHEN tailnum NOT LIKE 'N_%_%_%_%Z' THEN 'F'\n",
        "                                                        WHEN tailnum NOT LIKE 'N_%_%_%AZ' THEN 'F'\n",
        "                                                        WHEN tailnum NOT LIKE 'N%' THEN 'FN'\n",
        "                                                        WHEN tailnum NOT IN ('I', 'O', 0) THEN 'FE'\n",
        "                                                        ELSE tailnum\n",
        "                                                    END\"\"\"))\n"
      ],
      "metadata": {
        "id": "Pti0zP4PR4zH"
      },
      "execution_count": 112,
      "outputs": []
    },
    {
      "cell_type": "code",
      "source": [
        "# Consulta df_flights:\n",
        "\n",
        "con_tailnum = df_flights.filter(\"tailnum NOT IN ('I', 'O', 0)\")\n",
        "con_tailnum.show(truncate=False)\n"
      ],
      "metadata": {
        "colab": {
          "base_uri": "https://localhost:8080/"
        },
        "id": "3x_zUzj29qDM",
        "outputId": "721a91c3-3960-4c83-eca3-6d3f92c4bcbd"
      },
      "execution_count": 113,
      "outputs": [
        {
          "output_type": "stream",
          "name": "stdout",
          "text": [
            "+----+-----+---+--------+---------+--------+---------+-------+-------+------+------+----+--------+--------+----+------+\n",
            "|year|month|day|dep_time|dep_delay|arr_time|arr_delay|carrier|tailnum|flight|origin|dest|air_time|distance|hour|minute|\n",
            "+----+-----+---+--------+---------+--------+---------+-------+-------+------+------+----+--------+--------+----+------+\n",
            "|2014|12   |8  |658     |-7       |935     |-5       |VX     |N846VA |1780  |SEA   |LAX |132     |954     |6   |58    |\n",
            "|2014|1    |22 |1040    |5        |1505    |5        |AS     |N559AS |851   |SEA   |HNL |360     |2677    |10  |40    |\n",
            "|2014|3    |9  |1443    |-2       |1652    |2        |VX     |N847VA |755   |SEA   |SFO |111     |679     |14  |43    |\n",
            "|2014|4    |9  |1705    |45       |1839    |34       |WN     |N360SW |344   |PDX   |SJC |83      |569     |17  |5     |\n",
            "|2014|3    |9  |754     |-1       |1015    |1        |AS     |N612AS |522   |SEA   |BUR |127     |937     |7   |54    |\n",
            "|2014|1    |15 |1037    |7        |1352    |2        |WN     |N646SW |48    |PDX   |DEN |121     |991     |10  |37    |\n",
            "|2014|7    |2  |847     |42       |1041    |51       |WN     |N422WN |1520  |PDX   |OAK |90      |543     |8   |47    |\n",
            "|2014|5    |12 |1655    |-5       |1842    |-18      |VX     |N361VA |755   |SEA   |SFO |98      |679     |16  |55    |\n",
            "|2014|4    |19 |1236    |-4       |1508    |-7       |AS     |N309AS |490   |SEA   |SAN |135     |1050    |12  |36    |\n",
            "|2014|11   |19 |1812    |-3       |2352    |-4       |AS     |N564AS |26    |SEA   |ORD |198     |1721    |18  |12    |\n",
            "|2014|11   |8  |1653    |-2       |1924    |-1       |AS     |N323AS |448   |SEA   |LAX |130     |954     |16  |53    |\n",
            "|2014|8    |3  |1120    |0        |1415    |2        |AS     |N305AS |656   |SEA   |PHX |154     |1107    |11  |20    |\n",
            "|2014|10   |30 |811     |21       |1038    |29       |AS     |N433AS |608   |SEA   |LAS |127     |867     |8   |11    |\n",
            "|2014|11   |12 |2346    |-4       |217     |-28      |AS     |N765AS |121   |SEA   |ANC |183     |1448    |23  |46    |\n",
            "|2014|10   |31 |1314    |89       |1544    |111      |AS     |N713AS |306   |SEA   |SFO |129     |679     |13  |14    |\n",
            "|2014|1    |29 |2009    |3        |2159    |9        |UA     |N27205 |1458  |PDX   |SFO |90      |550     |20  |9     |\n",
            "|2014|12   |17 |2015    |50       |2150    |41       |AS     |N626AS |368   |SEA   |SMF |76      |605     |20  |15    |\n",
            "|2014|8    |11 |1017    |-3       |1613    |-7       |WN     |N8634A |827   |SEA   |MDW |216     |1733    |10  |17    |\n",
            "|2014|1    |13 |2156    |-9       |607     |-15      |AS     |N597AS |24    |SEA   |BOS |290     |2496    |21  |56    |\n",
            "|2014|6    |5  |1733    |-12      |1945    |-10      |OO     |N215AG |3488  |PDX   |BUR |111     |817     |17  |33    |\n",
            "+----+-----+---+--------+---------+--------+---------+-------+-------+------+------+----+--------+--------+----+------+\n",
            "only showing top 20 rows\n",
            "\n"
          ]
        }
      ]
    },
    {
      "cell_type": "code",
      "source": [
        "# Consulta:\n",
        "\n",
        "con_qa_tailnum = df_flights_qa_tailnum.filter(df_flights_qa_tailnum.qa_tailnum == \"M\")\n",
        "con_qa_tailnum.show(truncate=False)\n"
      ],
      "metadata": {
        "colab": {
          "base_uri": "https://localhost:8080/"
        },
        "id": "iTz0SCfpudBb",
        "outputId": "03f72c97-676e-4972-81d7-b1532da28e86"
      },
      "execution_count": 114,
      "outputs": [
        {
          "output_type": "stream",
          "name": "stdout",
          "text": [
            "+----+-----+---+--------+---------+--------+---------+-------+-------+------+------+----+--------+--------+----+------+----------+\n",
            "|year|month|day|dep_time|dep_delay|arr_time|arr_delay|carrier|tailnum|flight|origin|dest|air_time|distance|hour|minute|qa_tailnum|\n",
            "+----+-----+---+--------+---------+--------+---------+-------+-------+------+------+----+--------+--------+----+------+----------+\n",
            "+----+-----+---+--------+---------+--------+---------+-------+-------+------+------+----+--------+--------+----+------+----------+\n",
            "\n"
          ]
        }
      ]
    },
    {
      "cell_type": "code",
      "source": [
        "# Impressão em tela:\n",
        "\n",
        "df_flights_qa_tailnum.show()\n"
      ],
      "metadata": {
        "colab": {
          "base_uri": "https://localhost:8080/"
        },
        "id": "Q9RRQxIXudYy",
        "outputId": "4c67f312-a36e-44ba-fb84-33d83f1ca323"
      },
      "execution_count": 115,
      "outputs": [
        {
          "output_type": "stream",
          "name": "stdout",
          "text": [
            "+----+-----+---+--------+---------+--------+---------+-------+-------+------+------+----+--------+--------+----+------+----------+\n",
            "|year|month|day|dep_time|dep_delay|arr_time|arr_delay|carrier|tailnum|flight|origin|dest|air_time|distance|hour|minute|qa_tailnum|\n",
            "+----+-----+---+--------+---------+--------+---------+-------+-------+------+------+----+--------+--------+----+------+----------+\n",
            "|2014|   12|  8|     658|       -7|     935|       -5|     VX| N846VA|  1780|   SEA| LAX|     132|     954|   6|    58|         F|\n",
            "|2014|    1| 22|    1040|        5|    1505|        5|     AS| N559AS|   851|   SEA| HNL|     360|    2677|  10|    40|         F|\n",
            "|2014|    3|  9|    1443|       -2|    1652|        2|     VX| N847VA|   755|   SEA| SFO|     111|     679|  14|    43|         F|\n",
            "|2014|    4|  9|    1705|       45|    1839|       34|     WN| N360SW|   344|   PDX| SJC|      83|     569|  17|     5|         F|\n",
            "|2014|    3|  9|     754|       -1|    1015|        1|     AS| N612AS|   522|   SEA| BUR|     127|     937|   7|    54|         F|\n",
            "|2014|    1| 15|    1037|        7|    1352|        2|     WN| N646SW|    48|   PDX| DEN|     121|     991|  10|    37|         F|\n",
            "|2014|    7|  2|     847|       42|    1041|       51|     WN| N422WN|  1520|   PDX| OAK|      90|     543|   8|    47|         F|\n",
            "|2014|    5| 12|    1655|       -5|    1842|      -18|     VX| N361VA|   755|   SEA| SFO|      98|     679|  16|    55|         F|\n",
            "|2014|    4| 19|    1236|       -4|    1508|       -7|     AS| N309AS|   490|   SEA| SAN|     135|    1050|  12|    36|         F|\n",
            "|2014|   11| 19|    1812|       -3|    2352|       -4|     AS| N564AS|    26|   SEA| ORD|     198|    1721|  18|    12|         F|\n",
            "|2014|   11|  8|    1653|       -2|    1924|       -1|     AS| N323AS|   448|   SEA| LAX|     130|     954|  16|    53|         F|\n",
            "|2014|    8|  3|    1120|        0|    1415|        2|     AS| N305AS|   656|   SEA| PHX|     154|    1107|  11|    20|         F|\n",
            "|2014|   10| 30|     811|       21|    1038|       29|     AS| N433AS|   608|   SEA| LAS|     127|     867|   8|    11|         F|\n",
            "|2014|   11| 12|    2346|       -4|     217|      -28|     AS| N765AS|   121|   SEA| ANC|     183|    1448|  23|    46|         F|\n",
            "|2014|   10| 31|    1314|       89|    1544|      111|     AS| N713AS|   306|   SEA| SFO|     129|     679|  13|    14|         F|\n",
            "|2014|    1| 29|    2009|        3|    2159|        9|     UA| N27205|  1458|   PDX| SFO|      90|     550|  20|     9|         F|\n",
            "|2014|   12| 17|    2015|       50|    2150|       41|     AS| N626AS|   368|   SEA| SMF|      76|     605|  20|    15|         F|\n",
            "|2014|    8| 11|    1017|       -3|    1613|       -7|     WN| N8634A|   827|   SEA| MDW|     216|    1733|  10|    17|         F|\n",
            "|2014|    1| 13|    2156|       -9|     607|      -15|     AS| N597AS|    24|   SEA| BOS|     290|    2496|  21|    56|         F|\n",
            "|2014|    6|  5|    1733|      -12|    1945|      -10|     OO| N215AG|  3488|   PDX| BUR|     111|     817|  17|    33|         F|\n",
            "+----+-----+---+--------+---------+--------+---------+-------+-------+------+------+----+--------+--------+----+------+----------+\n",
            "only showing top 20 rows\n",
            "\n"
          ]
        }
      ]
    },
    {
      "cell_type": "markdown",
      "source": [
        "7 - Crie a coluna qa_flight e aponte inconsistências da coluna flight de acordo com as regras\n",
        "abaixo.<br>\n",
        "M : Indica que está com dado faltante.<br>\n",
        "F : Indica que não respeita o formato esperado (4 caracteres numéricos).<br>"
      ],
      "metadata": {
        "application/vnd.databricks.v1+cell": {
          "title": "",
          "showTitle": false,
          "inputWidgets": {},
          "nuid": "38ac0eab-227f-4304-b11c-bc08e54c159b"
        },
        "id": "XIr6jj3VLZXX"
      }
    },
    {
      "cell_type": "code",
      "source": [
        "df_flights_qa_flight = df_flights.withColumn('qa_flight',\n",
        "                                        expr(\"\"\"CASE \n",
        " \t\t\t\t\t\t                                        WHEN flight LIKE '' THEN 'M'\n",
        "                                                    WHEN flight RLIKE '[a-zA-Z0-9]' THEN 'F'\n",
        "                                                    WHEN (flight != 4) AND (flight RLIKE '[0-9]') THEN 'F'\n",
        "                                                    ELSE flight\n",
        "                                                END\"\"\"))\n"
      ],
      "metadata": {
        "id": "Yi_dnA1PT_5M"
      },
      "execution_count": 116,
      "outputs": []
    },
    {
      "cell_type": "code",
      "source": [
        "# Consulta df_flights:\n",
        "\n",
        "con_flight = df_flights.filter(df_flights.flight == '')\n",
        "con_flight.show(truncate=False)\n"
      ],
      "metadata": {
        "colab": {
          "base_uri": "https://localhost:8080/"
        },
        "id": "OvIlxzt795fX",
        "outputId": "36441eeb-76e5-410d-e6bb-4a633eca024c"
      },
      "execution_count": 117,
      "outputs": [
        {
          "output_type": "stream",
          "name": "stdout",
          "text": [
            "+----+-----+---+--------+---------+--------+---------+-------+-------+------+------+----+--------+--------+----+------+\n",
            "|year|month|day|dep_time|dep_delay|arr_time|arr_delay|carrier|tailnum|flight|origin|dest|air_time|distance|hour|minute|\n",
            "+----+-----+---+--------+---------+--------+---------+-------+-------+------+------+----+--------+--------+----+------+\n",
            "+----+-----+---+--------+---------+--------+---------+-------+-------+------+------+----+--------+--------+----+------+\n",
            "\n"
          ]
        }
      ]
    },
    {
      "cell_type": "code",
      "source": [
        "# Consulta df_flights_qa_flight:\n",
        "\n",
        "con_qa_flight = df_flights_qa_flight.filter(df_flights_qa_flight.qa_flight == \"M\")\n",
        "con_qa_flight.show(truncate=False)\n"
      ],
      "metadata": {
        "colab": {
          "base_uri": "https://localhost:8080/"
        },
        "id": "aux3vyWGvWAN",
        "outputId": "96ba72f0-6795-4e0d-b41a-17d2d740f822"
      },
      "execution_count": 118,
      "outputs": [
        {
          "output_type": "stream",
          "name": "stdout",
          "text": [
            "+----+-----+---+--------+---------+--------+---------+-------+-------+------+------+----+--------+--------+----+------+---------+\n",
            "|year|month|day|dep_time|dep_delay|arr_time|arr_delay|carrier|tailnum|flight|origin|dest|air_time|distance|hour|minute|qa_flight|\n",
            "+----+-----+---+--------+---------+--------+---------+-------+-------+------+------+----+--------+--------+----+------+---------+\n",
            "+----+-----+---+--------+---------+--------+---------+-------+-------+------+------+----+--------+--------+----+------+---------+\n",
            "\n"
          ]
        }
      ]
    },
    {
      "cell_type": "code",
      "source": [
        "# Impressão em tela:\n",
        "\n",
        "df_flights_qa_flight.show()\n"
      ],
      "metadata": {
        "colab": {
          "base_uri": "https://localhost:8080/"
        },
        "id": "gD3R9riovWKi",
        "outputId": "eb6cf61e-510d-450e-c14c-6419b0a9e354"
      },
      "execution_count": 119,
      "outputs": [
        {
          "output_type": "stream",
          "name": "stdout",
          "text": [
            "+----+-----+---+--------+---------+--------+---------+-------+-------+------+------+----+--------+--------+----+------+---------+\n",
            "|year|month|day|dep_time|dep_delay|arr_time|arr_delay|carrier|tailnum|flight|origin|dest|air_time|distance|hour|minute|qa_flight|\n",
            "+----+-----+---+--------+---------+--------+---------+-------+-------+------+------+----+--------+--------+----+------+---------+\n",
            "|2014|   12|  8|     658|       -7|     935|       -5|     VX| N846VA|  1780|   SEA| LAX|     132|     954|   6|    58|        F|\n",
            "|2014|    1| 22|    1040|        5|    1505|        5|     AS| N559AS|   851|   SEA| HNL|     360|    2677|  10|    40|        F|\n",
            "|2014|    3|  9|    1443|       -2|    1652|        2|     VX| N847VA|   755|   SEA| SFO|     111|     679|  14|    43|        F|\n",
            "|2014|    4|  9|    1705|       45|    1839|       34|     WN| N360SW|   344|   PDX| SJC|      83|     569|  17|     5|        F|\n",
            "|2014|    3|  9|     754|       -1|    1015|        1|     AS| N612AS|   522|   SEA| BUR|     127|     937|   7|    54|        F|\n",
            "|2014|    1| 15|    1037|        7|    1352|        2|     WN| N646SW|    48|   PDX| DEN|     121|     991|  10|    37|        F|\n",
            "|2014|    7|  2|     847|       42|    1041|       51|     WN| N422WN|  1520|   PDX| OAK|      90|     543|   8|    47|        F|\n",
            "|2014|    5| 12|    1655|       -5|    1842|      -18|     VX| N361VA|   755|   SEA| SFO|      98|     679|  16|    55|        F|\n",
            "|2014|    4| 19|    1236|       -4|    1508|       -7|     AS| N309AS|   490|   SEA| SAN|     135|    1050|  12|    36|        F|\n",
            "|2014|   11| 19|    1812|       -3|    2352|       -4|     AS| N564AS|    26|   SEA| ORD|     198|    1721|  18|    12|        F|\n",
            "|2014|   11|  8|    1653|       -2|    1924|       -1|     AS| N323AS|   448|   SEA| LAX|     130|     954|  16|    53|        F|\n",
            "|2014|    8|  3|    1120|        0|    1415|        2|     AS| N305AS|   656|   SEA| PHX|     154|    1107|  11|    20|        F|\n",
            "|2014|   10| 30|     811|       21|    1038|       29|     AS| N433AS|   608|   SEA| LAS|     127|     867|   8|    11|        F|\n",
            "|2014|   11| 12|    2346|       -4|     217|      -28|     AS| N765AS|   121|   SEA| ANC|     183|    1448|  23|    46|        F|\n",
            "|2014|   10| 31|    1314|       89|    1544|      111|     AS| N713AS|   306|   SEA| SFO|     129|     679|  13|    14|        F|\n",
            "|2014|    1| 29|    2009|        3|    2159|        9|     UA| N27205|  1458|   PDX| SFO|      90|     550|  20|     9|        F|\n",
            "|2014|   12| 17|    2015|       50|    2150|       41|     AS| N626AS|   368|   SEA| SMF|      76|     605|  20|    15|        F|\n",
            "|2014|    8| 11|    1017|       -3|    1613|       -7|     WN| N8634A|   827|   SEA| MDW|     216|    1733|  10|    17|        F|\n",
            "|2014|    1| 13|    2156|       -9|     607|      -15|     AS| N597AS|    24|   SEA| BOS|     290|    2496|  21|    56|        F|\n",
            "|2014|    6|  5|    1733|      -12|    1945|      -10|     OO| N215AG|  3488|   PDX| BUR|     111|     817|  17|    33|        F|\n",
            "+----+-----+---+--------+---------+--------+---------+-------+-------+------+------+----+--------+--------+----+------+---------+\n",
            "only showing top 20 rows\n",
            "\n"
          ]
        }
      ]
    },
    {
      "cell_type": "markdown",
      "source": [
        "8 - Crie a coluna qa_origin_dest e aponte inconsistências da coluna origin , dest de acordo com\n",
        "as regras abaixo.<br>\n",
        "MO : Indica que está com dado faltante no origin .<br>\n",
        "MD : Indica que está com dado faltante no dest .<br>\n",
        "FO : Indica que não respeita o formato esperado (3 caracteres alfanuméricos) no origin .<br>\n",
        "FD : Indica que não respeita o formato esperado (3 caracteres alfanuméricos) no dest .<br>"
      ],
      "metadata": {
        "application/vnd.databricks.v1+cell": {
          "title": "",
          "showTitle": false,
          "inputWidgets": {},
          "nuid": "c3953a2d-80bc-41be-add1-3d06d58fac41"
        },
        "id": "thaBGASHLZXX"
      }
    },
    {
      "cell_type": "code",
      "source": [
        "df_flights_qa_origin_dest = df_flights.withColumn('qa_origin_dest',\n",
        "                                            expr(\"\"\"CASE \n",
        "                                                        WHEN origin LIKE '' THEN 'MO'\n",
        "                                                        WHEN ((origin >= 1) OR (origin <= 3)) AND (origin RLIKE '[a-zA-Z0-9]') THEN 'FO'\n",
        "                                                        WHEN dest LIKE '' THEN 'MD'\n",
        "                                                        WHEN ((dest >= 1) OR (dest <= 3)) AND (dest RLIKE '[a-zA-Z0-9]') THEN 'FD'\n",
        "                                                        ELSE origin\n",
        "                                                    END\"\"\"))\n"
      ],
      "metadata": {
        "id": "Oj6j1PkgW5iA"
      },
      "execution_count": 120,
      "outputs": []
    },
    {
      "cell_type": "code",
      "source": [
        "# Consulta df_flights:\n",
        "\n",
        "con_origin_dest = df_flights.filter(df_flights.origin == '')\n",
        "con_origin_dest.show(truncate=False)\n"
      ],
      "metadata": {
        "colab": {
          "base_uri": "https://localhost:8080/"
        },
        "id": "nAsLshYW-Wyg",
        "outputId": "229521d4-f395-44aa-f829-8aedbfc42d44"
      },
      "execution_count": 121,
      "outputs": [
        {
          "output_type": "stream",
          "name": "stdout",
          "text": [
            "+----+-----+---+--------+---------+--------+---------+-------+-------+------+------+----+--------+--------+----+------+\n",
            "|year|month|day|dep_time|dep_delay|arr_time|arr_delay|carrier|tailnum|flight|origin|dest|air_time|distance|hour|minute|\n",
            "+----+-----+---+--------+---------+--------+---------+-------+-------+------+------+----+--------+--------+----+------+\n",
            "+----+-----+---+--------+---------+--------+---------+-------+-------+------+------+----+--------+--------+----+------+\n",
            "\n"
          ]
        }
      ]
    },
    {
      "cell_type": "code",
      "source": [
        "# Consulta df_flights_qa_origin_dest:\n",
        "\n",
        "con_qa_origin_dest = df_flights_qa_origin_dest.filter(df_flights_qa_origin_dest.qa_origin_dest == \"MO\")\n",
        "con_qa_origin_dest.show(truncate=False)\n"
      ],
      "metadata": {
        "colab": {
          "base_uri": "https://localhost:8080/"
        },
        "id": "bdr0NRMev97S",
        "outputId": "1037663f-9218-43ab-a68b-35f2763a6f8f"
      },
      "execution_count": 122,
      "outputs": [
        {
          "output_type": "stream",
          "name": "stdout",
          "text": [
            "+----+-----+---+--------+---------+--------+---------+-------+-------+------+------+----+--------+--------+----+------+--------------+\n",
            "|year|month|day|dep_time|dep_delay|arr_time|arr_delay|carrier|tailnum|flight|origin|dest|air_time|distance|hour|minute|qa_origin_dest|\n",
            "+----+-----+---+--------+---------+--------+---------+-------+-------+------+------+----+--------+--------+----+------+--------------+\n",
            "+----+-----+---+--------+---------+--------+---------+-------+-------+------+------+----+--------+--------+----+------+--------------+\n",
            "\n"
          ]
        }
      ]
    },
    {
      "cell_type": "code",
      "source": [
        "# Impressão em tela:\n",
        "\n",
        "df_flights_qa_origin_dest.show()\n"
      ],
      "metadata": {
        "colab": {
          "base_uri": "https://localhost:8080/"
        },
        "id": "zC68F7p5v-Ck",
        "outputId": "76d341a4-4780-49c1-cc58-aec561ad0c4f"
      },
      "execution_count": 123,
      "outputs": [
        {
          "output_type": "stream",
          "name": "stdout",
          "text": [
            "+----+-----+---+--------+---------+--------+---------+-------+-------+------+------+----+--------+--------+----+------+--------------+\n",
            "|year|month|day|dep_time|dep_delay|arr_time|arr_delay|carrier|tailnum|flight|origin|dest|air_time|distance|hour|minute|qa_origin_dest|\n",
            "+----+-----+---+--------+---------+--------+---------+-------+-------+------+------+----+--------+--------+----+------+--------------+\n",
            "|2014|   12|  8|     658|       -7|     935|       -5|     VX| N846VA|  1780|   SEA| LAX|     132|     954|   6|    58|           SEA|\n",
            "|2014|    1| 22|    1040|        5|    1505|        5|     AS| N559AS|   851|   SEA| HNL|     360|    2677|  10|    40|           SEA|\n",
            "|2014|    3|  9|    1443|       -2|    1652|        2|     VX| N847VA|   755|   SEA| SFO|     111|     679|  14|    43|           SEA|\n",
            "|2014|    4|  9|    1705|       45|    1839|       34|     WN| N360SW|   344|   PDX| SJC|      83|     569|  17|     5|           PDX|\n",
            "|2014|    3|  9|     754|       -1|    1015|        1|     AS| N612AS|   522|   SEA| BUR|     127|     937|   7|    54|           SEA|\n",
            "|2014|    1| 15|    1037|        7|    1352|        2|     WN| N646SW|    48|   PDX| DEN|     121|     991|  10|    37|           PDX|\n",
            "|2014|    7|  2|     847|       42|    1041|       51|     WN| N422WN|  1520|   PDX| OAK|      90|     543|   8|    47|           PDX|\n",
            "|2014|    5| 12|    1655|       -5|    1842|      -18|     VX| N361VA|   755|   SEA| SFO|      98|     679|  16|    55|           SEA|\n",
            "|2014|    4| 19|    1236|       -4|    1508|       -7|     AS| N309AS|   490|   SEA| SAN|     135|    1050|  12|    36|           SEA|\n",
            "|2014|   11| 19|    1812|       -3|    2352|       -4|     AS| N564AS|    26|   SEA| ORD|     198|    1721|  18|    12|           SEA|\n",
            "|2014|   11|  8|    1653|       -2|    1924|       -1|     AS| N323AS|   448|   SEA| LAX|     130|     954|  16|    53|           SEA|\n",
            "|2014|    8|  3|    1120|        0|    1415|        2|     AS| N305AS|   656|   SEA| PHX|     154|    1107|  11|    20|           SEA|\n",
            "|2014|   10| 30|     811|       21|    1038|       29|     AS| N433AS|   608|   SEA| LAS|     127|     867|   8|    11|           SEA|\n",
            "|2014|   11| 12|    2346|       -4|     217|      -28|     AS| N765AS|   121|   SEA| ANC|     183|    1448|  23|    46|           SEA|\n",
            "|2014|   10| 31|    1314|       89|    1544|      111|     AS| N713AS|   306|   SEA| SFO|     129|     679|  13|    14|           SEA|\n",
            "|2014|    1| 29|    2009|        3|    2159|        9|     UA| N27205|  1458|   PDX| SFO|      90|     550|  20|     9|           PDX|\n",
            "|2014|   12| 17|    2015|       50|    2150|       41|     AS| N626AS|   368|   SEA| SMF|      76|     605|  20|    15|           SEA|\n",
            "|2014|    8| 11|    1017|       -3|    1613|       -7|     WN| N8634A|   827|   SEA| MDW|     216|    1733|  10|    17|           SEA|\n",
            "|2014|    1| 13|    2156|       -9|     607|      -15|     AS| N597AS|    24|   SEA| BOS|     290|    2496|  21|    56|           SEA|\n",
            "|2014|    6|  5|    1733|      -12|    1945|      -10|     OO| N215AG|  3488|   PDX| BUR|     111|     817|  17|    33|           PDX|\n",
            "+----+-----+---+--------+---------+--------+---------+-------+-------+------+------+----+--------+--------+----+------+--------------+\n",
            "only showing top 20 rows\n",
            "\n"
          ]
        }
      ]
    },
    {
      "cell_type": "markdown",
      "source": [
        "9 - Crie a coluna qa_air_time e aponte inconsistencias da coluna air_time de acordo com as regras\n",
        "abaixo.<br>\n",
        "M : Indica que está com dado faltante.<br>\n",
        "I : Indica que o valor excede o intervalo [20, 500].<br>"
      ],
      "metadata": {
        "application/vnd.databricks.v1+cell": {
          "title": "",
          "showTitle": false,
          "inputWidgets": {},
          "nuid": "25ef53fc-d274-4b41-8cbc-8f21258e5b42"
        },
        "id": "WA51m7EKLZXX"
      }
    },
    {
      "cell_type": "code",
      "source": [
        "df_flights_qa_air_time = df_flights.withColumn('qa_hour_minute',\n",
        "                                        expr(\"\"\"CASE \n",
        "                                                    WHEN air_time LIKE '' THEN 'M'\n",
        "                                                    WHEN (air_time >= 20) OR (air_time <= 500) THEN 'I'                                       \n",
        "                                                    ELSE air_time\n",
        "                                                END\"\"\"))\n"
      ],
      "metadata": {
        "id": "v25qjti-W6eu"
      },
      "execution_count": 124,
      "outputs": []
    },
    {
      "cell_type": "code",
      "source": [
        "# Consulta df_flights:\n",
        "\n",
        "com_hour_minute = df_flights.filter(df_flights.air_time == '')\n",
        "com_hour_minute.show(truncate=False)\n"
      ],
      "metadata": {
        "colab": {
          "base_uri": "https://localhost:8080/"
        },
        "id": "OpTt4oDe-igv",
        "outputId": "82f99d09-0d91-4ce2-9426-2e84d9a36624"
      },
      "execution_count": 125,
      "outputs": [
        {
          "output_type": "stream",
          "name": "stdout",
          "text": [
            "+----+-----+---+--------+---------+--------+---------+-------+-------+------+------+----+--------+--------+----+------+\n",
            "|year|month|day|dep_time|dep_delay|arr_time|arr_delay|carrier|tailnum|flight|origin|dest|air_time|distance|hour|minute|\n",
            "+----+-----+---+--------+---------+--------+---------+-------+-------+------+------+----+--------+--------+----+------+\n",
            "+----+-----+---+--------+---------+--------+---------+-------+-------+------+------+----+--------+--------+----+------+\n",
            "\n"
          ]
        }
      ]
    },
    {
      "cell_type": "code",
      "source": [
        "# Consulta df_flights_qa_air_time:\n",
        "\n",
        "con_qa_hour_minute = df_flights_qa_air_time.filter(df_flights_qa_air_time.qa_hour_minute == \"M\")\n",
        "con_qa_hour_minute.show(truncate=False)\n"
      ],
      "metadata": {
        "colab": {
          "base_uri": "https://localhost:8080/"
        },
        "id": "Rkext-ZBwo_Y",
        "outputId": "45f2fcfd-fb08-4234-a639-91b722155f2b"
      },
      "execution_count": 126,
      "outputs": [
        {
          "output_type": "stream",
          "name": "stdout",
          "text": [
            "+----+-----+---+--------+---------+--------+---------+-------+-------+------+------+----+--------+--------+----+------+--------------+\n",
            "|year|month|day|dep_time|dep_delay|arr_time|arr_delay|carrier|tailnum|flight|origin|dest|air_time|distance|hour|minute|qa_hour_minute|\n",
            "+----+-----+---+--------+---------+--------+---------+-------+-------+------+------+----+--------+--------+----+------+--------------+\n",
            "+----+-----+---+--------+---------+--------+---------+-------+-------+------+------+----+--------+--------+----+------+--------------+\n",
            "\n"
          ]
        }
      ]
    },
    {
      "cell_type": "code",
      "source": [
        "# Impressão em tela:\n",
        "\n",
        "df_flights_qa_air_time.show()\n"
      ],
      "metadata": {
        "colab": {
          "base_uri": "https://localhost:8080/"
        },
        "id": "ByDvYhFZwpGG",
        "outputId": "671020bf-1b6d-4da2-cf48-764c68deec51"
      },
      "execution_count": 127,
      "outputs": [
        {
          "output_type": "stream",
          "name": "stdout",
          "text": [
            "+----+-----+---+--------+---------+--------+---------+-------+-------+------+------+----+--------+--------+----+------+--------------+\n",
            "|year|month|day|dep_time|dep_delay|arr_time|arr_delay|carrier|tailnum|flight|origin|dest|air_time|distance|hour|minute|qa_hour_minute|\n",
            "+----+-----+---+--------+---------+--------+---------+-------+-------+------+------+----+--------+--------+----+------+--------------+\n",
            "|2014|   12|  8|     658|       -7|     935|       -5|     VX| N846VA|  1780|   SEA| LAX|     132|     954|   6|    58|             I|\n",
            "|2014|    1| 22|    1040|        5|    1505|        5|     AS| N559AS|   851|   SEA| HNL|     360|    2677|  10|    40|             I|\n",
            "|2014|    3|  9|    1443|       -2|    1652|        2|     VX| N847VA|   755|   SEA| SFO|     111|     679|  14|    43|             I|\n",
            "|2014|    4|  9|    1705|       45|    1839|       34|     WN| N360SW|   344|   PDX| SJC|      83|     569|  17|     5|             I|\n",
            "|2014|    3|  9|     754|       -1|    1015|        1|     AS| N612AS|   522|   SEA| BUR|     127|     937|   7|    54|             I|\n",
            "|2014|    1| 15|    1037|        7|    1352|        2|     WN| N646SW|    48|   PDX| DEN|     121|     991|  10|    37|             I|\n",
            "|2014|    7|  2|     847|       42|    1041|       51|     WN| N422WN|  1520|   PDX| OAK|      90|     543|   8|    47|             I|\n",
            "|2014|    5| 12|    1655|       -5|    1842|      -18|     VX| N361VA|   755|   SEA| SFO|      98|     679|  16|    55|             I|\n",
            "|2014|    4| 19|    1236|       -4|    1508|       -7|     AS| N309AS|   490|   SEA| SAN|     135|    1050|  12|    36|             I|\n",
            "|2014|   11| 19|    1812|       -3|    2352|       -4|     AS| N564AS|    26|   SEA| ORD|     198|    1721|  18|    12|             I|\n",
            "|2014|   11|  8|    1653|       -2|    1924|       -1|     AS| N323AS|   448|   SEA| LAX|     130|     954|  16|    53|             I|\n",
            "|2014|    8|  3|    1120|        0|    1415|        2|     AS| N305AS|   656|   SEA| PHX|     154|    1107|  11|    20|             I|\n",
            "|2014|   10| 30|     811|       21|    1038|       29|     AS| N433AS|   608|   SEA| LAS|     127|     867|   8|    11|             I|\n",
            "|2014|   11| 12|    2346|       -4|     217|      -28|     AS| N765AS|   121|   SEA| ANC|     183|    1448|  23|    46|             I|\n",
            "|2014|   10| 31|    1314|       89|    1544|      111|     AS| N713AS|   306|   SEA| SFO|     129|     679|  13|    14|             I|\n",
            "|2014|    1| 29|    2009|        3|    2159|        9|     UA| N27205|  1458|   PDX| SFO|      90|     550|  20|     9|             I|\n",
            "|2014|   12| 17|    2015|       50|    2150|       41|     AS| N626AS|   368|   SEA| SMF|      76|     605|  20|    15|             I|\n",
            "|2014|    8| 11|    1017|       -3|    1613|       -7|     WN| N8634A|   827|   SEA| MDW|     216|    1733|  10|    17|             I|\n",
            "|2014|    1| 13|    2156|       -9|     607|      -15|     AS| N597AS|    24|   SEA| BOS|     290|    2496|  21|    56|             I|\n",
            "|2014|    6|  5|    1733|      -12|    1945|      -10|     OO| N215AG|  3488|   PDX| BUR|     111|     817|  17|    33|             I|\n",
            "+----+-----+---+--------+---------+--------+---------+-------+-------+------+------+----+--------+--------+----+------+--------------+\n",
            "only showing top 20 rows\n",
            "\n"
          ]
        }
      ]
    },
    {
      "cell_type": "markdown",
      "source": [
        "10 - Crie a coluna qa_distance e aponte inconsistências da coluna distance de acordo com as regras\n",
        "abaixo.<br>\n",
        "M : Indica que está com dado faltante.<br>\n",
        "I : Indica que o valor excede o intervalo [50, 3000].<br>"
      ],
      "metadata": {
        "application/vnd.databricks.v1+cell": {
          "title": "",
          "showTitle": false,
          "inputWidgets": {},
          "nuid": "190335f3-a190-4f30-bce4-a321d67ed456"
        },
        "id": "qCnoIU5qLZXY"
      }
    },
    {
      "cell_type": "code",
      "source": [
        "df_flights_qa_distance = df_flights.withColumn('qa_distance',\n",
        "                                        expr(\"\"\"CASE \n",
        "                                                    WHEN distance LIKE '' THEN 'M'\n",
        "                                                    WHEN (distance >= 50) OR (distance <= 3000) THEN 'I'                                       \n",
        "                                                    ELSE distance\n",
        "                                                END\"\"\"))\n"
      ],
      "metadata": {
        "id": "plQEpFpaW-pO"
      },
      "execution_count": 128,
      "outputs": []
    },
    {
      "cell_type": "code",
      "source": [
        "# Consulta df_flights:\n",
        "\n",
        "con_distance = df_flights.filter(df_flights.distance == '')\n",
        "con_distance.show(truncate=False)\n"
      ],
      "metadata": {
        "colab": {
          "base_uri": "https://localhost:8080/"
        },
        "id": "5fe9EJTR-1Yw",
        "outputId": "7e3a5d1a-02b7-4f2f-c814-5bd9c78d2cb0"
      },
      "execution_count": 129,
      "outputs": [
        {
          "output_type": "stream",
          "name": "stdout",
          "text": [
            "+----+-----+---+--------+---------+--------+---------+-------+-------+------+------+----+--------+--------+----+------+\n",
            "|year|month|day|dep_time|dep_delay|arr_time|arr_delay|carrier|tailnum|flight|origin|dest|air_time|distance|hour|minute|\n",
            "+----+-----+---+--------+---------+--------+---------+-------+-------+------+------+----+--------+--------+----+------+\n",
            "+----+-----+---+--------+---------+--------+---------+-------+-------+------+------+----+--------+--------+----+------+\n",
            "\n"
          ]
        }
      ]
    },
    {
      "cell_type": "code",
      "source": [
        "# Consulta df_flights_qa_distance:\n",
        "\n",
        "con_qa_distance = df_flights_qa_distance.filter(df_flights_qa_distance.qa_distance == \"M\")\n",
        "con_qa_distance.show(truncate=False)\n"
      ],
      "metadata": {
        "colab": {
          "base_uri": "https://localhost:8080/"
        },
        "id": "2ovhZMc0xBZf",
        "outputId": "f5ed2ba0-7c2e-407d-d544-7fd47cddd45a"
      },
      "execution_count": 130,
      "outputs": [
        {
          "output_type": "stream",
          "name": "stdout",
          "text": [
            "+----+-----+---+--------+---------+--------+---------+-------+-------+------+------+----+--------+--------+----+------+-----------+\n",
            "|year|month|day|dep_time|dep_delay|arr_time|arr_delay|carrier|tailnum|flight|origin|dest|air_time|distance|hour|minute|qa_distance|\n",
            "+----+-----+---+--------+---------+--------+---------+-------+-------+------+------+----+--------+--------+----+------+-----------+\n",
            "+----+-----+---+--------+---------+--------+---------+-------+-------+------+------+----+--------+--------+----+------+-----------+\n",
            "\n"
          ]
        }
      ]
    },
    {
      "cell_type": "code",
      "source": [
        "# Impressão em tela:\n",
        "\n",
        "df_flights_qa_distance.show()\n"
      ],
      "metadata": {
        "colab": {
          "base_uri": "https://localhost:8080/"
        },
        "id": "vyDQ9TJpxBmn",
        "outputId": "5d5897b3-fd6e-441f-ba5e-656bf98a4a6e"
      },
      "execution_count": 131,
      "outputs": [
        {
          "output_type": "stream",
          "name": "stdout",
          "text": [
            "+----+-----+---+--------+---------+--------+---------+-------+-------+------+------+----+--------+--------+----+------+-----------+\n",
            "|year|month|day|dep_time|dep_delay|arr_time|arr_delay|carrier|tailnum|flight|origin|dest|air_time|distance|hour|minute|qa_distance|\n",
            "+----+-----+---+--------+---------+--------+---------+-------+-------+------+------+----+--------+--------+----+------+-----------+\n",
            "|2014|   12|  8|     658|       -7|     935|       -5|     VX| N846VA|  1780|   SEA| LAX|     132|     954|   6|    58|          I|\n",
            "|2014|    1| 22|    1040|        5|    1505|        5|     AS| N559AS|   851|   SEA| HNL|     360|    2677|  10|    40|          I|\n",
            "|2014|    3|  9|    1443|       -2|    1652|        2|     VX| N847VA|   755|   SEA| SFO|     111|     679|  14|    43|          I|\n",
            "|2014|    4|  9|    1705|       45|    1839|       34|     WN| N360SW|   344|   PDX| SJC|      83|     569|  17|     5|          I|\n",
            "|2014|    3|  9|     754|       -1|    1015|        1|     AS| N612AS|   522|   SEA| BUR|     127|     937|   7|    54|          I|\n",
            "|2014|    1| 15|    1037|        7|    1352|        2|     WN| N646SW|    48|   PDX| DEN|     121|     991|  10|    37|          I|\n",
            "|2014|    7|  2|     847|       42|    1041|       51|     WN| N422WN|  1520|   PDX| OAK|      90|     543|   8|    47|          I|\n",
            "|2014|    5| 12|    1655|       -5|    1842|      -18|     VX| N361VA|   755|   SEA| SFO|      98|     679|  16|    55|          I|\n",
            "|2014|    4| 19|    1236|       -4|    1508|       -7|     AS| N309AS|   490|   SEA| SAN|     135|    1050|  12|    36|          I|\n",
            "|2014|   11| 19|    1812|       -3|    2352|       -4|     AS| N564AS|    26|   SEA| ORD|     198|    1721|  18|    12|          I|\n",
            "|2014|   11|  8|    1653|       -2|    1924|       -1|     AS| N323AS|   448|   SEA| LAX|     130|     954|  16|    53|          I|\n",
            "|2014|    8|  3|    1120|        0|    1415|        2|     AS| N305AS|   656|   SEA| PHX|     154|    1107|  11|    20|          I|\n",
            "|2014|   10| 30|     811|       21|    1038|       29|     AS| N433AS|   608|   SEA| LAS|     127|     867|   8|    11|          I|\n",
            "|2014|   11| 12|    2346|       -4|     217|      -28|     AS| N765AS|   121|   SEA| ANC|     183|    1448|  23|    46|          I|\n",
            "|2014|   10| 31|    1314|       89|    1544|      111|     AS| N713AS|   306|   SEA| SFO|     129|     679|  13|    14|          I|\n",
            "|2014|    1| 29|    2009|        3|    2159|        9|     UA| N27205|  1458|   PDX| SFO|      90|     550|  20|     9|          I|\n",
            "|2014|   12| 17|    2015|       50|    2150|       41|     AS| N626AS|   368|   SEA| SMF|      76|     605|  20|    15|          I|\n",
            "|2014|    8| 11|    1017|       -3|    1613|       -7|     WN| N8634A|   827|   SEA| MDW|     216|    1733|  10|    17|          I|\n",
            "|2014|    1| 13|    2156|       -9|     607|      -15|     AS| N597AS|    24|   SEA| BOS|     290|    2496|  21|    56|          I|\n",
            "|2014|    6|  5|    1733|      -12|    1945|      -10|     OO| N215AG|  3488|   PDX| BUR|     111|     817|  17|    33|          I|\n",
            "+----+-----+---+--------+---------+--------+---------+-------+-------+------+------+----+--------+--------+----+------+-----------+\n",
            "only showing top 20 rows\n",
            "\n"
          ]
        }
      ]
    },
    {
      "cell_type": "markdown",
      "source": [
        "11 - Crie a coluna qa_distance_airtime e aponte inconsistências entre as colunas distance e\n",
        "air_time de acordo com as regras abaixo.<br>\n",
        "M : Indica que está com distance ou air_time faltante.<br>\n",
        "TL : Indica que a viagem é longa de acordo com a condição:<br>\n",
        "air_time >= distance × 0.1 + 30.<br>\n",
        "TS : Indica que a viagem é curta de acordo com a condição:<br>\n",
        "air_time <= distance × 0.1 + 10.<br>\n",
        "TR : Indica que a viagem é normal caso as duas anteriores não sejam verdade.<br>"
      ],
      "metadata": {
        "application/vnd.databricks.v1+cell": {
          "title": "",
          "showTitle": false,
          "inputWidgets": {},
          "nuid": "a95a56da-4efd-43ae-b283-8f833ca2c9c9"
        },
        "id": "kWh6vblHLZXY"
      }
    },
    {
      "cell_type": "code",
      "source": [
        "df_flights_qa_distance_airtime = df_flights.withColumn('qa_distance_airtime',\n",
        "                                        expr(\"\"\"CASE \n",
        "                                                    WHEN distance LIKE '' THEN 'M'\n",
        "                                                    WHEN air_time LIKE '' THEN 'M'\n",
        "                                                    WHEN air_time >= (distance * 0.1 + 30) THEN 'TL'\n",
        "                                                    WHEN air_time <= (distance * 0.1 + 10) THEN 'TS'\n",
        "                                                    WHEN (air_time <= distance * 0.1 + 30) AND (air_time >= distance * 0.1 + 10) THEN 'TR'  \n",
        "                                                    ELSE distance\n",
        "                                                END\"\"\"))\n"
      ],
      "metadata": {
        "application/vnd.databricks.v1+cell": {
          "title": "",
          "showTitle": false,
          "inputWidgets": {},
          "nuid": "5269b504-d3a7-4d48-a7fb-08082bb08bf8"
        },
        "id": "ePEswCVzLZXZ"
      },
      "outputs": [],
      "execution_count": 132
    },
    {
      "cell_type": "code",
      "source": [
        "# Consulta df_flights:\n",
        "\n",
        "con_distance_airtime = df_flights.filter(df_flights.air_time == (df_flights.air_time >= df_flights.distance * 0.1 + 30))\n",
        "con_distance_airtime.show(truncate=False)\n"
      ],
      "metadata": {
        "colab": {
          "base_uri": "https://localhost:8080/"
        },
        "id": "xK8J5goA_Hsu",
        "outputId": "779bdd85-4edf-47a9-b6ce-16e9a8458139"
      },
      "execution_count": 133,
      "outputs": [
        {
          "output_type": "stream",
          "name": "stdout",
          "text": [
            "+----+-----+---+--------+---------+--------+---------+-------+-------+------+------+----+--------+--------+----+------+\n",
            "|year|month|day|dep_time|dep_delay|arr_time|arr_delay|carrier|tailnum|flight|origin|dest|air_time|distance|hour|minute|\n",
            "+----+-----+---+--------+---------+--------+---------+-------+-------+------+------+----+--------+--------+----+------+\n",
            "+----+-----+---+--------+---------+--------+---------+-------+-------+------+------+----+--------+--------+----+------+\n",
            "\n"
          ]
        }
      ]
    },
    {
      "cell_type": "code",
      "source": [
        "# Consulta df_flights_qa_distance_airtime:\n",
        "\n",
        "con_qa_distance_airtime = df_flights_qa_distance_airtime.filter(df_flights_qa_distance_airtime.qa_distance_airtime == \"M\")\n",
        "con_qa_distance_airtime.show(truncate=False)\n"
      ],
      "metadata": {
        "colab": {
          "base_uri": "https://localhost:8080/"
        },
        "id": "GUfb8iRFxaRe",
        "outputId": "a59de635-530e-41d6-e80e-8d6b9107c7fb"
      },
      "execution_count": 134,
      "outputs": [
        {
          "output_type": "stream",
          "name": "stdout",
          "text": [
            "+----+-----+---+--------+---------+--------+---------+-------+-------+------+------+----+--------+--------+----+------+-------------------+\n",
            "|year|month|day|dep_time|dep_delay|arr_time|arr_delay|carrier|tailnum|flight|origin|dest|air_time|distance|hour|minute|qa_distance_airtime|\n",
            "+----+-----+---+--------+---------+--------+---------+-------+-------+------+------+----+--------+--------+----+------+-------------------+\n",
            "+----+-----+---+--------+---------+--------+---------+-------+-------+------+------+----+--------+--------+----+------+-------------------+\n",
            "\n"
          ]
        }
      ]
    },
    {
      "cell_type": "code",
      "source": [
        "# Impressão em tela:\n",
        "\n",
        "df_flights_qa_distance_airtime.show()\n"
      ],
      "metadata": {
        "colab": {
          "base_uri": "https://localhost:8080/"
        },
        "id": "j5fevNY4xacL",
        "outputId": "8d8f5319-3f0d-4b91-caca-22e0a3da5182"
      },
      "execution_count": 135,
      "outputs": [
        {
          "output_type": "stream",
          "name": "stdout",
          "text": [
            "+----+-----+---+--------+---------+--------+---------+-------+-------+------+------+----+--------+--------+----+------+-------------------+\n",
            "|year|month|day|dep_time|dep_delay|arr_time|arr_delay|carrier|tailnum|flight|origin|dest|air_time|distance|hour|minute|qa_distance_airtime|\n",
            "+----+-----+---+--------+---------+--------+---------+-------+-------+------+------+----+--------+--------+----+------+-------------------+\n",
            "|2014|   12|  8|     658|       -7|     935|       -5|     VX| N846VA|  1780|   SEA| LAX|     132|     954|   6|    58|                 TL|\n",
            "|2014|    1| 22|    1040|        5|    1505|        5|     AS| N559AS|   851|   SEA| HNL|     360|    2677|  10|    40|                 TL|\n",
            "|2014|    3|  9|    1443|       -2|    1652|        2|     VX| N847VA|   755|   SEA| SFO|     111|     679|  14|    43|                 TL|\n",
            "|2014|    4|  9|    1705|       45|    1839|       34|     WN| N360SW|   344|   PDX| SJC|      83|     569|  17|     5|                 TR|\n",
            "|2014|    3|  9|     754|       -1|    1015|        1|     AS| N612AS|   522|   SEA| BUR|     127|     937|   7|    54|                 TL|\n",
            "|2014|    1| 15|    1037|        7|    1352|        2|     WN| N646SW|    48|   PDX| DEN|     121|     991|  10|    37|                 TR|\n",
            "|2014|    7|  2|     847|       42|    1041|       51|     WN| N422WN|  1520|   PDX| OAK|      90|     543|   8|    47|                 TL|\n",
            "|2014|    5| 12|    1655|       -5|    1842|      -18|     VX| N361VA|   755|   SEA| SFO|      98|     679|  16|    55|                 TL|\n",
            "|2014|    4| 19|    1236|       -4|    1508|       -7|     AS| N309AS|   490|   SEA| SAN|     135|    1050|  12|    36|                 TL|\n",
            "|2014|   11| 19|    1812|       -3|    2352|       -4|     AS| N564AS|    26|   SEA| ORD|     198|    1721|  18|    12|                 TR|\n",
            "|2014|   11|  8|    1653|       -2|    1924|       -1|     AS| N323AS|   448|   SEA| LAX|     130|     954|  16|    53|                 TL|\n",
            "|2014|    8|  3|    1120|        0|    1415|        2|     AS| N305AS|   656|   SEA| PHX|     154|    1107|  11|    20|                 TL|\n",
            "|2014|   10| 30|     811|       21|    1038|       29|     AS| N433AS|   608|   SEA| LAS|     127|     867|   8|    11|                 TL|\n",
            "|2014|   11| 12|    2346|       -4|     217|      -28|     AS| N765AS|   121|   SEA| ANC|     183|    1448|  23|    46|                 TL|\n",
            "|2014|   10| 31|    1314|       89|    1544|      111|     AS| N713AS|   306|   SEA| SFO|     129|     679|  13|    14|                 TL|\n",
            "|2014|    1| 29|    2009|        3|    2159|        9|     UA| N27205|  1458|   PDX| SFO|      90|     550|  20|     9|                 TL|\n",
            "|2014|   12| 17|    2015|       50|    2150|       41|     AS| N626AS|   368|   SEA| SMF|      76|     605|  20|    15|                 TR|\n",
            "|2014|    8| 11|    1017|       -3|    1613|       -7|     WN| N8634A|   827|   SEA| MDW|     216|    1733|  10|    17|                 TL|\n",
            "|2014|    1| 13|    2156|       -9|     607|      -15|     AS| N597AS|    24|   SEA| BOS|     290|    2496|  21|    56|                 TL|\n",
            "|2014|    6|  5|    1733|      -12|    1945|      -10|     OO| N215AG|  3488|   PDX| BUR|     111|     817|  17|    33|                 TR|\n",
            "+----+-----+---+--------+---------+--------+---------+-------+-------+------+------+----+--------+--------+----+------+-------------------+\n",
            "only showing top 20 rows\n",
            "\n"
          ]
        }
      ]
    }
  ],
  "metadata": {
    "application/vnd.databricks.v1+notebook": {
      "notebookName": "Airports",
      "dashboards": [],
      "notebookMetadata": {
        "pythonIndentUnit": 4
      },
      "language": "python",
      "widgets": {},
      "notebookOrigID": 3630559490240670
    },
    "colab": {
      "name": "pyspark_sql.ipynb",
      "provenance": [],
      "collapsed_sections": [],
      "include_colab_link": true
    },
    "language_info": {
      "name": "python"
    },
    "kernelspec": {
      "name": "python3",
      "display_name": "Python 3"
    },
    "gpuClass": "standard"
  },
  "nbformat": 4,
  "nbformat_minor": 0
}